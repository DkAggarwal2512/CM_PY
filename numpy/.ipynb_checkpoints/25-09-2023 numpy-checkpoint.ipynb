{
 "cells": [
  {
   "cell_type": "code",
   "execution_count": null,
   "id": "1000aa38",
   "metadata": {},
   "outputs": [],
   "source": [
    "a = [2,3,4,5,7,]\n",
    "type(a)"
   ]
  },
  {
   "cell_type": "code",
   "execution_count": null,
   "id": "e945b252",
   "metadata": {},
   "outputs": [],
   "source": [
    "b = [1,2,4,5,True,(1,2),\"Mahi\",{2,3}]\n",
    "type(b)"
   ]
  },
  {
   "cell_type": "code",
   "execution_count": null,
   "id": "5e929cc5",
   "metadata": {},
   "outputs": [],
   "source": [
    "import numpy"
   ]
  },
  {
   "cell_type": "code",
   "execution_count": null,
   "id": "5f93e8d9",
   "metadata": {},
   "outputs": [],
   "source": [
    "#np -> standard\n",
    "#natplotlib.pyplot  as plt mt\n",
    "import numpy as np\n",
    "np.__version__"
   ]
  },
  {
   "cell_type": "code",
   "execution_count": null,
   "id": "dac67281",
   "metadata": {},
   "outputs": [],
   "source": [
    "arr0 = np.array(5)"
   ]
  },
  {
   "cell_type": "code",
   "execution_count": null,
   "id": "eb3f7d21",
   "metadata": {},
   "outputs": [],
   "source": [
    "print(arr0)"
   ]
  },
  {
   "cell_type": "code",
   "execution_count": null,
   "id": "0ea34c02",
   "metadata": {},
   "outputs": [],
   "source": [
    "type(arr0)"
   ]
  },
  {
   "cell_type": "code",
   "execution_count": null,
   "id": "1365826d",
   "metadata": {},
   "outputs": [],
   "source": [
    "#ndim -> no of dimension\n",
    "arr0.ndim"
   ]
  },
  {
   "cell_type": "code",
   "execution_count": null,
   "id": "568cbd15",
   "metadata": {},
   "outputs": [],
   "source": [
    "arr1 = np.array([5,5,2,3,4.5])\n",
    "print(arr1)"
   ]
  },
  {
   "cell_type": "code",
   "execution_count": null,
   "id": "86c0db98",
   "metadata": {},
   "outputs": [],
   "source": [
    "type(arr1)"
   ]
  },
  {
   "cell_type": "code",
   "execution_count": null,
   "id": "ae77730e",
   "metadata": {},
   "outputs": [],
   "source": [
    "arr1.ndim"
   ]
  },
  {
   "cell_type": "code",
   "execution_count": null,
   "id": "acb1e0a6",
   "metadata": {},
   "outputs": [],
   "source": [
    "a1 = np.array([3,6,4,1,\"\"])\n",
    "print(a1)\n",
    "type(a1)\n",
    "print(type(a1))\n",
    "print(a1.ndim)"
   ]
  },
  {
   "cell_type": "code",
   "execution_count": null,
   "id": "939ecb73",
   "metadata": {},
   "outputs": [],
   "source": [
    "a3 = np.array([7,9,5,8,4,3,5])\n",
    "print(a3)"
   ]
  },
  {
   "cell_type": "code",
   "execution_count": null,
   "id": "99f5c765",
   "metadata": {},
   "outputs": [],
   "source": [
    "arr2 = np.array([\n",
    "    [5,6,4],\n",
    "    [2,4,7]\n",
    "])\n",
    "arr2.ndim"
   ]
  },
  {
   "cell_type": "code",
   "execution_count": null,
   "id": "7cae0e0e",
   "metadata": {},
   "outputs": [],
   "source": [
    "arr3 = np.array(\n",
    "[\n",
    "    [9,8]\n",
    "])\n",
    "arr3.ndim"
   ]
  },
  {
   "cell_type": "code",
   "execution_count": null,
   "id": "748c68b8",
   "metadata": {},
   "outputs": [],
   "source": [
    "arr4 = np.array(\n",
    "    [\n",
    "        [\n",
    "            [6,4,5],[4,5,2],[5,5,2],\n",
    "        ]\n",
    "    ]\n",
    ")\n",
    "arr4.ndim"
   ]
  },
  {
   "cell_type": "markdown",
   "id": "9927846e",
   "metadata": {},
   "source": [
    "# 26-09-2023"
   ]
  },
  {
   "cell_type": "code",
   "execution_count": null,
   "id": "45935e48",
   "metadata": {},
   "outputs": [],
   "source": [
    "import numpy as np\n",
    "\n",
    "\n",
    "a = np.array(7)\n",
    "print(a)\n",
    "print(type(a))\n",
    "print(a.ndim)"
   ]
  },
  {
   "cell_type": "code",
   "execution_count": null,
   "id": "caa512a9",
   "metadata": {},
   "outputs": [],
   "source": [
    "b = np.array([5,4,6,8])\n",
    "print(b)\n",
    "print(type(b))\n",
    "print(b.ndim)"
   ]
  },
  {
   "cell_type": "code",
   "execution_count": null,
   "id": "c3941103",
   "metadata": {},
   "outputs": [],
   "source": [
    "my_list = []\n",
    "c = np.array(my_list)\n",
    "print(type(my_list))\n",
    "print(type(c))"
   ]
  },
  {
   "cell_type": "code",
   "execution_count": null,
   "id": "68b6dbf4",
   "metadata": {},
   "outputs": [],
   "source": [
    "for i in range(1,5):\n",
    "    x = int(input('elements:'))\n",
    "    my_list.append(x)\n",
    "d = np.array(my_list)\n",
    "print(d)"
   ]
  },
  {
   "cell_type": "code",
   "execution_count": null,
   "id": "73a5317c",
   "metadata": {},
   "outputs": [],
   "source": [
    "type(d)\n"
   ]
  },
  {
   "cell_type": "code",
   "execution_count": null,
   "id": "d8a195d1",
   "metadata": {},
   "outputs": [],
   "source": [
    "my_list\n",
    "type(my_list)"
   ]
  },
  {
   "cell_type": "code",
   "execution_count": null,
   "id": "7c86e02e",
   "metadata": {},
   "outputs": [],
   "source": [
    "e = np.zeros(4)\n",
    "print(e)"
   ]
  },
  {
   "cell_type": "code",
   "execution_count": null,
   "id": "91ae2fd0",
   "metadata": {},
   "outputs": [],
   "source": [
    "f = np.ones(5)\n",
    "print(f)"
   ]
  },
  {
   "cell_type": "code",
   "execution_count": null,
   "id": "9c330363",
   "metadata": {},
   "outputs": [],
   "source": [
    "g = np.arange(10)\n",
    "print(g)"
   ]
  },
  {
   "cell_type": "code",
   "execution_count": null,
   "id": "09e5e712",
   "metadata": {},
   "outputs": [],
   "source": [
    "#np.arange(start,stop,steps,dtype)\n",
    "h = np.arrange(5,10)\n",
    "h"
   ]
  },
  {
   "cell_type": "code",
   "execution_count": null,
   "id": "920d80ba",
   "metadata": {},
   "outputs": [],
   "source": [
    "#steps\n",
    "i = np.arange(0,10,2)\n",
    "i"
   ]
  },
  {
   "cell_type": "code",
   "execution_count": null,
   "id": "f2c28b01",
   "metadata": {},
   "outputs": [],
   "source": [
    "j = np.arange(0,30,3)\n",
    "j"
   ]
  },
  {
   "cell_type": "code",
   "execution_count": null,
   "id": "f087c4fe",
   "metadata": {},
   "outputs": [],
   "source": [
    "#spacial\n",
    "#linespace\n",
    "j = np.linspace(0,10, num= 5)\n",
    "j"
   ]
  },
  {
   "cell_type": "code",
   "execution_count": null,
   "id": "5509949c",
   "metadata": {},
   "outputs": [],
   "source": [
    "#variance -> IQR (25%),(50%),(75%),(100%)"
   ]
  },
  {
   "cell_type": "code",
   "execution_count": null,
   "id": "1152ea28",
   "metadata": {},
   "outputs": [],
   "source": [
    "k = np.random.rand(4) #(0-4)\n",
    "k\n"
   ]
  },
  {
   "cell_type": "code",
   "execution_count": null,
   "id": "ce70f883",
   "metadata": {},
   "outputs": [],
   "source": [
    "#(-1 -> +1)\n",
    "l = np.random.randn(7)\n",
    "l"
   ]
  },
  {
   "cell_type": "code",
   "execution_count": null,
   "id": "664ddfea",
   "metadata": {},
   "outputs": [],
   "source": [
    "m = np.random.ranf(6)\n",
    "m"
   ]
  },
  {
   "cell_type": "code",
   "execution_count": null,
   "id": "66be39ac",
   "metadata": {},
   "outputs": [],
   "source": [
    "#(start,stop,count)# 6 start , 20 stop , 7 count\n",
    "n = np.random.randint(6,20,7)\n",
    "n"
   ]
  },
  {
   "cell_type": "code",
   "execution_count": null,
   "id": "c4ab89d6",
   "metadata": {},
   "outputs": [],
   "source": [
    "o = np.linspace(100,1000,num=5)\n",
    "o\n"
   ]
  },
  {
   "cell_type": "code",
   "execution_count": null,
   "id": "cfbfc39b",
   "metadata": {},
   "outputs": [],
   "source": [
    "print(o.dtype)"
   ]
  },
  {
   "cell_type": "code",
   "execution_count": null,
   "id": "3297e536",
   "metadata": {},
   "outputs": [],
   "source": [
    "print(d.dtype)"
   ]
  },
  {
   "cell_type": "code",
   "execution_count": null,
   "id": "b0da235a",
   "metadata": {},
   "outputs": [],
   "source": [
    "p = np.array(['Manisha','Seema','Mahi','Saini'])\n",
    "p.dtype"
   ]
  },
  {
   "cell_type": "code",
   "execution_count": null,
   "id": "e7f373de",
   "metadata": {},
   "outputs": [],
   "source": [
    "q = np.array(['K'])\n",
    "q.dtype"
   ]
  },
  {
   "cell_type": "code",
   "execution_count": null,
   "id": "a75cfa3a",
   "metadata": {},
   "outputs": [],
   "source": [
    "r = np.array([True])\n",
    "r.dtype"
   ]
  },
  {
   "cell_type": "code",
   "execution_count": null,
   "id": "eb13f00c",
   "metadata": {},
   "outputs": [],
   "source": [
    "s = np.array([1])\n",
    "s.dtype"
   ]
  },
  {
   "cell_type": "code",
   "execution_count": null,
   "id": "c2ba3540",
   "metadata": {},
   "outputs": [],
   "source": [
    "t = np.array([0+1j])\n",
    "t.dtype"
   ]
  },
  {
   "cell_type": "code",
   "execution_count": null,
   "id": "ba009e13",
   "metadata": {},
   "outputs": [],
   "source": [
    "u = np.array(['a','s','w','x',5,4,2,3,True])#is case me U11 hi mile ga.\n",
    "u.dtype"
   ]
  },
  {
   "cell_type": "code",
   "execution_count": null,
   "id": "f53b1317",
   "metadata": {},
   "outputs": [],
   "source": [
    "v = np.array([2,5,7,8], dtype = np.int_)\n",
    "print(v)\n",
    "print(v.dtype)"
   ]
  },
  {
   "cell_type": "code",
   "execution_count": null,
   "id": "abc5258d",
   "metadata": {},
   "outputs": [],
   "source": [
    "w = np.array([4,5,6,7], dtype = np.float_)\n",
    "print(w)\n",
    "print(w.dtype)"
   ]
  },
  {
   "cell_type": "code",
   "execution_count": null,
   "id": "1a035aeb",
   "metadata": {},
   "outputs": [],
   "source": [
    "x = np.array([5,6,3,4])\n",
    "print(x)\n",
    "print(x.dtype)"
   ]
  },
  {
   "cell_type": "code",
   "execution_count": null,
   "id": "e4ba14eb",
   "metadata": {},
   "outputs": [],
   "source": [
    "z = np.longfloat(y)\n",
    "print(z)\n",
    "print(z.dtype)"
   ]
  },
  {
   "cell_type": "code",
   "execution_count": null,
   "id": "f1169488",
   "metadata": {},
   "outputs": [],
   "source": [
    "#list & Arrays -> Datatype\n",
    "a = []\n",
    "type(a)"
   ]
  },
  {
   "cell_type": "code",
   "execution_count": null,
   "id": "0ff37401",
   "metadata": {},
   "outputs": [],
   "source": [
    "b = [i**2 for i in range(1,10)]\n",
    "b"
   ]
  },
  {
   "cell_type": "code",
   "execution_count": null,
   "id": "193c01cc",
   "metadata": {},
   "outputs": [],
   "source": [
    "%timeit [ i**2 for i in  range(1,15)]"
   ]
  },
  {
   "cell_type": "code",
   "execution_count": null,
   "id": "248415b9",
   "metadata": {},
   "outputs": [],
   "source": [
    "import numpy as np\n",
    "%timeit np.arange(1,15)**2"
   ]
  },
  {
   "cell_type": "code",
   "execution_count": null,
   "id": "3c74fa82",
   "metadata": {},
   "outputs": [],
   "source": [
    "%timeit [x**3 for x in range(1,20)]"
   ]
  },
  {
   "cell_type": "code",
   "execution_count": null,
   "id": "cd5fa5a9",
   "metadata": {},
   "outputs": [],
   "source": [
    "import numpy as np"
   ]
  },
  {
   "cell_type": "code",
   "execution_count": null,
   "id": "87e02a94",
   "metadata": {},
   "outputs": [],
   "source": [
    "%timeit np.arange(1,20)**3"
   ]
  },
  {
   "cell_type": "code",
   "execution_count": null,
   "id": "853c1857",
   "metadata": {},
   "outputs": [],
   "source": [
    "np.arange(1,15)**2"
   ]
  },
  {
   "cell_type": "code",
   "execution_count": null,
   "id": "73cc4928",
   "metadata": {},
   "outputs": [],
   "source": [
    "a = np.array([\n",
    "    [6,7],[4,5],[6,9]\n",
    "])\n",
    "a.ndim"
   ]
  },
  {
   "cell_type": "code",
   "execution_count": null,
   "id": "992ac855",
   "metadata": {},
   "outputs": [],
   "source": [
    "b = np.array([[[]]])\n",
    "b.ndim"
   ]
  },
  {
   "cell_type": "code",
   "execution_count": null,
   "id": "3f263903",
   "metadata": {},
   "outputs": [],
   "source": [
    "c =[[5,6,7,8,'Mahi']]\n",
    "c"
   ]
  },
  {
   "cell_type": "code",
   "execution_count": null,
   "id": "431c0726",
   "metadata": {},
   "outputs": [],
   "source": [
    "d = [[[[5,6,8],['a','m','k']]]] "
   ]
  },
  {
   "cell_type": "code",
   "execution_count": null,
   "id": "41de434b",
   "metadata": {},
   "outputs": [],
   "source": [
    "d[0][0][1][0]"
   ]
  },
  {
   "cell_type": "code",
   "execution_count": null,
   "id": "8e720c8e",
   "metadata": {},
   "outputs": [],
   "source": [
    "e = np.array([[[8,6,4]]])\n",
    "e.ndim"
   ]
  },
  {
   "cell_type": "code",
   "execution_count": null,
   "id": "20425dee",
   "metadata": {},
   "outputs": [],
   "source": [
    "f = np.array([[[[[[[[[[4,6,8]]]]]]]]]])\n",
    "f.ndim"
   ]
  },
  {
   "cell_type": "code",
   "execution_count": null,
   "id": "798db2a1",
   "metadata": {},
   "outputs": [],
   "source": [
    "g = np.arange(3,3)\n",
    "g\n",
    "g.ndim"
   ]
  },
  {
   "cell_type": "code",
   "execution_count": null,
   "id": "c61d8c66",
   "metadata": {},
   "outputs": [],
   "source": [
    "h = np.zeros((3,4))\n",
    "h\n"
   ]
  },
  {
   "cell_type": "code",
   "execution_count": null,
   "id": "03bbf93b",
   "metadata": {},
   "outputs": [],
   "source": [
    "i = np.ones((3,3))\n",
    "i"
   ]
  },
  {
   "cell_type": "code",
   "execution_count": null,
   "id": "f30b9d59",
   "metadata": {},
   "outputs": [],
   "source": [
    "j = np.eye(3)\n",
    "j"
   ]
  },
  {
   "cell_type": "code",
   "execution_count": null,
   "id": "f2a9573b",
   "metadata": {},
   "outputs": [],
   "source": [
    "k = np.eye(4,6)\n",
    "k"
   ]
  },
  {
   "cell_type": "code",
   "execution_count": null,
   "id": "b55481d9",
   "metadata": {},
   "outputs": [],
   "source": [
    "k = np.eye(4,6)\n",
    "print(k)\n",
    "k.ndim"
   ]
  },
  {
   "cell_type": "code",
   "execution_count": null,
   "id": "f4aa4d68",
   "metadata": {},
   "outputs": [],
   "source": [
    "l = np.random.rand(3,4)\n",
    "l"
   ]
  },
  {
   "cell_type": "markdown",
   "id": "76875b5b",
   "metadata": {},
   "source": [
    "m = np.random.randint((2,10),(4,5))\n",
    "m"
   ]
  },
  {
   "cell_type": "code",
   "execution_count": null,
   "id": "62717403",
   "metadata": {},
   "outputs": [],
   "source": [
    "m = np.random.randint((2,4,6,8,3))\n",
    "m"
   ]
  },
  {
   "cell_type": "markdown",
   "id": "fdde2bee",
   "metadata": {},
   "source": [
    "## 27-09-2023"
   ]
  },
  {
   "cell_type": "code",
   "execution_count": null,
   "id": "bad579db",
   "metadata": {},
   "outputs": [],
   "source": [
    "#shape #4 element 2 rows\n",
    "import numpy\n",
    "a = numpy.array([[2,3,5,6],[3,5,8,7]])\n",
    "a.shape"
   ]
  },
  {
   "cell_type": "code",
   "execution_count": null,
   "id": "4505652b",
   "metadata": {},
   "outputs": [],
   "source": [
    "b = numpy.array([[[[4,5,2,7,8]]]])\n",
    "b.shape"
   ]
  },
  {
   "cell_type": "code",
   "execution_count": null,
   "id": "4b09efdf",
   "metadata": {},
   "outputs": [],
   "source": [
    "c = numpy.array([[3,5,6],[5,7,9],[3,5,8],[3,5,8]])\n",
    "c.shape"
   ]
  },
  {
   "cell_type": "code",
   "execution_count": null,
   "id": "1f54453e",
   "metadata": {},
   "outputs": [],
   "source": [
    "c = numpy.array([[3,5,6],[5,7,9],[3,5,8]])\n",
    "c.shape"
   ]
  },
  {
   "cell_type": "code",
   "execution_count": null,
   "id": "15dd2dc7",
   "metadata": {},
   "outputs": [],
   "source": [
    "d = numpy.array([[3,4,6,7],[7,8,9,8]])\n",
    "d.shape\n",
    "d.ndim"
   ]
  },
  {
   "cell_type": "code",
   "execution_count": null,
   "id": "f2dddeac",
   "metadata": {},
   "outputs": [],
   "source": [
    "e = numpy.array([\n",
    "    [\n",
    "        [3,4,5],\n",
    "        [3,5,7],\n",
    "        [2,8,9],\n",
    "        [9,6,4],\n",
    "    ]\n",
    "])\n",
    "e.shape"
   ]
  },
  {
   "cell_type": "code",
   "execution_count": null,
   "id": "5cf56c45",
   "metadata": {},
   "outputs": [],
   "source": [
    "e.ndim"
   ]
  },
  {
   "cell_type": "code",
   "execution_count": null,
   "id": "93c11d1c",
   "metadata": {},
   "outputs": [],
   "source": [
    "f = numpy.array([3,4,6,5,8])\n",
    "f[1]\n",
    "# 0 1 2 3 4\n",
    "# -4 -3 -2 -1 "
   ]
  },
  {
   "cell_type": "code",
   "execution_count": null,
   "id": "62fbc761",
   "metadata": {},
   "outputs": [],
   "source": [
    "f[-2]"
   ]
  },
  {
   "cell_type": "code",
   "execution_count": null,
   "id": "d54d5295",
   "metadata": {},
   "outputs": [],
   "source": [
    "g = numpy.array([\n",
    "    [7,5,4],\n",
    "    [4,5,7]\n",
    "])\n",
    "g[1,2]\n"
   ]
  },
  {
   "cell_type": "code",
   "execution_count": null,
   "id": "d41d0da0",
   "metadata": {},
   "outputs": [],
   "source": [
    "g[-1,-2]"
   ]
  },
  {
   "cell_type": "code",
   "execution_count": null,
   "id": "3ad29be0",
   "metadata": {},
   "outputs": [],
   "source": [
    "h = numpy.array([[[5,6,3,7],[2,5,1,8]]])\n",
    "#h.ndim\n",
    "h[0]"
   ]
  },
  {
   "cell_type": "code",
   "execution_count": null,
   "id": "ed1d7620",
   "metadata": {},
   "outputs": [],
   "source": [
    "h[0]"
   ]
  },
  {
   "cell_type": "code",
   "execution_count": null,
   "id": "f694310e",
   "metadata": {},
   "outputs": [],
   "source": [
    "#matrix addition\n",
    "a = numpy.array([4,3,5,6])\n",
    "b = numpy.array([3,2,5,6])\n",
    "a+b"
   ]
  },
  {
   "cell_type": "code",
   "execution_count": null,
   "id": "95799d56",
   "metadata": {},
   "outputs": [],
   "source": [
    "#matrix subtraction\n",
    "a = numpy.array([4,3,5,6])\n",
    "b = numpy.array([3,2,5,6])\n",
    "a-b"
   ]
  },
  {
   "cell_type": "code",
   "execution_count": null,
   "id": "2d38daf5",
   "metadata": {},
   "outputs": [],
   "source": [
    "#matrix multiplication\n",
    "a = numpy.array([4,3,5,6])\n",
    "b = numpy.array([3,2,5,6])\n",
    "a*b"
   ]
  },
  {
   "cell_type": "code",
   "execution_count": null,
   "id": "98a0a15e",
   "metadata": {},
   "outputs": [],
   "source": [
    "#matrix divison\n",
    "a = numpy.array([4,3,5,6])\n",
    "b = numpy.array([3,2,5,6])\n",
    "a/b"
   ]
  },
  {
   "cell_type": "code",
   "execution_count": null,
   "id": "deb705c4",
   "metadata": {},
   "outputs": [],
   "source": [
    "#matrix addition\n",
    "a = numpy.array([[4,3,5,6],[2,3,4,6]])\n",
    "b = numpy.array([[3,2,5,6],[2,1,3,4]])\n",
    "a+b"
   ]
  },
  {
   "cell_type": "code",
   "execution_count": null,
   "id": "15ef0eca",
   "metadata": {},
   "outputs": [],
   "source": [
    "a-b"
   ]
  },
  {
   "cell_type": "code",
   "execution_count": null,
   "id": "98e8e1c3",
   "metadata": {},
   "outputs": [],
   "source": [
    "a*b"
   ]
  },
  {
   "cell_type": "code",
   "execution_count": null,
   "id": "6760a0ff",
   "metadata": {},
   "outputs": [],
   "source": [
    "z = numpy.array([1,2,4,5])\n",
    "numpy.reciprocal(z)"
   ]
  },
  {
   "cell_type": "code",
   "execution_count": null,
   "id": "7633bf04",
   "metadata": {},
   "outputs": [],
   "source": [
    "1/z"
   ]
  },
  {
   "cell_type": "code",
   "execution_count": null,
   "id": "82e3dd62",
   "metadata": {},
   "outputs": [],
   "source": [
    "numpy.max(z)"
   ]
  },
  {
   "cell_type": "code",
   "execution_count": null,
   "id": "d91a752e",
   "metadata": {},
   "outputs": [],
   "source": [
    "numpy.min(z)"
   ]
  },
  {
   "cell_type": "code",
   "execution_count": null,
   "id": "81e4ffee",
   "metadata": {},
   "outputs": [],
   "source": [
    "numpy.sqrt(z)"
   ]
  },
  {
   "cell_type": "code",
   "execution_count": null,
   "id": "7c8e1501",
   "metadata": {},
   "outputs": [],
   "source": [
    "numpy.sin(z)"
   ]
  },
  {
   "cell_type": "code",
   "execution_count": null,
   "id": "19508f58",
   "metadata": {},
   "outputs": [],
   "source": [
    "print(numpy.max(z)) # 5 maximum  3 index position\n",
    "print(numpy.argmax(z))"
   ]
  },
  {
   "cell_type": "code",
   "execution_count": null,
   "id": "fd1674e2",
   "metadata": {},
   "outputs": [],
   "source": [
    "print(numpy.min(z))\n",
    "print(numpy.argmin(z))"
   ]
  },
  {
   "cell_type": "code",
   "execution_count": null,
   "id": "ae5cc2de",
   "metadata": {},
   "outputs": [],
   "source": [
    "print(z) #cumsum is the sum of numbers.\n",
    "print()\n",
    "print(numpy.cumsum(z))"
   ]
  },
  {
   "cell_type": "code",
   "execution_count": null,
   "id": "eb618d6b",
   "metadata": {},
   "outputs": [],
   "source": [
    "import numpy\n",
    "b = numpy.array([23,13,45,67])\n",
    "b.nbytes"
   ]
  },
  {
   "cell_type": "code",
   "execution_count": null,
   "id": "915f2b7c",
   "metadata": {},
   "outputs": [],
   "source": [
    "c = numpy.array([[2,3],[4,5]])\n",
    "c.nbytes"
   ]
  },
  {
   "cell_type": "code",
   "execution_count": null,
   "id": "3c07af80",
   "metadata": {},
   "outputs": [],
   "source": [
    "b = numpy.array([2,4,6,8])\n",
    "b.ndim"
   ]
  },
  {
   "cell_type": "code",
   "execution_count": null,
   "id": "48aed0d6",
   "metadata": {},
   "outputs": [],
   "source": [
    "d = b.reshape(2,2)\n",
    "d"
   ]
  },
  {
   "cell_type": "code",
   "execution_count": null,
   "id": "9263cbb9",
   "metadata": {},
   "outputs": [],
   "source": [
    "e = numpy.array([1,2,3,4,5,6,7,8,9,1,2,3])\n",
    "f = e.reshape(4,2,2)\n",
    "f"
   ]
  },
  {
   "cell_type": "code",
   "execution_count": null,
   "id": "002e4a28",
   "metadata": {},
   "outputs": [],
   "source": [
    "g = numpy.array([3,4,5,7,8,9])"
   ]
  },
  {
   "cell_type": "code",
   "execution_count": null,
   "id": "2dedba17",
   "metadata": {},
   "outputs": [],
   "source": [
    "h = g.reshape(2,3)\n",
    "h"
   ]
  },
  {
   "cell_type": "code",
   "execution_count": null,
   "id": "ea2e40a5",
   "metadata": {},
   "outputs": [],
   "source": [
    "h.ndim"
   ]
  },
  {
   "cell_type": "code",
   "execution_count": null,
   "id": "d7dfd370",
   "metadata": {},
   "outputs": [],
   "source": [
    "g.reshape(1,2,3)"
   ]
  },
  {
   "cell_type": "code",
   "execution_count": null,
   "id": "e8180dca",
   "metadata": {},
   "outputs": [],
   "source": [
    "h = g.reshape(2,1,3)\n",
    "h"
   ]
  },
  {
   "cell_type": "code",
   "execution_count": null,
   "id": "dc4d17ba",
   "metadata": {},
   "outputs": [],
   "source": [
    "h.ndim"
   ]
  },
  {
   "cell_type": "code",
   "execution_count": null,
   "id": "3e136c6c",
   "metadata": {},
   "outputs": [],
   "source": [
    "h[1]"
   ]
  },
  {
   "cell_type": "code",
   "execution_count": null,
   "id": "029116e3",
   "metadata": {},
   "outputs": [],
   "source": [
    "h[1,0]"
   ]
  },
  {
   "cell_type": "code",
   "execution_count": null,
   "id": "a925bc7f",
   "metadata": {},
   "outputs": [],
   "source": [
    "#Broadcasting"
   ]
  },
  {
   "cell_type": "code",
   "execution_count": null,
   "id": "2c2973f2",
   "metadata": {},
   "outputs": [],
   "source": [
    "a = numpy.array([2,3,5,6,7])\n",
    "b = numpy.array([5])\n",
    "a+b"
   ]
  },
  {
   "cell_type": "code",
   "execution_count": null,
   "id": "a315ddba",
   "metadata": {},
   "outputs": [],
   "source": [
    "a = numpy.array([[2,3],[4,5]])\n",
    "a.shape"
   ]
  }
 ],
 "metadata": {
  "kernelspec": {
   "display_name": "Python 3 (ipykernel)",
   "language": "python",
   "name": "python3"
  },
  "language_info": {
   "codemirror_mode": {
    "name": "ipython",
    "version": 3
   },
   "file_extension": ".py",
   "mimetype": "text/x-python",
   "name": "python",
   "nbconvert_exporter": "python",
   "pygments_lexer": "ipython3",
   "version": "3.11.4"
  }
 },
 "nbformat": 4,
 "nbformat_minor": 5
}
