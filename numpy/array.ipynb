{
 "cells": [
  {
   "cell_type": "code",
   "execution_count": 3,
   "id": "1000aa38",
   "metadata": {},
   "outputs": [
    {
     "data": {
      "text/plain": [
       "list"
      ]
     },
     "execution_count": 3,
     "metadata": {},
     "output_type": "execute_result"
    }
   ],
   "source": [
    "a = [2,3,4,5,7,]\n",
    "type(a)"
   ]
  },
  {
   "cell_type": "code",
   "execution_count": 4,
   "id": "e945b252",
   "metadata": {},
   "outputs": [
    {
     "data": {
      "text/plain": [
       "list"
      ]
     },
     "execution_count": 4,
     "metadata": {},
     "output_type": "execute_result"
    }
   ],
   "source": [
    "b = [1,2,4,5,True,(1,2),\"Mahi\",{2,3}]\n",
    "type(b)"
   ]
  },
  {
   "cell_type": "code",
   "execution_count": 19,
   "id": "5e929cc5",
   "metadata": {},
   "outputs": [],
   "source": [
    "import numpy"
   ]
  },
  {
   "cell_type": "code",
   "execution_count": 20,
   "id": "5f93e8d9",
   "metadata": {},
   "outputs": [
    {
     "data": {
      "text/plain": [
       "'1.25.2'"
      ]
     },
     "execution_count": 20,
     "metadata": {},
     "output_type": "execute_result"
    }
   ],
   "source": [
    "#np -> standard\n",
    "#natplotlib.pyplot  as plt mt\n",
    "import numpy as np\n",
    "np.__version__"
   ]
  },
  {
   "cell_type": "code",
   "execution_count": 21,
   "id": "dac67281",
   "metadata": {},
   "outputs": [],
   "source": [
    "arr0 = np.array(5)"
   ]
  },
  {
   "cell_type": "code",
   "execution_count": 22,
   "id": "eb3f7d21",
   "metadata": {},
   "outputs": [
    {
     "name": "stdout",
     "output_type": "stream",
     "text": [
      "5\n"
     ]
    }
   ],
   "source": [
    "print(arr0)"
   ]
  },
  {
   "cell_type": "code",
   "execution_count": 23,
   "id": "0ea34c02",
   "metadata": {},
   "outputs": [
    {
     "data": {
      "text/plain": [
       "numpy.ndarray"
      ]
     },
     "execution_count": 23,
     "metadata": {},
     "output_type": "execute_result"
    }
   ],
   "source": [
    "type(arr0)"
   ]
  },
  {
   "cell_type": "code",
   "execution_count": 24,
   "id": "1365826d",
   "metadata": {},
   "outputs": [
    {
     "data": {
      "text/plain": [
       "0"
      ]
     },
     "execution_count": 24,
     "metadata": {},
     "output_type": "execute_result"
    }
   ],
   "source": [
    "#ndim -> no of dimension\n",
    "arr0.ndim"
   ]
  },
  {
   "cell_type": "code",
   "execution_count": 25,
   "id": "568cbd15",
   "metadata": {},
   "outputs": [
    {
     "name": "stdout",
     "output_type": "stream",
     "text": [
      "[5.  5.  2.  3.  4.5]\n"
     ]
    }
   ],
   "source": [
    "arr1 = np.array([5,5,2,3,4.5])\n",
    "print(arr1)"
   ]
  },
  {
   "cell_type": "code",
   "execution_count": 26,
   "id": "86c0db98",
   "metadata": {},
   "outputs": [
    {
     "data": {
      "text/plain": [
       "numpy.ndarray"
      ]
     },
     "execution_count": 26,
     "metadata": {},
     "output_type": "execute_result"
    }
   ],
   "source": [
    "type(arr1)"
   ]
  },
  {
   "cell_type": "code",
   "execution_count": 27,
   "id": "ae77730e",
   "metadata": {},
   "outputs": [
    {
     "data": {
      "text/plain": [
       "1"
      ]
     },
     "execution_count": 27,
     "metadata": {},
     "output_type": "execute_result"
    }
   ],
   "source": [
    "arr1.ndim"
   ]
  },
  {
   "cell_type": "code",
   "execution_count": 28,
   "id": "acb1e0a6",
   "metadata": {},
   "outputs": [
    {
     "name": "stdout",
     "output_type": "stream",
     "text": [
      "['3' '6' '4' '1' '']\n",
      "<class 'numpy.ndarray'>\n",
      "1\n"
     ]
    }
   ],
   "source": [
    "a1 = np.array([3,6,4,1,\"\"])\n",
    "print(a1)\n",
    "type(a1)\n",
    "print(type(a1))\n",
    "print(a1.ndim)"
   ]
  },
  {
   "cell_type": "code",
   "execution_count": 29,
   "id": "939ecb73",
   "metadata": {},
   "outputs": [
    {
     "name": "stdout",
     "output_type": "stream",
     "text": [
      "[7 9 5 8 4 3 5]\n"
     ]
    }
   ],
   "source": [
    "a3 = np.array([7,9,5,8,4,3,5])\n",
    "print(a3)"
   ]
  },
  {
   "cell_type": "code",
   "execution_count": 30,
   "id": "99f5c765",
   "metadata": {},
   "outputs": [
    {
     "data": {
      "text/plain": [
       "2"
      ]
     },
     "execution_count": 30,
     "metadata": {},
     "output_type": "execute_result"
    }
   ],
   "source": [
    "arr2 = np.array([\n",
    "    [5,6,4],\n",
    "    [2,4,7]\n",
    "])\n",
    "arr2.ndim"
   ]
  },
  {
   "cell_type": "code",
   "execution_count": 31,
   "id": "7cae0e0e",
   "metadata": {},
   "outputs": [
    {
     "data": {
      "text/plain": [
       "2"
      ]
     },
     "execution_count": 31,
     "metadata": {},
     "output_type": "execute_result"
    }
   ],
   "source": [
    "arr3 = np.array(\n",
    "[\n",
    "    [9,8]\n",
    "])\n",
    "arr3.ndim"
   ]
  },
  {
   "cell_type": "code",
   "execution_count": 32,
   "id": "748c68b8",
   "metadata": {},
   "outputs": [
    {
     "data": {
      "text/plain": [
       "3"
      ]
     },
     "execution_count": 32,
     "metadata": {},
     "output_type": "execute_result"
    }
   ],
   "source": [
    "arr4 = np.array(\n",
    "    [\n",
    "        [\n",
    "            [6,4,5],[4,5,2],[5,5,2],\n",
    "        ]\n",
    "    ]\n",
    ")\n",
    "arr4.ndim"
   ]
  },
  {
   "cell_type": "markdown",
   "id": "9927846e",
   "metadata": {},
   "source": [
    "# 26-09-2023"
   ]
  },
  {
   "cell_type": "code",
   "execution_count": 33,
   "id": "45935e48",
   "metadata": {},
   "outputs": [
    {
     "name": "stdout",
     "output_type": "stream",
     "text": [
      "7\n",
      "<class 'numpy.ndarray'>\n",
      "0\n"
     ]
    }
   ],
   "source": [
    "import numpy as np\n",
    "\n",
    "\n",
    "a = np.array(7)\n",
    "print(a)\n",
    "print(type(a))\n",
    "print(a.ndim)"
   ]
  },
  {
   "cell_type": "code",
   "execution_count": 34,
   "id": "caa512a9",
   "metadata": {},
   "outputs": [
    {
     "name": "stdout",
     "output_type": "stream",
     "text": [
      "[5 4 6 8]\n",
      "<class 'numpy.ndarray'>\n",
      "1\n"
     ]
    }
   ],
   "source": [
    "b = np.array([5,4,6,8])\n",
    "print(b)\n",
    "print(type(b))\n",
    "print(b.ndim)"
   ]
  },
  {
   "cell_type": "code",
   "execution_count": 35,
   "id": "c3941103",
   "metadata": {},
   "outputs": [
    {
     "name": "stdout",
     "output_type": "stream",
     "text": [
      "<class 'list'>\n",
      "<class 'numpy.ndarray'>\n"
     ]
    }
   ],
   "source": [
    "my_list = []\n",
    "c = np.array(my_list)\n",
    "print(type(my_list))\n",
    "print(type(c))"
   ]
  },
  {
   "cell_type": "code",
   "execution_count": 127,
   "id": "68b6dbf4",
   "metadata": {},
   "outputs": [
    {
     "name": "stdout",
     "output_type": "stream",
     "text": [
      "elements:4\n",
      "elements:3\n",
      "elements:2\n",
      "elements:4\n",
      "[4 3 2 4]\n"
     ]
    }
   ],
   "source": [
    "for i in range(1,5):\n",
    "    x = int(input('elements:'))\n",
    "    my_list.append(x)\n",
    "d = np.array(my_list)\n",
    "print(d)"
   ]
  },
  {
   "cell_type": "code",
   "execution_count": 129,
   "id": "73a5317c",
   "metadata": {},
   "outputs": [
    {
     "data": {
      "text/plain": [
       "numpy.ndarray"
      ]
     },
     "execution_count": 129,
     "metadata": {},
     "output_type": "execute_result"
    }
   ],
   "source": [
    "type(d)\n"
   ]
  },
  {
   "cell_type": "code",
   "execution_count": 130,
   "id": "d8a195d1",
   "metadata": {},
   "outputs": [
    {
     "data": {
      "text/plain": [
       "list"
      ]
     },
     "execution_count": 130,
     "metadata": {},
     "output_type": "execute_result"
    }
   ],
   "source": [
    "my_list\n",
    "type(my_list)"
   ]
  },
  {
   "cell_type": "code",
   "execution_count": 131,
   "id": "7c86e02e",
   "metadata": {},
   "outputs": [
    {
     "name": "stdout",
     "output_type": "stream",
     "text": [
      "[0. 0. 0. 0.]\n"
     ]
    }
   ],
   "source": [
    "e = np.zeros(4)\n",
    "print(e)"
   ]
  },
  {
   "cell_type": "code",
   "execution_count": 132,
   "id": "91ae2fd0",
   "metadata": {},
   "outputs": [
    {
     "name": "stdout",
     "output_type": "stream",
     "text": [
      "[1. 1. 1. 1. 1.]\n"
     ]
    }
   ],
   "source": [
    "f = np.ones(5)\n",
    "print(f)"
   ]
  },
  {
   "cell_type": "code",
   "execution_count": 133,
   "id": "9c330363",
   "metadata": {},
   "outputs": [
    {
     "name": "stdout",
     "output_type": "stream",
     "text": [
      "[0 1 2 3 4 5 6 7 8 9]\n"
     ]
    }
   ],
   "source": [
    "g = np.arange(10)\n",
    "print(g)"
   ]
  },
  {
   "cell_type": "code",
   "execution_count": 137,
   "id": "09e5e712",
   "metadata": {},
   "outputs": [
    {
     "data": {
      "text/plain": [
       "array([5, 6, 7, 8, 9])"
      ]
     },
     "execution_count": 137,
     "metadata": {},
     "output_type": "execute_result"
    }
   ],
   "source": [
    "#np.arange(start,stop,steps,dtype)\n",
    "h = np.arange(5,10)\n",
    "h"
   ]
  },
  {
   "cell_type": "code",
   "execution_count": 141,
   "id": "920d80ba",
   "metadata": {},
   "outputs": [
    {
     "data": {
      "text/plain": [
       "array([0, 2, 4, 6, 8])"
      ]
     },
     "execution_count": 141,
     "metadata": {},
     "output_type": "execute_result"
    }
   ],
   "source": [
    "#steps\n",
    "i = np.arange(0,10,2)\n",
    "i"
   ]
  },
  {
   "cell_type": "code",
   "execution_count": 142,
   "id": "f2c28b01",
   "metadata": {},
   "outputs": [
    {
     "data": {
      "text/plain": [
       "array([ 0,  3,  6,  9, 12, 15, 18, 21, 24, 27])"
      ]
     },
     "execution_count": 142,
     "metadata": {},
     "output_type": "execute_result"
    }
   ],
   "source": [
    "j = np.arange(0,30,3)\n",
    "j"
   ]
  },
  {
   "cell_type": "code",
   "execution_count": 143,
   "id": "f087c4fe",
   "metadata": {},
   "outputs": [
    {
     "data": {
      "text/plain": [
       "array([ 0. ,  2.5,  5. ,  7.5, 10. ])"
      ]
     },
     "execution_count": 143,
     "metadata": {},
     "output_type": "execute_result"
    }
   ],
   "source": [
    "#spacial\n",
    "#linespace\n",
    "j = np.linspace(0,10, num= 5)\n",
    "j"
   ]
  },
  {
   "cell_type": "code",
   "execution_count": 144,
   "id": "5509949c",
   "metadata": {},
   "outputs": [],
   "source": [
    "#variance -> IQR (25%),(50%),(75%),(100%)"
   ]
  },
  {
   "cell_type": "code",
   "execution_count": 145,
   "id": "1152ea28",
   "metadata": {},
   "outputs": [
    {
     "data": {
      "text/plain": [
       "array([0.08304402, 0.81194891, 0.23018323, 0.46568652])"
      ]
     },
     "execution_count": 145,
     "metadata": {},
     "output_type": "execute_result"
    }
   ],
   "source": [
    "k = np.random.rand(4) #(0-4)\n",
    "k\n"
   ]
  },
  {
   "cell_type": "code",
   "execution_count": 146,
   "id": "ce70f883",
   "metadata": {},
   "outputs": [
    {
     "data": {
      "text/plain": [
       "array([-0.15291943,  0.43134681,  1.72608239,  0.28335151,  2.17977036,\n",
       "        0.08037784, -1.60082591])"
      ]
     },
     "execution_count": 146,
     "metadata": {},
     "output_type": "execute_result"
    }
   ],
   "source": [
    "#(-1 -> +1)\n",
    "l = np.random.randn(7)\n",
    "l"
   ]
  },
  {
   "cell_type": "code",
   "execution_count": 147,
   "id": "664ddfea",
   "metadata": {},
   "outputs": [
    {
     "data": {
      "text/plain": [
       "array([0.10256455, 0.86120543, 0.44488385, 0.80083028, 0.58884656,\n",
       "       0.56231859])"
      ]
     },
     "execution_count": 147,
     "metadata": {},
     "output_type": "execute_result"
    }
   ],
   "source": [
    "m = np.random.ranf(6)\n",
    "m"
   ]
  },
  {
   "cell_type": "code",
   "execution_count": 148,
   "id": "66be39ac",
   "metadata": {},
   "outputs": [
    {
     "data": {
      "text/plain": [
       "array([18, 11,  8, 12, 12,  8,  6])"
      ]
     },
     "execution_count": 148,
     "metadata": {},
     "output_type": "execute_result"
    }
   ],
   "source": [
    "#(start,stop,count)# 6 start , 20 stop , 7 count\n",
    "n = np.random.randint(6,20,7)\n",
    "n"
   ]
  },
  {
   "cell_type": "code",
   "execution_count": 149,
   "id": "c4ab89d6",
   "metadata": {},
   "outputs": [
    {
     "data": {
      "text/plain": [
       "array([ 100.,  325.,  550.,  775., 1000.])"
      ]
     },
     "execution_count": 149,
     "metadata": {},
     "output_type": "execute_result"
    }
   ],
   "source": [
    "o = np.linspace(100,1000,num=5)\n",
    "o\n"
   ]
  },
  {
   "cell_type": "code",
   "execution_count": 150,
   "id": "cfbfc39b",
   "metadata": {},
   "outputs": [
    {
     "name": "stdout",
     "output_type": "stream",
     "text": [
      "float64\n"
     ]
    }
   ],
   "source": [
    "print(o.dtype)"
   ]
  },
  {
   "cell_type": "code",
   "execution_count": 151,
   "id": "3297e536",
   "metadata": {},
   "outputs": [
    {
     "name": "stdout",
     "output_type": "stream",
     "text": [
      "int32\n"
     ]
    },
    {
     "data": {
      "text/plain": [
       "array([4, 3, 2, 4])"
      ]
     },
     "execution_count": 151,
     "metadata": {},
     "output_type": "execute_result"
    }
   ],
   "source": [
    "print(d.dtype)\n",
    "d"
   ]
  },
  {
   "cell_type": "code",
   "execution_count": 152,
   "id": "b0da235a",
   "metadata": {},
   "outputs": [
    {
     "data": {
      "text/plain": [
       "dtype('<U7')"
      ]
     },
     "execution_count": 152,
     "metadata": {},
     "output_type": "execute_result"
    }
   ],
   "source": [
    "p = np.array(['Manisha','Seema','Mahi','Saini'])\n",
    "p.dtype"
   ]
  },
  {
   "cell_type": "code",
   "execution_count": 153,
   "id": "e7f373de",
   "metadata": {},
   "outputs": [
    {
     "data": {
      "text/plain": [
       "dtype('<U1')"
      ]
     },
     "execution_count": 153,
     "metadata": {},
     "output_type": "execute_result"
    }
   ],
   "source": [
    "q = np.array(['K'])\n",
    "q.dtype"
   ]
  },
  {
   "cell_type": "code",
   "execution_count": 154,
   "id": "a75cfa3a",
   "metadata": {},
   "outputs": [
    {
     "data": {
      "text/plain": [
       "dtype('bool')"
      ]
     },
     "execution_count": 154,
     "metadata": {},
     "output_type": "execute_result"
    }
   ],
   "source": [
    "r = np.array([True])\n",
    "r.dtype"
   ]
  },
  {
   "cell_type": "code",
   "execution_count": 155,
   "id": "eb13f00c",
   "metadata": {},
   "outputs": [
    {
     "data": {
      "text/plain": [
       "dtype('int32')"
      ]
     },
     "execution_count": 155,
     "metadata": {},
     "output_type": "execute_result"
    }
   ],
   "source": [
    "s = np.array([1])\n",
    "s.dtype"
   ]
  },
  {
   "cell_type": "code",
   "execution_count": 156,
   "id": "c2ba3540",
   "metadata": {},
   "outputs": [
    {
     "data": {
      "text/plain": [
       "dtype('complex128')"
      ]
     },
     "execution_count": 156,
     "metadata": {},
     "output_type": "execute_result"
    }
   ],
   "source": [
    "t = np.array([0+1j])\n",
    "t.dtype"
   ]
  },
  {
   "cell_type": "code",
   "execution_count": 157,
   "id": "ba009e13",
   "metadata": {},
   "outputs": [
    {
     "data": {
      "text/plain": [
       "dtype('<U11')"
      ]
     },
     "execution_count": 157,
     "metadata": {},
     "output_type": "execute_result"
    }
   ],
   "source": [
    "u = np.array(['a','s','w','x',5,4,2,3,True])#is case me U11 hi mile ga.\n",
    "u.dtype"
   ]
  },
  {
   "cell_type": "code",
   "execution_count": 158,
   "id": "f53b1317",
   "metadata": {},
   "outputs": [
    {
     "name": "stdout",
     "output_type": "stream",
     "text": [
      "[2 5 7 8]\n",
      "int32\n"
     ]
    }
   ],
   "source": [
    "v = np.array([2,5,7,8], dtype = np.int_)\n",
    "print(v)\n",
    "print(v.dtype)"
   ]
  },
  {
   "cell_type": "code",
   "execution_count": 159,
   "id": "abc5258d",
   "metadata": {},
   "outputs": [
    {
     "name": "stdout",
     "output_type": "stream",
     "text": [
      "[4. 5. 6. 7.]\n",
      "float64\n"
     ]
    }
   ],
   "source": [
    "w = np.array([4,5,6,7], dtype = np.float_)\n",
    "print(w)\n",
    "print(w.dtype)"
   ]
  },
  {
   "cell_type": "code",
   "execution_count": 160,
   "id": "1a035aeb",
   "metadata": {},
   "outputs": [
    {
     "name": "stdout",
     "output_type": "stream",
     "text": [
      "[5 6 3 4]\n",
      "int32\n"
     ]
    }
   ],
   "source": [
    "x = np.array([5,6,3,4])\n",
    "print(x)\n",
    "print(x.dtype)"
   ]
  },
  {
   "cell_type": "code",
   "execution_count": 161,
   "id": "e4ba14eb",
   "metadata": {},
   "outputs": [
    {
     "name": "stdout",
     "output_type": "stream",
     "text": [
      "[5. 6. 3. 4.]\n",
      "float64\n"
     ]
    }
   ],
   "source": [
    "z = np.longfloat(x)\n",
    "print(z)\n",
    "print(z.dtype)"
   ]
  },
  {
   "cell_type": "code",
   "execution_count": 162,
   "id": "f1169488",
   "metadata": {},
   "outputs": [
    {
     "data": {
      "text/plain": [
       "list"
      ]
     },
     "execution_count": 162,
     "metadata": {},
     "output_type": "execute_result"
    }
   ],
   "source": [
    "#list & Arrays -> Datatype\n",
    "a = []\n",
    "type(a)"
   ]
  },
  {
   "cell_type": "code",
   "execution_count": 163,
   "id": "0ff37401",
   "metadata": {},
   "outputs": [
    {
     "data": {
      "text/plain": [
       "[1, 4, 9, 16, 25, 36, 49, 64, 81]"
      ]
     },
     "execution_count": 163,
     "metadata": {},
     "output_type": "execute_result"
    }
   ],
   "source": [
    "b = [i**2 for i in range(1,10)]\n",
    "b"
   ]
  },
  {
   "cell_type": "code",
   "execution_count": 164,
   "id": "193c01cc",
   "metadata": {},
   "outputs": [
    {
     "name": "stdout",
     "output_type": "stream",
     "text": [
      "897 ns ± 6.66 ns per loop (mean ± std. dev. of 7 runs, 1,000,000 loops each)\n"
     ]
    }
   ],
   "source": [
    "%timeit [ i**2 for i in  range(1,15)]"
   ]
  },
  {
   "cell_type": "code",
   "execution_count": 168,
   "id": "248415b9",
   "metadata": {},
   "outputs": [
    {
     "name": "stdout",
     "output_type": "stream",
     "text": [
      "1.02 µs ± 16.4 ns per loop (mean ± std. dev. of 7 runs, 1,000,000 loops each)\n"
     ]
    }
   ],
   "source": [
    "import numpy as np\n",
    "%timeit np.arange(1,15)**2"
   ]
  },
  {
   "cell_type": "code",
   "execution_count": 169,
   "id": "3c74fa82",
   "metadata": {},
   "outputs": [
    {
     "name": "stdout",
     "output_type": "stream",
     "text": [
      "1.26 µs ± 11.2 ns per loop (mean ± std. dev. of 7 runs, 1,000,000 loops each)\n"
     ]
    }
   ],
   "source": [
    "%timeit [x**3 for x in range(1,20)]"
   ]
  },
  {
   "cell_type": "code",
   "execution_count": 170,
   "id": "cd5fa5a9",
   "metadata": {},
   "outputs": [],
   "source": [
    "import numpy as np"
   ]
  },
  {
   "cell_type": "code",
   "execution_count": 171,
   "id": "87e02a94",
   "metadata": {},
   "outputs": [
    {
     "name": "stdout",
     "output_type": "stream",
     "text": [
      "1.68 µs ± 12 ns per loop (mean ± std. dev. of 7 runs, 1,000,000 loops each)\n"
     ]
    }
   ],
   "source": [
    "%timeit np.arange(1,20)**3"
   ]
  },
  {
   "cell_type": "code",
   "execution_count": 172,
   "id": "853c1857",
   "metadata": {},
   "outputs": [
    {
     "data": {
      "text/plain": [
       "array([  1,   4,   9,  16,  25,  36,  49,  64,  81, 100, 121, 144, 169,\n",
       "       196])"
      ]
     },
     "execution_count": 172,
     "metadata": {},
     "output_type": "execute_result"
    }
   ],
   "source": [
    "np.arange(1,15)**2"
   ]
  },
  {
   "cell_type": "code",
   "execution_count": 184,
   "id": "73cc4928",
   "metadata": {},
   "outputs": [
    {
     "data": {
      "text/plain": [
       "2"
      ]
     },
     "execution_count": 184,
     "metadata": {},
     "output_type": "execute_result"
    }
   ],
   "source": [
    "a = np.array([\n",
    "    [6,7],[4,5],[6,9]\n",
    "])\n",
    "a.ndim"
   ]
  },
  {
   "cell_type": "code",
   "execution_count": 185,
   "id": "992ac855",
   "metadata": {},
   "outputs": [
    {
     "data": {
      "text/plain": [
       "3"
      ]
     },
     "execution_count": 185,
     "metadata": {},
     "output_type": "execute_result"
    }
   ],
   "source": [
    "b = np.array([[[]]])\n",
    "b.ndim"
   ]
  },
  {
   "cell_type": "code",
   "execution_count": 186,
   "id": "3f263903",
   "metadata": {},
   "outputs": [
    {
     "data": {
      "text/plain": [
       "[[5, 6, 7, 8, 'Seema']]"
      ]
     },
     "execution_count": 186,
     "metadata": {},
     "output_type": "execute_result"
    }
   ],
   "source": [
    "c =[[5,6,7,8,'Seema']]\n",
    "c"
   ]
  },
  {
   "cell_type": "code",
   "execution_count": 187,
   "id": "431c0726",
   "metadata": {},
   "outputs": [
    {
     "data": {
      "text/plain": [
       "[[[[5, 6, 8], ['a', 'm', 'k']]]]"
      ]
     },
     "execution_count": 187,
     "metadata": {},
     "output_type": "execute_result"
    }
   ],
   "source": [
    "d = [[[[5,6,8],['a','m','k']]]] \n",
    "d"
   ]
  },
  {
   "cell_type": "code",
   "execution_count": 188,
   "id": "41de434b",
   "metadata": {},
   "outputs": [
    {
     "data": {
      "text/plain": [
       "[[[[5, 6, 8], ['a', 'm', 'k']]]]"
      ]
     },
     "execution_count": 188,
     "metadata": {},
     "output_type": "execute_result"
    }
   ],
   "source": [
    "d[0][0][1][0]\n",
    "d"
   ]
  },
  {
   "cell_type": "code",
   "execution_count": 189,
   "id": "8e720c8e",
   "metadata": {},
   "outputs": [
    {
     "data": {
      "text/plain": [
       "3"
      ]
     },
     "execution_count": 189,
     "metadata": {},
     "output_type": "execute_result"
    }
   ],
   "source": [
    "e = np.array([[[8,6,4]]])\n",
    "e.ndim"
   ]
  },
  {
   "cell_type": "code",
   "execution_count": 190,
   "id": "20425dee",
   "metadata": {},
   "outputs": [
    {
     "data": {
      "text/plain": [
       "10"
      ]
     },
     "execution_count": 190,
     "metadata": {},
     "output_type": "execute_result"
    }
   ],
   "source": [
    "f = np.array([[[[[[[[[[4,6,8]]]]]]]]]])\n",
    "f.ndim"
   ]
  },
  {
   "cell_type": "code",
   "execution_count": 191,
   "id": "798db2a1",
   "metadata": {},
   "outputs": [
    {
     "data": {
      "text/plain": [
       "1"
      ]
     },
     "execution_count": 191,
     "metadata": {},
     "output_type": "execute_result"
    }
   ],
   "source": [
    "g = np.arange(3,3)\n",
    "g\n",
    "g.ndim"
   ]
  },
  {
   "cell_type": "code",
   "execution_count": 192,
   "id": "c61d8c66",
   "metadata": {},
   "outputs": [
    {
     "data": {
      "text/plain": [
       "array([[0., 0., 0., 0.],\n",
       "       [0., 0., 0., 0.],\n",
       "       [0., 0., 0., 0.]])"
      ]
     },
     "execution_count": 192,
     "metadata": {},
     "output_type": "execute_result"
    }
   ],
   "source": [
    "h = np.zeros((3,4))\n",
    "h\n"
   ]
  },
  {
   "cell_type": "code",
   "execution_count": 193,
   "id": "03bbf93b",
   "metadata": {},
   "outputs": [
    {
     "data": {
      "text/plain": [
       "array([[1., 1., 1.],\n",
       "       [1., 1., 1.],\n",
       "       [1., 1., 1.]])"
      ]
     },
     "execution_count": 193,
     "metadata": {},
     "output_type": "execute_result"
    }
   ],
   "source": [
    "i = np.ones((3,3))\n",
    "i"
   ]
  },
  {
   "cell_type": "code",
   "execution_count": 194,
   "id": "f30b9d59",
   "metadata": {},
   "outputs": [
    {
     "data": {
      "text/plain": [
       "array([[1., 0., 0.],\n",
       "       [0., 1., 0.],\n",
       "       [0., 0., 1.]])"
      ]
     },
     "execution_count": 194,
     "metadata": {},
     "output_type": "execute_result"
    }
   ],
   "source": [
    "j = np.eye(3)\n",
    "j"
   ]
  },
  {
   "cell_type": "code",
   "execution_count": 195,
   "id": "f2a9573b",
   "metadata": {},
   "outputs": [
    {
     "data": {
      "text/plain": [
       "array([[1., 0., 0., 0., 0., 0.],\n",
       "       [0., 1., 0., 0., 0., 0.],\n",
       "       [0., 0., 1., 0., 0., 0.],\n",
       "       [0., 0., 0., 1., 0., 0.]])"
      ]
     },
     "execution_count": 195,
     "metadata": {},
     "output_type": "execute_result"
    }
   ],
   "source": [
    "k = np.eye(4,6)\n",
    "k"
   ]
  },
  {
   "cell_type": "code",
   "execution_count": 196,
   "id": "b55481d9",
   "metadata": {},
   "outputs": [
    {
     "name": "stdout",
     "output_type": "stream",
     "text": [
      "[[1. 0. 0. 0. 0. 0.]\n",
      " [0. 1. 0. 0. 0. 0.]\n",
      " [0. 0. 1. 0. 0. 0.]\n",
      " [0. 0. 0. 1. 0. 0.]]\n"
     ]
    },
    {
     "data": {
      "text/plain": [
       "2"
      ]
     },
     "execution_count": 196,
     "metadata": {},
     "output_type": "execute_result"
    }
   ],
   "source": [
    "k = np.eye(4,6)\n",
    "print(k)\n",
    "k.ndim"
   ]
  },
  {
   "cell_type": "code",
   "execution_count": 197,
   "id": "f4aa4d68",
   "metadata": {},
   "outputs": [
    {
     "data": {
      "text/plain": [
       "array([[0.71957487, 0.25496966, 0.40708644, 0.56997059],\n",
       "       [0.87188571, 0.37927863, 0.14112542, 0.42315776],\n",
       "       [0.05752333, 0.7388202 , 0.15973456, 0.06736   ]])"
      ]
     },
     "execution_count": 197,
     "metadata": {},
     "output_type": "execute_result"
    }
   ],
   "source": [
    "l = np.random.rand(3,4)\n",
    "l"
   ]
  },
  {
   "cell_type": "markdown",
   "id": "76875b5b",
   "metadata": {},
   "source": [
    "m = np.random.randint((2,10),(4,5))\n",
    "m"
   ]
  },
  {
   "cell_type": "code",
   "execution_count": 198,
   "id": "62717403",
   "metadata": {},
   "outputs": [
    {
     "data": {
      "text/plain": [
       "array([1, 1, 0, 3, 0])"
      ]
     },
     "execution_count": 198,
     "metadata": {},
     "output_type": "execute_result"
    }
   ],
   "source": [
    "m = np.random.randint((2,4,6,8,3))\n",
    "m"
   ]
  },
  {
   "cell_type": "markdown",
   "id": "fdde2bee",
   "metadata": {},
   "source": [
    "## 27-09-2023"
   ]
  },
  {
   "cell_type": "code",
   "execution_count": 199,
   "id": "bad579db",
   "metadata": {},
   "outputs": [
    {
     "data": {
      "text/plain": [
       "(2, 4)"
      ]
     },
     "execution_count": 199,
     "metadata": {},
     "output_type": "execute_result"
    }
   ],
   "source": [
    "#shape #4 element 2 rows\n",
    "import numpy\n",
    "a = numpy.array([[2,3,5,6],[3,5,8,7]])\n",
    "a.shape"
   ]
  },
  {
   "cell_type": "code",
   "execution_count": 200,
   "id": "4505652b",
   "metadata": {},
   "outputs": [
    {
     "data": {
      "text/plain": [
       "(1, 1, 1, 5)"
      ]
     },
     "execution_count": 200,
     "metadata": {},
     "output_type": "execute_result"
    }
   ],
   "source": [
    "b = numpy.array([[[[4,5,2,7,8]]]])\n",
    "b.shape"
   ]
  },
  {
   "cell_type": "code",
   "execution_count": 201,
   "id": "4b09efdf",
   "metadata": {},
   "outputs": [
    {
     "data": {
      "text/plain": [
       "(4, 3)"
      ]
     },
     "execution_count": 201,
     "metadata": {},
     "output_type": "execute_result"
    }
   ],
   "source": [
    "c = numpy.array([[3,5,6],[5,7,9],[3,5,8],[3,5,8]])\n",
    "c.shape"
   ]
  },
  {
   "cell_type": "code",
   "execution_count": 202,
   "id": "1f54453e",
   "metadata": {},
   "outputs": [
    {
     "data": {
      "text/plain": [
       "(3, 3)"
      ]
     },
     "execution_count": 202,
     "metadata": {},
     "output_type": "execute_result"
    }
   ],
   "source": [
    "c = numpy.array([[3,5,6],[5,7,9],[3,5,8]])\n",
    "c.shape"
   ]
  },
  {
   "cell_type": "code",
   "execution_count": 203,
   "id": "15dd2dc7",
   "metadata": {},
   "outputs": [
    {
     "data": {
      "text/plain": [
       "2"
      ]
     },
     "execution_count": 203,
     "metadata": {},
     "output_type": "execute_result"
    }
   ],
   "source": [
    "d = numpy.array([[3,4,6,7],[7,8,9,8]])\n",
    "d.shape\n",
    "d.ndim"
   ]
  },
  {
   "cell_type": "code",
   "execution_count": 204,
   "id": "f2dddeac",
   "metadata": {},
   "outputs": [
    {
     "data": {
      "text/plain": [
       "(1, 4, 3)"
      ]
     },
     "execution_count": 204,
     "metadata": {},
     "output_type": "execute_result"
    }
   ],
   "source": [
    "e = numpy.array([\n",
    "    [\n",
    "        [3,4,5],\n",
    "        [3,5,7],\n",
    "        [2,8,9],\n",
    "        [9,6,4],\n",
    "    ]\n",
    "])\n",
    "e.shape"
   ]
  },
  {
   "cell_type": "code",
   "execution_count": 205,
   "id": "5cf56c45",
   "metadata": {},
   "outputs": [
    {
     "data": {
      "text/plain": [
       "3"
      ]
     },
     "execution_count": 205,
     "metadata": {},
     "output_type": "execute_result"
    }
   ],
   "source": [
    "e.ndim"
   ]
  },
  {
   "cell_type": "code",
   "execution_count": 206,
   "id": "93c11d1c",
   "metadata": {},
   "outputs": [
    {
     "data": {
      "text/plain": [
       "4"
      ]
     },
     "execution_count": 206,
     "metadata": {},
     "output_type": "execute_result"
    }
   ],
   "source": [
    "f = numpy.array([3,4,6,5,8])\n",
    "f[1]\n",
    "# 0 1 2 3 4\n",
    "# -4 -3 -2 -1 "
   ]
  },
  {
   "cell_type": "code",
   "execution_count": 207,
   "id": "62fbc761",
   "metadata": {},
   "outputs": [
    {
     "data": {
      "text/plain": [
       "5"
      ]
     },
     "execution_count": 207,
     "metadata": {},
     "output_type": "execute_result"
    }
   ],
   "source": [
    "f[-2]"
   ]
  },
  {
   "cell_type": "code",
   "execution_count": 208,
   "id": "d54d5295",
   "metadata": {},
   "outputs": [
    {
     "data": {
      "text/plain": [
       "7"
      ]
     },
     "execution_count": 208,
     "metadata": {},
     "output_type": "execute_result"
    }
   ],
   "source": [
    "g = numpy.array([\n",
    "    [7,5,4],\n",
    "    [4,5,7]\n",
    "])\n",
    "g[1,2]\n"
   ]
  },
  {
   "cell_type": "code",
   "execution_count": 209,
   "id": "d41d0da0",
   "metadata": {},
   "outputs": [
    {
     "data": {
      "text/plain": [
       "5"
      ]
     },
     "execution_count": 209,
     "metadata": {},
     "output_type": "execute_result"
    }
   ],
   "source": [
    "g[-1,-2]"
   ]
  },
  {
   "cell_type": "code",
   "execution_count": 210,
   "id": "3ad29be0",
   "metadata": {},
   "outputs": [
    {
     "data": {
      "text/plain": [
       "array([[5, 6, 3, 7],\n",
       "       [2, 5, 1, 8]])"
      ]
     },
     "execution_count": 210,
     "metadata": {},
     "output_type": "execute_result"
    }
   ],
   "source": [
    "h = numpy.array([[[5,6,3,7],[2,5,1,8]]])\n",
    "#h.ndim\n",
    "h[0]"
   ]
  },
  {
   "cell_type": "code",
   "execution_count": 211,
   "id": "ed1d7620",
   "metadata": {},
   "outputs": [
    {
     "data": {
      "text/plain": [
       "array([[5, 6, 3, 7],\n",
       "       [2, 5, 1, 8]])"
      ]
     },
     "execution_count": 211,
     "metadata": {},
     "output_type": "execute_result"
    }
   ],
   "source": [
    "h[0]"
   ]
  },
  {
   "cell_type": "code",
   "execution_count": 212,
   "id": "f694310e",
   "metadata": {},
   "outputs": [
    {
     "data": {
      "text/plain": [
       "array([ 7,  5, 10, 12])"
      ]
     },
     "execution_count": 212,
     "metadata": {},
     "output_type": "execute_result"
    }
   ],
   "source": [
    "#matrix addition\n",
    "a = numpy.array([4,3,5,6])\n",
    "b = numpy.array([3,2,5,6])\n",
    "a+b"
   ]
  },
  {
   "cell_type": "code",
   "execution_count": 213,
   "id": "95799d56",
   "metadata": {},
   "outputs": [
    {
     "data": {
      "text/plain": [
       "array([1, 1, 0, 0])"
      ]
     },
     "execution_count": 213,
     "metadata": {},
     "output_type": "execute_result"
    }
   ],
   "source": [
    "#matrix subtraction\n",
    "a = numpy.array([4,3,5,6])\n",
    "b = numpy.array([3,2,5,6])\n",
    "a-b"
   ]
  },
  {
   "cell_type": "code",
   "execution_count": 214,
   "id": "2d38daf5",
   "metadata": {},
   "outputs": [
    {
     "data": {
      "text/plain": [
       "array([12,  6, 25, 36])"
      ]
     },
     "execution_count": 214,
     "metadata": {},
     "output_type": "execute_result"
    }
   ],
   "source": [
    "#matrix multiplication\n",
    "a = numpy.array([4,3,5,6])\n",
    "b = numpy.array([3,2,5,6])\n",
    "a*b"
   ]
  },
  {
   "cell_type": "code",
   "execution_count": 215,
   "id": "98a0a15e",
   "metadata": {},
   "outputs": [
    {
     "data": {
      "text/plain": [
       "array([1.33333333, 1.5       , 1.        , 1.        ])"
      ]
     },
     "execution_count": 215,
     "metadata": {},
     "output_type": "execute_result"
    }
   ],
   "source": [
    "#matrix divison\n",
    "a = numpy.array([4,3,5,6])\n",
    "b = numpy.array([3,2,5,6])\n",
    "a/b"
   ]
  },
  {
   "cell_type": "code",
   "execution_count": 216,
   "id": "deb705c4",
   "metadata": {},
   "outputs": [
    {
     "data": {
      "text/plain": [
       "array([[ 7,  5, 10, 12],\n",
       "       [ 4,  4,  7, 10]])"
      ]
     },
     "execution_count": 216,
     "metadata": {},
     "output_type": "execute_result"
    }
   ],
   "source": [
    "#matrix addition\n",
    "a = numpy.array([[4,3,5,6],[2,3,4,6]])\n",
    "b = numpy.array([[3,2,5,6],[2,1,3,4]])\n",
    "a+b"
   ]
  },
  {
   "cell_type": "code",
   "execution_count": 217,
   "id": "15ef0eca",
   "metadata": {},
   "outputs": [
    {
     "data": {
      "text/plain": [
       "array([[1, 1, 0, 0],\n",
       "       [0, 2, 1, 2]])"
      ]
     },
     "execution_count": 217,
     "metadata": {},
     "output_type": "execute_result"
    }
   ],
   "source": [
    "a-b"
   ]
  },
  {
   "cell_type": "code",
   "execution_count": 218,
   "id": "98e8e1c3",
   "metadata": {},
   "outputs": [
    {
     "data": {
      "text/plain": [
       "array([[12,  6, 25, 36],\n",
       "       [ 4,  3, 12, 24]])"
      ]
     },
     "execution_count": 218,
     "metadata": {},
     "output_type": "execute_result"
    }
   ],
   "source": [
    "a*b"
   ]
  },
  {
   "cell_type": "code",
   "execution_count": 219,
   "id": "6760a0ff",
   "metadata": {},
   "outputs": [
    {
     "data": {
      "text/plain": [
       "array([1, 0, 0, 0])"
      ]
     },
     "execution_count": 219,
     "metadata": {},
     "output_type": "execute_result"
    }
   ],
   "source": [
    "z = numpy.array([1,2,4,5])\n",
    "numpy.reciprocal(z)"
   ]
  },
  {
   "cell_type": "code",
   "execution_count": 220,
   "id": "7633bf04",
   "metadata": {},
   "outputs": [
    {
     "data": {
      "text/plain": [
       "array([1.  , 0.5 , 0.25, 0.2 ])"
      ]
     },
     "execution_count": 220,
     "metadata": {},
     "output_type": "execute_result"
    }
   ],
   "source": [
    "1/z"
   ]
  },
  {
   "cell_type": "code",
   "execution_count": 221,
   "id": "82e3dd62",
   "metadata": {},
   "outputs": [
    {
     "data": {
      "text/plain": [
       "5"
      ]
     },
     "execution_count": 221,
     "metadata": {},
     "output_type": "execute_result"
    }
   ],
   "source": [
    "numpy.max(z)"
   ]
  },
  {
   "cell_type": "code",
   "execution_count": 222,
   "id": "d91a752e",
   "metadata": {},
   "outputs": [
    {
     "data": {
      "text/plain": [
       "1"
      ]
     },
     "execution_count": 222,
     "metadata": {},
     "output_type": "execute_result"
    }
   ],
   "source": [
    "numpy.min(z)"
   ]
  },
  {
   "cell_type": "code",
   "execution_count": 223,
   "id": "81e4ffee",
   "metadata": {},
   "outputs": [
    {
     "data": {
      "text/plain": [
       "array([1.        , 1.41421356, 2.        , 2.23606798])"
      ]
     },
     "execution_count": 223,
     "metadata": {},
     "output_type": "execute_result"
    }
   ],
   "source": [
    "numpy.sqrt(z)"
   ]
  },
  {
   "cell_type": "code",
   "execution_count": 224,
   "id": "7c8e1501",
   "metadata": {},
   "outputs": [
    {
     "data": {
      "text/plain": [
       "array([ 0.84147098,  0.90929743, -0.7568025 , -0.95892427])"
      ]
     },
     "execution_count": 224,
     "metadata": {},
     "output_type": "execute_result"
    }
   ],
   "source": [
    "numpy.sin(z)"
   ]
  },
  {
   "cell_type": "code",
   "execution_count": 225,
   "id": "19508f58",
   "metadata": {},
   "outputs": [
    {
     "name": "stdout",
     "output_type": "stream",
     "text": [
      "5\n",
      "3\n"
     ]
    }
   ],
   "source": [
    "print(numpy.max(z)) # 5 maximum  3 index position\n",
    "print(numpy.argmax(z))"
   ]
  },
  {
   "cell_type": "code",
   "execution_count": 226,
   "id": "fd1674e2",
   "metadata": {},
   "outputs": [
    {
     "name": "stdout",
     "output_type": "stream",
     "text": [
      "1\n",
      "0\n"
     ]
    }
   ],
   "source": [
    "print(numpy.min(z))\n",
    "print(numpy.argmin(z))"
   ]
  },
  {
   "cell_type": "code",
   "execution_count": 227,
   "id": "ae5cc2de",
   "metadata": {},
   "outputs": [
    {
     "name": "stdout",
     "output_type": "stream",
     "text": [
      "[1 2 4 5]\n",
      "\n",
      "[ 1  3  7 12]\n"
     ]
    }
   ],
   "source": [
    "print(z) #cumsum is the sum of numbers.\n",
    "print()\n",
    "print(numpy.cumsum(z))"
   ]
  },
  {
   "cell_type": "code",
   "execution_count": 228,
   "id": "eb618d6b",
   "metadata": {},
   "outputs": [
    {
     "data": {
      "text/plain": [
       "16"
      ]
     },
     "execution_count": 228,
     "metadata": {},
     "output_type": "execute_result"
    }
   ],
   "source": [
    "import numpy\n",
    "b = numpy.array([23,13,45,67])\n",
    "b.nbytes"
   ]
  },
  {
   "cell_type": "code",
   "execution_count": 229,
   "id": "915f2b7c",
   "metadata": {},
   "outputs": [
    {
     "data": {
      "text/plain": [
       "16"
      ]
     },
     "execution_count": 229,
     "metadata": {},
     "output_type": "execute_result"
    }
   ],
   "source": [
    "c = numpy.array([[2,3],[4,5]])\n",
    "c.nbytes"
   ]
  },
  {
   "cell_type": "code",
   "execution_count": 230,
   "id": "3c07af80",
   "metadata": {},
   "outputs": [
    {
     "data": {
      "text/plain": [
       "1"
      ]
     },
     "execution_count": 230,
     "metadata": {},
     "output_type": "execute_result"
    }
   ],
   "source": [
    "b = numpy.array([2,4,6,8])\n",
    "b.ndim"
   ]
  },
  {
   "cell_type": "code",
   "execution_count": 231,
   "id": "48aed0d6",
   "metadata": {},
   "outputs": [
    {
     "data": {
      "text/plain": [
       "array([[2, 4],\n",
       "       [6, 8]])"
      ]
     },
     "execution_count": 231,
     "metadata": {},
     "output_type": "execute_result"
    }
   ],
   "source": [
    "d = b.reshape(2,2)\n",
    "d"
   ]
  },
  {
   "cell_type": "code",
   "execution_count": 126,
   "id": "9263cbb9",
   "metadata": {},
   "outputs": [
    {
     "ename": "ValueError",
     "evalue": "cannot reshape array of size 12 into shape (4,2)",
     "output_type": "error",
     "traceback": [
      "\u001b[1;31m---------------------------------------------------------------------------\u001b[0m",
      "\u001b[1;31mValueError\u001b[0m                                Traceback (most recent call last)",
      "Cell \u001b[1;32mIn[126], line 2\u001b[0m\n\u001b[0;32m      1\u001b[0m e \u001b[38;5;241m=\u001b[39m numpy\u001b[38;5;241m.\u001b[39marray([\u001b[38;5;241m1\u001b[39m,\u001b[38;5;241m2\u001b[39m,\u001b[38;5;241m3\u001b[39m,\u001b[38;5;241m4\u001b[39m,\u001b[38;5;241m5\u001b[39m,\u001b[38;5;241m6\u001b[39m,\u001b[38;5;241m7\u001b[39m,\u001b[38;5;241m8\u001b[39m,\u001b[38;5;241m9\u001b[39m,\u001b[38;5;241m1\u001b[39m,\u001b[38;5;241m2\u001b[39m,\u001b[38;5;241m3\u001b[39m])\n\u001b[1;32m----> 2\u001b[0m f \u001b[38;5;241m=\u001b[39m \u001b[43me\u001b[49m\u001b[38;5;241;43m.\u001b[39;49m\u001b[43mreshape\u001b[49m\u001b[43m(\u001b[49m\u001b[38;5;241;43m4\u001b[39;49m\u001b[43m,\u001b[49m\u001b[38;5;241;43m2\u001b[39;49m\u001b[43m)\u001b[49m\n\u001b[0;32m      3\u001b[0m f\n",
      "\u001b[1;31mValueError\u001b[0m: cannot reshape array of size 12 into shape (4,2)"
     ]
    }
   ],
   "source": [
    "e = numpy.array([1,2,3,4,5,6,7,8,9,1,2,3])\n",
    "f = e.reshape(4,2)\n",
    "f"
   ]
  },
  {
   "cell_type": "code",
   "execution_count": 233,
   "id": "002e4a28",
   "metadata": {},
   "outputs": [
    {
     "data": {
      "text/plain": [
       "array([3, 4, 5, 7, 8, 9])"
      ]
     },
     "execution_count": 233,
     "metadata": {},
     "output_type": "execute_result"
    }
   ],
   "source": [
    "g = numpy.array([3,4,5,7,8,9])\n",
    "g"
   ]
  },
  {
   "cell_type": "code",
   "execution_count": 234,
   "id": "2dedba17",
   "metadata": {},
   "outputs": [
    {
     "data": {
      "text/plain": [
       "array([[3, 4, 5],\n",
       "       [7, 8, 9]])"
      ]
     },
     "execution_count": 234,
     "metadata": {},
     "output_type": "execute_result"
    }
   ],
   "source": [
    "h = g.reshape(2,3)\n",
    "h"
   ]
  },
  {
   "cell_type": "code",
   "execution_count": 235,
   "id": "ea2e40a5",
   "metadata": {},
   "outputs": [
    {
     "data": {
      "text/plain": [
       "2"
      ]
     },
     "execution_count": 235,
     "metadata": {},
     "output_type": "execute_result"
    }
   ],
   "source": [
    "h.ndim"
   ]
  },
  {
   "cell_type": "code",
   "execution_count": 236,
   "id": "d7dfd370",
   "metadata": {},
   "outputs": [
    {
     "data": {
      "text/plain": [
       "array([[[3, 4, 5],\n",
       "        [7, 8, 9]]])"
      ]
     },
     "execution_count": 236,
     "metadata": {},
     "output_type": "execute_result"
    }
   ],
   "source": [
    "g.reshape(1,2,3)"
   ]
  },
  {
   "cell_type": "code",
   "execution_count": 237,
   "id": "e8180dca",
   "metadata": {},
   "outputs": [
    {
     "data": {
      "text/plain": [
       "array([[[3, 4, 5]],\n",
       "\n",
       "       [[7, 8, 9]]])"
      ]
     },
     "execution_count": 237,
     "metadata": {},
     "output_type": "execute_result"
    }
   ],
   "source": [
    "h = g.reshape(2,1,3)\n",
    "h"
   ]
  },
  {
   "cell_type": "code",
   "execution_count": 238,
   "id": "dc4d17ba",
   "metadata": {},
   "outputs": [
    {
     "data": {
      "text/plain": [
       "3"
      ]
     },
     "execution_count": 238,
     "metadata": {},
     "output_type": "execute_result"
    }
   ],
   "source": [
    "h.ndim"
   ]
  },
  {
   "cell_type": "code",
   "execution_count": 239,
   "id": "3e136c6c",
   "metadata": {},
   "outputs": [
    {
     "data": {
      "text/plain": [
       "array([[7, 8, 9]])"
      ]
     },
     "execution_count": 239,
     "metadata": {},
     "output_type": "execute_result"
    }
   ],
   "source": [
    "h[1]"
   ]
  },
  {
   "cell_type": "code",
   "execution_count": 240,
   "id": "029116e3",
   "metadata": {},
   "outputs": [
    {
     "data": {
      "text/plain": [
       "array([7, 8, 9])"
      ]
     },
     "execution_count": 240,
     "metadata": {},
     "output_type": "execute_result"
    }
   ],
   "source": [
    "h[1,0]"
   ]
  },
  {
   "cell_type": "code",
   "execution_count": null,
   "id": "a925bc7f",
   "metadata": {},
   "outputs": [],
   "source": [
    "#Broadcasting"
   ]
  },
  {
   "cell_type": "code",
   "execution_count": 241,
   "id": "2c2973f2",
   "metadata": {},
   "outputs": [
    {
     "data": {
      "text/plain": [
       "array([ 7,  8, 10, 11, 12])"
      ]
     },
     "execution_count": 241,
     "metadata": {},
     "output_type": "execute_result"
    }
   ],
   "source": [
    "a = numpy.array([2,3,5,6,7])\n",
    "b = numpy.array([5])\n",
    "a+b"
   ]
  },
  {
   "cell_type": "code",
   "execution_count": 242,
   "id": "a315ddba",
   "metadata": {},
   "outputs": [
    {
     "data": {
      "text/plain": [
       "(2, 2)"
      ]
     },
     "execution_count": 242,
     "metadata": {},
     "output_type": "execute_result"
    }
   ],
   "source": [
    "a = numpy.array([[2,3],[4,5]])\n",
    "a.shape"
   ]
  },
  {
   "cell_type": "code",
   "execution_count": null,
   "id": "09d21e6f",
   "metadata": {},
   "outputs": [],
   "source": []
  }
 ],
 "metadata": {
  "kernelspec": {
   "display_name": "Python 3 (ipykernel)",
   "language": "python",
   "name": "python3"
  },
  "language_info": {
   "codemirror_mode": {
    "name": "ipython",
    "version": 3
   },
   "file_extension": ".py",
   "mimetype": "text/x-python",
   "name": "python",
   "nbconvert_exporter": "python",
   "pygments_lexer": "ipython3",
   "version": "3.11.4"
  }
 },
 "nbformat": 4,
 "nbformat_minor": 5
}
