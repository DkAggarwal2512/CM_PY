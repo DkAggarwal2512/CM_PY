{
 "cells": [
  {
   "cell_type": "code",
   "execution_count": 1,
   "id": "fa7226fc",
   "metadata": {},
   "outputs": [
    {
     "data": {
      "text/plain": [
       "list"
      ]
     },
     "execution_count": 1,
     "metadata": {},
     "output_type": "execute_result"
    }
   ],
   "source": []
  },
  {
   "cell_type": "code",
   "execution_count": 1,
   "id": "4dae63c7",
   "metadata": {},
   "outputs": [
    {
     "data": {
      "text/plain": [
       "list"
      ]
     },
     "execution_count": 1,
     "metadata": {},
     "output_type": "execute_result"
    }
   ],
   "source": [
    "a =[1,5,8,6]\n",
    "type(a)"
   ]
  },
  {
   "cell_type": "code",
   "execution_count": 2,
   "id": "1d12091c",
   "metadata": {},
   "outputs": [],
   "source": [
    "import numpy"
   ]
  },
  {
   "cell_type": "code",
   "execution_count": 27,
   "id": "32e02bf8",
   "metadata": {},
   "outputs": [],
   "source": [
    "import numpy as np\n",
    "# abcd.__version__"
   ]
  },
  {
   "cell_type": "code",
   "execution_count": 28,
   "id": "0abb6f2e",
   "metadata": {},
   "outputs": [],
   "source": [
    "arr0 = np.array(5)"
   ]
  },
  {
   "cell_type": "code",
   "execution_count": 29,
   "id": "a681cd29",
   "metadata": {},
   "outputs": [
    {
     "name": "stdout",
     "output_type": "stream",
     "text": [
      "5\n"
     ]
    }
   ],
   "source": [
    "print(arr0)"
   ]
  },
  {
   "cell_type": "code",
   "execution_count": 30,
   "id": "a57033a8",
   "metadata": {},
   "outputs": [
    {
     "data": {
      "text/plain": [
       "numpy.ndarray"
      ]
     },
     "execution_count": 30,
     "metadata": {},
     "output_type": "execute_result"
    }
   ],
   "source": [
    "type(arr0)"
   ]
  },
  {
   "cell_type": "code",
   "execution_count": 31,
   "id": "0f84af6b",
   "metadata": {},
   "outputs": [
    {
     "data": {
      "text/plain": [
       "0"
      ]
     },
     "execution_count": 31,
     "metadata": {},
     "output_type": "execute_result"
    }
   ],
   "source": [
    "arr0.ndim"
   ]
  },
  {
   "cell_type": "code",
   "execution_count": 32,
   "id": "a9a9e83b",
   "metadata": {},
   "outputs": [
    {
     "name": "stdout",
     "output_type": "stream",
     "text": [
      "[5 6 9 8]\n"
     ]
    },
    {
     "data": {
      "text/plain": [
       "1"
      ]
     },
     "execution_count": 32,
     "metadata": {},
     "output_type": "execute_result"
    }
   ],
   "source": [
    "arr1 = np.array([5,6,9,8])\n",
    "print(arr1)\n",
    "type(arr1)\n",
    "arr1.ndim"
   ]
  },
  {
   "cell_type": "code",
   "execution_count": 33,
   "id": "42fa444c",
   "metadata": {},
   "outputs": [
    {
     "name": "stdout",
     "output_type": "stream",
     "text": [
      "[5 6 9 9]\n",
      "<class 'numpy.ndarray'>\n",
      "1\n"
     ]
    }
   ],
   "source": [
    "a1 =np.array([5,6,9,9])\n",
    "print(a1)\n",
    "print(type(a1))\n",
    "print(a1.ndim)"
   ]
  },
  {
   "cell_type": "code",
   "execution_count": 34,
   "id": "c8908d39",
   "metadata": {},
   "outputs": [
    {
     "name": "stdout",
     "output_type": "stream",
     "text": [
      "['a' 's' 'f' '8']\n",
      "<class 'numpy.ndarray'>\n"
     ]
    }
   ],
   "source": [
    "a2 = np.array(['a','s','f',8])\n",
    "print(a2)\n",
    "print(type(a2))"
   ]
  },
  {
   "cell_type": "code",
   "execution_count": 35,
   "id": "84748ded",
   "metadata": {},
   "outputs": [
    {
     "name": "stdout",
     "output_type": "stream",
     "text": [
      "[[5 8 9 6]\n",
      " [8 9 5 6]]\n",
      "<class 'numpy.ndarray'>\n"
     ]
    }
   ],
   "source": [
    "arr2 = np.array([\n",
    "    [5,8,9,6],\n",
    "    [8,9,5,6]\n",
    "\n",
    "])\n",
    "print(arr2)\n",
    "print(type(arr2))"
   ]
  },
  {
   "cell_type": "code",
   "execution_count": 36,
   "id": "6ee8a11f",
   "metadata": {},
   "outputs": [
    {
     "data": {
      "text/plain": [
       "3"
      ]
     },
     "execution_count": 36,
     "metadata": {},
     "output_type": "execute_result"
    }
   ],
   "source": [
    "arr3 =np.array([[[5,9,6,8]]])\n",
    "arr3.ndim"
   ]
  },
  {
   "cell_type": "code",
   "execution_count": 37,
   "id": "a770600d",
   "metadata": {},
   "outputs": [],
   "source": [
    "import pandas"
   ]
  },
  {
   "cell_type": "code",
   "execution_count": 38,
   "id": "967c2a2c",
   "metadata": {},
   "outputs": [
    {
     "name": "stdout",
     "output_type": "stream",
     "text": [
      "7\n",
      "<class 'numpy.ndarray'>\n",
      "0\n"
     ]
    }
   ],
   "source": [
    "import numpy as np\n",
    "a = np.array(7)\n",
    "print (a)\n",
    "print(type(a))\n",
    "print(a.ndim)"
   ]
  },
  {
   "cell_type": "code",
   "execution_count": 39,
   "id": "85459e8a",
   "metadata": {},
   "outputs": [
    {
     "name": "stdout",
     "output_type": "stream",
     "text": [
      "[8 9 5 6 5]\n",
      "<class 'numpy.ndarray'>\n",
      "1\n"
     ]
    }
   ],
   "source": [
    "b = np.array([8,9,5,6,5])\n",
    "print(b)\n",
    "print(type(b))\n",
    "print(b.ndim)\n"
   ]
  },
  {
   "cell_type": "code",
   "execution_count": 40,
   "id": "5a4bf075",
   "metadata": {},
   "outputs": [
    {
     "name": "stdout",
     "output_type": "stream",
     "text": [
      "<class 'numpy.ndarray'>\n",
      "<class 'list'>\n"
     ]
    }
   ],
   "source": [
    "my_list =[]\n",
    "c = np.array(my_list)\n",
    "print(type(c))\n",
    "print(type(my_list))"
   ]
  },
  {
   "cell_type": "code",
   "execution_count": 41,
   "id": "a55661f7",
   "metadata": {},
   "outputs": [
    {
     "name": "stdout",
     "output_type": "stream",
     "text": [
      "elements:52\n",
      "[52]\n",
      "<class 'numpy.ndarray'>\n",
      "[52]\n",
      "elements:52\n",
      "[52 52]\n",
      "<class 'numpy.ndarray'>\n",
      "[52, 52]\n",
      "elements:52\n",
      "[52 52 52]\n",
      "<class 'numpy.ndarray'>\n",
      "[52, 52, 52]\n",
      "elements:63\n",
      "[52 52 52 63]\n",
      "<class 'numpy.ndarray'>\n",
      "[52, 52, 52, 63]\n"
     ]
    }
   ],
   "source": [
    "for i in range(1,5):\n",
    "    x = int(input('elements:'))\n",
    "    my_list.append(x)\n",
    "    d = np.array(my_list)\n",
    "    print(d)\n",
    "    print(type(d))\n",
    "    print(my_list)"
   ]
  },
  {
   "cell_type": "code",
   "execution_count": 42,
   "id": "7398f87b",
   "metadata": {},
   "outputs": [
    {
     "name": "stdout",
     "output_type": "stream",
     "text": [
      "[0. 0. 0. 0.]\n"
     ]
    }
   ],
   "source": [
    "e = np.zeros(4)\n",
    "print(e)"
   ]
  },
  {
   "cell_type": "code",
   "execution_count": 43,
   "id": "dc5e59c8",
   "metadata": {},
   "outputs": [
    {
     "name": "stdout",
     "output_type": "stream",
     "text": [
      "[1. 1. 1. 1. 1. 1.]\n"
     ]
    }
   ],
   "source": [
    "f = np.ones(6)\n",
    "print(f)"
   ]
  },
  {
   "cell_type": "code",
   "execution_count": 44,
   "id": "18433a17",
   "metadata": {},
   "outputs": [
    {
     "name": "stdout",
     "output_type": "stream",
     "text": [
      "[0 1 2 3 4 5 6 7 8]\n",
      "<class 'numpy.ndarray'>\n"
     ]
    }
   ],
   "source": [
    "g = np.arange(9)\n",
    "print(g)\n",
    "print(type(g))"
   ]
  },
  {
   "cell_type": "code",
   "execution_count": 45,
   "id": "5b888163",
   "metadata": {},
   "outputs": [
    {
     "data": {
      "text/plain": [
       "array([ 0., 10.])"
      ]
     },
     "execution_count": 45,
     "metadata": {},
     "output_type": "execute_result"
    }
   ],
   "source": [
    "#Spacial\n",
    "j = np.linspace(0,10, num= 2)\n",
    "j"
   ]
  },
  {
   "cell_type": "code",
   "execution_count": 46,
   "id": "61014d1a",
   "metadata": {},
   "outputs": [
    {
     "data": {
      "text/plain": [
       "array([0.5064164 , 0.65588167, 0.13683876, 0.86935419])"
      ]
     },
     "execution_count": 46,
     "metadata": {},
     "output_type": "execute_result"
    }
   ],
   "source": [
    "k = np.random.rand(4)\n",
    "k"
   ]
  },
  {
   "cell_type": "code",
   "execution_count": 47,
   "id": "9042d937",
   "metadata": {},
   "outputs": [
    {
     "data": {
      "text/plain": [
       "array([0.26570139, 0.51425191, 0.9318007 , 0.30995579])"
      ]
     },
     "execution_count": 47,
     "metadata": {},
     "output_type": "execute_result"
    }
   ],
   "source": [
    "k = np.random.rand(4)\n",
    "k"
   ]
  },
  {
   "cell_type": "code",
   "execution_count": 48,
   "id": "9521f232",
   "metadata": {},
   "outputs": [
    {
     "data": {
      "text/plain": [
       "array([-0.01454436, -2.34098551, -0.22423949, -1.24888809])"
      ]
     },
     "execution_count": 48,
     "metadata": {},
     "output_type": "execute_result"
    }
   ],
   "source": [
    "#( - -> +1)\n",
    "l =np.random.randn(4)\n",
    "l"
   ]
  },
  {
   "cell_type": "code",
   "execution_count": 49,
   "id": "9996e58b",
   "metadata": {},
   "outputs": [
    {
     "data": {
      "text/plain": [
       "array([0.70275407, 0.83779804, 0.34202579, 0.70970157])"
      ]
     },
     "execution_count": 49,
     "metadata": {},
     "output_type": "execute_result"
    }
   ],
   "source": [
    "m =np.random.ranf(4)\n",
    "m"
   ]
  },
  {
   "cell_type": "code",
   "execution_count": 50,
   "id": "2a4cfc39",
   "metadata": {},
   "outputs": [
    {
     "data": {
      "text/plain": [
       "array([27, 49, 29, 38, 25, 14])"
      ]
     },
     "execution_count": 50,
     "metadata": {},
     "output_type": "execute_result"
    }
   ],
   "source": [
    "#(start, stop, count)\n",
    "n =np.random.randint(4,50,6)\n",
    "n"
   ]
  },
  {
   "cell_type": "code",
   "execution_count": 51,
   "id": "c59552af",
   "metadata": {},
   "outputs": [
    {
     "data": {
      "text/plain": [
       "array([ 100.,  550., 1000.])"
      ]
     },
     "execution_count": 51,
     "metadata": {},
     "output_type": "execute_result"
    }
   ],
   "source": [
    "#(min ,max , count )\n",
    "o = np.linspace(100,1000, num = 3)\n",
    "o"
   ]
  },
  {
   "cell_type": "code",
   "execution_count": 52,
   "id": "434bd8d6",
   "metadata": {},
   "outputs": [
    {
     "data": {
      "text/plain": [
       "dtype('float64')"
      ]
     },
     "execution_count": 52,
     "metadata": {},
     "output_type": "execute_result"
    }
   ],
   "source": [
    "o.dtype"
   ]
  },
  {
   "cell_type": "code",
   "execution_count": 53,
   "id": "9345f9c9",
   "metadata": {},
   "outputs": [
    {
     "data": {
      "text/plain": [
       "dtype('float64')"
      ]
     },
     "execution_count": 53,
     "metadata": {},
     "output_type": "execute_result"
    }
   ],
   "source": [
    "m.dtype"
   ]
  },
  {
   "cell_type": "code",
   "execution_count": 54,
   "id": "e92f5ea4",
   "metadata": {},
   "outputs": [
    {
     "data": {
      "text/plain": [
       "dtype('int32')"
      ]
     },
     "execution_count": 54,
     "metadata": {},
     "output_type": "execute_result"
    }
   ],
   "source": [
    "n.dtype"
   ]
  },
  {
   "cell_type": "code",
   "execution_count": 55,
   "id": "e748896a",
   "metadata": {},
   "outputs": [
    {
     "data": {
      "text/plain": [
       "dtype('float64')"
      ]
     },
     "execution_count": 55,
     "metadata": {},
     "output_type": "execute_result"
    }
   ],
   "source": [
    "l.dtype"
   ]
  },
  {
   "cell_type": "code",
   "execution_count": 56,
   "id": "6bf8493e",
   "metadata": {},
   "outputs": [
    {
     "data": {
      "text/plain": [
       "dtype('float64')"
      ]
     },
     "execution_count": 56,
     "metadata": {},
     "output_type": "execute_result"
    }
   ],
   "source": [
    " j.dtype    "
   ]
  },
  {
   "cell_type": "code",
   "execution_count": 57,
   "id": "8fb6a0fb",
   "metadata": {},
   "outputs": [
    {
     "data": {
      "text/plain": [
       "dtype('float64')"
      ]
     },
     "execution_count": 57,
     "metadata": {},
     "output_type": "execute_result"
    }
   ],
   "source": [
    "c.dtype"
   ]
  },
  {
   "cell_type": "code",
   "execution_count": 58,
   "id": "d99810b0",
   "metadata": {},
   "outputs": [
    {
     "data": {
      "text/plain": [
       "dtype('float64')"
      ]
     },
     "execution_count": 58,
     "metadata": {},
     "output_type": "execute_result"
    }
   ],
   "source": [
    "e.dtype"
   ]
  },
  {
   "cell_type": "code",
   "execution_count": 59,
   "id": "bb00dfd2",
   "metadata": {},
   "outputs": [
    {
     "data": {
      "text/plain": [
       "array(['Seema', 'Manisha', 'Pooja'], dtype='<U7')"
      ]
     },
     "execution_count": 59,
     "metadata": {},
     "output_type": "execute_result"
    }
   ],
   "source": [
    "r = np.array(['Seema','Manisha','Pooja'])\n",
    "r"
   ]
  },
  {
   "cell_type": "code",
   "execution_count": 60,
   "id": "4c8069c8",
   "metadata": {},
   "outputs": [
    {
     "data": {
      "text/plain": [
       "dtype('<U1')"
      ]
     },
     "execution_count": 60,
     "metadata": {},
     "output_type": "execute_result"
    }
   ],
   "source": [
    "s = np.array(['A'])\n",
    "s.dtype"
   ]
  },
  {
   "cell_type": "code",
   "execution_count": 61,
   "id": "b74f9753",
   "metadata": {},
   "outputs": [
    {
     "data": {
      "text/plain": [
       "dtype('bool')"
      ]
     },
     "execution_count": 61,
     "metadata": {},
     "output_type": "execute_result"
    }
   ],
   "source": [
    "t = np.array([True])\n",
    "t.dtype"
   ]
  },
  {
   "cell_type": "code",
   "execution_count": 62,
   "id": "78f91bce",
   "metadata": {},
   "outputs": [
    {
     "data": {
      "text/plain": [
       "dtype('int32')"
      ]
     },
     "execution_count": 62,
     "metadata": {},
     "output_type": "execute_result"
    }
   ],
   "source": [
    "u = np.array([456])\n",
    "u.dtype"
   ]
  },
  {
   "cell_type": "code",
   "execution_count": 63,
   "id": "cb9e7c25",
   "metadata": {},
   "outputs": [
    {
     "data": {
      "text/plain": [
       "dtype('int32')"
      ]
     },
     "execution_count": 63,
     "metadata": {},
     "output_type": "execute_result"
    }
   ],
   "source": [
    "v = np.array([-56845])\n",
    "v.dtype"
   ]
  },
  {
   "cell_type": "code",
   "execution_count": 64,
   "id": "8782d862",
   "metadata": {},
   "outputs": [
    {
     "data": {
      "text/plain": [
       "dtype('complex128')"
      ]
     },
     "execution_count": 64,
     "metadata": {},
     "output_type": "execute_result"
    }
   ],
   "source": [
    "w = np.array([2+3j])\n",
    "w.dtype"
   ]
  },
  {
   "cell_type": "code",
   "execution_count": 65,
   "id": "a06431e3",
   "metadata": {},
   "outputs": [
    {
     "data": {
      "text/plain": [
       "dtype('<U11')"
      ]
     },
     "execution_count": 65,
     "metadata": {},
     "output_type": "execute_result"
    }
   ],
   "source": [
    "x = np.array(['a','s','w','f',5,6,9,5, False])\n",
    "x.dtype"
   ]
  },
  {
   "cell_type": "code",
   "execution_count": 66,
   "id": "78c8a69f",
   "metadata": {},
   "outputs": [
    {
     "name": "stdout",
     "output_type": "stream",
     "text": [
      "[5 6 8 9]\n",
      "int32\n"
     ]
    }
   ],
   "source": [
    "y = np.array([5,6,8,9], dtype= np.int_)\n",
    "print(y)\n",
    "print(y.dtype)"
   ]
  },
  {
   "cell_type": "code",
   "execution_count": 67,
   "id": "a142ad56",
   "metadata": {},
   "outputs": [
    {
     "name": "stdout",
     "output_type": "stream",
     "text": [
      "[5. 6. 8. 9.]\n",
      "float64\n"
     ]
    }
   ],
   "source": [
    "y = np.array([5,6,8,9], dtype= np.float_)\n",
    "print(y)\n",
    "print(y.dtype)"
   ]
  },
  {
   "cell_type": "code",
   "execution_count": 68,
   "id": "24db433a",
   "metadata": {},
   "outputs": [
    {
     "name": "stdout",
     "output_type": "stream",
     "text": [
      "[5 8 6 8]\n",
      "int32\n"
     ]
    }
   ],
   "source": [
    "z = np.array([5,8,6,8.5], dtype = np.int_)\n",
    "print(z)\n",
    "print(z.dtype)"
   ]
  },
  {
   "cell_type": "code",
   "execution_count": 69,
   "id": "7aa389b6",
   "metadata": {},
   "outputs": [
    {
     "name": "stdout",
     "output_type": "stream",
     "text": [
      "[5. 6. 8. 9.]\n",
      "float32\n"
     ]
    }
   ],
   "source": [
    "a = np.float32(y)\n",
    "print(a)\n",
    "print(a.dtype)"
   ]
  },
  {
   "cell_type": "code",
   "execution_count": 70,
   "id": "71704817",
   "metadata": {},
   "outputs": [],
   "source": [
    "# list $ array-> datatype()\n"
   ]
  },
  {
   "cell_type": "code",
   "execution_count": 71,
   "id": "de2a07bd",
   "metadata": {},
   "outputs": [
    {
     "data": {
      "text/plain": [
       "list"
      ]
     },
     "execution_count": 71,
     "metadata": {},
     "output_type": "execute_result"
    }
   ],
   "source": [
    "a =[]\n",
    "type(a)"
   ]
  },
  {
   "cell_type": "code",
   "execution_count": 72,
   "id": "642dc6b7",
   "metadata": {},
   "outputs": [
    {
     "data": {
      "text/plain": [
       "[1, 4, 9, 16, 25, 36, 49, 64, 81, 100, 121, 144, 169, 196]"
      ]
     },
     "execution_count": 72,
     "metadata": {},
     "output_type": "execute_result"
    }
   ],
   "source": [
    "b =[i**2 for i in range(1,15)]\n",
    "b"
   ]
  },
  {
   "cell_type": "code",
   "execution_count": 84,
   "id": "ddc3607f",
   "metadata": {},
   "outputs": [
    {
     "name": "stdout",
     "output_type": "stream",
     "text": [
      "929 ns ± 3.68 ns per loop (mean ± std. dev. of 7 runs, 1,000,000 loops each)\n"
     ]
    }
   ],
   "source": [
    "%timeit [i**2 for i in range(1,15)]"
   ]
  },
  {
   "cell_type": "code",
   "execution_count": 85,
   "id": "79737618",
   "metadata": {},
   "outputs": [
    {
     "name": "stdout",
     "output_type": "stream",
     "text": [
      "1.12 µs ± 32.9 ns per loop (mean ± std. dev. of 7 runs, 1,000,000 loops each)\n"
     ]
    }
   ],
   "source": [
    "import numpy as np\n",
    "%timeit np.arange(1,15)**2"
   ]
  },
  {
   "cell_type": "code",
   "execution_count": 86,
   "id": "61c27724",
   "metadata": {},
   "outputs": [
    {
     "name": "stdout",
     "output_type": "stream",
     "text": [
      "1.36 µs ± 24.9 ns per loop (mean ± std. dev. of 7 runs, 1,000,000 loops each)\n"
     ]
    }
   ],
   "source": [
    "%timeit [x**3 for x in range(1,20)]"
   ]
  },
  {
   "cell_type": "code",
   "execution_count": 142,
   "id": "2c99dbd7",
   "metadata": {},
   "outputs": [],
   "source": [
    "import numpy as np"
   ]
  },
  {
   "cell_type": "code",
   "execution_count": null,
   "id": "652a60fc",
   "metadata": {},
   "outputs": [],
   "source": [
    "%timeit np.arange(1,20)**3"
   ]
  },
  {
   "cell_type": "code",
   "execution_count": 89,
   "id": "6ae7acf5",
   "metadata": {},
   "outputs": [
    {
     "name": "stdout",
     "output_type": "stream",
     "text": [
      "521 ns ± 0.946 ns per loop (mean ± std. dev. of 7 runs, 1,000,000 loops each)\n"
     ]
    }
   ],
   "source": [
    "%timeit np.arange(1,15)"
   ]
  },
  {
   "cell_type": "code",
   "execution_count": 90,
   "id": "e02e1b6d",
   "metadata": {},
   "outputs": [
    {
     "data": {
      "text/plain": [
       "array([  1,   4,   9,  16,  25,  36,  49,  64,  81, 100, 121, 144, 169,\n",
       "       196])"
      ]
     },
     "execution_count": 90,
     "metadata": {},
     "output_type": "execute_result"
    }
   ],
   "source": [
    "np.arange(1,15)**2"
   ]
  },
  {
   "cell_type": "code",
   "execution_count": 91,
   "id": "f4b3eb32",
   "metadata": {},
   "outputs": [
    {
     "data": {
      "text/plain": [
       "2"
      ]
     },
     "execution_count": 91,
     "metadata": {},
     "output_type": "execute_result"
    }
   ],
   "source": [
    "a =np.array([\n",
    "    [8,2],[5,6],[6,5]\n",
    "])\n",
    "a.ndim"
   ]
  },
  {
   "cell_type": "code",
   "execution_count": 92,
   "id": "ab2e2ec2",
   "metadata": {},
   "outputs": [
    {
     "data": {
      "text/plain": [
       "[5, 8, 9]"
      ]
     },
     "execution_count": 92,
     "metadata": {},
     "output_type": "execute_result"
    }
   ],
   "source": [
    "d =[[[[5,8,9]]]]\n",
    "d[0][0][0]"
   ]
  },
  {
   "cell_type": "code",
   "execution_count": 93,
   "id": "1720506b",
   "metadata": {},
   "outputs": [
    {
     "data": {
      "text/plain": [
       "3"
      ]
     },
     "execution_count": 93,
     "metadata": {},
     "output_type": "execute_result"
    }
   ],
   "source": [
    "b =np.array([[[]]])\n",
    "b.ndim"
   ]
  },
  {
   "cell_type": "code",
   "execution_count": 94,
   "id": "940e5367",
   "metadata": {},
   "outputs": [
    {
     "data": {
      "text/plain": [
       "[[5, 6, 2, 5, 'Seema']]"
      ]
     },
     "execution_count": 94,
     "metadata": {},
     "output_type": "execute_result"
    }
   ],
   "source": [
    "c =[[5,6,2,5,'Seema']]\n",
    "c"
   ]
  },
  {
   "cell_type": "code",
   "execution_count": 95,
   "id": "49da31a9",
   "metadata": {},
   "outputs": [
    {
     "data": {
      "text/plain": [
       "'a'"
      ]
     },
     "execution_count": 95,
     "metadata": {},
     "output_type": "execute_result"
    }
   ],
   "source": [
    "d =[[[[5,9,8],['a','b','c']]]]\n",
    "d[0][0][1][0]"
   ]
  },
  {
   "cell_type": "code",
   "execution_count": 96,
   "id": "1e529f13",
   "metadata": {},
   "outputs": [
    {
     "data": {
      "text/plain": [
       "4"
      ]
     },
     "execution_count": 96,
     "metadata": {},
     "output_type": "execute_result"
    }
   ],
   "source": [
    "e =np.array([[[[8,5,8]]]])\n",
    "e.ndim"
   ]
  },
  {
   "cell_type": "code",
   "execution_count": 97,
   "id": "05c41a69",
   "metadata": {},
   "outputs": [
    {
     "data": {
      "text/plain": [
       "10"
      ]
     },
     "execution_count": 97,
     "metadata": {},
     "output_type": "execute_result"
    }
   ],
   "source": [
    "f =np.array([[[[[[[[[[8,5,8,5]]]]]]]]]])\n",
    "f.ndim"
   ]
  },
  {
   "cell_type": "code",
   "execution_count": 98,
   "id": "c2c7966a",
   "metadata": {},
   "outputs": [
    {
     "data": {
      "text/plain": [
       "1"
      ]
     },
     "execution_count": 98,
     "metadata": {},
     "output_type": "execute_result"
    }
   ],
   "source": [
    "g = np.arange(3,3)\n",
    "g\n",
    "g.ndim"
   ]
  },
  {
   "cell_type": "code",
   "execution_count": 99,
   "id": "02b12440",
   "metadata": {},
   "outputs": [
    {
     "data": {
      "text/plain": [
       "array([[0., 0., 0.],\n",
       "       [0., 0., 0.],\n",
       "       [0., 0., 0.]])"
      ]
     },
     "execution_count": 99,
     "metadata": {},
     "output_type": "execute_result"
    }
   ],
   "source": [
    "h =np.zeros((3,3))\n",
    "h\n"
   ]
  },
  {
   "cell_type": "code",
   "execution_count": 100,
   "id": "6acada94",
   "metadata": {},
   "outputs": [
    {
     "data": {
      "text/plain": [
       "array([[1., 1., 1.],\n",
       "       [1., 1., 1.],\n",
       "       [1., 1., 1.]])"
      ]
     },
     "execution_count": 100,
     "metadata": {},
     "output_type": "execute_result"
    }
   ],
   "source": [
    "i =np.ones((3,3))\n",
    "i"
   ]
  },
  {
   "cell_type": "code",
   "execution_count": 101,
   "id": "41b21687",
   "metadata": {},
   "outputs": [
    {
     "data": {
      "text/plain": [
       "array([[1., 0., 0., 0.],\n",
       "       [0., 1., 0., 0.],\n",
       "       [0., 0., 1., 0.],\n",
       "       [0., 0., 0., 1.]])"
      ]
     },
     "execution_count": 101,
     "metadata": {},
     "output_type": "execute_result"
    }
   ],
   "source": [
    "j = np.eye(4)\n",
    "j"
   ]
  },
  {
   "cell_type": "code",
   "execution_count": 102,
   "id": "2c34156c",
   "metadata": {},
   "outputs": [
    {
     "name": "stdout",
     "output_type": "stream",
     "text": [
      "[[1. 0. 0. 0. 0. 0.]\n",
      " [0. 1. 0. 0. 0. 0.]\n",
      " [0. 0. 1. 0. 0. 0.]\n",
      " [0. 0. 0. 1. 0. 0.]]\n"
     ]
    },
    {
     "data": {
      "text/plain": [
       "2"
      ]
     },
     "execution_count": 102,
     "metadata": {},
     "output_type": "execute_result"
    }
   ],
   "source": [
    "k =np.eye(4,6)\n",
    "print(k)\n",
    "k.ndim"
   ]
  },
  {
   "cell_type": "code",
   "execution_count": 103,
   "id": "a67134be",
   "metadata": {},
   "outputs": [
    {
     "name": "stdout",
     "output_type": "stream",
     "text": [
      "[[0.98811348 0.88331941 0.42343603 0.90413059]\n",
      " [0.91006411 0.69058905 0.95334515 0.00936687]\n",
      " [0.43209044 0.01285039 0.76401316 0.23125042]]\n",
      "<class 'numpy.ndarray'>\n"
     ]
    }
   ],
   "source": [
    "l =np.random.rand(3,4)\n",
    "print(l)\n",
    "print(type(l))"
   ]
  },
  {
   "cell_type": "code",
   "execution_count": 104,
   "id": "c0c5691b",
   "metadata": {},
   "outputs": [
    {
     "data": {
      "text/plain": [
       "array([0, 8, 1, 0, 0])"
      ]
     },
     "execution_count": 104,
     "metadata": {},
     "output_type": "execute_result"
    }
   ],
   "source": [
    "m =np.random.randint((2,10,2,2,2))\n",
    "m"
   ]
  },
  {
   "cell_type": "code",
   "execution_count": 105,
   "id": "37676c3e",
   "metadata": {},
   "outputs": [
    {
     "data": {
      "text/plain": [
       "1"
      ]
     },
     "execution_count": 105,
     "metadata": {},
     "output_type": "execute_result"
    }
   ],
   "source": [
    "a =[np.random.randint(2,8)]\n",
    "b = np.array(a)\n",
    "b.ndim"
   ]
  },
  {
   "cell_type": "code",
   "execution_count": 106,
   "id": "d31388c8",
   "metadata": {},
   "outputs": [
    {
     "name": "stdout",
     "output_type": "stream",
     "text": [
      "1\n",
      "[[2 5 2 5]\n",
      " [8 9 6 8]]\n",
      "2\n"
     ]
    }
   ],
   "source": [
    "a = np.array([2,5,2,5,8,9,6,8])\n",
    "print(a.ndim)\n",
    "# dim 2d (m*n),3d (x*y)\n",
    "b = a.reshape(2,4)\n",
    "print(b)\n",
    "print(b.ndim)\n"
   ]
  },
  {
   "cell_type": "code",
   "execution_count": 107,
   "id": "d8a67e67",
   "metadata": {},
   "outputs": [
    {
     "name": "stdout",
     "output_type": "stream",
     "text": [
      "original dim: 1\n",
      "[[[2 5]\n",
      "  [2 5]\n",
      "  [8 9]]\n",
      "\n",
      " [[6 8]\n",
      "  [6 9]\n",
      "  [5 8]]]\n",
      "reshape dim: 3\n"
     ]
    }
   ],
   "source": [
    "a = np.array([2,5,2,5,8,9,6,8,6,9,5,8])\n",
    "print(\"original dim:\",a.ndim)\n",
    "b = a.reshape(2,3,2)\n",
    "print(b)\n",
    "print('reshape dim:',b.ndim)"
   ]
  },
  {
   "cell_type": "code",
   "execution_count": 108,
   "id": "1c201cd6",
   "metadata": {},
   "outputs": [
    {
     "data": {
      "text/plain": [
       "array([2, 5, 2, 5, 8, 9, 6, 8, 6, 9, 5, 8])"
      ]
     },
     "execution_count": 108,
     "metadata": {},
     "output_type": "execute_result"
    }
   ],
   "source": [
    "g= [[[100,200,300],['ad','bd'],[[[[5,8,2,4],[45,78,5],['a','b','e']]]]]]\n",
    "a"
   ]
  },
  {
   "cell_type": "code",
   "execution_count": 109,
   "id": "abc12ae4",
   "metadata": {},
   "outputs": [
    {
     "name": "stdout",
     "output_type": "stream",
     "text": [
      "[[5 8 8 8]\n",
      " [2 5 4 5]]\n",
      "(2, 4)\n",
      "\n"
     ]
    }
   ],
   "source": [
    "# shape\n",
    "import numpy\n",
    "a = numpy.array([[5,8,8,8],[2,5,4,5]])\n",
    "print(a)\n",
    "print(a.shape)\n",
    "print()"
   ]
  },
  {
   "cell_type": "code",
   "execution_count": 110,
   "id": "6a6dc238",
   "metadata": {},
   "outputs": [
    {
     "name": "stdout",
     "output_type": "stream",
     "text": [
      "(1, 1, 5)\n",
      "[[[5 8 9 6 4]]]\n"
     ]
    }
   ],
   "source": [
    "b =numpy.array([[[5,8,9,6,4]]])\n",
    "print(b.shape)\n",
    "print(b)\n"
   ]
  },
  {
   "cell_type": "code",
   "execution_count": 111,
   "id": "f7d30528",
   "metadata": {},
   "outputs": [
    {
     "data": {
      "text/plain": [
       "(3, 3)"
      ]
     },
     "execution_count": 111,
     "metadata": {},
     "output_type": "execute_result"
    }
   ],
   "source": [
    "d =numpy.array([[3,5,8],[5,8,6],[8,9,6]])\n",
    "d.shape\n",
    "#d.ndim"
   ]
  },
  {
   "cell_type": "code",
   "execution_count": 112,
   "id": "9620f6eb",
   "metadata": {},
   "outputs": [
    {
     "name": "stdout",
     "output_type": "stream",
     "text": [
      "(1, 4, 3)\n",
      "[[[5 8 2]\n",
      "  [6 9 7]\n",
      "  [8 9 6]\n",
      "  [8 9 3]]]\n",
      "3\n"
     ]
    }
   ],
   "source": [
    "e = numpy.array([[\n",
    "    [5,8,2],\n",
    "    [6,9,7],\n",
    "    [8,9,6],\n",
    "    [8,9,3]\n",
    "]])\n",
    "print(e.shape)\n",
    "print(e)\n",
    "print(e.ndim)"
   ]
  },
  {
   "cell_type": "code",
   "execution_count": 113,
   "id": "38313240",
   "metadata": {},
   "outputs": [
    {
     "data": {
      "text/plain": [
       "9"
      ]
     },
     "execution_count": 113,
     "metadata": {},
     "output_type": "execute_result"
    }
   ],
   "source": [
    "f =numpy.array([3,6,8,9,5])\n",
    "f[1]\n",
    "f[-2]"
   ]
  },
  {
   "cell_type": "code",
   "execution_count": 114,
   "id": "3e5aa022",
   "metadata": {},
   "outputs": [
    {
     "data": {
      "text/plain": [
       "5"
      ]
     },
     "execution_count": 114,
     "metadata": {},
     "output_type": "execute_result"
    }
   ],
   "source": [
    "g =numpy.array([\n",
    "    [8,6,9,5],\n",
    "    [5,8,9,6]\n",
    "])\n",
    "g[1,2]\n",
    "g [-2,-1]"
   ]
  },
  {
   "cell_type": "code",
   "execution_count": 115,
   "id": "058a11d2",
   "metadata": {},
   "outputs": [
    {
     "data": {
      "text/plain": [
       "array([6, 9, 8])"
      ]
     },
     "execution_count": 115,
     "metadata": {},
     "output_type": "execute_result"
    }
   ],
   "source": [
    "h = numpy.array([[\n",
    "    [5,6,2],\n",
    "[6,9,8]\n",
    "]])\n",
    "h.ndim\n",
    "h.shape\n",
    "h[0]\n",
    "h[0,1]"
   ]
  },
  {
   "cell_type": "code",
   "execution_count": 116,
   "id": "65d601d6",
   "metadata": {},
   "outputs": [
    {
     "data": {
      "text/plain": [
       "array([[ 9, 11,  9, 13],\n",
       "       [12, 17,  8, 11]])"
      ]
     },
     "execution_count": 116,
     "metadata": {},
     "output_type": "execute_result"
    }
   ],
   "source": [
    "a = numpy.array([[4,5,6,8],[4,8,2,6]])\n",
    "b = numpy.array([[5,6,3,5],[8,9,6,5]])\n",
    "a+b\n",
    "numpy.add(a,b)"
   ]
  },
  {
   "cell_type": "code",
   "execution_count": 117,
   "id": "0197a158",
   "metadata": {},
   "outputs": [
    {
     "data": {
      "text/plain": [
       "array([[20, 30, 18, 40],\n",
       "       [64, 54, 45, 40]])"
      ]
     },
     "execution_count": 117,
     "metadata": {},
     "output_type": "execute_result"
    }
   ],
   "source": [
    "a = numpy.array([[4,5,6,8],[8,9,5,8]])\n",
    "b = numpy.array([[5,6,3,5],[8,6,9,5]])\n",
    "a*b"
   ]
  },
  {
   "cell_type": "code",
   "execution_count": 118,
   "id": "61e15e8d",
   "metadata": {},
   "outputs": [
    {
     "data": {
      "text/plain": [
       "array([0.8       , 0.83333333, 2.        , 1.6       ])"
      ]
     },
     "execution_count": 118,
     "metadata": {},
     "output_type": "execute_result"
    }
   ],
   "source": [
    "a = numpy.array([4,5,6,8])\n",
    "b = numpy.array([5,6,3,5])\n",
    "a/b"
   ]
  },
  {
   "cell_type": "code",
   "execution_count": 119,
   "id": "bef54d2e",
   "metadata": {},
   "outputs": [
    {
     "data": {
      "text/plain": [
       "array([4, 5, 0, 3])"
      ]
     },
     "execution_count": 119,
     "metadata": {},
     "output_type": "execute_result"
    }
   ],
   "source": [
    "a = numpy.array([4,5,6,8])\n",
    "b = numpy.array([5,6,3,5])\n",
    "a%b"
   ]
  },
  {
   "cell_type": "code",
   "execution_count": 120,
   "id": "d815cb2f",
   "metadata": {},
   "outputs": [
    {
     "data": {
      "text/plain": [
       "array([[-1, -1,  3,  3],\n",
       "       [ 0,  3, -4,  3]])"
      ]
     },
     "execution_count": 120,
     "metadata": {},
     "output_type": "execute_result"
    }
   ],
   "source": [
    "a = numpy.array([[4,5,6,8],[8,9,5,8]])\n",
    "b = numpy.array([[5,6,3,5],[8,6,9,5]])\n",
    "a-b"
   ]
  },
  {
   "cell_type": "code",
   "execution_count": 121,
   "id": "57e33570",
   "metadata": {},
   "outputs": [
    {
     "data": {
      "text/plain": [
       "array([[ 1,  1, -3, -3],\n",
       "       [ 0, -3,  4, -3]])"
      ]
     },
     "execution_count": 121,
     "metadata": {},
     "output_type": "execute_result"
    }
   ],
   "source": [
    "b-a"
   ]
  },
  {
   "cell_type": "code",
   "execution_count": 122,
   "id": "f23e6efb",
   "metadata": {},
   "outputs": [
    {
     "data": {
      "text/plain": [
       "array([[20, 30, 18, 40],\n",
       "       [64, 54, 45, 40]])"
      ]
     },
     "execution_count": 122,
     "metadata": {},
     "output_type": "execute_result"
    }
   ],
   "source": [
    "a*b"
   ]
  },
  {
   "cell_type": "code",
   "execution_count": 123,
   "id": "65209252",
   "metadata": {},
   "outputs": [
    {
     "data": {
      "text/plain": [
       "array([[0, 0, 0, 0],\n",
       "       [0, 0, 0, 0]])"
      ]
     },
     "execution_count": 123,
     "metadata": {},
     "output_type": "execute_result"
    }
   ],
   "source": [
    "numpy.reciprocal(a)"
   ]
  },
  {
   "cell_type": "code",
   "execution_count": 124,
   "id": "c570a43d",
   "metadata": {},
   "outputs": [
    {
     "data": {
      "text/plain": [
       "array([1, 0, 0, 0])"
      ]
     },
     "execution_count": 124,
     "metadata": {},
     "output_type": "execute_result"
    }
   ],
   "source": [
    "s =numpy.array([1,8,9,14])\n",
    "1/s\n",
    "numpy.reciprocal(s)"
   ]
  },
  {
   "cell_type": "code",
   "execution_count": 125,
   "id": "f7a7451d",
   "metadata": {},
   "outputs": [
    {
     "name": "stdout",
     "output_type": "stream",
     "text": [
      "14\n",
      "3\n"
     ]
    }
   ],
   "source": [
    "print(numpy.max(s))\n",
    "print(numpy.argmax(s))"
   ]
  },
  {
   "cell_type": "code",
   "execution_count": 126,
   "id": "764c7504",
   "metadata": {},
   "outputs": [
    {
     "data": {
      "text/plain": [
       "array([1.        , 2.82842712, 3.        , 3.74165739])"
      ]
     },
     "execution_count": 126,
     "metadata": {},
     "output_type": "execute_result"
    }
   ],
   "source": [
    "numpy.sqrt(s)"
   ]
  },
  {
   "cell_type": "code",
   "execution_count": 127,
   "id": "d8f533d4",
   "metadata": {},
   "outputs": [
    {
     "data": {
      "text/plain": [
       "array([0.84147098, 0.98935825, 0.41211849, 0.99060736])"
      ]
     },
     "execution_count": 127,
     "metadata": {},
     "output_type": "execute_result"
    }
   ],
   "source": [
    "numpy.sin(s)"
   ]
  },
  {
   "cell_type": "code",
   "execution_count": 128,
   "id": "dad0095a",
   "metadata": {},
   "outputs": [
    {
     "data": {
      "text/plain": [
       "array([ 0.54030231, -0.14550003, -0.91113026,  0.13673722])"
      ]
     },
     "execution_count": 128,
     "metadata": {},
     "output_type": "execute_result"
    }
   ],
   "source": [
    "numpy.cos(s)"
   ]
  },
  {
   "cell_type": "code",
   "execution_count": 129,
   "id": "1145ad95",
   "metadata": {},
   "outputs": [
    {
     "data": {
      "text/plain": [
       "array([1, 0, 0, 0])"
      ]
     },
     "execution_count": 129,
     "metadata": {},
     "output_type": "execute_result"
    }
   ],
   "source": [
    "numpy.reciprocal(s)"
   ]
  },
  {
   "cell_type": "code",
   "execution_count": 130,
   "id": "d24912b1",
   "metadata": {},
   "outputs": [
    {
     "name": "stdout",
     "output_type": "stream",
     "text": [
      "1\n",
      "0\n"
     ]
    }
   ],
   "source": [
    "print(numpy.min(s))\n",
    "print(numpy.argmin(s))"
   ]
  },
  {
   "cell_type": "code",
   "execution_count": 131,
   "id": "8e20f7e2",
   "metadata": {},
   "outputs": [
    {
     "name": "stdout",
     "output_type": "stream",
     "text": [
      "7\n",
      "2\n"
     ]
    }
   ],
   "source": [
    "f = numpy.array([5,8,9,6,5,8,2,-6])\n",
    "print(numpy.argmin(f))\n",
    "print(numpy.argmax(f))\n",
    "\n"
   ]
  },
  {
   "cell_type": "code",
   "execution_count": 132,
   "id": "b771dfa7",
   "metadata": {},
   "outputs": [
    {
     "data": {
      "text/plain": [
       "array([ 5, 13, 22, 28, 33, 41, 43, 37])"
      ]
     },
     "execution_count": 132,
     "metadata": {},
     "output_type": "execute_result"
    }
   ],
   "source": [
    "numpy.cumsum(f)"
   ]
  },
  {
   "cell_type": "code",
   "execution_count": 133,
   "id": "bdcc9ca3",
   "metadata": {},
   "outputs": [
    {
     "data": {
      "text/plain": [
       "1"
      ]
     },
     "execution_count": 133,
     "metadata": {},
     "output_type": "execute_result"
    }
   ],
   "source": [
    "import numpy\n",
    "c = numpy.array([5,8,9,6])\n",
    "c.nbytes\n",
    "c.ndim"
   ]
  },
  {
   "cell_type": "code",
   "execution_count": 134,
   "id": "ba2b9251",
   "metadata": {},
   "outputs": [
    {
     "data": {
      "text/plain": [
       "array([[5, 8],\n",
       "       [9, 6]])"
      ]
     },
     "execution_count": 134,
     "metadata": {},
     "output_type": "execute_result"
    }
   ],
   "source": [
    "g =c.reshape(2,2)\n",
    "g"
   ]
  },
  {
   "cell_type": "code",
   "execution_count": 135,
   "id": "951530fd",
   "metadata": {},
   "outputs": [
    {
     "data": {
      "text/plain": [
       "array([[[2, 5],\n",
       "        [6, 8],\n",
       "        [9, 2],\n",
       "        [6, 3]]])"
      ]
     },
     "execution_count": 135,
     "metadata": {},
     "output_type": "execute_result"
    }
   ],
   "source": [
    "e = numpy.array([2,5,6,8,9,2,6,3])\n",
    "f =e.reshape(1,4,2)\n",
    "f\n"
   ]
  },
  {
   "cell_type": "code",
   "execution_count": 136,
   "id": "a694f823",
   "metadata": {},
   "outputs": [
    {
     "data": {
      "text/plain": [
       "array([[2, 8, 9],\n",
       "       [6, 4, 8]])"
      ]
     },
     "execution_count": 136,
     "metadata": {},
     "output_type": "execute_result"
    }
   ],
   "source": [
    "g =numpy.array([2,8,9,6,4,8])\n",
    "h=g.reshape(2,3)\n",
    "h"
   ]
  },
  {
   "cell_type": "code",
   "execution_count": 137,
   "id": "a503296b",
   "metadata": {},
   "outputs": [
    {
     "data": {
      "text/plain": [
       "2"
      ]
     },
     "execution_count": 137,
     "metadata": {},
     "output_type": "execute_result"
    }
   ],
   "source": [
    "h.ndim"
   ]
  },
  {
   "cell_type": "code",
   "execution_count": 138,
   "id": "68257cef",
   "metadata": {},
   "outputs": [
    {
     "data": {
      "text/plain": [
       "array([[[2, 8, 9]],\n",
       "\n",
       "       [[6, 4, 8]]])"
      ]
     },
     "execution_count": 138,
     "metadata": {},
     "output_type": "execute_result"
    }
   ],
   "source": [
    "g.reshape(2,1,3)"
   ]
  },
  {
   "cell_type": "code",
   "execution_count": 139,
   "id": "ca78befd",
   "metadata": {},
   "outputs": [
    {
     "data": {
      "text/plain": [
       "array([ 9,  7, 10,  6])"
      ]
     },
     "execution_count": 139,
     "metadata": {},
     "output_type": "execute_result"
    }
   ],
   "source": [
    "#broadcasting\n",
    "\n",
    "a =numpy.array([4,2,5,1])\n",
    "b=numpy.array([5])\n",
    "a+b\n"
   ]
  },
  {
   "cell_type": "code",
   "execution_count": 140,
   "id": "937aec71",
   "metadata": {},
   "outputs": [
    {
     "name": "stdout",
     "output_type": "stream",
     "text": [
      "(2, 2)\n",
      "(2, 2)\n"
     ]
    }
   ],
   "source": [
    "# broadcast error -> dimension same + similar/shape\n",
    "a =numpy.array([[1,2],[5,6]])\n",
    "print(a.shape)\n",
    "b =numpy.array([[2,6],[8,9]])\n",
    "print(b.shape)\n",
    "#a+b"
   ]
  },
  {
   "cell_type": "code",
   "execution_count": 141,
   "id": "8f18c31c",
   "metadata": {},
   "outputs": [
    {
     "ename": "IndentationError",
     "evalue": "unexpected indent (1690193649.py, line 2)",
     "output_type": "error",
     "traceback": [
      "\u001b[1;36m  Cell \u001b[1;32mIn[141], line 2\u001b[1;36m\u001b[0m\n\u001b[1;33m    np.around\u001b[0m\n\u001b[1;37m    ^\u001b[0m\n\u001b[1;31mIndentationError\u001b[0m\u001b[1;31m:\u001b[0m unexpected indent\n"
     ]
    }
   ],
   "source": [
    " # around: rounding off\n",
    "    np.around"
   ]
  },
  {
   "cell_type": "code",
   "execution_count": null,
   "id": "390952d9",
   "metadata": {},
   "outputs": [],
   "source": [
    "import numpy\n",
    "a =numpy.array([[4,2,5,1],\n",
    "              [4,2,5,1],\n",
    "              [4,2,5,1],\n",
    "              [4,2,5,1]])"
   ]
  },
  {
   "cell_type": "code",
   "execution_count": null,
   "id": "55c67be6",
   "metadata": {},
   "outputs": [],
   "source": [
    "np.amin(a)"
   ]
  },
  {
   "cell_type": "code",
   "execution_count": null,
   "id": "63c16ead",
   "metadata": {},
   "outputs": [],
   "source": []
  }
 ],
 "metadata": {
  "kernelspec": {
   "display_name": "Python 3 (ipykernel)",
   "language": "python",
   "name": "python3"
  },
  "language_info": {
   "codemirror_mode": {
    "name": "ipython",
    "version": 3
   },
   "file_extension": ".py",
   "mimetype": "text/x-python",
   "name": "python",
   "nbconvert_exporter": "python",
   "pygments_lexer": "ipython3",
   "version": "3.11.4"
  }
 },
 "nbformat": 4,
 "nbformat_minor": 5
}
