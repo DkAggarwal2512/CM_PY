{
 "cells": [
  {
   "cell_type": "code",
   "execution_count": 3,
   "id": "19a1289b-e047-4cc4-9541-5203f7cd72ec",
   "metadata": {},
   "outputs": [],
   "source": [
    "import pandas as pd"
   ]
  },
  {
   "cell_type": "code",
   "execution_count": 4,
   "id": "bd9432f8-3b18-4f22-9020-750751c1c0f0",
   "metadata": {},
   "outputs": [],
   "source": [
    "df =pd.read_csv('diabetes.csv')"
   ]
  },
  {
   "cell_type": "code",
   "execution_count": 5,
   "id": "b2ca5ff7-6c42-4cac-9c6e-dd8c71a40f68",
   "metadata": {},
   "outputs": [
    {
     "data": {
      "text/html": [
       "<div>\n",
       "<style scoped>\n",
       "    .dataframe tbody tr th:only-of-type {\n",
       "        vertical-align: middle;\n",
       "    }\n",
       "\n",
       "    .dataframe tbody tr th {\n",
       "        vertical-align: top;\n",
       "    }\n",
       "\n",
       "    .dataframe thead th {\n",
       "        text-align: right;\n",
       "    }\n",
       "</style>\n",
       "<table border=\"1\" class=\"dataframe\">\n",
       "  <thead>\n",
       "    <tr style=\"text-align: right;\">\n",
       "      <th></th>\n",
       "      <th>Pregnancies</th>\n",
       "      <th>Glucose</th>\n",
       "      <th>BloodPressure</th>\n",
       "      <th>SkinThickness</th>\n",
       "      <th>Insulin</th>\n",
       "      <th>BMI</th>\n",
       "      <th>DiabetesPedigreeFunction</th>\n",
       "      <th>Age</th>\n",
       "      <th>Outcome</th>\n",
       "    </tr>\n",
       "  </thead>\n",
       "  <tbody>\n",
       "    <tr>\n",
       "      <th>0</th>\n",
       "      <td>6</td>\n",
       "      <td>148</td>\n",
       "      <td>72</td>\n",
       "      <td>35</td>\n",
       "      <td>0</td>\n",
       "      <td>33.6</td>\n",
       "      <td>0.627</td>\n",
       "      <td>50</td>\n",
       "      <td>1</td>\n",
       "    </tr>\n",
       "    <tr>\n",
       "      <th>1</th>\n",
       "      <td>1</td>\n",
       "      <td>85</td>\n",
       "      <td>66</td>\n",
       "      <td>29</td>\n",
       "      <td>0</td>\n",
       "      <td>26.6</td>\n",
       "      <td>0.351</td>\n",
       "      <td>31</td>\n",
       "      <td>0</td>\n",
       "    </tr>\n",
       "    <tr>\n",
       "      <th>2</th>\n",
       "      <td>8</td>\n",
       "      <td>183</td>\n",
       "      <td>64</td>\n",
       "      <td>0</td>\n",
       "      <td>0</td>\n",
       "      <td>23.3</td>\n",
       "      <td>0.672</td>\n",
       "      <td>32</td>\n",
       "      <td>1</td>\n",
       "    </tr>\n",
       "    <tr>\n",
       "      <th>3</th>\n",
       "      <td>1</td>\n",
       "      <td>89</td>\n",
       "      <td>66</td>\n",
       "      <td>23</td>\n",
       "      <td>94</td>\n",
       "      <td>28.1</td>\n",
       "      <td>0.167</td>\n",
       "      <td>21</td>\n",
       "      <td>0</td>\n",
       "    </tr>\n",
       "    <tr>\n",
       "      <th>4</th>\n",
       "      <td>0</td>\n",
       "      <td>137</td>\n",
       "      <td>40</td>\n",
       "      <td>35</td>\n",
       "      <td>168</td>\n",
       "      <td>43.1</td>\n",
       "      <td>2.288</td>\n",
       "      <td>33</td>\n",
       "      <td>1</td>\n",
       "    </tr>\n",
       "    <tr>\n",
       "      <th>...</th>\n",
       "      <td>...</td>\n",
       "      <td>...</td>\n",
       "      <td>...</td>\n",
       "      <td>...</td>\n",
       "      <td>...</td>\n",
       "      <td>...</td>\n",
       "      <td>...</td>\n",
       "      <td>...</td>\n",
       "      <td>...</td>\n",
       "    </tr>\n",
       "    <tr>\n",
       "      <th>763</th>\n",
       "      <td>10</td>\n",
       "      <td>101</td>\n",
       "      <td>76</td>\n",
       "      <td>48</td>\n",
       "      <td>180</td>\n",
       "      <td>32.9</td>\n",
       "      <td>0.171</td>\n",
       "      <td>63</td>\n",
       "      <td>0</td>\n",
       "    </tr>\n",
       "    <tr>\n",
       "      <th>764</th>\n",
       "      <td>2</td>\n",
       "      <td>122</td>\n",
       "      <td>70</td>\n",
       "      <td>27</td>\n",
       "      <td>0</td>\n",
       "      <td>36.8</td>\n",
       "      <td>0.340</td>\n",
       "      <td>27</td>\n",
       "      <td>0</td>\n",
       "    </tr>\n",
       "    <tr>\n",
       "      <th>765</th>\n",
       "      <td>5</td>\n",
       "      <td>121</td>\n",
       "      <td>72</td>\n",
       "      <td>23</td>\n",
       "      <td>112</td>\n",
       "      <td>26.2</td>\n",
       "      <td>0.245</td>\n",
       "      <td>30</td>\n",
       "      <td>0</td>\n",
       "    </tr>\n",
       "    <tr>\n",
       "      <th>766</th>\n",
       "      <td>1</td>\n",
       "      <td>126</td>\n",
       "      <td>60</td>\n",
       "      <td>0</td>\n",
       "      <td>0</td>\n",
       "      <td>30.1</td>\n",
       "      <td>0.349</td>\n",
       "      <td>47</td>\n",
       "      <td>1</td>\n",
       "    </tr>\n",
       "    <tr>\n",
       "      <th>767</th>\n",
       "      <td>1</td>\n",
       "      <td>93</td>\n",
       "      <td>70</td>\n",
       "      <td>31</td>\n",
       "      <td>0</td>\n",
       "      <td>30.4</td>\n",
       "      <td>0.315</td>\n",
       "      <td>23</td>\n",
       "      <td>0</td>\n",
       "    </tr>\n",
       "  </tbody>\n",
       "</table>\n",
       "<p>768 rows × 9 columns</p>\n",
       "</div>"
      ],
      "text/plain": [
       "     Pregnancies  Glucose  BloodPressure  SkinThickness  Insulin   BMI  \\\n",
       "0              6      148             72             35        0  33.6   \n",
       "1              1       85             66             29        0  26.6   \n",
       "2              8      183             64              0        0  23.3   \n",
       "3              1       89             66             23       94  28.1   \n",
       "4              0      137             40             35      168  43.1   \n",
       "..           ...      ...            ...            ...      ...   ...   \n",
       "763           10      101             76             48      180  32.9   \n",
       "764            2      122             70             27        0  36.8   \n",
       "765            5      121             72             23      112  26.2   \n",
       "766            1      126             60              0        0  30.1   \n",
       "767            1       93             70             31        0  30.4   \n",
       "\n",
       "     DiabetesPedigreeFunction  Age  Outcome  \n",
       "0                       0.627   50        1  \n",
       "1                       0.351   31        0  \n",
       "2                       0.672   32        1  \n",
       "3                       0.167   21        0  \n",
       "4                       2.288   33        1  \n",
       "..                        ...  ...      ...  \n",
       "763                     0.171   63        0  \n",
       "764                     0.340   27        0  \n",
       "765                     0.245   30        0  \n",
       "766                     0.349   47        1  \n",
       "767                     0.315   23        0  \n",
       "\n",
       "[768 rows x 9 columns]"
      ]
     },
     "execution_count": 5,
     "metadata": {},
     "output_type": "execute_result"
    }
   ],
   "source": [
    "df"
   ]
  },
  {
   "cell_type": "code",
   "execution_count": 8,
   "id": "0b2aa5c9-92fb-4234-babb-272989bb80a5",
   "metadata": {},
   "outputs": [],
   "source": [
    "x= df.drop('Outcome',axis='columns')"
   ]
  },
  {
   "cell_type": "code",
   "execution_count": 9,
   "id": "2f6b008d-881f-4e4a-b1f6-9cb5cfd859bd",
   "metadata": {},
   "outputs": [
    {
     "data": {
      "text/html": [
       "<div>\n",
       "<style scoped>\n",
       "    .dataframe tbody tr th:only-of-type {\n",
       "        vertical-align: middle;\n",
       "    }\n",
       "\n",
       "    .dataframe tbody tr th {\n",
       "        vertical-align: top;\n",
       "    }\n",
       "\n",
       "    .dataframe thead th {\n",
       "        text-align: right;\n",
       "    }\n",
       "</style>\n",
       "<table border=\"1\" class=\"dataframe\">\n",
       "  <thead>\n",
       "    <tr style=\"text-align: right;\">\n",
       "      <th></th>\n",
       "      <th>Pregnancies</th>\n",
       "      <th>Glucose</th>\n",
       "      <th>BloodPressure</th>\n",
       "      <th>SkinThickness</th>\n",
       "      <th>Insulin</th>\n",
       "      <th>BMI</th>\n",
       "      <th>DiabetesPedigreeFunction</th>\n",
       "      <th>Age</th>\n",
       "    </tr>\n",
       "  </thead>\n",
       "  <tbody>\n",
       "    <tr>\n",
       "      <th>0</th>\n",
       "      <td>6</td>\n",
       "      <td>148</td>\n",
       "      <td>72</td>\n",
       "      <td>35</td>\n",
       "      <td>0</td>\n",
       "      <td>33.6</td>\n",
       "      <td>0.627</td>\n",
       "      <td>50</td>\n",
       "    </tr>\n",
       "    <tr>\n",
       "      <th>1</th>\n",
       "      <td>1</td>\n",
       "      <td>85</td>\n",
       "      <td>66</td>\n",
       "      <td>29</td>\n",
       "      <td>0</td>\n",
       "      <td>26.6</td>\n",
       "      <td>0.351</td>\n",
       "      <td>31</td>\n",
       "    </tr>\n",
       "    <tr>\n",
       "      <th>2</th>\n",
       "      <td>8</td>\n",
       "      <td>183</td>\n",
       "      <td>64</td>\n",
       "      <td>0</td>\n",
       "      <td>0</td>\n",
       "      <td>23.3</td>\n",
       "      <td>0.672</td>\n",
       "      <td>32</td>\n",
       "    </tr>\n",
       "    <tr>\n",
       "      <th>3</th>\n",
       "      <td>1</td>\n",
       "      <td>89</td>\n",
       "      <td>66</td>\n",
       "      <td>23</td>\n",
       "      <td>94</td>\n",
       "      <td>28.1</td>\n",
       "      <td>0.167</td>\n",
       "      <td>21</td>\n",
       "    </tr>\n",
       "    <tr>\n",
       "      <th>4</th>\n",
       "      <td>0</td>\n",
       "      <td>137</td>\n",
       "      <td>40</td>\n",
       "      <td>35</td>\n",
       "      <td>168</td>\n",
       "      <td>43.1</td>\n",
       "      <td>2.288</td>\n",
       "      <td>33</td>\n",
       "    </tr>\n",
       "    <tr>\n",
       "      <th>...</th>\n",
       "      <td>...</td>\n",
       "      <td>...</td>\n",
       "      <td>...</td>\n",
       "      <td>...</td>\n",
       "      <td>...</td>\n",
       "      <td>...</td>\n",
       "      <td>...</td>\n",
       "      <td>...</td>\n",
       "    </tr>\n",
       "    <tr>\n",
       "      <th>763</th>\n",
       "      <td>10</td>\n",
       "      <td>101</td>\n",
       "      <td>76</td>\n",
       "      <td>48</td>\n",
       "      <td>180</td>\n",
       "      <td>32.9</td>\n",
       "      <td>0.171</td>\n",
       "      <td>63</td>\n",
       "    </tr>\n",
       "    <tr>\n",
       "      <th>764</th>\n",
       "      <td>2</td>\n",
       "      <td>122</td>\n",
       "      <td>70</td>\n",
       "      <td>27</td>\n",
       "      <td>0</td>\n",
       "      <td>36.8</td>\n",
       "      <td>0.340</td>\n",
       "      <td>27</td>\n",
       "    </tr>\n",
       "    <tr>\n",
       "      <th>765</th>\n",
       "      <td>5</td>\n",
       "      <td>121</td>\n",
       "      <td>72</td>\n",
       "      <td>23</td>\n",
       "      <td>112</td>\n",
       "      <td>26.2</td>\n",
       "      <td>0.245</td>\n",
       "      <td>30</td>\n",
       "    </tr>\n",
       "    <tr>\n",
       "      <th>766</th>\n",
       "      <td>1</td>\n",
       "      <td>126</td>\n",
       "      <td>60</td>\n",
       "      <td>0</td>\n",
       "      <td>0</td>\n",
       "      <td>30.1</td>\n",
       "      <td>0.349</td>\n",
       "      <td>47</td>\n",
       "    </tr>\n",
       "    <tr>\n",
       "      <th>767</th>\n",
       "      <td>1</td>\n",
       "      <td>93</td>\n",
       "      <td>70</td>\n",
       "      <td>31</td>\n",
       "      <td>0</td>\n",
       "      <td>30.4</td>\n",
       "      <td>0.315</td>\n",
       "      <td>23</td>\n",
       "    </tr>\n",
       "  </tbody>\n",
       "</table>\n",
       "<p>768 rows × 8 columns</p>\n",
       "</div>"
      ],
      "text/plain": [
       "     Pregnancies  Glucose  BloodPressure  SkinThickness  Insulin   BMI  \\\n",
       "0              6      148             72             35        0  33.6   \n",
       "1              1       85             66             29        0  26.6   \n",
       "2              8      183             64              0        0  23.3   \n",
       "3              1       89             66             23       94  28.1   \n",
       "4              0      137             40             35      168  43.1   \n",
       "..           ...      ...            ...            ...      ...   ...   \n",
       "763           10      101             76             48      180  32.9   \n",
       "764            2      122             70             27        0  36.8   \n",
       "765            5      121             72             23      112  26.2   \n",
       "766            1      126             60              0        0  30.1   \n",
       "767            1       93             70             31        0  30.4   \n",
       "\n",
       "     DiabetesPedigreeFunction  Age  \n",
       "0                       0.627   50  \n",
       "1                       0.351   31  \n",
       "2                       0.672   32  \n",
       "3                       0.167   21  \n",
       "4                       2.288   33  \n",
       "..                        ...  ...  \n",
       "763                     0.171   63  \n",
       "764                     0.340   27  \n",
       "765                     0.245   30  \n",
       "766                     0.349   47  \n",
       "767                     0.315   23  \n",
       "\n",
       "[768 rows x 8 columns]"
      ]
     },
     "execution_count": 9,
     "metadata": {},
     "output_type": "execute_result"
    }
   ],
   "source": [
    "x"
   ]
  },
  {
   "cell_type": "code",
   "execution_count": 10,
   "id": "4831fe55-f0ab-4a94-9b68-f6086a542826",
   "metadata": {},
   "outputs": [],
   "source": [
    "y=df['Outcome']"
   ]
  },
  {
   "cell_type": "code",
   "execution_count": 11,
   "id": "7bb0c273-3d27-4ee6-bfc9-1add256f92a8",
   "metadata": {},
   "outputs": [],
   "source": [
    "import matplotlib.pyplot as plt "
   ]
  },
  {
   "cell_type": "code",
   "execution_count": 12,
   "id": "a32e0dca-5f57-4f26-9d99-d8f98833a493",
   "metadata": {},
   "outputs": [],
   "source": [
    "from sklearn.ensemble import RandomForestClassifier\n",
    "model=RandomForestClassifier(n_estimators=1000)"
   ]
  },
  {
   "cell_type": "code",
   "execution_count": 13,
   "id": "2f36966e-d818-45e0-b7f5-a0b01c878fbb",
   "metadata": {},
   "outputs": [],
   "source": [
    "from sklearn.model_selection import train_test_split\n",
    "x_train,x_test,y_train,y_test=train_test_split(x,y)"
   ]
  },
  {
   "cell_type": "code",
   "execution_count": 14,
   "id": "255d2ad9-bfa9-480e-8163-687e507e881a",
   "metadata": {},
   "outputs": [
    {
     "data": {
      "text/html": [
       "<div>\n",
       "<style scoped>\n",
       "    .dataframe tbody tr th:only-of-type {\n",
       "        vertical-align: middle;\n",
       "    }\n",
       "\n",
       "    .dataframe tbody tr th {\n",
       "        vertical-align: top;\n",
       "    }\n",
       "\n",
       "    .dataframe thead th {\n",
       "        text-align: right;\n",
       "    }\n",
       "</style>\n",
       "<table border=\"1\" class=\"dataframe\">\n",
       "  <thead>\n",
       "    <tr style=\"text-align: right;\">\n",
       "      <th></th>\n",
       "      <th>Pregnancies</th>\n",
       "      <th>Glucose</th>\n",
       "      <th>BloodPressure</th>\n",
       "      <th>SkinThickness</th>\n",
       "      <th>Insulin</th>\n",
       "      <th>BMI</th>\n",
       "      <th>DiabetesPedigreeFunction</th>\n",
       "      <th>Age</th>\n",
       "    </tr>\n",
       "  </thead>\n",
       "  <tbody>\n",
       "    <tr>\n",
       "      <th>177</th>\n",
       "      <td>0</td>\n",
       "      <td>129</td>\n",
       "      <td>110</td>\n",
       "      <td>46</td>\n",
       "      <td>130</td>\n",
       "      <td>67.1</td>\n",
       "      <td>0.319</td>\n",
       "      <td>26</td>\n",
       "    </tr>\n",
       "  </tbody>\n",
       "</table>\n",
       "</div>"
      ],
      "text/plain": [
       "     Pregnancies  Glucose  BloodPressure  SkinThickness  Insulin   BMI  \\\n",
       "177            0      129            110             46      130  67.1   \n",
       "\n",
       "     DiabetesPedigreeFunction  Age  \n",
       "177                     0.319   26  "
      ]
     },
     "execution_count": 14,
     "metadata": {},
     "output_type": "execute_result"
    }
   ],
   "source": [
    "x.sample()"
   ]
  },
  {
   "cell_type": "code",
   "execution_count": 15,
   "id": "c2c68f71-450b-425d-9ead-928b011d2820",
   "metadata": {},
   "outputs": [
    {
     "data": {
      "text/plain": [
       "64    1\n",
       "Name: Outcome, dtype: int64"
      ]
     },
     "execution_count": 15,
     "metadata": {},
     "output_type": "execute_result"
    }
   ],
   "source": [
    "y.sample()"
   ]
  },
  {
   "cell_type": "code",
   "execution_count": 34,
   "id": "697c0814-28b0-49fe-a365-8131848526ad",
   "metadata": {},
   "outputs": [
    {
     "data": {
      "text/plain": [
       "688    0\n",
       "468    1\n",
       "364    0\n",
       "673    0\n",
       "323    1\n",
       "      ..\n",
       "345    0\n",
       "680    0\n",
       "15     1\n",
       "80     0\n",
       "530    0\n",
       "Name: Outcome, Length: 192, dtype: int64"
      ]
     },
     "execution_count": 34,
     "metadata": {},
     "output_type": "execute_result"
    }
   ],
   "source": [
    "y_test"
   ]
  },
  {
   "cell_type": "code",
   "execution_count": 35,
   "id": "96fdcf86-1d3b-44ea-9378-6e7219ab132c",
   "metadata": {},
   "outputs": [
    {
     "data": {
      "text/plain": [
       "array([0, 1, 0, 0, 1, 0, 1, 0, 1, 0, 1, 0, 1, 0, 0, 0, 0, 0, 0, 1, 0, 1,\n",
       "       0, 0, 0, 0, 0, 0, 0, 0, 0, 0, 0, 1, 0, 1, 0, 0, 1, 0, 0, 1, 0, 1,\n",
       "       1, 0, 0, 1, 1, 1, 1, 1, 0, 1, 1, 0, 0, 0, 0, 1, 1, 0, 1, 0, 1, 1,\n",
       "       0, 1, 0, 0, 0, 0, 0, 0, 1, 1, 1, 1, 0, 0, 0, 1, 0, 0, 0, 0, 0, 0,\n",
       "       1, 1, 0, 0, 0, 0, 0, 0, 0, 0, 1, 0, 0, 0, 0, 0, 0, 1, 1, 1, 1, 0,\n",
       "       1, 0, 0, 0, 1, 0, 0, 0, 0, 1, 0, 1, 1, 0, 1, 0, 0, 1, 1, 0, 0, 1,\n",
       "       0, 1, 1, 1, 0, 0, 0, 0, 1, 0, 0, 0, 1, 0, 0, 0, 0, 1, 1, 1, 0, 0,\n",
       "       0, 0, 0, 1, 0, 0, 1, 0, 0, 1, 0, 0, 0, 0, 0, 1, 1, 0, 0, 0, 0, 1,\n",
       "       1, 1, 1, 1, 1, 1, 0, 0, 0, 0, 1, 0, 0, 1, 0, 0], dtype=int64)"
      ]
     },
     "execution_count": 35,
     "metadata": {},
     "output_type": "execute_result"
    }
   ],
   "source": [
    "import numpy as np\n",
    "a= np.array(y_test)\n",
    "a"
   ]
  },
  {
   "cell_type": "code",
   "execution_count": 36,
   "id": "919b2090-cfcd-4efd-8546-074de6a37482",
   "metadata": {},
   "outputs": [
    {
     "data": {
      "text/plain": [
       "100.0"
      ]
     },
     "execution_count": 36,
     "metadata": {},
     "output_type": "execute_result"
    }
   ],
   "source": [
    "model.score(x_test,y_test)*100"
   ]
  },
  {
   "cell_type": "code",
   "execution_count": 16,
   "id": "2ee5f64a-3a58-4519-a533-07af7fb3ad93",
   "metadata": {},
   "outputs": [
    {
     "data": {
      "text/html": [
       "<style>#sk-container-id-1 {color: black;}#sk-container-id-1 pre{padding: 0;}#sk-container-id-1 div.sk-toggleable {background-color: white;}#sk-container-id-1 label.sk-toggleable__label {cursor: pointer;display: block;width: 100%;margin-bottom: 0;padding: 0.3em;box-sizing: border-box;text-align: center;}#sk-container-id-1 label.sk-toggleable__label-arrow:before {content: \"▸\";float: left;margin-right: 0.25em;color: #696969;}#sk-container-id-1 label.sk-toggleable__label-arrow:hover:before {color: black;}#sk-container-id-1 div.sk-estimator:hover label.sk-toggleable__label-arrow:before {color: black;}#sk-container-id-1 div.sk-toggleable__content {max-height: 0;max-width: 0;overflow: hidden;text-align: left;background-color: #f0f8ff;}#sk-container-id-1 div.sk-toggleable__content pre {margin: 0.2em;color: black;border-radius: 0.25em;background-color: #f0f8ff;}#sk-container-id-1 input.sk-toggleable__control:checked~div.sk-toggleable__content {max-height: 200px;max-width: 100%;overflow: auto;}#sk-container-id-1 input.sk-toggleable__control:checked~label.sk-toggleable__label-arrow:before {content: \"▾\";}#sk-container-id-1 div.sk-estimator input.sk-toggleable__control:checked~label.sk-toggleable__label {background-color: #d4ebff;}#sk-container-id-1 div.sk-label input.sk-toggleable__control:checked~label.sk-toggleable__label {background-color: #d4ebff;}#sk-container-id-1 input.sk-hidden--visually {border: 0;clip: rect(1px 1px 1px 1px);clip: rect(1px, 1px, 1px, 1px);height: 1px;margin: -1px;overflow: hidden;padding: 0;position: absolute;width: 1px;}#sk-container-id-1 div.sk-estimator {font-family: monospace;background-color: #f0f8ff;border: 1px dotted black;border-radius: 0.25em;box-sizing: border-box;margin-bottom: 0.5em;}#sk-container-id-1 div.sk-estimator:hover {background-color: #d4ebff;}#sk-container-id-1 div.sk-parallel-item::after {content: \"\";width: 100%;border-bottom: 1px solid gray;flex-grow: 1;}#sk-container-id-1 div.sk-label:hover label.sk-toggleable__label {background-color: #d4ebff;}#sk-container-id-1 div.sk-serial::before {content: \"\";position: absolute;border-left: 1px solid gray;box-sizing: border-box;top: 0;bottom: 0;left: 50%;z-index: 0;}#sk-container-id-1 div.sk-serial {display: flex;flex-direction: column;align-items: center;background-color: white;padding-right: 0.2em;padding-left: 0.2em;position: relative;}#sk-container-id-1 div.sk-item {position: relative;z-index: 1;}#sk-container-id-1 div.sk-parallel {display: flex;align-items: stretch;justify-content: center;background-color: white;position: relative;}#sk-container-id-1 div.sk-item::before, #sk-container-id-1 div.sk-parallel-item::before {content: \"\";position: absolute;border-left: 1px solid gray;box-sizing: border-box;top: 0;bottom: 0;left: 50%;z-index: -1;}#sk-container-id-1 div.sk-parallel-item {display: flex;flex-direction: column;z-index: 1;position: relative;background-color: white;}#sk-container-id-1 div.sk-parallel-item:first-child::after {align-self: flex-end;width: 50%;}#sk-container-id-1 div.sk-parallel-item:last-child::after {align-self: flex-start;width: 50%;}#sk-container-id-1 div.sk-parallel-item:only-child::after {width: 0;}#sk-container-id-1 div.sk-dashed-wrapped {border: 1px dashed gray;margin: 0 0.4em 0.5em 0.4em;box-sizing: border-box;padding-bottom: 0.4em;background-color: white;}#sk-container-id-1 div.sk-label label {font-family: monospace;font-weight: bold;display: inline-block;line-height: 1.2em;}#sk-container-id-1 div.sk-label-container {text-align: center;}#sk-container-id-1 div.sk-container {/* jupyter's `normalize.less` sets `[hidden] { display: none; }` but bootstrap.min.css set `[hidden] { display: none !important; }` so we also need the `!important` here to be able to override the default hidden behavior on the sphinx rendered scikit-learn.org. See: https://github.com/scikit-learn/scikit-learn/issues/21755 */display: inline-block !important;position: relative;}#sk-container-id-1 div.sk-text-repr-fallback {display: none;}</style><div id=\"sk-container-id-1\" class=\"sk-top-container\"><div class=\"sk-text-repr-fallback\"><pre>RandomForestClassifier(n_estimators=1000)</pre><b>In a Jupyter environment, please rerun this cell to show the HTML representation or trust the notebook. <br />On GitHub, the HTML representation is unable to render, please try loading this page with nbviewer.org.</b></div><div class=\"sk-container\" hidden><div class=\"sk-item\"><div class=\"sk-estimator sk-toggleable\"><input class=\"sk-toggleable__control sk-hidden--visually\" id=\"sk-estimator-id-1\" type=\"checkbox\" checked><label for=\"sk-estimator-id-1\" class=\"sk-toggleable__label sk-toggleable__label-arrow\">RandomForestClassifier</label><div class=\"sk-toggleable__content\"><pre>RandomForestClassifier(n_estimators=1000)</pre></div></div></div></div></div>"
      ],
      "text/plain": [
       "RandomForestClassifier(n_estimators=1000)"
      ]
     },
     "execution_count": 16,
     "metadata": {},
     "output_type": "execute_result"
    }
   ],
   "source": [
    "model.fit(x,y)"
   ]
  },
  {
   "cell_type": "code",
   "execution_count": 17,
   "id": "6a0dc988-a1cb-4ab5-aec4-094f6ae604b4",
   "metadata": {},
   "outputs": [],
   "source": [
    "y_pred=model.predict(x_test)"
   ]
  },
  {
   "cell_type": "code",
   "execution_count": 18,
   "id": "e362ec0f-95ed-4bd1-9bf0-0e59754cd3b2",
   "metadata": {},
   "outputs": [
    {
     "data": {
      "text/plain": [
       "array([0, 1, 0, 0, 1, 0, 1, 0, 1, 0, 1, 0, 1, 0, 0, 0, 0, 0, 0, 1, 0, 1,\n",
       "       0, 0, 0, 0, 0, 0, 0, 0, 0, 0, 0, 1, 0, 1, 0, 0, 1, 0, 0, 1, 0, 1,\n",
       "       1, 0, 0, 1, 1, 1, 1, 1, 0, 1, 1, 0, 0, 0, 0, 1, 1, 0, 1, 0, 1, 1,\n",
       "       0, 1, 0, 0, 0, 0, 0, 0, 1, 1, 1, 1, 0, 0, 0, 1, 0, 0, 0, 0, 0, 0,\n",
       "       1, 1, 0, 0, 0, 0, 0, 0, 0, 0, 1, 0, 0, 0, 0, 0, 0, 1, 1, 1, 1, 0,\n",
       "       1, 0, 0, 0, 1, 0, 0, 0, 0, 1, 0, 1, 1, 0, 1, 0, 0, 1, 1, 0, 0, 1,\n",
       "       0, 1, 1, 1, 0, 0, 0, 0, 1, 0, 0, 0, 1, 0, 0, 0, 0, 1, 1, 1, 0, 0,\n",
       "       0, 0, 0, 1, 0, 0, 1, 0, 0, 1, 0, 0, 0, 0, 0, 1, 1, 0, 0, 0, 0, 1,\n",
       "       1, 1, 1, 1, 1, 1, 0, 0, 0, 0, 1, 0, 0, 1, 0, 0], dtype=int64)"
      ]
     },
     "execution_count": 18,
     "metadata": {},
     "output_type": "execute_result"
    }
   ],
   "source": [
    "y_pred"
   ]
  },
  {
   "cell_type": "code",
   "execution_count": 19,
   "id": "58bc66ed-fcc9-42fa-ada9-65f07601cbb0",
   "metadata": {},
   "outputs": [],
   "source": [
    "# from sklearn.metrics import confusionmatrix\n",
    "# cm = ConfusionMatrix(y_test,y_pred)\n",
    "# cm"
   ]
  },
  {
   "cell_type": "code",
   "execution_count": 20,
   "id": "d579a7ba-c8bb-4136-8bcb-0925891e19c1",
   "metadata": {},
   "outputs": [],
   "source": [
    "from sklearn  import metrics\n",
    "cm = metrics.confusion_matrix(y_test,y_pred)"
   ]
  },
  {
   "cell_type": "code",
   "execution_count": 21,
   "id": "682068c8-3835-47fe-8f3f-b762081a51f5",
   "metadata": {},
   "outputs": [
    {
     "data": {
      "text/plain": [
       "array([[122,   0],\n",
       "       [  0,  70]], dtype=int64)"
      ]
     },
     "execution_count": 21,
     "metadata": {},
     "output_type": "execute_result"
    }
   ],
   "source": [
    "cm"
   ]
  },
  {
   "cell_type": "code",
   "execution_count": 22,
   "id": "e31f81c9-b42e-4393-b181-57a114acc599",
   "metadata": {},
   "outputs": [],
   "source": [
    "import seaborn as sns"
   ]
  },
  {
   "cell_type": "code",
   "execution_count": 39,
   "id": "c4120256-f7bf-439f-9be2-fb38693b6cd1",
   "metadata": {},
   "outputs": [
    {
     "data": {
      "image/png": "[encoded data removed]",
      "text/plain": [
       "<Figure size 640x480 with 2 Axes>"
      ]
     },
     "metadata": {},
     "output_type": "display_data"
    }
   ],
   "source": [
    "sns.heatmap(cm,annot=True,vmin=1,vmax=1)\n",
    "plt.xlabel('Original Values')\n",
    "plt.ylabel('Predicted Values')\n",
    "plt.show()"
   ]
  },
  {
   "cell_type": "code",
   "execution_count": 24,
   "id": "321d871c-b3b1-40d4-b75f-f5528ca7e5a1",
   "metadata": {
    "scrolled": true
   },
   "outputs": [
    {
     "name": "stdout",
     "output_type": "stream",
     "text": [
      "              precision    recall  f1-score   support\n",
      "\n",
      "           0       1.00      1.00      1.00       122\n",
      "           1       1.00      1.00      1.00        70\n",
      "\n",
      "    accuracy                           1.00       192\n",
      "   macro avg       1.00      1.00      1.00       192\n",
      "weighted avg       1.00      1.00      1.00       192\n",
      "\n"
     ]
    }
   ],
   "source": [
    "from sklearn.metrics import classification_report\n",
    "print(classification_report(y_test, y_pred))\n"
   ]
  },
  {
   "cell_type": "code",
   "execution_count": 32,
   "id": "78c8fcbf-7c61-42a9-b0f7-b5be5d3af142",
   "metadata": {},
   "outputs": [
    {
     "data": {
      "text/plain": [
       "array([0.043, 0.797, 0.229, 0.183, 0.794, 0.007, 0.747, 0.111, 0.748,\n",
       "       0.02 , 0.871, 0.037, 0.633, 0.129, 0.011, 0.046, 0.018, 0.077,\n",
       "       0.002, 0.905, 0.027, 0.947, 0.008, 0.027, 0.005, 0.015, 0.161,\n",
       "       0.056, 0.021, 0.181, 0.223, 0.169, 0.163, 0.789, 0.075, 0.694,\n",
       "       0.011, 0.093, 0.86 , 0.027, 0.017, 0.866, 0.125, 0.813, 0.945,\n",
       "       0.137, 0.133, 0.847, 0.758, 0.919, 0.853, 0.779, 0.036, 0.889,\n",
       "       0.933, 0.05 , 0.157, 0.04 , 0.011, 0.911, 0.928, 0.139, 0.925,\n",
       "       0.165, 0.923, 0.658, 0.142, 0.786, 0.038, 0.12 , 0.061, 0.122,\n",
       "       0.04 , 0.119, 0.832, 0.913, 0.973, 0.899, 0.313, 0.058, 0.227,\n",
       "       0.753, 0.009, 0.116, 0.071, 0.018, 0.284, 0.198, 0.785, 0.851,\n",
       "       0.015, 0.116, 0.08 , 0.164, 0.034, 0.078, 0.017, 0.003, 0.872,\n",
       "       0.051, 0.011, 0.121, 0.042, 0.257, 0.054, 0.838, 0.898, 0.946,\n",
       "       0.818, 0.032, 0.838, 0.029, 0.093, 0.015, 0.904, 0.109, 0.219,\n",
       "       0.007, 0.038, 0.946, 0.042, 0.891, 0.797, 0.12 , 0.821, 0.015,\n",
       "       0.028, 0.884, 0.858, 0.027, 0.033, 0.708, 0.205, 0.673, 0.903,\n",
       "       0.777, 0.054, 0.014, 0.039, 0.007, 0.9  , 0.1  , 0.256, 0.027,\n",
       "       0.837, 0.139, 0.006, 0.059, 0.014, 0.957, 0.874, 0.953, 0.031,\n",
       "       0.256, 0.052, 0.125, 0.177, 0.961, 0.023, 0.124, 0.68 , 0.177,\n",
       "       0.17 , 0.856, 0.169, 0.066, 0.043, 0.181, 0.03 , 0.737, 0.925,\n",
       "       0.204, 0.163, 0.172, 0.003, 0.826, 0.782, 0.912, 0.748, 0.886,\n",
       "       0.748, 0.806, 0.066, 0.105, 0.022, 0.143, 0.839, 0.202, 0.002,\n",
       "       0.734, 0.026, 0.034])"
      ]
     },
     "execution_count": 32,
     "metadata": {},
     "output_type": "execute_result"
    }
   ],
   "source": [
    "y_proba = model.predict_proba(x_test)[:,1]\n",
    "y_proba"
   ]
  },
  {
   "cell_type": "code",
   "execution_count": 40,
   "id": "7a09a12e-01c7-4d00-a222-da676cc24439",
   "metadata": {},
   "outputs": [],
   "source": [
    "from sklearn.metrics import roc_auc_score"
   ]
  },
  {
   "cell_type": "code",
   "execution_count": 41,
   "id": "9c9e367e-cd8d-447c-9d0e-10b202c8e4b1",
   "metadata": {},
   "outputs": [
    {
     "data": {
      "text/plain": [
       "1.0"
      ]
     },
     "execution_count": 41,
     "metadata": {},
     "output_type": "execute_result"
    }
   ],
   "source": [
    "roc_auc_score(y_test,y_proba)"
   ]
  },
  {
   "cell_type": "code",
   "execution_count": 42,
   "id": "a8208352-7af8-4057-8ad5-8aa217cde4b2",
   "metadata": {},
   "outputs": [],
   "source": [
    "from sklearn.tree import plot_tree"
   ]
  },
  {
   "cell_type": "code",
   "execution_count": 46,
   "id": "8e9eafe5-b20d-4381-82e0-e357505f1183",
   "metadata": {},
   "outputs": [
    {
     "data": {
      "text/plain": [
       "[Text(0.40222886029411764, 0.96875, 'x[7] <= 26.5\\ngini = 0.458\\nsamples = 480\\nvalue = [495, 273]\\nclass = Glucese'),\n",
       " Text(0.1636029411764706, 0.90625, 'x[1] <= 127.5\\ngini = 0.327\\nsamples = 197\\nvalue = [255, 66]\\nclass = Glucese'),\n",
       " Text(0.06433823529411764, 0.84375, 'x[3] <= 5.0\\ngini = 0.129\\nsamples = 143\\nvalue = [215, 16]\\nclass = Glucese'),\n",
       " Text(0.029411764705882353, 0.78125, 'x[5] <= 27.85\\ngini = 0.31\\nsamples = 26\\nvalue = [38, 9]\\nclass = Glucese'),\n",
       " Text(0.022058823529411766, 0.71875, 'gini = 0.0\\nsamples = 13\\nvalue = [22, 0]\\nclass = Glucese'),\n",
       " Text(0.03676470588235294, 0.71875, 'x[7] <= 23.5\\ngini = 0.461\\nsamples = 13\\nvalue = [16, 9]\\nclass = Glucese'),\n",
       " Text(0.022058823529411766, 0.65625, 'x[5] <= 38.0\\ngini = 0.408\\nsamples = 4\\nvalue = [2, 5]\\nclass = IBM'),\n",
       " Text(0.014705882352941176, 0.59375, 'x[1] <= 102.5\\ngini = 0.278\\nsamples = 3\\nvalue = [1, 5]\\nclass = IBM'),\n",
       " Text(0.007352941176470588, 0.53125, 'gini = 0.0\\nsamples = 1\\nvalue = [1, 0]\\nclass = Glucese'),\n",
       " Text(0.022058823529411766, 0.53125, 'gini = 0.0\\nsamples = 2\\nvalue = [0, 5]\\nclass = IBM'),\n",
       " Text(0.029411764705882353, 0.59375, 'gini = 0.0\\nsamples = 1\\nvalue = [1, 0]\\nclass = Glucese'),\n",
       " Text(0.051470588235294115, 0.65625, 'x[1] <= 116.5\\ngini = 0.346\\nsamples = 9\\nvalue = [14, 4]\\nclass = Glucese'),\n",
       " Text(0.04411764705882353, 0.59375, 'gini = 0.0\\nsamples = 6\\nvalue = [11, 0]\\nclass = Glucese'),\n",
       " Text(0.058823529411764705, 0.59375, 'x[1] <= 123.0\\ngini = 0.49\\nsamples = 3\\nvalue = [3, 4]\\nclass = IBM'),\n",
       " Text(0.051470588235294115, 0.53125, 'gini = 0.0\\nsamples = 2\\nvalue = [0, 4]\\nclass = IBM'),\n",
       " Text(0.0661764705882353, 0.53125, 'gini = 0.0\\nsamples = 1\\nvalue = [3, 0]\\nclass = Glucese'),\n",
       " Text(0.09926470588235294, 0.78125, 'x[7] <= 21.5\\ngini = 0.073\\nsamples = 117\\nvalue = [177, 7]\\nclass = Glucese'),\n",
       " Text(0.07352941176470588, 0.71875, 'x[6] <= 0.528\\ngini = 0.136\\nsamples = 23\\nvalue = [38, 3]\\nclass = Glucese'),\n",
       " Text(0.0661764705882353, 0.65625, 'gini = 0.0\\nsamples = 18\\nvalue = [32, 0]\\nclass = Glucese'),\n",
       " Text(0.08088235294117647, 0.65625, 'x[5] <= 32.3\\ngini = 0.444\\nsamples = 5\\nvalue = [6, 3]\\nclass = Glucese'),\n",
       " Text(0.07352941176470588, 0.59375, 'gini = 0.0\\nsamples = 4\\nvalue = [6, 0]\\nclass = Glucese'),\n",
       " Text(0.08823529411764706, 0.59375, 'gini = 0.0\\nsamples = 1\\nvalue = [0, 3]\\nclass = IBM'),\n",
       " Text(0.125, 0.71875, 'x[0] <= 0.5\\ngini = 0.054\\nsamples = 94\\nvalue = [139, 4]\\nclass = Glucese'),\n",
       " Text(0.11029411764705882, 0.65625, 'x[3] <= 28.5\\ngini = 0.18\\nsamples = 12\\nvalue = [18, 2]\\nclass = Glucese'),\n",
       " Text(0.10294117647058823, 0.59375, 'gini = 0.0\\nsamples = 5\\nvalue = [11, 0]\\nclass = Glucese'),\n",
       " Text(0.11764705882352941, 0.59375, 'x[3] <= 30.5\\ngini = 0.346\\nsamples = 7\\nvalue = [7, 2]\\nclass = Glucese'),\n",
       " Text(0.11029411764705882, 0.53125, 'gini = 0.0\\nsamples = 1\\nvalue = [0, 2]\\nclass = IBM'),\n",
       " Text(0.125, 0.53125, 'gini = 0.0\\nsamples = 6\\nvalue = [7, 0]\\nclass = Glucese'),\n",
       " Text(0.13970588235294118, 0.65625, 'x[2] <= 73.0\\ngini = 0.032\\nsamples = 82\\nvalue = [121, 2]\\nclass = Glucese'),\n",
       " Text(0.1323529411764706, 0.59375, 'gini = 0.0\\nsamples = 64\\nvalue = [96, 0]\\nclass = Glucese'),\n",
       " Text(0.14705882352941177, 0.59375, 'x[4] <= 125.0\\ngini = 0.137\\nsamples = 18\\nvalue = [25, 2]\\nclass = Glucese'),\n",
       " Text(0.13970588235294118, 0.53125, 'x[3] <= 33.0\\ngini = 0.208\\nsamples = 13\\nvalue = [15, 2]\\nclass = Glucese'),\n",
       " Text(0.1323529411764706, 0.46875, 'x[1] <= 111.5\\ngini = 0.117\\nsamples = 12\\nvalue = [15, 1]\\nclass = Glucese'),\n",
       " Text(0.125, 0.40625, 'gini = 0.0\\nsamples = 11\\nvalue = [15, 0]\\nclass = Glucese'),\n",
       " Text(0.13970588235294118, 0.40625, 'gini = 0.0\\nsamples = 1\\nvalue = [0, 1]\\nclass = IBM'),\n",
       " Text(0.14705882352941177, 0.46875, 'gini = 0.0\\nsamples = 1\\nvalue = [0, 1]\\nclass = IBM'),\n",
       " Text(0.15441176470588236, 0.53125, 'gini = 0.0\\nsamples = 5\\nvalue = [10, 0]\\nclass = Glucese'),\n",
       " Text(0.26286764705882354, 0.84375, 'x[7] <= 24.5\\ngini = 0.494\\nsamples = 54\\nvalue = [40, 50]\\nclass = IBM'),\n",
       " Text(0.21691176470588236, 0.78125, 'x[5] <= 33.25\\ngini = 0.498\\nsamples = 41\\nvalue = [36, 32]\\nclass = Glucese'),\n",
       " Text(0.18382352941176472, 0.71875, 'x[2] <= 25.0\\ngini = 0.231\\nsamples = 21\\nvalue = [26, 4]\\nclass = Glucese'),\n",
       " Text(0.17647058823529413, 0.65625, 'gini = 0.0\\nsamples = 1\\nvalue = [0, 1]\\nclass = IBM'),\n",
       " Text(0.19117647058823528, 0.65625, 'x[2] <= 57.0\\ngini = 0.185\\nsamples = 20\\nvalue = [26, 3]\\nclass = Glucese'),\n",
       " Text(0.17647058823529413, 0.59375, 'x[0] <= 2.0\\ngini = 0.444\\nsamples = 2\\nvalue = [2, 1]\\nclass = Glucese'),\n",
       " Text(0.16911764705882354, 0.53125, 'gini = 0.0\\nsamples = 1\\nvalue = [2, 0]\\nclass = Glucese'),\n",
       " Text(0.18382352941176472, 0.53125, 'gini = 0.0\\nsamples = 1\\nvalue = [0, 1]\\nclass = IBM'),\n",
       " Text(0.20588235294117646, 0.59375, 'x[1] <= 173.0\\ngini = 0.142\\nsamples = 18\\nvalue = [24, 2]\\nclass = Glucese'),\n",
       " Text(0.19852941176470587, 0.53125, 'x[7] <= 22.5\\ngini = 0.077\\nsamples = 17\\nvalue = [24, 1]\\nclass = Glucese'),\n",
       " Text(0.19117647058823528, 0.46875, 'gini = 0.0\\nsamples = 11\\nvalue = [18, 0]\\nclass = Glucese'),\n",
       " Text(0.20588235294117646, 0.46875, 'x[4] <= 84.0\\ngini = 0.245\\nsamples = 6\\nvalue = [6, 1]\\nclass = Glucese'),\n",
       " Text(0.19852941176470587, 0.40625, 'gini = 0.0\\nsamples = 1\\nvalue = [0, 1]\\nclass = IBM'),\n",
       " Text(0.21323529411764705, 0.40625, 'gini = 0.0\\nsamples = 5\\nvalue = [6, 0]\\nclass = Glucese'),\n",
       " Text(0.21323529411764705, 0.53125, 'gini = 0.0\\nsamples = 1\\nvalue = [0, 1]\\nclass = IBM'),\n",
       " Text(0.25, 0.71875, 'x[4] <= 199.0\\ngini = 0.388\\nsamples = 20\\nvalue = [10, 28]\\nclass = IBM'),\n",
       " Text(0.22794117647058823, 0.65625, 'x[6] <= 0.893\\ngini = 0.08\\nsamples = 11\\nvalue = [1, 23]\\nclass = IBM'),\n",
       " Text(0.22058823529411764, 0.59375, 'gini = 0.0\\nsamples = 9\\nvalue = [0, 21]\\nclass = IBM'),\n",
       " Text(0.23529411764705882, 0.59375, 'x[7] <= 23.0\\ngini = 0.444\\nsamples = 2\\nvalue = [1, 2]\\nclass = IBM'),\n",
       " Text(0.22794117647058823, 0.53125, 'gini = 0.0\\nsamples = 1\\nvalue = [0, 2]\\nclass = IBM'),\n",
       " Text(0.2426470588235294, 0.53125, 'gini = 0.0\\nsamples = 1\\nvalue = [1, 0]\\nclass = Glucese'),\n",
       " Text(0.27205882352941174, 0.65625, 'x[7] <= 22.5\\ngini = 0.459\\nsamples = 9\\nvalue = [9, 5]\\nclass = Glucese'),\n",
       " Text(0.2647058823529412, 0.59375, 'x[5] <= 40.35\\ngini = 0.469\\nsamples = 5\\nvalue = [3, 5]\\nclass = IBM'),\n",
       " Text(0.25735294117647056, 0.53125, 'gini = 0.0\\nsamples = 3\\nvalue = [0, 5]\\nclass = IBM'),\n",
       " Text(0.27205882352941174, 0.53125, 'gini = 0.0\\nsamples = 2\\nvalue = [3, 0]\\nclass = Glucese'),\n",
       " Text(0.27941176470588236, 0.59375, 'gini = 0.0\\nsamples = 4\\nvalue = [6, 0]\\nclass = Glucese'),\n",
       " Text(0.3088235294117647, 0.78125, 'x[6] <= 0.295\\ngini = 0.298\\nsamples = 13\\nvalue = [4, 18]\\nclass = IBM'),\n",
       " Text(0.29411764705882354, 0.71875, 'x[5] <= 38.65\\ngini = 0.48\\nsamples = 3\\nvalue = [2, 3]\\nclass = IBM'),\n",
       " Text(0.2867647058823529, 0.65625, 'gini = 0.0\\nsamples = 1\\nvalue = [1, 0]\\nclass = Glucese'),\n",
       " Text(0.3014705882352941, 0.65625, 'x[4] <= 382.5\\ngini = 0.375\\nsamples = 2\\nvalue = [1, 3]\\nclass = IBM'),\n",
       " Text(0.29411764705882354, 0.59375, 'gini = 0.0\\nsamples = 1\\nvalue = [1, 0]\\nclass = Glucese'),\n",
       " Text(0.3088235294117647, 0.59375, 'gini = 0.0\\nsamples = 1\\nvalue = [0, 3]\\nclass = IBM'),\n",
       " Text(0.3235294117647059, 0.71875, 'x[5] <= 29.55\\ngini = 0.208\\nsamples = 10\\nvalue = [2, 15]\\nclass = IBM'),\n",
       " Text(0.3161764705882353, 0.65625, 'gini = 0.0\\nsamples = 1\\nvalue = [1, 0]\\nclass = Glucese'),\n",
       " Text(0.33088235294117646, 0.65625, 'x[6] <= 0.535\\ngini = 0.117\\nsamples = 9\\nvalue = [1, 15]\\nclass = IBM'),\n",
       " Text(0.3235294117647059, 0.59375, 'gini = 0.0\\nsamples = 5\\nvalue = [0, 11]\\nclass = IBM'),\n",
       " Text(0.3382352941176471, 0.59375, 'x[2] <= 71.0\\ngini = 0.32\\nsamples = 4\\nvalue = [1, 4]\\nclass = IBM'),\n",
       " Text(0.33088235294117646, 0.53125, 'gini = 0.0\\nsamples = 3\\nvalue = [0, 4]\\nclass = IBM'),\n",
       " Text(0.34558823529411764, 0.53125, 'gini = 0.0\\nsamples = 1\\nvalue = [1, 0]\\nclass = Glucese'),\n",
       " Text(0.6408547794117647, 0.90625, 'x[6] <= 0.324\\ngini = 0.497\\nsamples = 283\\nvalue = [240, 207]\\nclass = Glucese'),\n",
       " Text(0.5055147058823529, 0.84375, 'x[1] <= 122.5\\ngini = 0.436\\nsamples = 118\\nvalue = [123, 58]\\nclass = Glucese'),\n",
       " Text(0.43933823529411764, 0.78125, 'x[6] <= 0.258\\ngini = 0.264\\nsamples = 66\\nvalue = [81, 15]\\nclass = Glucese'),\n",
       " Text(0.39705882352941174, 0.71875, 'x[3] <= 8.0\\ngini = 0.19\\nsamples = 44\\nvalue = [59, 7]\\nclass = Glucese'),\n",
       " Text(0.38235294117647056, 0.65625, 'x[7] <= 39.0\\ngini = 0.284\\nsamples = 24\\nvalue = [29, 6]\\nclass = Glucese'),\n",
       " Text(0.375, 0.59375, 'x[7] <= 30.5\\ngini = 0.408\\nsamples = 16\\nvalue = [15, 6]\\nclass = Glucese'),\n",
       " Text(0.3602941176470588, 0.53125, 'x[1] <= 109.0\\ngini = 0.26\\nsamples = 9\\nvalue = [11, 2]\\nclass = Glucese'),\n",
       " Text(0.35294117647058826, 0.46875, 'gini = 0.0\\nsamples = 5\\nvalue = [8, 0]\\nclass = Glucese'),\n",
       " Text(0.36764705882352944, 0.46875, 'x[6] <= 0.205\\ngini = 0.48\\nsamples = 4\\nvalue = [3, 2]\\nclass = Glucese'),\n",
       " Text(0.3602941176470588, 0.40625, 'gini = 0.0\\nsamples = 3\\nvalue = [3, 0]\\nclass = Glucese'),\n",
       " Text(0.375, 0.40625, 'gini = 0.0\\nsamples = 1\\nvalue = [0, 2]\\nclass = IBM'),\n",
       " Text(0.3897058823529412, 0.53125, 'x[5] <= 27.95\\ngini = 0.5\\nsamples = 7\\nvalue = [4, 4]\\nclass = Glucese'),\n",
       " Text(0.38235294117647056, 0.46875, 'gini = 0.0\\nsamples = 4\\nvalue = [4, 0]\\nclass = Glucese'),\n",
       " Text(0.39705882352941174, 0.46875, 'gini = 0.0\\nsamples = 3\\nvalue = [0, 4]\\nclass = IBM'),\n",
       " Text(0.3897058823529412, 0.59375, 'gini = 0.0\\nsamples = 8\\nvalue = [14, 0]\\nclass = Glucese'),\n",
       " Text(0.4117647058823529, 0.65625, 'x[5] <= 41.5\\ngini = 0.062\\nsamples = 20\\nvalue = [30, 1]\\nclass = Glucese'),\n",
       " Text(0.40441176470588236, 0.59375, 'gini = 0.0\\nsamples = 17\\nvalue = [27, 0]\\nclass = Glucese'),\n",
       " Text(0.41911764705882354, 0.59375, 'x[0] <= 4.5\\ngini = 0.375\\nsamples = 3\\nvalue = [3, 1]\\nclass = Glucese'),\n",
       " Text(0.4117647058823529, 0.53125, 'gini = 0.0\\nsamples = 2\\nvalue = [3, 0]\\nclass = Glucese'),\n",
       " Text(0.4264705882352941, 0.53125, 'gini = 0.0\\nsamples = 1\\nvalue = [0, 1]\\nclass = IBM'),\n",
       " Text(0.48161764705882354, 0.71875, 'x[0] <= 6.5\\ngini = 0.391\\nsamples = 22\\nvalue = [22, 8]\\nclass = Glucese'),\n",
       " Text(0.4632352941176471, 0.65625, 'x[0] <= 2.5\\ngini = 0.287\\nsamples = 17\\nvalue = [19, 4]\\nclass = Glucese'),\n",
       " Text(0.4485294117647059, 0.59375, 'x[2] <= 76.0\\ngini = 0.48\\nsamples = 3\\nvalue = [2, 3]\\nclass = IBM'),\n",
       " Text(0.4411764705882353, 0.53125, 'gini = 0.0\\nsamples = 1\\nvalue = [0, 2]\\nclass = IBM'),\n",
       " Text(0.45588235294117646, 0.53125, 'x[3] <= 19.5\\ngini = 0.444\\nsamples = 2\\nvalue = [2, 1]\\nclass = Glucese'),\n",
       " Text(0.4485294117647059, 0.46875, 'gini = 0.0\\nsamples = 1\\nvalue = [0, 1]\\nclass = IBM'),\n",
       " Text(0.4632352941176471, 0.46875, 'gini = 0.0\\nsamples = 1\\nvalue = [2, 0]\\nclass = Glucese'),\n",
       " Text(0.47794117647058826, 0.59375, 'x[0] <= 4.5\\ngini = 0.105\\nsamples = 14\\nvalue = [17, 1]\\nclass = Glucese'),\n",
       " Text(0.47058823529411764, 0.53125, 'gini = 0.0\\nsamples = 6\\nvalue = [7, 0]\\nclass = Glucese'),\n",
       " Text(0.4852941176470588, 0.53125, 'x[7] <= 48.0\\ngini = 0.165\\nsamples = 8\\nvalue = [10, 1]\\nclass = Glucese'),\n",
       " Text(0.47794117647058826, 0.46875, 'x[5] <= 36.95\\ngini = 0.278\\nsamples = 6\\nvalue = [5, 1]\\nclass = Glucese'),\n",
       " Text(0.47058823529411764, 0.40625, 'gini = 0.0\\nsamples = 4\\nvalue = [4, 0]\\nclass = Glucese'),\n",
       " Text(0.4852941176470588, 0.40625, 'x[6] <= 0.274\\ngini = 0.5\\nsamples = 2\\nvalue = [1, 1]\\nclass = Glucese'),\n",
       " Text(0.47794117647058826, 0.34375, 'gini = 0.0\\nsamples = 1\\nvalue = [0, 1]\\nclass = IBM'),\n",
       " Text(0.49264705882352944, 0.34375, 'gini = 0.0\\nsamples = 1\\nvalue = [1, 0]\\nclass = Glucese'),\n",
       " Text(0.49264705882352944, 0.46875, 'gini = 0.0\\nsamples = 2\\nvalue = [5, 0]\\nclass = Glucese'),\n",
       " Text(0.5, 0.65625, 'x[1] <= 95.5\\ngini = 0.49\\nsamples = 5\\nvalue = [3, 4]\\nclass = IBM'),\n",
       " Text(0.49264705882352944, 0.59375, 'gini = 0.0\\nsamples = 2\\nvalue = [2, 0]\\nclass = Glucese'),\n",
       " Text(0.5073529411764706, 0.59375, 'x[1] <= 118.0\\ngini = 0.32\\nsamples = 3\\nvalue = [1, 4]\\nclass = IBM'),\n",
       " Text(0.5, 0.53125, 'gini = 0.0\\nsamples = 2\\nvalue = [0, 4]\\nclass = IBM'),\n",
       " Text(0.5147058823529411, 0.53125, 'gini = 0.0\\nsamples = 1\\nvalue = [1, 0]\\nclass = Glucese'),\n",
       " Text(0.5716911764705882, 0.78125, 'x[0] <= 10.5\\ngini = 0.5\\nsamples = 52\\nvalue = [42, 43]\\nclass = IBM'),\n",
       " Text(0.5643382352941176, 0.71875, 'x[6] <= 0.15\\ngini = 0.499\\nsamples = 50\\nvalue = [42, 39]\\nclass = Glucese'),\n",
       " Text(0.5294117647058824, 0.65625, 'x[6] <= 0.111\\ngini = 0.32\\nsamples = 9\\nvalue = [3, 12]\\nclass = IBM'),\n",
       " Text(0.5220588235294118, 0.59375, 'gini = 0.0\\nsamples = 1\\nvalue = [2, 0]\\nclass = Glucese'),\n",
       " Text(0.5367647058823529, 0.59375, 'x[5] <= 34.2\\ngini = 0.142\\nsamples = 8\\nvalue = [1, 12]\\nclass = IBM'),\n",
       " Text(0.5294117647058824, 0.53125, 'gini = 0.0\\nsamples = 6\\nvalue = [0, 10]\\nclass = IBM'),\n",
       " Text(0.5441176470588235, 0.53125, 'x[7] <= 43.0\\ngini = 0.444\\nsamples = 2\\nvalue = [1, 2]\\nclass = IBM'),\n",
       " Text(0.5367647058823529, 0.46875, 'gini = 0.0\\nsamples = 1\\nvalue = [0, 2]\\nclass = IBM'),\n",
       " Text(0.5514705882352942, 0.46875, 'gini = 0.0\\nsamples = 1\\nvalue = [1, 0]\\nclass = Glucese'),\n",
       " Text(0.5992647058823529, 0.65625, 'x[3] <= 26.5\\ngini = 0.483\\nsamples = 41\\nvalue = [39, 27]\\nclass = Glucese'),\n",
       " Text(0.5808823529411765, 0.59375, 'x[2] <= 89.0\\ngini = 0.499\\nsamples = 29\\nvalue = [26, 24]\\nclass = Glucese'),\n",
       " Text(0.5735294117647058, 0.53125, 'x[3] <= 16.5\\ngini = 0.488\\nsamples = 25\\nvalue = [26, 19]\\nclass = Glucese'),\n",
       " Text(0.5661764705882353, 0.46875, 'x[1] <= 128.5\\ngini = 0.418\\nsamples = 21\\nvalue = [26, 11]\\nclass = Glucese'),\n",
       " Text(0.5588235294117647, 0.40625, 'gini = 0.0\\nsamples = 2\\nvalue = [0, 3]\\nclass = IBM'),\n",
       " Text(0.5735294117647058, 0.40625, 'x[7] <= 38.0\\ngini = 0.36\\nsamples = 19\\nvalue = [26, 8]\\nclass = Glucese'),\n",
       " Text(0.5661764705882353, 0.34375, 'gini = 0.0\\nsamples = 6\\nvalue = [11, 0]\\nclass = Glucese'),\n",
       " Text(0.5808823529411765, 0.34375, 'x[3] <= 7.5\\ngini = 0.454\\nsamples = 13\\nvalue = [15, 8]\\nclass = Glucese'),\n",
       " Text(0.5735294117647058, 0.28125, 'x[1] <= 135.0\\ngini = 0.472\\nsamples = 12\\nvalue = [13, 8]\\nclass = Glucese'),\n",
       " Text(0.5661764705882353, 0.21875, 'gini = 0.0\\nsamples = 1\\nvalue = [0, 3]\\nclass = IBM'),\n",
       " Text(0.5808823529411765, 0.21875, 'x[0] <= 6.5\\ngini = 0.401\\nsamples = 11\\nvalue = [13, 5]\\nclass = Glucese'),\n",
       " Text(0.5661764705882353, 0.15625, 'x[6] <= 0.184\\ngini = 0.153\\nsamples = 7\\nvalue = [11, 1]\\nclass = Glucese'),\n",
       " Text(0.5588235294117647, 0.09375, 'x[1] <= 149.5\\ngini = 0.444\\nsamples = 2\\nvalue = [2, 1]\\nclass = Glucese'),\n",
       " Text(0.5514705882352942, 0.03125, 'gini = 0.0\\nsamples = 1\\nvalue = [2, 0]\\nclass = Glucese'),\n",
       " Text(0.5661764705882353, 0.03125, 'gini = 0.0\\nsamples = 1\\nvalue = [0, 1]\\nclass = IBM'),\n",
       " Text(0.5735294117647058, 0.09375, 'gini = 0.0\\nsamples = 5\\nvalue = [9, 0]\\nclass = Glucese'),\n",
       " Text(0.5955882352941176, 0.15625, 'x[2] <= 85.0\\ngini = 0.444\\nsamples = 4\\nvalue = [2, 4]\\nclass = IBM'),\n",
       " Text(0.5882352941176471, 0.09375, 'x[1] <= 153.0\\ngini = 0.444\\nsamples = 3\\nvalue = [2, 1]\\nclass = Glucese'),\n",
       " Text(0.5808823529411765, 0.03125, 'gini = 0.0\\nsamples = 1\\nvalue = [0, 1]\\nclass = IBM'),\n",
       " Text(0.5955882352941176, 0.03125, 'gini = 0.0\\nsamples = 2\\nvalue = [2, 0]\\nclass = Glucese'),\n",
       " Text(0.6029411764705882, 0.09375, 'gini = 0.0\\nsamples = 1\\nvalue = [0, 3]\\nclass = IBM'),\n",
       " Text(0.5882352941176471, 0.28125, 'gini = 0.0\\nsamples = 1\\nvalue = [2, 0]\\nclass = Glucese'),\n",
       " Text(0.5808823529411765, 0.46875, 'gini = 0.0\\nsamples = 4\\nvalue = [0, 8]\\nclass = IBM'),\n",
       " Text(0.5882352941176471, 0.53125, 'gini = 0.0\\nsamples = 4\\nvalue = [0, 5]\\nclass = IBM'),\n",
       " Text(0.6176470588235294, 0.59375, 'x[3] <= 38.5\\ngini = 0.305\\nsamples = 12\\nvalue = [13, 3]\\nclass = Glucese'),\n",
       " Text(0.6029411764705882, 0.53125, 'x[2] <= 98.5\\ngini = 0.142\\nsamples = 10\\nvalue = [12, 1]\\nclass = Glucese'),\n",
       " Text(0.5955882352941176, 0.46875, 'gini = 0.0\\nsamples = 9\\nvalue = [12, 0]\\nclass = Glucese'),\n",
       " Text(0.6102941176470589, 0.46875, 'gini = 0.0\\nsamples = 1\\nvalue = [0, 1]\\nclass = IBM'),\n",
       " Text(0.6323529411764706, 0.53125, 'x[7] <= 29.0\\ngini = 0.444\\nsamples = 2\\nvalue = [1, 2]\\nclass = IBM'),\n",
       " Text(0.625, 0.46875, 'gini = 0.0\\nsamples = 1\\nvalue = [1, 0]\\nclass = Glucese'),\n",
       " Text(0.6397058823529411, 0.46875, 'gini = 0.0\\nsamples = 1\\nvalue = [0, 2]\\nclass = IBM'),\n",
       " Text(0.5790441176470589, 0.71875, 'gini = 0.0\\nsamples = 2\\nvalue = [0, 4]\\nclass = IBM'),\n",
       " Text(0.7761948529411765, 0.84375, 'x[5] <= 26.35\\ngini = 0.493\\nsamples = 165\\nvalue = [117, 149]\\nclass = IBM'),\n",
       " Text(0.6617647058823529, 0.78125, 'x[2] <= 73.0\\ngini = 0.105\\nsamples = 23\\nvalue = [34, 2]\\nclass = Glucese'),\n",
       " Text(0.6544117647058824, 0.71875, 'gini = 0.0\\nsamples = 13\\nvalue = [19, 0]\\nclass = Glucese'),\n",
       " Text(0.6691176470588235, 0.71875, 'x[3] <= 3.5\\ngini = 0.208\\nsamples = 10\\nvalue = [15, 2]\\nclass = Glucese'),\n",
       " Text(0.6617647058823529, 0.65625, 'x[2] <= 77.0\\ngini = 0.298\\nsamples = 6\\nvalue = [9, 2]\\nclass = Glucese'),\n",
       " Text(0.6544117647058824, 0.59375, 'x[1] <= 155.5\\ngini = 0.48\\nsamples = 2\\nvalue = [3, 2]\\nclass = Glucese'),\n",
       " Text(0.6470588235294118, 0.53125, 'gini = 0.0\\nsamples = 1\\nvalue = [3, 0]\\nclass = Glucese'),\n",
       " Text(0.6617647058823529, 0.53125, 'gini = 0.0\\nsamples = 1\\nvalue = [0, 2]\\nclass = IBM'),\n",
       " Text(0.6691176470588235, 0.59375, 'gini = 0.0\\nsamples = 4\\nvalue = [6, 0]\\nclass = Glucese'),\n",
       " Text(0.6764705882352942, 0.65625, 'gini = 0.0\\nsamples = 4\\nvalue = [6, 0]\\nclass = Glucese'),\n",
       " Text(0.890625, 0.78125, 'x[4] <= 126.5\\ngini = 0.461\\nsamples = 142\\nvalue = [83, 147]\\nclass = IBM'),\n",
       " Text(0.8235294117647058, 0.71875, 'x[6] <= 0.988\\ngini = 0.492\\nsamples = 84\\nvalue = [65, 84]\\nclass = IBM'),\n",
       " Text(0.7720588235294118, 0.65625, 'x[1] <= 139.5\\ngini = 0.481\\nsamples = 76\\nvalue = [54, 80]\\nclass = IBM'),\n",
       " Text(0.7132352941176471, 0.59375, 'x[2] <= 60.0\\ngini = 0.497\\nsamples = 51\\nvalue = [48, 41]\\nclass = Glucese'),\n",
       " Text(0.6764705882352942, 0.53125, 'x[1] <= 124.5\\ngini = 0.245\\nsamples = 9\\nvalue = [12, 2]\\nclass = Glucese'),\n",
       " Text(0.6691176470588235, 0.46875, 'x[2] <= 26.0\\ngini = 0.142\\nsamples = 8\\nvalue = [12, 1]\\nclass = Glucese'),\n",
       " Text(0.6617647058823529, 0.40625, 'x[6] <= 0.492\\ngini = 0.32\\nsamples = 4\\nvalue = [4, 1]\\nclass = Glucese'),\n",
       " Text(0.6544117647058824, 0.34375, 'gini = 0.0\\nsamples = 1\\nvalue = [0, 1]\\nclass = IBM'),\n",
       " Text(0.6691176470588235, 0.34375, 'gini = 0.0\\nsamples = 3\\nvalue = [4, 0]\\nclass = Glucese'),\n",
       " Text(0.6764705882352942, 0.40625, 'gini = 0.0\\nsamples = 4\\nvalue = [8, 0]\\nclass = Glucese'),\n",
       " Text(0.6838235294117647, 0.46875, 'gini = 0.0\\nsamples = 1\\nvalue = [0, 1]\\nclass = IBM'),\n",
       " Text(0.75, 0.53125, 'x[4] <= 11.0\\ngini = 0.499\\nsamples = 42\\nvalue = [36, 39]\\nclass = IBM'),\n",
       " Text(0.7205882352941176, 0.46875, 'x[7] <= 62.5\\ngini = 0.444\\nsamples = 30\\nvalue = [17, 34]\\nclass = IBM'),\n",
       " Text(0.7132352941176471, 0.40625, 'x[3] <= 10.0\\ngini = 0.413\\nsamples = 28\\nvalue = [14, 34]\\nclass = IBM'),\n",
       " Text(0.6838235294117647, 0.34375, 'x[5] <= 32.75\\ngini = 0.32\\nsamples = 14\\nvalue = [6, 24]\\nclass = IBM'),\n",
       " Text(0.6691176470588235, 0.28125, 'x[2] <= 69.0\\ngini = 0.095\\nsamples = 8\\nvalue = [1, 19]\\nclass = IBM'),\n",
       " Text(0.6617647058823529, 0.21875, 'x[6] <= 0.72\\ngini = 0.375\\nsamples = 2\\nvalue = [1, 3]\\nclass = IBM'),\n",
       " Text(0.6544117647058824, 0.15625, 'gini = 0.0\\nsamples = 1\\nvalue = [1, 0]\\nclass = Glucese'),\n",
       " Text(0.6691176470588235, 0.15625, 'gini = 0.0\\nsamples = 1\\nvalue = [0, 3]\\nclass = IBM'),\n",
       " Text(0.6764705882352942, 0.21875, 'gini = 0.0\\nsamples = 6\\nvalue = [0, 16]\\nclass = IBM'),\n",
       " Text(0.6985294117647058, 0.28125, 'x[0] <= 12.0\\ngini = 0.5\\nsamples = 6\\nvalue = [5, 5]\\nclass = Glucese'),\n",
       " Text(0.6911764705882353, 0.21875, 'x[6] <= 0.411\\ngini = 0.278\\nsamples = 5\\nvalue = [5, 1]\\nclass = Glucese'),\n",
       " Text(0.6838235294117647, 0.15625, 'x[5] <= 34.25\\ngini = 0.5\\nsamples = 2\\nvalue = [1, 1]\\nclass = Glucese'),\n",
       " Text(0.6764705882352942, 0.09375, 'gini = 0.0\\nsamples = 1\\nvalue = [1, 0]\\nclass = Glucese'),\n",
       " Text(0.6911764705882353, 0.09375, 'gini = 0.0\\nsamples = 1\\nvalue = [0, 1]\\nclass = IBM'),\n",
       " Text(0.6985294117647058, 0.15625, 'gini = 0.0\\nsamples = 3\\nvalue = [4, 0]\\nclass = Glucese'),\n",
       " Text(0.7058823529411765, 0.21875, 'gini = 0.0\\nsamples = 1\\nvalue = [0, 4]\\nclass = IBM'),\n",
       " Text(0.7426470588235294, 0.34375, 'x[7] <= 40.0\\ngini = 0.494\\nsamples = 14\\nvalue = [8, 10]\\nclass = IBM'),\n",
       " Text(0.7279411764705882, 0.28125, 'x[7] <= 38.5\\ngini = 0.463\\nsamples = 9\\nvalue = [7, 4]\\nclass = Glucese'),\n",
       " Text(0.7205882352941176, 0.21875, 'x[5] <= 37.5\\ngini = 0.49\\nsamples = 7\\nvalue = [3, 4]\\nclass = IBM'),\n",
       " Text(0.7132352941176471, 0.15625, 'x[7] <= 35.0\\ngini = 0.375\\nsamples = 4\\nvalue = [3, 1]\\nclass = Glucese'),\n",
       " Text(0.7058823529411765, 0.09375, 'gini = 0.0\\nsamples = 3\\nvalue = [3, 0]\\nclass = Glucese'),\n",
       " Text(0.7205882352941176, 0.09375, 'gini = 0.0\\nsamples = 1\\nvalue = [0, 1]\\nclass = IBM'),\n",
       " Text(0.7279411764705882, 0.15625, 'gini = 0.0\\nsamples = 3\\nvalue = [0, 3]\\nclass = IBM'),\n",
       " Text(0.7352941176470589, 0.21875, 'gini = 0.0\\nsamples = 2\\nvalue = [4, 0]\\nclass = Glucese'),\n",
       " Text(0.7573529411764706, 0.28125, 'x[5] <= 32.45\\ngini = 0.245\\nsamples = 5\\nvalue = [1, 6]\\nclass = IBM'),\n",
       " Text(0.75, 0.21875, 'gini = 0.0\\nsamples = 1\\nvalue = [1, 0]\\nclass = Glucese'),\n",
       " Text(0.7647058823529411, 0.21875, 'gini = 0.0\\nsamples = 4\\nvalue = [0, 6]\\nclass = IBM'),\n",
       " Text(0.7279411764705882, 0.40625, 'gini = 0.0\\nsamples = 2\\nvalue = [3, 0]\\nclass = Glucese'),\n",
       " Text(0.7794117647058824, 0.46875, 'x[5] <= 28.15\\ngini = 0.33\\nsamples = 12\\nvalue = [19, 5]\\nclass = Glucese'),\n",
       " Text(0.7720588235294118, 0.40625, 'gini = 0.0\\nsamples = 1\\nvalue = [0, 2]\\nclass = IBM'),\n",
       " Text(0.7867647058823529, 0.40625, 'x[7] <= 28.5\\ngini = 0.236\\nsamples = 11\\nvalue = [19, 3]\\nclass = Glucese'),\n",
       " Text(0.7794117647058824, 0.34375, 'x[7] <= 27.5\\ngini = 0.375\\nsamples = 2\\nvalue = [1, 3]\\nclass = IBM'),\n",
       " Text(0.7720588235294118, 0.28125, 'gini = 0.0\\nsamples = 1\\nvalue = [1, 0]\\nclass = Glucese'),\n",
       " Text(0.7867647058823529, 0.28125, 'gini = 0.0\\nsamples = 1\\nvalue = [0, 3]\\nclass = IBM'),\n",
       " Text(0.7941176470588235, 0.34375, 'gini = 0.0\\nsamples = 9\\nvalue = [18, 0]\\nclass = Glucese'),\n",
       " Text(0.8308823529411765, 0.59375, 'x[4] <= 117.0\\ngini = 0.231\\nsamples = 25\\nvalue = [6, 39]\\nclass = IBM'),\n",
       " Text(0.8161764705882353, 0.53125, 'x[6] <= 0.591\\ngini = 0.095\\nsamples = 22\\nvalue = [2, 38]\\nclass = IBM'),\n",
       " Text(0.8088235294117647, 0.46875, 'gini = 0.0\\nsamples = 13\\nvalue = [0, 23]\\nclass = IBM'),\n",
       " Text(0.8235294117647058, 0.46875, 'x[2] <= 100.0\\ngini = 0.208\\nsamples = 9\\nvalue = [2, 15]\\nclass = IBM'),\n",
       " Text(0.8161764705882353, 0.40625, 'x[0] <= 2.0\\ngini = 0.117\\nsamples = 8\\nvalue = [1, 15]\\nclass = IBM'),\n",
       " Text(0.8088235294117647, 0.34375, 'x[1] <= 144.5\\ngini = 0.32\\nsamples = 3\\nvalue = [1, 4]\\nclass = IBM'),\n",
       " Text(0.8014705882352942, 0.28125, 'gini = 0.0\\nsamples = 1\\nvalue = [1, 0]\\nclass = Glucese'),\n",
       " Text(0.8161764705882353, 0.28125, 'gini = 0.0\\nsamples = 2\\nvalue = [0, 4]\\nclass = IBM'),\n",
       " Text(0.8235294117647058, 0.34375, 'gini = 0.0\\nsamples = 5\\nvalue = [0, 11]\\nclass = IBM'),\n",
       " Text(0.8308823529411765, 0.40625, 'gini = 0.0\\nsamples = 1\\nvalue = [1, 0]\\nclass = Glucese'),\n",
       " Text(0.8455882352941176, 0.53125, 'x[5] <= 33.25\\ngini = 0.32\\nsamples = 3\\nvalue = [4, 1]\\nclass = Glucese'),\n",
       " Text(0.8382352941176471, 0.46875, 'gini = 0.0\\nsamples = 1\\nvalue = [3, 0]\\nclass = Glucese'),\n",
       " Text(0.8529411764705882, 0.46875, 'x[0] <= 6.5\\ngini = 0.5\\nsamples = 2\\nvalue = [1, 1]\\nclass = Glucese'),\n",
       " Text(0.8455882352941176, 0.40625, 'gini = 0.0\\nsamples = 1\\nvalue = [1, 0]\\nclass = Glucese'),\n",
       " Text(0.8602941176470589, 0.40625, 'gini = 0.0\\nsamples = 1\\nvalue = [0, 1]\\nclass = IBM'),\n",
       " Text(0.875, 0.65625, 'x[4] <= 97.0\\ngini = 0.391\\nsamples = 8\\nvalue = [11, 4]\\nclass = Glucese'),\n",
       " Text(0.8676470588235294, 0.59375, 'x[1] <= 80.5\\ngini = 0.337\\nsamples = 7\\nvalue = [11, 3]\\nclass = Glucese'),\n",
       " Text(0.8602941176470589, 0.53125, 'gini = 0.0\\nsamples = 1\\nvalue = [0, 1]\\nclass = IBM'),\n",
       " Text(0.875, 0.53125, 'x[5] <= 34.75\\ngini = 0.26\\nsamples = 6\\nvalue = [11, 2]\\nclass = Glucese'),\n",
       " Text(0.8676470588235294, 0.46875, 'gini = 0.0\\nsamples = 2\\nvalue = [0, 2]\\nclass = IBM'),\n",
       " Text(0.8823529411764706, 0.46875, 'gini = 0.0\\nsamples = 4\\nvalue = [11, 0]\\nclass = Glucese'),\n",
       " Text(0.8823529411764706, 0.59375, 'gini = 0.0\\nsamples = 1\\nvalue = [0, 1]\\nclass = IBM'),\n",
       " Text(0.9577205882352942, 0.71875, 'x[2] <= 81.0\\ngini = 0.346\\nsamples = 58\\nvalue = [18, 63]\\nclass = IBM'),\n",
       " Text(0.9301470588235294, 0.65625, 'x[1] <= 123.5\\ngini = 0.431\\nsamples = 41\\nvalue = [17, 37]\\nclass = IBM'),\n",
       " Text(0.9117647058823529, 0.59375, 'x[0] <= 7.0\\ngini = 0.496\\nsamples = 9\\nvalue = [6, 5]\\nclass = Glucese'),\n",
       " Text(0.9044117647058824, 0.53125, 'x[2] <= 65.0\\ngini = 0.375\\nsamples = 6\\nvalue = [6, 2]\\nclass = Glucese'),\n",
       " Text(0.8970588235294118, 0.46875, 'gini = 0.0\\nsamples = 1\\nvalue = [0, 1]\\nclass = IBM'),\n",
       " Text(0.9117647058823529, 0.46875, 'x[0] <= 5.0\\ngini = 0.245\\nsamples = 5\\nvalue = [6, 1]\\nclass = Glucese'),\n",
       " Text(0.9044117647058824, 0.40625, 'gini = 0.0\\nsamples = 3\\nvalue = [4, 0]\\nclass = Glucese'),\n",
       " Text(0.9191176470588235, 0.40625, 'x[2] <= 73.0\\ngini = 0.444\\nsamples = 2\\nvalue = [2, 1]\\nclass = Glucese'),\n",
       " Text(0.9117647058823529, 0.34375, 'gini = 0.0\\nsamples = 1\\nvalue = [2, 0]\\nclass = Glucese'),\n",
       " Text(0.9264705882352942, 0.34375, 'gini = 0.0\\nsamples = 1\\nvalue = [0, 1]\\nclass = IBM'),\n",
       " Text(0.9191176470588235, 0.53125, 'gini = 0.0\\nsamples = 3\\nvalue = [0, 3]\\nclass = IBM'),\n",
       " Text(0.9485294117647058, 0.59375, 'x[5] <= 44.7\\ngini = 0.381\\nsamples = 32\\nvalue = [11, 32]\\nclass = IBM'),\n",
       " Text(0.9411764705882353, 0.53125, 'x[0] <= 3.5\\ngini = 0.32\\nsamples = 30\\nvalue = [8, 32]\\nclass = IBM'),\n",
       " Text(0.9338235294117647, 0.46875, 'gini = 0.0\\nsamples = 16\\nvalue = [0, 19]\\nclass = IBM'),\n",
       " Text(0.9485294117647058, 0.46875, 'x[5] <= 29.45\\ngini = 0.472\\nsamples = 14\\nvalue = [8, 13]\\nclass = IBM'),\n",
       " Text(0.9411764705882353, 0.40625, 'gini = 0.0\\nsamples = 2\\nvalue = [3, 0]\\nclass = Glucese'),\n",
       " Text(0.9558823529411765, 0.40625, 'x[3] <= 27.0\\ngini = 0.401\\nsamples = 12\\nvalue = [5, 13]\\nclass = IBM'),\n",
       " Text(0.9411764705882353, 0.34375, 'x[4] <= 156.0\\ngini = 0.5\\nsamples = 4\\nvalue = [3, 3]\\nclass = Glucese'),\n",
       " Text(0.9338235294117647, 0.28125, 'gini = 0.0\\nsamples = 2\\nvalue = [0, 3]\\nclass = IBM'),\n",
       " Text(0.9485294117647058, 0.28125, 'gini = 0.0\\nsamples = 2\\nvalue = [3, 0]\\nclass = Glucese'),\n",
       " Text(0.9705882352941176, 0.34375, 'x[6] <= 1.841\\ngini = 0.278\\nsamples = 8\\nvalue = [2, 10]\\nclass = IBM'),\n",
       " Text(0.9632352941176471, 0.28125, 'gini = 0.0\\nsamples = 7\\nvalue = [0, 10]\\nclass = IBM'),\n",
       " Text(0.9779411764705882, 0.28125, 'gini = 0.0\\nsamples = 1\\nvalue = [2, 0]\\nclass = Glucese'),\n",
       " Text(0.9558823529411765, 0.53125, 'gini = 0.0\\nsamples = 2\\nvalue = [3, 0]\\nclass = Glucese'),\n",
       " Text(0.9852941176470589, 0.65625, 'x[7] <= 37.0\\ngini = 0.071\\nsamples = 17\\nvalue = [1, 26]\\nclass = IBM'),\n",
       " Text(0.9779411764705882, 0.59375, 'x[0] <= 4.0\\ngini = 0.219\\nsamples = 6\\nvalue = [1, 7]\\nclass = IBM'),\n",
       " Text(0.9705882352941176, 0.53125, 'gini = 0.0\\nsamples = 4\\nvalue = [0, 5]\\nclass = IBM'),\n",
       " Text(0.9852941176470589, 0.53125, 'x[3] <= 42.5\\ngini = 0.444\\nsamples = 2\\nvalue = [1, 2]\\nclass = IBM'),\n",
       " Text(0.9779411764705882, 0.46875, 'gini = 0.0\\nsamples = 1\\nvalue = [0, 2]\\nclass = IBM'),\n",
       " Text(0.9926470588235294, 0.46875, 'gini = 0.0\\nsamples = 1\\nvalue = [1, 0]\\nclass = Glucese'),\n",
       " Text(0.9926470588235294, 0.59375, 'gini = 0.0\\nsamples = 11\\nvalue = [0, 19]\\nclass = IBM')]"
      ]
     },
     "execution_count": 46,
     "metadata": {},
     "output_type": "execute_result"
    },
    {
     "data": {
      "image/png": "[encoded data removed]",
      "text/plain": [
       "<Figure size 400x400 with 1 Axes>"
      ]
     },
     "metadata": {},
     "output_type": "display_data"
    }
   ],
   "source": [
    "plt.figure(figsize=(4,4))\n",
    "plot_tree(model.estimators_[5],class_names=['Glucese','IBM'],filled=True)"
   ]
  },
  {
   "cell_type": "code",
   "execution_count": null,
   "id": "9a1aebbf-755b-43d3-a038-adc088fc0ad4",
   "metadata": {},
   "outputs": [],
   "source": []
  }
 ],
 "metadata": {
  "kernelspec": {
   "display_name": "Python 3 (ipykernel)",
   "language": "python",
   "name": "python3"
  },
  "language_info": {
   "codemirror_mode": {
    "name": "ipython",
    "version": 3
   },
   "file_extension": ".py",
   "mimetype": "text/x-python",
   "name": "python",
   "nbconvert_exporter": "python",
   "pygments_lexer": "ipython3",
   "version": "3.11.3"
  }
 },
 "nbformat": 4,
 "nbformat_minor": 5
}
