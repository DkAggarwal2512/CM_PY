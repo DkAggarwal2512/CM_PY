{
 "cells": [
  {
   "cell_type": "code",
   "execution_count": 1,
   "id": "19980010",
   "metadata": {},
   "outputs": [],
   "source": [
    "import matplotlib.pyplot as plt"
   ]
  },
  {
   "cell_type": "code",
   "execution_count": 20,
   "id": "15cef994",
   "metadata": {},
   "outputs": [
    {
     "data": {
      "image/png": "[encoded data removed]",
      "text/plain": [
       "<Figure size 400x400 with 1 Axes>"
      ]
     },
     "metadata": {},
     "output_type": "display_data"
    }
   ],
   "source": [
    "plt.figure(figsize=(4,4))\n",
    "a = [1,2,3,4,5,6,7,8,9,10,20]\n",
    "plt.boxplot(a)\n",
    "plt.show()"
   ]
  },
  {
   "cell_type": "code",
   "execution_count": 19,
   "id": "7daff0b1",
   "metadata": {},
   "outputs": [
    {
     "data": {
      "image/png": "[encoded data removed]",
      "text/plain": [
       "<Figure size 400x300 with 1 Axes>"
      ]
     },
     "metadata": {},
     "output_type": "display_data"
    }
   ],
   "source": [
    "plt.figure(figsize=(4,3))\n",
    "a = [50,60,70,80,90]\n",
    "plt.boxplot(a, vert= False, widths=0.1, labels=[\"Student's Marks\"],\n",
    "           patch_artist=True, showmeans =True)\n",
    "plt.show()"
   ]
  },
  {
   "cell_type": "code",
   "execution_count": 14,
   "id": "f68c93ed",
   "metadata": {},
   "outputs": [
    {
     "data": {
      "text/plain": [
       "array([48, 60, 62, 61, 53, 40, 56, 48, 47, 55, 42, 41, 58, 50, 46, 52, 66,\n",
       "       61, 69, 61, 47, 57, 62, 46, 46, 43, 57, 56, 54, 60, 51, 50, 62, 58,\n",
       "       66, 68, 49, 44, 53, 47, 51, 55, 42, 50, 59, 64, 59, 65, 48, 51])"
      ]
     },
     "execution_count": 14,
     "metadata": {},
     "output_type": "execute_result"
    }
   ],
   "source": [
    "import numpy as np \n",
    "df = np.random.randint(40,70,50)\n",
    "df"
   ]
  },
  {
   "cell_type": "code",
   "execution_count": 15,
   "id": "fb809004",
   "metadata": {},
   "outputs": [
    {
     "data": {
      "text/plain": [
       "<function matplotlib.pyplot.show(close=None, block=None)>"
      ]
     },
     "execution_count": 15,
     "metadata": {},
     "output_type": "execute_result"
    },
    {
     "data": {
      "image/png": "[encoded data removed]",
      "text/plain": [
       "<Figure size 400x200 with 1 Axes>"
      ]
     },
     "metadata": {},
     "output_type": "display_data"
    }
   ],
   "source": [
    "a = [56, 48, 40, 62, 57, 60, 41, 63, 65, 55, 64, 41, 40, 56, 47, 62, 59,\n",
    "       51, 61, 52, 59, 55, 66, 41, 45, 47, 41, 55, 51, 49, 68, 66, 59, 69,\n",
    "       68, 62, 43, 58, 56, 44, 45, 49, 62, 47, 56, 69, 48, 49, 47, 43]\n",
    "plt.figure(figsize=(4,2))\n",
    "plt.boxplot(a, vert=False, boxprops=dict(color='r'),\n",
    "            capprops=dict(color='g'), whiskerprops=dict(color='y'))\n",
    "plt.show"
   ]
  },
  {
   "cell_type": "code",
   "execution_count": 16,
   "id": "dc6c1260",
   "metadata": {},
   "outputs": [
    {
     "data": {
      "text/plain": [
       "<function matplotlib.pyplot.show(close=None, block=None)>"
      ]
     },
     "execution_count": 16,
     "metadata": {},
     "output_type": "execute_result"
    },
    {
     "data": {
      "image/png": "[encoded data removed]",
      "text/plain": [
       "<Figure size 400x200 with 1 Axes>"
      ]
     },
     "metadata": {},
     "output_type": "display_data"
    }
   ],
   "source": [
    "a = [56, 48, 40, 62, 57, 60, 41, 63, 65, 55, 64, 41, 40, 56, 47, 62, 59,\n",
    "       51, 61, 52, 59, 55, 66, 41, 45, 47, 41, 55, 51, 49, 68, 66, 59, 69,\n",
    "       68, 62, 43, 58, 56, 44, 45, 49, 62, 47, 56, 69, 48, 49, 47, 43]\n",
    "plt.figure(figsize=(4,2))\n",
    "plt.boxplot(a, vert=False, boxprops={'color':'red'})\n",
    "plt.show"
   ]
  },
  {
   "cell_type": "markdown",
   "id": "4fef63ec",
   "metadata": {},
   "source": [
    "# seaborn"
   ]
  },
  {
   "cell_type": "code",
   "execution_count": null,
   "id": "f62c6165",
   "metadata": {},
   "outputs": [],
   "source": [
    "pip install seaborn"
   ]
  },
  {
   "cell_type": "code",
   "execution_count": null,
   "id": "87a4975d",
   "metadata": {},
   "outputs": [],
   "source": [
    "import seaborn as sns"
   ]
  },
  {
   "cell_type": "code",
   "execution_count": null,
   "id": "cd3ee4ac",
   "metadata": {},
   "outputs": [],
   "source": [
    "df = sns.load_dataset('titanic')\n",
    "df"
   ]
  },
  {
   "cell_type": "code",
   "execution_count": null,
   "id": "1adf2f9a",
   "metadata": {},
   "outputs": [],
   "source": [
    "a = sns.load_dataset('healthexp')\n",
    "a"
   ]
  },
  {
   "cell_type": "code",
   "execution_count": null,
   "id": "962a4c29",
   "metadata": {},
   "outputs": [],
   "source": [
    "a = [56, 48, 40, 62, 57, 60, 41, 63, 65, 55, 64, 41, 40, 56, 47, 62, 59,\n",
    "       51, 61, 52, 59, 55, 66, 41, 45, 47, 41, 55, 51, 49, 68, 66, ]\n",
    "b = [10,20,30,40,50,60,70,80,90]\n",
    "c= [ 40,45,70,85,90,75,65,41,56]\n",
    "x = [ a,b,c]\n",
    "plt.figure(figsize=(6,4))\n",
    "plt.boxplot(x, showmeans=True,labels = ['Patna','Kanpur', 'Dehradun'])\n",
    "plt.show()"
   ]
  },
  {
   "cell_type": "code",
   "execution_count": null,
   "id": "f8a0098c",
   "metadata": {},
   "outputs": [],
   "source": []
  },
  {
   "cell_type": "code",
   "execution_count": null,
   "id": "2a3cf8b8",
   "metadata": {},
   "outputs": [],
   "source": []
  }
 ],
 "metadata": {
  "kernelspec": {
   "display_name": "Python 3 (ipykernel)",
   "language": "python",
   "name": "python3"
  },
  "language_info": {
   "codemirror_mode": {
    "name": "ipython",
    "version": 3
   },
   "file_extension": ".py",
   "mimetype": "text/x-python",
   "name": "python",
   "nbconvert_exporter": "python",
   "pygments_lexer": "ipython3",
   "version": "3.11.1"
  }
 },
 "nbformat": 4,
 "nbformat_minor": 5
}
