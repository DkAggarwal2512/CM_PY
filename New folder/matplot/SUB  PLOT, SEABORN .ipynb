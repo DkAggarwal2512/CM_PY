{
 "cells": [
  {
   "cell_type": "code",
   "execution_count": null,
   "id": "c5d6442f",
   "metadata": {},
   "outputs": [],
   "source": [
    "import numpy as np\n",
    "import statistics as st"
   ]
  },
  {
   "cell_type": "code",
   "execution_count": null,
   "id": "fffc1eee",
   "metadata": {},
   "outputs": [],
   "source": [
    "a =[20,20,21,21,21,21,22,22,22,23,24,24,25,25,27,28,34,50]\n",
    "b= np.mean(a)\n",
    "c= np.median(a)\n",
    "\n",
    "print(b)\n",
    "print(c)\n"
   ]
  },
  {
   "cell_type": "code",
   "execution_count": null,
   "id": "b80849d8",
   "metadata": {},
   "outputs": [],
   "source": [
    "a =[20,20,21,21,21,21,22,22,22,23,24,24,25,25,27,28,34,50]\n",
    "b = st.mode(a)\n",
    "print(b)"
   ]
  },
  {
   "cell_type": "code",
   "execution_count": null,
   "id": "7485d846",
   "metadata": {},
   "outputs": [],
   "source": [
    "data = pd.DataFrame({'values': [10, 15, 20, 25, 30, 35, 40, 45, 50, 55]})\n",
    "\n",
    "\n",
    "Q1 = data['values'].quantile(0.25)\n",
    "Q3 = data['values'].quantile(0.75)\n",
    "IQR = Q3 - Q1\n",
    "print(f\"Q1: {Q1}\")\n",
    "print(f\"Q3: {Q3}\")\n",
    "print(f\"IQR: {IQR}\")\n"
   ]
  },
  {
   "cell_type": "code",
   "execution_count": null,
   "id": "fefdeaa1",
   "metadata": {},
   "outputs": [],
   "source": []
  },
  {
   "cell_type": "code",
   "execution_count": null,
   "id": "dde2f963",
   "metadata": {},
   "outputs": [],
   "source": [
    "import pandas as pd\n",
    "import matplotlib.pyplot as plt\n"
   ]
  },
  {
   "cell_type": "code",
   "execution_count": null,
   "id": "263b1edf",
   "metadata": {},
   "outputs": [],
   "source": [
    "a = [0,1,2,3,4,5,6]\n",
    "b = [5,10,15,20,25,30,35]\n",
    "\n",
    "\n",
    "plt.figure(figsize=(8, 4))\n",
    "\n",
    "#First plot\n",
    "plt.subplot(1, 2, 1)  \n",
    "plt.plot(a, b,color='g', marker='*')\n",
    "plt.title('Marks')\n",
    "\n",
    "#Second Plot\n",
    "plt.subplot(1, 2, 2) \n",
    "plt.plot(a, b , color='y', marker='*')\n",
    "plt.title('Student')\n",
    "\n",
    "plt.show()\n"
   ]
  },
  {
   "cell_type": "code",
   "execution_count": null,
   "id": "4d6600be",
   "metadata": {},
   "outputs": [],
   "source": [
    "# a = [0,1,2,3,4,5,6]\n",
    "b = [5,10,15,20,25,30,35]\n",
    "\n",
    "\n",
    "plt.figure(figsize=(8, 4))\n",
    "\n",
    "#First plot\n",
    "plt.subplot(1, 2, 1)  \n",
    "plt.plot(a, b,color='g', marker='*')\n",
    "plt.title('Marks')\n",
    "\n",
    "#Second Plot\n",
    "plt.subplot(2, 2, 2) \n",
    "plt.plot(a, b , color='y', marker='*')\n",
    "plt.title('Student')\n",
    "\n",
    "plt.show()"
   ]
  },
  {
   "cell_type": "markdown",
   "id": "0ff77e5e",
   "metadata": {},
   "source": [
    "# SEABORN \n"
   ]
  },
  {
   "cell_type": "code",
   "execution_count": null,
   "id": "bf6195b5",
   "metadata": {},
   "outputs": [],
   "source": [
    "import seaborn as sns\n",
    "import matplotlib.pyplot as plt\n"
   ]
  },
  {
   "cell_type": "code",
   "execution_count": null,
   "id": "ea059fa1",
   "metadata": {
    "scrolled": true
   },
   "outputs": [],
   "source": [
    "print(sns.__version__)"
   ]
  },
  {
   "cell_type": "code",
   "execution_count": null,
   "id": "42d95222",
   "metadata": {},
   "outputs": [],
   "source": [
    "pip install ydata-profiling"
   ]
  },
  {
   "cell_type": "code",
   "execution_count": null,
   "id": "7b03d673",
   "metadata": {},
   "outputs": [],
   "source": []
  },
  {
   "cell_type": "code",
   "execution_count": null,
   "id": "d5f54e32",
   "metadata": {},
   "outputs": [],
   "source": [
    "a = sns.get_dataset_names()\n",
    "print(a)"
   ]
  },
  {
   "cell_type": "code",
   "execution_count": 4,
   "id": "ca9955b5",
   "metadata": {},
   "outputs": [
    {
     "ename": "ModuleNotFoundError",
     "evalue": "No module named 'pandas_profiling'",
     "output_type": "error",
     "traceback": [
      "\u001b[1;31m---------------------------------------------------------------------------\u001b[0m",
      "\u001b[1;31mModuleNotFoundError\u001b[0m                       Traceback (most recent call last)",
      "Cell \u001b[1;32mIn[4], line 1\u001b[0m\n\u001b[1;32m----> 1\u001b[0m \u001b[38;5;28;01mfrom\u001b[39;00m \u001b[38;5;21;01mpandas_profiling\u001b[39;00m \u001b[38;5;28;01mimport\u001b[39;00m ProfileReport\n",
      "\u001b[1;31mModuleNotFoundError\u001b[0m: No module named 'pandas_profiling'"
     ]
    }
   ],
   "source": [
    "from pandas_profiling import ProfileReport\n"
   ]
  },
  {
   "cell_type": "code",
   "execution_count": null,
   "id": "ef6dbf24",
   "metadata": {},
   "outputs": [],
   "source": []
  }
 ],
 "metadata": {
  "kernelspec": {
   "display_name": "Python 3 (ipykernel)",
   "language": "python",
   "name": "python3"
  },
  "language_info": {
   "codemirror_mode": {
    "name": "ipython",
    "version": 3
   },
   "file_extension": ".py",
   "mimetype": "text/x-python",
   "name": "python",
   "nbconvert_exporter": "python",
   "pygments_lexer": "ipython3",
   "version": "3.11.1"
  }
 },
 "nbformat": 4,
 "nbformat_minor": 5
}
