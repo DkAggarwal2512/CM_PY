{
 "cells": [
  {
   "cell_type": "code",
   "execution_count": 2,
   "id": "828263fa",
   "metadata": {},
   "outputs": [
    {
     "name": "stdout",
     "output_type": "stream",
     "text": [
      "Requirement already satisfied: numpy in c:\\users\\ses13\\appdata\\local\\programs\\python\\python311\\lib\\site-packages (1.24.4)\n",
      "Note: you may need to restart the kernel to use updated packages.\n"
     ]
    }
   ],
   "source": [
    "pip install numpy\n"
   ]
  },
  {
   "cell_type": "code",
   "execution_count": 5,
   "id": "d6061c5b",
   "metadata": {},
   "outputs": [
    {
     "data": {
      "text/plain": [
       "'1.24.4'"
      ]
     },
     "execution_count": 5,
     "metadata": {},
     "output_type": "execute_result"
    }
   ],
   "source": [
    "import numpy\n",
    "numpy.version.version\n"
   ]
  },
  {
   "cell_type": "code",
   "execution_count": 6,
   "id": "20db1f35",
   "metadata": {},
   "outputs": [],
   "source": [
    "import numpy as np\n"
   ]
  },
  {
   "cell_type": "code",
   "execution_count": 8,
   "id": "69f6e518",
   "metadata": {},
   "outputs": [],
   "source": [
    "arr0 = np.array(5)"
   ]
  },
  {
   "cell_type": "code",
   "execution_count": 9,
   "id": "aad9f9bd",
   "metadata": {},
   "outputs": [
    {
     "name": "stdout",
     "output_type": "stream",
     "text": [
      "5\n"
     ]
    }
   ],
   "source": [
    "print(arr0)"
   ]
  },
  {
   "cell_type": "code",
   "execution_count": 10,
   "id": "14067dd5",
   "metadata": {},
   "outputs": [
    {
     "data": {
      "text/plain": [
       "numpy.ndarray"
      ]
     },
     "execution_count": 10,
     "metadata": {},
     "output_type": "execute_result"
    }
   ],
   "source": [
    "type(arr0)"
   ]
  },
  {
   "cell_type": "code",
   "execution_count": 11,
   "id": "d49d43e4",
   "metadata": {},
   "outputs": [
    {
     "data": {
      "text/plain": [
       "0"
      ]
     },
     "execution_count": 11,
     "metadata": {},
     "output_type": "execute_result"
    }
   ],
   "source": [
    "arr0.ndim"
   ]
  },
  {
   "cell_type": "code",
   "execution_count": 13,
   "id": "c56f024c",
   "metadata": {},
   "outputs": [],
   "source": [
    "arr1 = np.array([5,2,3.4])"
   ]
  },
  {
   "cell_type": "code",
   "execution_count": 14,
   "id": "5e7eab6a",
   "metadata": {},
   "outputs": [
    {
     "data": {
      "text/plain": [
       "numpy.ndarray"
      ]
     },
     "execution_count": 14,
     "metadata": {},
     "output_type": "execute_result"
    }
   ],
   "source": [
    "type(arr1)"
   ]
  },
  {
   "cell_type": "code",
   "execution_count": 15,
   "id": "f761c3fa",
   "metadata": {},
   "outputs": [
    {
     "data": {
      "text/plain": [
       "1"
      ]
     },
     "execution_count": 15,
     "metadata": {},
     "output_type": "execute_result"
    }
   ],
   "source": [
    "arr1.ndim"
   ]
  },
  {
   "cell_type": "code",
   "execution_count": 16,
   "id": "c6efe169",
   "metadata": {},
   "outputs": [
    {
     "name": "stdout",
     "output_type": "stream",
     "text": [
      "[5.  2.  3.4]\n"
     ]
    }
   ],
   "source": [
    "print (arr1)"
   ]
  },
  {
   "cell_type": "code",
   "execution_count": 19,
   "id": "84dada19",
   "metadata": {},
   "outputs": [
    {
     "name": "stdout",
     "output_type": "stream",
     "text": [
      "[3 6 4 1]\n",
      "<class 'numpy.ndarray'>\n",
      "1\n"
     ]
    }
   ],
   "source": [
    "a1 = np.array([3,6,4,1])\n",
    "print(a1)\n",
    "print(type(a1))\n",
    "print(a1.ndim)"
   ]
  },
  {
   "cell_type": "code",
   "execution_count": 23,
   "id": "055d9bec",
   "metadata": {},
   "outputs": [
    {
     "name": "stdout",
     "output_type": "stream",
     "text": [
      "[1, 2, 3, True, (2, 5), 'Gulshan ', {3, 4}]\n"
     ]
    },
    {
     "data": {
      "text/plain": [
       "list"
      ]
     },
     "execution_count": 23,
     "metadata": {},
     "output_type": "execute_result"
    }
   ],
   "source": [
    "b = [1,2,3, True ,(2,5), \"Gulshan \",{3,4}]\n",
    "print(b)\n",
    "type(b)"
   ]
  },
  {
   "cell_type": "code",
   "execution_count": 28,
   "id": "51987cec",
   "metadata": {},
   "outputs": [
    {
     "name": "stdout",
     "output_type": "stream",
     "text": [
      "[1 2 3 3 4]\n"
     ]
    }
   ],
   "source": [
    "c = np.array ([ 1,2,3,3,4])\n",
    "print(c)"
   ]
  },
  {
   "cell_type": "code",
   "execution_count": 29,
   "id": "1c0872ab",
   "metadata": {},
   "outputs": [
    {
     "name": "stdout",
     "output_type": "stream",
     "text": [
      "['c' 'd' 'e' '4']\n"
     ]
    }
   ],
   "source": [
    "d = np.array([ 'c','d','e',4])\n",
    "print(d)"
   ]
  },
  {
   "cell_type": "code",
   "execution_count": 30,
   "id": "ecf8c7e0",
   "metadata": {},
   "outputs": [
    {
     "name": "stdout",
     "output_type": "stream",
     "text": [
      "[5.+9.j 4.+0.j 7.+0.j 8.+0.j]\n"
     ]
    }
   ],
   "source": [
    "e = np.array([5+9j,4,7,8])\n",
    "print(e)"
   ]
  },
  {
   "cell_type": "code",
   "execution_count": 38,
   "id": "f4475d8b",
   "metadata": {},
   "outputs": [
    {
     "data": {
      "text/plain": [
       "2"
      ]
     },
     "execution_count": 38,
     "metadata": {},
     "output_type": "execute_result"
    }
   ],
   "source": [
    "arr2 = np.array ([\n",
    "    [4,7,8,9],\n",
    "    [0,7,8,3]\n",
    "\n",
    "\n",
    "]) \n",
    "arr2.ndim"
   ]
  },
  {
   "cell_type": "code",
   "execution_count": 40,
   "id": "99e41ebb",
   "metadata": {},
   "outputs": [
    {
     "data": {
      "text/plain": [
       "2"
      ]
     },
     "execution_count": 40,
     "metadata": {},
     "output_type": "execute_result"
    }
   ],
   "source": [
    "arr3 = np.array([\n",
    "    [5,9]\n",
    "])\n",
    "arr3.ndim"
   ]
  },
  {
   "cell_type": "code",
   "execution_count": 42,
   "id": "4cf5331d",
   "metadata": {},
   "outputs": [
    {
     "data": {
      "text/plain": [
       "4"
      ]
     },
     "execution_count": 42,
     "metadata": {},
     "output_type": "execute_result"
    }
   ],
   "source": [
    "arr4 = np.array([\n",
    "    [\n",
    "        [\n",
    "            [6,4,78],[7,5,4]\n",
    "        ]\n",
    "    ]\n",
    "])\n",
    "arr4.ndim"
   ]
  },
  {
   "cell_type": "code",
   "execution_count": null,
   "id": "58c8e61e",
   "metadata": {},
   "outputs": [],
   "source": []
  }
 ],
 "metadata": {
  "kernelspec": {
   "display_name": "Python 3 (ipykernel)",
   "language": "python",
   "name": "python3"
  },
  "language_info": {
   "codemirror_mode": {
    "name": "ipython",
    "version": 3
   },
   "file_extension": ".py",
   "mimetype": "text/x-python",
   "name": "python",
   "nbconvert_exporter": "python",
   "pygments_lexer": "ipython3",
   "version": "3.11.1"
  }
 },
 "nbformat": 4,
 "nbformat_minor": 5
}
