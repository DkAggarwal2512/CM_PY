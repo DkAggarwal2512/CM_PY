{
 "cells": [
  {
   "cell_type": "code",
   "execution_count": 1,
   "id": "d23fe48b",
   "metadata": {},
   "outputs": [
    {
     "name": "stdout",
     "output_type": "stream",
     "text": [
      "Requirement already satisfied: pandas in c:\\users\\ses13\\appdata\\local\\programs\\python\\python311\\lib\\site-packages (2.0.3)\n",
      "Requirement already satisfied: python-dateutil>=2.8.2 in c:\\users\\ses13\\appdata\\local\\programs\\python\\python311\\lib\\site-packages (from pandas) (2.8.2)\n",
      "Requirement already satisfied: pytz>=2020.1 in c:\\users\\ses13\\appdata\\local\\programs\\python\\python311\\lib\\site-packages (from pandas) (2023.3)\n",
      "Requirement already satisfied: tzdata>=2022.1 in c:\\users\\ses13\\appdata\\local\\programs\\python\\python311\\lib\\site-packages (from pandas) (2023.3)\n",
      "Requirement already satisfied: numpy>=1.21.0 in c:\\users\\ses13\\appdata\\local\\programs\\python\\python311\\lib\\site-packages (from pandas) (1.24.4)\n",
      "Requirement already satisfied: six>=1.5 in c:\\users\\ses13\\appdata\\local\\programs\\python\\python311\\lib\\site-packages (from python-dateutil>=2.8.2->pandas) (1.16.0)\n",
      "Note: you may need to restart the kernel to use updated packages.\n"
     ]
    }
   ],
   "source": [
    "pip install pandas "
   ]
  },
  {
   "cell_type": "markdown",
   "id": "56a5b21e",
   "metadata": {},
   "source": [
    "# What is a Series?"
   ]
  },
  {
   "cell_type": "markdown",
   "id": "dc535890",
   "metadata": {},
   "source": [
    "A Pandas Series is like a column in a table.\n",
    "\n",
    "\n",
    "It is a one-dimensional array holding data of any type."
   ]
  },
  {
   "cell_type": "code",
   "execution_count": 8,
   "id": "a05a4287",
   "metadata": {},
   "outputs": [],
   "source": [
    "import pandas as pd # pd - alias for pandas "
   ]
  },
  {
   "cell_type": "code",
   "execution_count": 9,
   "id": "d41b90e0",
   "metadata": {},
   "outputs": [
    {
     "data": {
      "text/plain": [
       "0     4\n",
       "1     2\n",
       "2     7\n",
       "3     8\n",
       "4     9\n",
       "5    12\n",
       "dtype: int64"
      ]
     },
     "execution_count": 9,
     "metadata": {},
     "output_type": "execute_result"
    }
   ],
   "source": [
    " y= [4,2,7,8,9,12]\n",
    "a= pd.Series(y)\n",
    "a"
   ]
  },
  {
   "cell_type": "code",
   "execution_count": 10,
   "id": "eb7b316e",
   "metadata": {},
   "outputs": [
    {
     "name": "stdout",
     "output_type": "stream",
     "text": [
      "<class 'pandas.core.series.Series'>\n"
     ]
    }
   ],
   "source": [
    "print(type(a))"
   ]
  },
  {
   "cell_type": "code",
   "execution_count": 11,
   "id": "e61dbf8f",
   "metadata": {},
   "outputs": [
    {
     "data": {
      "text/plain": [
       "0    Gulshan\n",
       "1       Raja\n",
       "2     Mukesh\n",
       "3      Shery\n",
       "4      Rahul\n",
       "dtype: object"
      ]
     },
     "execution_count": 11,
     "metadata": {},
     "output_type": "execute_result"
    }
   ],
   "source": [
    "y1 =['Gulshan','Raja','Mukesh','Shery','Rahul']\n",
    "a1 = pd.Series(y1)\n",
    "a1"
   ]
  },
  {
   "cell_type": "code",
   "execution_count": 12,
   "id": "54c4a715",
   "metadata": {
    "scrolled": true
   },
   "outputs": [
    {
     "data": {
      "text/plain": [
       "'Mukesh'"
      ]
     },
     "execution_count": 12,
     "metadata": {},
     "output_type": "execute_result"
    }
   ],
   "source": [
    "a1[2]"
   ]
  },
  {
   "cell_type": "code",
   "execution_count": 15,
   "id": "b2bb3119",
   "metadata": {},
   "outputs": [
    {
     "data": {
      "text/plain": [
       "101    Gulshan\n",
       "102       Raja\n",
       "103     Mukesh\n",
       "104      Shery\n",
       "105      Rahul\n",
       "dtype: object"
      ]
     },
     "execution_count": 15,
     "metadata": {},
     "output_type": "execute_result"
    }
   ],
   "source": [
    "y2 =['Gulshan','Raja','Mukesh','Shery','Rahul']\n",
    "a2= pd.Series(y2,index = [101,102,103,104,105])\n",
    "a2"
   ]
  },
  {
   "cell_type": "code",
   "execution_count": 30,
   "id": "0d452c69",
   "metadata": {},
   "outputs": [
    {
     "data": {
      "text/plain": [
       "a     4\n",
       "b     2\n",
       "c     7\n",
       "d     8\n",
       "e     9\n",
       "f    12\n",
       "dtype: int32"
      ]
     },
     "execution_count": 30,
     "metadata": {},
     "output_type": "execute_result"
    }
   ],
   "source": [
    "a = (4,2,7,8,9,12)\n",
    "b = pd.Series(y , index= ['a','b','c','d','e','f'], dtype='int')\n",
    "b"
   ]
  },
  {
   "cell_type": "code",
   "execution_count": 37,
   "id": "a26e1c44",
   "metadata": {},
   "outputs": [
    {
     "data": {
      "text/plain": [
       "a     4.0\n",
       "b     2.0\n",
       "c     7.0\n",
       "d     8.0\n",
       "e     9.0\n",
       "f    12.0\n",
       "dtype: float64"
      ]
     },
     "execution_count": 37,
     "metadata": {},
     "output_type": "execute_result"
    }
   ],
   "source": [
    "d = [4, 2, 7, 8, 9, 12]\n",
    "e = pd.Series(d, index=['a', 'b', 'c', 'd', 'e', 'f'], dtype='float')\n",
    "e "
   ]
  },
  {
   "cell_type": "code",
   "execution_count": 25,
   "id": "098f35af",
   "metadata": {},
   "outputs": [
    {
     "name": "stdout",
     "output_type": "stream",
     "text": [
      "name    [Gulshan, Raja, Mukesh]\n",
      "age                [20, 21, 22]\n",
      "dtype: object\n",
      "<class 'pandas.core.series.Series'>\n"
     ]
    }
   ],
   "source": [
    "y3 ={'name':['Gulshan','Raja','Mukesh'], 'age':[20,21,22]}\n",
    "a3 = pd.Series(y3)\n",
    "print(a3)\n",
    "print(type(a3))"
   ]
  },
  {
   "cell_type": "code",
   "execution_count": 26,
   "id": "5e24bf5c",
   "metadata": {},
   "outputs": [
    {
     "name": "stdout",
     "output_type": "stream",
     "text": [
      "101    10\n",
      "102    10\n",
      "103    10\n",
      "104    10\n",
      "105    10\n",
      "dtype: int64\n",
      "101    20\n",
      "102    20\n",
      "103    20\n",
      "dtype: int64\n"
     ]
    }
   ],
   "source": [
    "s1 = pd.Series(10, index=[101,102,103,104,105])\n",
    "s2 = pd.Series(20, index=[101,102,103])\n",
    "print(s1)\n",
    "print(s2)"
   ]
  },
  {
   "cell_type": "code",
   "execution_count": 38,
   "id": "16221905",
   "metadata": {},
   "outputs": [
    {
     "name": "stdout",
     "output_type": "stream",
     "text": [
      "101    30.0\n",
      "102    30.0\n",
      "103    30.0\n",
      "104     NaN\n",
      "105     NaN\n",
      "dtype: float64\n"
     ]
    }
   ],
   "source": [
    "print(s1+s2)"
   ]
  },
  {
   "cell_type": "code",
   "execution_count": 43,
   "id": "3be82c81",
   "metadata": {},
   "outputs": [
    {
     "name": "stdout",
     "output_type": "stream",
     "text": [
      "101    10.0\n",
      "102    10.0\n",
      "103    10.0\n",
      "104    10.0\n",
      "105    10.0\n",
      "dtype: float64\n",
      "101    20\n",
      "102    20\n",
      "103    20\n",
      "dtype: int32\n"
     ]
    }
   ],
   "source": [
    "s1 = s1.astype(float)\n",
    "s2 = s2.astype(int)\n",
    "print(s1)\n",
    "print(s2)\n"
   ]
  },
  {
   "cell_type": "markdown",
   "id": "4e0a1130",
   "metadata": {},
   "source": [
    "# What is a DataFrame?"
   ]
  },
  {
   "cell_type": "markdown",
   "id": "b9f538a0",
   "metadata": {},
   "source": [
    "A Pandas DataFrame is a 2 dimensional data structure, like a 2 dimensional array, or a table with rows and columns"
   ]
  },
  {
   "cell_type": "code",
   "execution_count": 46,
   "id": "bf80989c",
   "metadata": {},
   "outputs": [
    {
     "data": {
      "text/html": [
       "<div>\n",
       "<style scoped>\n",
       "    .dataframe tbody tr th:only-of-type {\n",
       "        vertical-align: middle;\n",
       "    }\n",
       "\n",
       "    .dataframe tbody tr th {\n",
       "        vertical-align: top;\n",
       "    }\n",
       "\n",
       "    .dataframe thead th {\n",
       "        text-align: right;\n",
       "    }\n",
       "</style>\n",
       "<table border=\"1\" class=\"dataframe\">\n",
       "  <thead>\n",
       "    <tr style=\"text-align: right;\">\n",
       "      <th></th>\n",
       "      <th>0</th>\n",
       "    </tr>\n",
       "  </thead>\n",
       "  <tbody>\n",
       "    <tr>\n",
       "      <th>0</th>\n",
       "      <td>4</td>\n",
       "    </tr>\n",
       "    <tr>\n",
       "      <th>1</th>\n",
       "      <td>2</td>\n",
       "    </tr>\n",
       "    <tr>\n",
       "      <th>2</th>\n",
       "      <td>5</td>\n",
       "    </tr>\n",
       "    <tr>\n",
       "      <th>3</th>\n",
       "      <td>1</td>\n",
       "    </tr>\n",
       "    <tr>\n",
       "      <th>4</th>\n",
       "      <td>7</td>\n",
       "    </tr>\n",
       "    <tr>\n",
       "      <th>5</th>\n",
       "      <td>4</td>\n",
       "    </tr>\n",
       "  </tbody>\n",
       "</table>\n",
       "</div>"
      ],
      "text/plain": [
       "   0\n",
       "0  4\n",
       "1  2\n",
       "2  5\n",
       "3  1\n",
       "4  7\n",
       "5  4"
      ]
     },
     "execution_count": 46,
     "metadata": {},
     "output_type": "execute_result"
    }
   ],
   "source": [
    "a = [ 4,2,5,1,7,4]\n",
    "b =pd.DataFrame(a)\n",
    "b"
   ]
  },
  {
   "cell_type": "code",
   "execution_count": 47,
   "id": "af7f3a16",
   "metadata": {},
   "outputs": [
    {
     "data": {
      "text/html": [
       "<div>\n",
       "<style scoped>\n",
       "    .dataframe tbody tr th:only-of-type {\n",
       "        vertical-align: middle;\n",
       "    }\n",
       "\n",
       "    .dataframe tbody tr th {\n",
       "        vertical-align: top;\n",
       "    }\n",
       "\n",
       "    .dataframe thead th {\n",
       "        text-align: right;\n",
       "    }\n",
       "</style>\n",
       "<table border=\"1\" class=\"dataframe\">\n",
       "  <thead>\n",
       "    <tr style=\"text-align: right;\">\n",
       "      <th></th>\n",
       "      <th>0</th>\n",
       "    </tr>\n",
       "  </thead>\n",
       "  <tbody>\n",
       "    <tr>\n",
       "      <th>0</th>\n",
       "      <td>Gulshan</td>\n",
       "    </tr>\n",
       "    <tr>\n",
       "      <th>1</th>\n",
       "      <td>Raja</td>\n",
       "    </tr>\n",
       "    <tr>\n",
       "      <th>2</th>\n",
       "      <td>Mukesh</td>\n",
       "    </tr>\n",
       "    <tr>\n",
       "      <th>3</th>\n",
       "      <td>Shery</td>\n",
       "    </tr>\n",
       "    <tr>\n",
       "      <th>4</th>\n",
       "      <td>Rahul</td>\n",
       "    </tr>\n",
       "  </tbody>\n",
       "</table>\n",
       "</div>"
      ],
      "text/plain": [
       "         0\n",
       "0  Gulshan\n",
       "1     Raja\n",
       "2   Mukesh\n",
       "3    Shery\n",
       "4    Rahul"
      ]
     },
     "execution_count": 47,
     "metadata": {},
     "output_type": "execute_result"
    }
   ],
   "source": [
    "y1 =['Gulshan','Raja','Mukesh','Shery','Rahul']\n",
    "a1 = pd.DataFrame(y1)\n",
    "a1"
   ]
  },
  {
   "cell_type": "code",
   "execution_count": 52,
   "id": "7fc0796b",
   "metadata": {},
   "outputs": [
    {
     "data": {
      "text/html": [
       "<div>\n",
       "<style scoped>\n",
       "    .dataframe tbody tr th:only-of-type {\n",
       "        vertical-align: middle;\n",
       "    }\n",
       "\n",
       "    .dataframe tbody tr th {\n",
       "        vertical-align: top;\n",
       "    }\n",
       "\n",
       "    .dataframe thead th {\n",
       "        text-align: right;\n",
       "    }\n",
       "</style>\n",
       "<table border=\"1\" class=\"dataframe\">\n",
       "  <thead>\n",
       "    <tr style=\"text-align: right;\">\n",
       "      <th></th>\n",
       "      <th>0</th>\n",
       "    </tr>\n",
       "  </thead>\n",
       "  <tbody>\n",
       "    <tr>\n",
       "      <th>a</th>\n",
       "      <td>4</td>\n",
       "    </tr>\n",
       "    <tr>\n",
       "      <th>b</th>\n",
       "      <td>2</td>\n",
       "    </tr>\n",
       "    <tr>\n",
       "      <th>c</th>\n",
       "      <td>7</td>\n",
       "    </tr>\n",
       "    <tr>\n",
       "      <th>d</th>\n",
       "      <td>8</td>\n",
       "    </tr>\n",
       "    <tr>\n",
       "      <th>e</th>\n",
       "      <td>9</td>\n",
       "    </tr>\n",
       "    <tr>\n",
       "      <th>f</th>\n",
       "      <td>12</td>\n",
       "    </tr>\n",
       "  </tbody>\n",
       "</table>\n",
       "</div>"
      ],
      "text/plain": [
       "    0\n",
       "a   4\n",
       "b   2\n",
       "c   7\n",
       "d   8\n",
       "e   9\n",
       "f  12"
      ]
     },
     "execution_count": 52,
     "metadata": {},
     "output_type": "execute_result"
    }
   ],
   "source": [
    "a = (4,2,7,8,9,12)\n",
    "b = pd.DataFrame(y , index= ['a','b','c','d','e','f'], dtype='int')\n",
    "b"
   ]
  },
  {
   "cell_type": "code",
   "execution_count": 53,
   "id": "beb84785",
   "metadata": {},
   "outputs": [
    {
     "data": {
      "text/html": [
       "<div>\n",
       "<style scoped>\n",
       "    .dataframe tbody tr th:only-of-type {\n",
       "        vertical-align: middle;\n",
       "    }\n",
       "\n",
       "    .dataframe tbody tr th {\n",
       "        vertical-align: top;\n",
       "    }\n",
       "\n",
       "    .dataframe thead th {\n",
       "        text-align: right;\n",
       "    }\n",
       "</style>\n",
       "<table border=\"1\" class=\"dataframe\">\n",
       "  <thead>\n",
       "    <tr style=\"text-align: right;\">\n",
       "      <th></th>\n",
       "      <th>name</th>\n",
       "      <th>age</th>\n",
       "      <th>mail</th>\n",
       "    </tr>\n",
       "  </thead>\n",
       "  <tbody>\n",
       "    <tr>\n",
       "      <th>0</th>\n",
       "      <td>Gulshan</td>\n",
       "      <td>20</td>\n",
       "      <td>gulshan@gmail.com</td>\n",
       "    </tr>\n",
       "    <tr>\n",
       "      <th>1</th>\n",
       "      <td>Raja</td>\n",
       "      <td>21</td>\n",
       "      <td>raja@gmail.com</td>\n",
       "    </tr>\n",
       "    <tr>\n",
       "      <th>2</th>\n",
       "      <td>Mukesh</td>\n",
       "      <td>22</td>\n",
       "      <td>mukesh@gmail.com</td>\n",
       "    </tr>\n",
       "  </tbody>\n",
       "</table>\n",
       "</div>"
      ],
      "text/plain": [
       "      name  age               mail\n",
       "0  Gulshan   20  gulshan@gmail.com\n",
       "1     Raja   21     raja@gmail.com\n",
       "2   Mukesh   22   mukesh@gmail.com"
      ]
     },
     "execution_count": 53,
     "metadata": {},
     "output_type": "execute_result"
    }
   ],
   "source": [
    "y3 ={'name':['Gulshan','Raja','Mukesh'], 'age':[20,21,22], 'mail':['gulshan@gmail.com','raja@gmail.com','mukesh@gmail.com']}\n",
    "a3 = pd.DataFrame(y3)\n",
    "a3"
   ]
  },
  {
   "cell_type": "code",
   "execution_count": 56,
   "id": "7204c75f",
   "metadata": {},
   "outputs": [
    {
     "data": {
      "text/html": [
       "<div>\n",
       "<style scoped>\n",
       "    .dataframe tbody tr th:only-of-type {\n",
       "        vertical-align: middle;\n",
       "    }\n",
       "\n",
       "    .dataframe tbody tr th {\n",
       "        vertical-align: top;\n",
       "    }\n",
       "\n",
       "    .dataframe thead th {\n",
       "        text-align: right;\n",
       "    }\n",
       "</style>\n",
       "<table border=\"1\" class=\"dataframe\">\n",
       "  <thead>\n",
       "    <tr style=\"text-align: right;\">\n",
       "      <th></th>\n",
       "      <th>name</th>\n",
       "    </tr>\n",
       "  </thead>\n",
       "  <tbody>\n",
       "    <tr>\n",
       "      <th>0</th>\n",
       "      <td>Gulshan</td>\n",
       "    </tr>\n",
       "    <tr>\n",
       "      <th>1</th>\n",
       "      <td>Raja</td>\n",
       "    </tr>\n",
       "    <tr>\n",
       "      <th>2</th>\n",
       "      <td>Mukesh</td>\n",
       "    </tr>\n",
       "  </tbody>\n",
       "</table>\n",
       "</div>"
      ],
      "text/plain": [
       "      name\n",
       "0  Gulshan\n",
       "1     Raja\n",
       "2   Mukesh"
      ]
     },
     "execution_count": 56,
     "metadata": {},
     "output_type": "execute_result"
    }
   ],
   "source": [
    "a4 = pd.DataFrame(y3, columns=['name'])\n",
    "a4"
   ]
  },
  {
   "cell_type": "code",
   "execution_count": 59,
   "id": "ee4fb596",
   "metadata": {},
   "outputs": [
    {
     "data": {
      "text/html": [
       "<div>\n",
       "<style scoped>\n",
       "    .dataframe tbody tr th:only-of-type {\n",
       "        vertical-align: middle;\n",
       "    }\n",
       "\n",
       "    .dataframe tbody tr th {\n",
       "        vertical-align: top;\n",
       "    }\n",
       "\n",
       "    .dataframe thead th {\n",
       "        text-align: right;\n",
       "    }\n",
       "</style>\n",
       "<table border=\"1\" class=\"dataframe\">\n",
       "  <thead>\n",
       "    <tr style=\"text-align: right;\">\n",
       "      <th></th>\n",
       "      <th>name</th>\n",
       "      <th>age</th>\n",
       "    </tr>\n",
       "  </thead>\n",
       "  <tbody>\n",
       "    <tr>\n",
       "      <th>0</th>\n",
       "      <td>Gulshan</td>\n",
       "      <td>20</td>\n",
       "    </tr>\n",
       "    <tr>\n",
       "      <th>1</th>\n",
       "      <td>Raja</td>\n",
       "      <td>21</td>\n",
       "    </tr>\n",
       "    <tr>\n",
       "      <th>2</th>\n",
       "      <td>Mukesh</td>\n",
       "      <td>22</td>\n",
       "    </tr>\n",
       "  </tbody>\n",
       "</table>\n",
       "</div>"
      ],
      "text/plain": [
       "      name  age\n",
       "0  Gulshan   20\n",
       "1     Raja   21\n",
       "2   Mukesh   22"
      ]
     },
     "execution_count": 59,
     "metadata": {},
     "output_type": "execute_result"
    }
   ],
   "source": [
    "a4 = pd.DataFrame(y3, columns=['name','age'])\n",
    "a4"
   ]
  },
  {
   "cell_type": "code",
   "execution_count": 60,
   "id": "055340d4",
   "metadata": {},
   "outputs": [
    {
     "data": {
      "text/plain": [
       "0    20\n",
       "1    21\n",
       "2    22\n",
       "Name: age, dtype: int64"
      ]
     },
     "execution_count": 60,
     "metadata": {},
     "output_type": "execute_result"
    }
   ],
   "source": [
    "a4 ['age']"
   ]
  },
  {
   "cell_type": "code",
   "execution_count": 63,
   "id": "ec11dc57",
   "metadata": {},
   "outputs": [
    {
     "data": {
      "text/plain": [
       "'Gulshan'"
      ]
     },
     "execution_count": 63,
     "metadata": {},
     "output_type": "execute_result"
    }
   ],
   "source": [
    "a4['name'][0]"
   ]
  },
  {
   "cell_type": "code",
   "execution_count": 64,
   "id": "97dfa8f2",
   "metadata": {},
   "outputs": [
    {
     "data": {
      "text/plain": [
       "[[1, 2, 3, 4, 5, 6], [76, 78, 89, 96, 56, 25]]"
      ]
     },
     "execution_count": 64,
     "metadata": {},
     "output_type": "execute_result"
    }
   ],
   "source": [
    "b = [[1,2,3,4,5,6],[76,78,89,96,56,25]]\n",
    "b"
   ]
  },
  {
   "cell_type": "code",
   "execution_count": 71,
   "id": "7256d9fc",
   "metadata": {},
   "outputs": [
    {
     "data": {
      "text/html": [
       "<div>\n",
       "<style scoped>\n",
       "    .dataframe tbody tr th:only-of-type {\n",
       "        vertical-align: middle;\n",
       "    }\n",
       "\n",
       "    .dataframe tbody tr th {\n",
       "        vertical-align: top;\n",
       "    }\n",
       "\n",
       "    .dataframe thead th {\n",
       "        text-align: right;\n",
       "    }\n",
       "</style>\n",
       "<table border=\"1\" class=\"dataframe\">\n",
       "  <thead>\n",
       "    <tr style=\"text-align: right;\">\n",
       "      <th></th>\n",
       "      <th>student</th>\n",
       "      <th>marks</th>\n",
       "    </tr>\n",
       "  </thead>\n",
       "  <tbody>\n",
       "    <tr>\n",
       "      <th>0</th>\n",
       "      <td>Raja</td>\n",
       "      <td>71</td>\n",
       "    </tr>\n",
       "    <tr>\n",
       "      <th>1</th>\n",
       "      <td>Muk</td>\n",
       "      <td>78</td>\n",
       "    </tr>\n",
       "    <tr>\n",
       "      <th>2</th>\n",
       "      <td>Smr</td>\n",
       "      <td>79</td>\n",
       "    </tr>\n",
       "    <tr>\n",
       "      <th>3</th>\n",
       "      <td>vin</td>\n",
       "      <td>95</td>\n",
       "    </tr>\n",
       "    <tr>\n",
       "      <th>4</th>\n",
       "      <td>sh</td>\n",
       "      <td>85</td>\n",
       "    </tr>\n",
       "  </tbody>\n",
       "</table>\n",
       "</div>"
      ],
      "text/plain": [
       "  student  marks\n",
       "0    Raja     71\n",
       "1     Muk     78\n",
       "2     Smr     79\n",
       "3     vin     95\n",
       "4      sh     85"
      ]
     },
     "execution_count": 71,
     "metadata": {},
     "output_type": "execute_result"
    }
   ],
   "source": [
    "b2 = {'student': [ 'Raja','Muk','Smr','vin', ' sh'],'marks': [71,78,79,95,85]}\n",
    "df = pd.DataFrame(b2)\n",
    "df "
   ]
  },
  {
   "cell_type": "code",
   "execution_count": 75,
   "id": "3bc01b1d",
   "metadata": {},
   "outputs": [
    {
     "data": {
      "text/plain": [
       "(5, 2)"
      ]
     },
     "execution_count": 75,
     "metadata": {},
     "output_type": "execute_result"
    }
   ],
   "source": [
    "df.shape"
   ]
  },
  {
   "cell_type": "code",
   "execution_count": 76,
   "id": "8e3a8d88",
   "metadata": {},
   "outputs": [
    {
     "name": "stdout",
     "output_type": "stream",
     "text": [
      "<class 'pandas.core.frame.DataFrame'>\n",
      "RangeIndex: 5 entries, 0 to 4\n",
      "Data columns (total 2 columns):\n",
      " #   Column   Non-Null Count  Dtype \n",
      "---  ------   --------------  ----- \n",
      " 0   student  5 non-null      object\n",
      " 1   marks    5 non-null      int64 \n",
      "dtypes: int64(1), object(1)\n",
      "memory usage: 208.0+ bytes\n"
     ]
    }
   ],
   "source": [
    "df.info()"
   ]
  },
  {
   "cell_type": "code",
   "execution_count": 78,
   "id": "32be2372",
   "metadata": {},
   "outputs": [
    {
     "data": {
      "text/html": [
       "<div>\n",
       "<style scoped>\n",
       "    .dataframe tbody tr th:only-of-type {\n",
       "        vertical-align: middle;\n",
       "    }\n",
       "\n",
       "    .dataframe tbody tr th {\n",
       "        vertical-align: top;\n",
       "    }\n",
       "\n",
       "    .dataframe thead th {\n",
       "        text-align: right;\n",
       "    }\n",
       "</style>\n",
       "<table border=\"1\" class=\"dataframe\">\n",
       "  <thead>\n",
       "    <tr style=\"text-align: right;\">\n",
       "      <th></th>\n",
       "      <th>name</th>\n",
       "      <th>age</th>\n",
       "      <th>mail</th>\n",
       "      <th>address</th>\n",
       "      <th>phone No</th>\n",
       "      <th>Collage</th>\n",
       "    </tr>\n",
       "  </thead>\n",
       "  <tbody>\n",
       "    <tr>\n",
       "      <th>0</th>\n",
       "      <td>Gulshan</td>\n",
       "      <td>20</td>\n",
       "      <td>gulshan@gmail.com</td>\n",
       "      <td>jharkhand</td>\n",
       "      <td>787457878</td>\n",
       "      <td>Dehradun</td>\n",
       "    </tr>\n",
       "    <tr>\n",
       "      <th>1</th>\n",
       "      <td>Raja</td>\n",
       "      <td>21</td>\n",
       "      <td>raja@gmail.com</td>\n",
       "      <td>Bihar</td>\n",
       "      <td>45474557</td>\n",
       "      <td>Patna</td>\n",
       "    </tr>\n",
       "    <tr>\n",
       "      <th>2</th>\n",
       "      <td>Mukesh</td>\n",
       "      <td>22</td>\n",
       "      <td>mukesh@gmail.com</td>\n",
       "      <td>up</td>\n",
       "      <td>78954785</td>\n",
       "      <td>Kanpur</td>\n",
       "    </tr>\n",
       "  </tbody>\n",
       "</table>\n",
       "</div>"
      ],
      "text/plain": [
       "      name  age               mail    address   phone No   Collage\n",
       "0  Gulshan   20  gulshan@gmail.com  jharkhand  787457878  Dehradun\n",
       "1     Raja   21     raja@gmail.com      Bihar   45474557     Patna\n",
       "2   Mukesh   22   mukesh@gmail.com         up   78954785    Kanpur"
      ]
     },
     "execution_count": 78,
     "metadata": {},
     "output_type": "execute_result"
    }
   ],
   "source": [
    "y3 ={'name':['Gulshan','Raja','Mukesh'],\n",
    "     'age':[20,21,22],\n",
    "     'mail':['gulshan@gmail.com','raja@gmail.com','mukesh@gmail.com'],\n",
    "     'address':['jharkhand','Bihar','up'],\n",
    "     'phone No':[787457878,45474557,78954785],\n",
    "     'Collage':['Dehradun','Patna','Kanpur'],\n",
    "    }\n",
    "a3 = pd.DataFrame(y3)\n",
    "a3 "
   ]
  },
  {
   "cell_type": "code",
   "execution_count": 79,
   "id": "60bca1f6",
   "metadata": {},
   "outputs": [
    {
     "data": {
      "text/plain": [
       "(3, 6)"
      ]
     },
     "execution_count": 79,
     "metadata": {},
     "output_type": "execute_result"
    }
   ],
   "source": [
    "a3.shape"
   ]
  },
  {
   "cell_type": "code",
   "execution_count": 80,
   "id": "36f183db",
   "metadata": {},
   "outputs": [
    {
     "name": "stdout",
     "output_type": "stream",
     "text": [
      "<class 'pandas.core.frame.DataFrame'>\n",
      "RangeIndex: 3 entries, 0 to 2\n",
      "Data columns (total 6 columns):\n",
      " #   Column    Non-Null Count  Dtype \n",
      "---  ------    --------------  ----- \n",
      " 0   name      3 non-null      object\n",
      " 1   age       3 non-null      int64 \n",
      " 2   mail      3 non-null      object\n",
      " 3   address   3 non-null      object\n",
      " 4   phone No  3 non-null      int64 \n",
      " 5   Collage   3 non-null      object\n",
      "dtypes: int64(2), object(4)\n",
      "memory usage: 272.0+ bytes\n"
     ]
    }
   ],
   "source": [
    "a3.info()"
   ]
  },
  {
   "cell_type": "code",
   "execution_count": 81,
   "id": "54008025",
   "metadata": {},
   "outputs": [
    {
     "data": {
      "text/html": [
       "<div>\n",
       "<style scoped>\n",
       "    .dataframe tbody tr th:only-of-type {\n",
       "        vertical-align: middle;\n",
       "    }\n",
       "\n",
       "    .dataframe tbody tr th {\n",
       "        vertical-align: top;\n",
       "    }\n",
       "\n",
       "    .dataframe thead th {\n",
       "        text-align: right;\n",
       "    }\n",
       "</style>\n",
       "<table border=\"1\" class=\"dataframe\">\n",
       "  <thead>\n",
       "    <tr style=\"text-align: right;\">\n",
       "      <th></th>\n",
       "      <th>age</th>\n",
       "      <th>phone No</th>\n",
       "    </tr>\n",
       "  </thead>\n",
       "  <tbody>\n",
       "    <tr>\n",
       "      <th>count</th>\n",
       "      <td>3.0</td>\n",
       "      <td>3.000000e+00</td>\n",
       "    </tr>\n",
       "    <tr>\n",
       "      <th>mean</th>\n",
       "      <td>21.0</td>\n",
       "      <td>3.039624e+08</td>\n",
       "    </tr>\n",
       "    <tr>\n",
       "      <th>std</th>\n",
       "      <td>1.0</td>\n",
       "      <td>4.190539e+08</td>\n",
       "    </tr>\n",
       "    <tr>\n",
       "      <th>min</th>\n",
       "      <td>20.0</td>\n",
       "      <td>4.547456e+07</td>\n",
       "    </tr>\n",
       "    <tr>\n",
       "      <th>25%</th>\n",
       "      <td>20.5</td>\n",
       "      <td>6.221467e+07</td>\n",
       "    </tr>\n",
       "    <tr>\n",
       "      <th>50%</th>\n",
       "      <td>21.0</td>\n",
       "      <td>7.895478e+07</td>\n",
       "    </tr>\n",
       "    <tr>\n",
       "      <th>75%</th>\n",
       "      <td>21.5</td>\n",
       "      <td>4.332063e+08</td>\n",
       "    </tr>\n",
       "    <tr>\n",
       "      <th>max</th>\n",
       "      <td>22.0</td>\n",
       "      <td>7.874579e+08</td>\n",
       "    </tr>\n",
       "  </tbody>\n",
       "</table>\n",
       "</div>"
      ],
      "text/plain": [
       "        age      phone No\n",
       "count   3.0  3.000000e+00\n",
       "mean   21.0  3.039624e+08\n",
       "std     1.0  4.190539e+08\n",
       "min    20.0  4.547456e+07\n",
       "25%    20.5  6.221467e+07\n",
       "50%    21.0  7.895478e+07\n",
       "75%    21.5  4.332063e+08\n",
       "max    22.0  7.874579e+08"
      ]
     },
     "execution_count": 81,
     "metadata": {},
     "output_type": "execute_result"
    }
   ],
   "source": [
    "a3.describe()"
   ]
  },
  {
   "cell_type": "code",
   "execution_count": 84,
   "id": "fe236c1d",
   "metadata": {},
   "outputs": [
    {
     "name": "stdout",
     "output_type": "stream",
     "text": [
      " no of rows are : 3\n"
     ]
    }
   ],
   "source": [
    "print (' no of rows are :', rows)"
   ]
  },
  {
   "cell_type": "code",
   "execution_count": 85,
   "id": "07edfe68",
   "metadata": {
    "scrolled": true
   },
   "outputs": [
    {
     "data": {
      "text/plain": [
       "6"
      ]
     },
     "execution_count": 85,
     "metadata": {},
     "output_type": "execute_result"
    }
   ],
   "source": [
    "columns"
   ]
  },
  {
   "cell_type": "code",
   "execution_count": 87,
   "id": "e66a6efe",
   "metadata": {},
   "outputs": [],
   "source": [
    "# convert csv file \n",
    "a3.to_csv('dehradun.csv')"
   ]
  },
  {
   "cell_type": "code",
   "execution_count": 100,
   "id": "7a03f988",
   "metadata": {},
   "outputs": [
    {
     "data": {
      "text/html": [
       "<div>\n",
       "<style scoped>\n",
       "    .dataframe tbody tr th:only-of-type {\n",
       "        vertical-align: middle;\n",
       "    }\n",
       "\n",
       "    .dataframe tbody tr th {\n",
       "        vertical-align: top;\n",
       "    }\n",
       "\n",
       "    .dataframe thead th {\n",
       "        text-align: right;\n",
       "    }\n",
       "</style>\n",
       "<table border=\"1\" class=\"dataframe\">\n",
       "  <thead>\n",
       "    <tr style=\"text-align: right;\">\n",
       "      <th></th>\n",
       "      <th>State/District</th>\n",
       "      <th>ITI Count</th>\n",
       "      <th>Trade Count</th>\n",
       "      <th>Seat Count Current</th>\n",
       "      <th>Trainee Count</th>\n",
       "    </tr>\n",
       "  </thead>\n",
       "  <tbody>\n",
       "    <tr>\n",
       "      <th>0</th>\n",
       "      <td>ANDAMAN AND NICOBAR ISLANDS</td>\n",
       "      <td>4</td>\n",
       "      <td>15.0</td>\n",
       "      <td>608</td>\n",
       "      <td>531.0</td>\n",
       "    </tr>\n",
       "    <tr>\n",
       "      <th>1</th>\n",
       "      <td>ANDHRA PRADESH</td>\n",
       "      <td>514</td>\n",
       "      <td>54.0</td>\n",
       "      <td>59716</td>\n",
       "      <td>NaN</td>\n",
       "    </tr>\n",
       "    <tr>\n",
       "      <th>2</th>\n",
       "      <td>ARUNACHAL PRADESH</td>\n",
       "      <td>7</td>\n",
       "      <td>28.0</td>\n",
       "      <td>964</td>\n",
       "      <td>487.0</td>\n",
       "    </tr>\n",
       "    <tr>\n",
       "      <th>3</th>\n",
       "      <td>ASSAM</td>\n",
       "      <td>42</td>\n",
       "      <td>38.0</td>\n",
       "      <td>4408</td>\n",
       "      <td>3500.0</td>\n",
       "    </tr>\n",
       "    <tr>\n",
       "      <th>4</th>\n",
       "      <td>BIHAR</td>\n",
       "      <td>1370</td>\n",
       "      <td>NaN</td>\n",
       "      <td>114672</td>\n",
       "      <td>NaN</td>\n",
       "    </tr>\n",
       "    <tr>\n",
       "      <th>5</th>\n",
       "      <td>CHANDIGARH</td>\n",
       "      <td>2</td>\n",
       "      <td>29.0</td>\n",
       "      <td>1012</td>\n",
       "      <td>910.0</td>\n",
       "    </tr>\n",
       "    <tr>\n",
       "      <th>6</th>\n",
       "      <td>CHHATTISGARH</td>\n",
       "      <td>233</td>\n",
       "      <td>51.0</td>\n",
       "      <td>26892</td>\n",
       "      <td>21996.0</td>\n",
       "    </tr>\n",
       "    <tr>\n",
       "      <th>7</th>\n",
       "      <td>DADRA AND NAGAR HAVELI</td>\n",
       "      <td>0</td>\n",
       "      <td>0.0</td>\n",
       "      <td>0</td>\n",
       "      <td>0.0</td>\n",
       "    </tr>\n",
       "    <tr>\n",
       "      <th>8</th>\n",
       "      <td>DAMAN AND DIU</td>\n",
       "      <td>0</td>\n",
       "      <td>0.0</td>\n",
       "      <td>0</td>\n",
       "      <td>NaN</td>\n",
       "    </tr>\n",
       "    <tr>\n",
       "      <th>9</th>\n",
       "      <td>DELHI</td>\n",
       "      <td>53</td>\n",
       "      <td>63.0</td>\n",
       "      <td>11844</td>\n",
       "      <td>8774.0</td>\n",
       "    </tr>\n",
       "    <tr>\n",
       "      <th>10</th>\n",
       "      <td>ASSAM</td>\n",
       "      <td>42</td>\n",
       "      <td>38.0</td>\n",
       "      <td>4408</td>\n",
       "      <td>3500.0</td>\n",
       "    </tr>\n",
       "  </tbody>\n",
       "</table>\n",
       "</div>"
      ],
      "text/plain": [
       "                 State/District  ITI Count  Trade Count  Seat Count Current  \\\n",
       "0   ANDAMAN AND NICOBAR ISLANDS          4         15.0                 608   \n",
       "1                ANDHRA PRADESH        514         54.0               59716   \n",
       "2             ARUNACHAL PRADESH          7         28.0                 964   \n",
       "3                         ASSAM         42         38.0                4408   \n",
       "4                         BIHAR       1370          NaN              114672   \n",
       "5                    CHANDIGARH          2         29.0                1012   \n",
       "6                  CHHATTISGARH        233         51.0               26892   \n",
       "7        DADRA AND NAGAR HAVELI          0          0.0                   0   \n",
       "8                 DAMAN AND DIU          0          0.0                   0   \n",
       "9                         DELHI         53         63.0               11844   \n",
       "10                        ASSAM         42         38.0                4408   \n",
       "\n",
       "    Trainee Count  \n",
       "0           531.0  \n",
       "1             NaN  \n",
       "2           487.0  \n",
       "3          3500.0  \n",
       "4             NaN  \n",
       "5           910.0  \n",
       "6         21996.0  \n",
       "7             0.0  \n",
       "8             NaN  \n",
       "9          8774.0  \n",
       "10         3500.0  "
      ]
     },
     "execution_count": 100,
     "metadata": {},
     "output_type": "execute_result"
    }
   ],
   "source": [
    "import pandas as pd \n",
    "a = pd.read_csv('iti.csv')\n",
    "a"
   ]
  },
  {
   "cell_type": "code",
   "execution_count": 101,
   "id": "792edce7",
   "metadata": {},
   "outputs": [
    {
     "name": "stdout",
     "output_type": "stream",
     "text": [
      "<class 'pandas.core.frame.DataFrame'>\n",
      "RangeIndex: 11 entries, 0 to 10\n",
      "Data columns (total 5 columns):\n",
      " #   Column              Non-Null Count  Dtype  \n",
      "---  ------              --------------  -----  \n",
      " 0   State/District      11 non-null     object \n",
      " 1   ITI Count           11 non-null     int64  \n",
      " 2   Trade Count         10 non-null     float64\n",
      " 3   Seat Count Current  11 non-null     int64  \n",
      " 4   Trainee Count       8 non-null      float64\n",
      "dtypes: float64(2), int64(2), object(1)\n",
      "memory usage: 568.0+ bytes\n"
     ]
    }
   ],
   "source": [
    "a.info()"
   ]
  },
  {
   "cell_type": "code",
   "execution_count": 102,
   "id": "91b3e9fa",
   "metadata": {},
   "outputs": [
    {
     "data": {
      "text/plain": [
       "(11, 5)"
      ]
     },
     "execution_count": 102,
     "metadata": {},
     "output_type": "execute_result"
    }
   ],
   "source": [
    "a.shape"
   ]
  },
  {
   "cell_type": "code",
   "execution_count": 103,
   "id": "62769bf5",
   "metadata": {},
   "outputs": [
    {
     "data": {
      "text/plain": [
       "0     False\n",
       "1     False\n",
       "2     False\n",
       "3     False\n",
       "4     False\n",
       "5     False\n",
       "6     False\n",
       "7     False\n",
       "8     False\n",
       "9     False\n",
       "10     True\n",
       "dtype: bool"
      ]
     },
     "execution_count": 103,
     "metadata": {},
     "output_type": "execute_result"
    }
   ],
   "source": [
    "a.duplicated()"
   ]
  },
  {
   "cell_type": "code",
   "execution_count": 104,
   "id": "cec1afc3",
   "metadata": {},
   "outputs": [
    {
     "data": {
      "text/html": [
       "<div>\n",
       "<style scoped>\n",
       "    .dataframe tbody tr th:only-of-type {\n",
       "        vertical-align: middle;\n",
       "    }\n",
       "\n",
       "    .dataframe tbody tr th {\n",
       "        vertical-align: top;\n",
       "    }\n",
       "\n",
       "    .dataframe thead th {\n",
       "        text-align: right;\n",
       "    }\n",
       "</style>\n",
       "<table border=\"1\" class=\"dataframe\">\n",
       "  <thead>\n",
       "    <tr style=\"text-align: right;\">\n",
       "      <th></th>\n",
       "      <th>State/District</th>\n",
       "      <th>ITI Count</th>\n",
       "      <th>Trade Count</th>\n",
       "      <th>Seat Count Current</th>\n",
       "      <th>Trainee Count</th>\n",
       "    </tr>\n",
       "  </thead>\n",
       "  <tbody>\n",
       "    <tr>\n",
       "      <th>0</th>\n",
       "      <td>ANDAMAN AND NICOBAR ISLANDS</td>\n",
       "      <td>4</td>\n",
       "      <td>15.0</td>\n",
       "      <td>608</td>\n",
       "      <td>531.0</td>\n",
       "    </tr>\n",
       "    <tr>\n",
       "      <th>2</th>\n",
       "      <td>ARUNACHAL PRADESH</td>\n",
       "      <td>7</td>\n",
       "      <td>28.0</td>\n",
       "      <td>964</td>\n",
       "      <td>487.0</td>\n",
       "    </tr>\n",
       "    <tr>\n",
       "      <th>3</th>\n",
       "      <td>ASSAM</td>\n",
       "      <td>42</td>\n",
       "      <td>38.0</td>\n",
       "      <td>4408</td>\n",
       "      <td>3500.0</td>\n",
       "    </tr>\n",
       "    <tr>\n",
       "      <th>5</th>\n",
       "      <td>CHANDIGARH</td>\n",
       "      <td>2</td>\n",
       "      <td>29.0</td>\n",
       "      <td>1012</td>\n",
       "      <td>910.0</td>\n",
       "    </tr>\n",
       "    <tr>\n",
       "      <th>6</th>\n",
       "      <td>CHHATTISGARH</td>\n",
       "      <td>233</td>\n",
       "      <td>51.0</td>\n",
       "      <td>26892</td>\n",
       "      <td>21996.0</td>\n",
       "    </tr>\n",
       "    <tr>\n",
       "      <th>7</th>\n",
       "      <td>DADRA AND NAGAR HAVELI</td>\n",
       "      <td>0</td>\n",
       "      <td>0.0</td>\n",
       "      <td>0</td>\n",
       "      <td>0.0</td>\n",
       "    </tr>\n",
       "    <tr>\n",
       "      <th>9</th>\n",
       "      <td>DELHI</td>\n",
       "      <td>53</td>\n",
       "      <td>63.0</td>\n",
       "      <td>11844</td>\n",
       "      <td>8774.0</td>\n",
       "    </tr>\n",
       "    <tr>\n",
       "      <th>10</th>\n",
       "      <td>ASSAM</td>\n",
       "      <td>42</td>\n",
       "      <td>38.0</td>\n",
       "      <td>4408</td>\n",
       "      <td>3500.0</td>\n",
       "    </tr>\n",
       "  </tbody>\n",
       "</table>\n",
       "</div>"
      ],
      "text/plain": [
       "                 State/District  ITI Count  Trade Count  Seat Count Current  \\\n",
       "0   ANDAMAN AND NICOBAR ISLANDS          4         15.0                 608   \n",
       "2             ARUNACHAL PRADESH          7         28.0                 964   \n",
       "3                         ASSAM         42         38.0                4408   \n",
       "5                    CHANDIGARH          2         29.0                1012   \n",
       "6                  CHHATTISGARH        233         51.0               26892   \n",
       "7        DADRA AND NAGAR HAVELI          0          0.0                   0   \n",
       "9                         DELHI         53         63.0               11844   \n",
       "10                        ASSAM         42         38.0                4408   \n",
       "\n",
       "    Trainee Count  \n",
       "0           531.0  \n",
       "2           487.0  \n",
       "3          3500.0  \n",
       "5           910.0  \n",
       "6         21996.0  \n",
       "7             0.0  \n",
       "9          8774.0  \n",
       "10         3500.0  "
      ]
     },
     "execution_count": 104,
     "metadata": {},
     "output_type": "execute_result"
    }
   ],
   "source": [
    "a_1= a.dropna()\n",
    "a_1"
   ]
  },
  {
   "cell_type": "code",
   "execution_count": 106,
   "id": "ea14c3d8",
   "metadata": {},
   "outputs": [],
   "source": [
    "a_3 = a"
   ]
  },
  {
   "cell_type": "code",
   "execution_count": 107,
   "id": "eaa21064",
   "metadata": {},
   "outputs": [
    {
     "data": {
      "text/html": [
       "<div>\n",
       "<style scoped>\n",
       "    .dataframe tbody tr th:only-of-type {\n",
       "        vertical-align: middle;\n",
       "    }\n",
       "\n",
       "    .dataframe tbody tr th {\n",
       "        vertical-align: top;\n",
       "    }\n",
       "\n",
       "    .dataframe thead th {\n",
       "        text-align: right;\n",
       "    }\n",
       "</style>\n",
       "<table border=\"1\" class=\"dataframe\">\n",
       "  <thead>\n",
       "    <tr style=\"text-align: right;\">\n",
       "      <th></th>\n",
       "      <th>State/District</th>\n",
       "      <th>ITI Count</th>\n",
       "      <th>Trade Count</th>\n",
       "      <th>Seat Count Current</th>\n",
       "      <th>Trainee Count</th>\n",
       "    </tr>\n",
       "  </thead>\n",
       "  <tbody>\n",
       "    <tr>\n",
       "      <th>0</th>\n",
       "      <td>ANDAMAN AND NICOBAR ISLANDS</td>\n",
       "      <td>4</td>\n",
       "      <td>15.0</td>\n",
       "      <td>608</td>\n",
       "      <td>531.0</td>\n",
       "    </tr>\n",
       "    <tr>\n",
       "      <th>1</th>\n",
       "      <td>ANDHRA PRADESH</td>\n",
       "      <td>514</td>\n",
       "      <td>54.0</td>\n",
       "      <td>59716</td>\n",
       "      <td>NaN</td>\n",
       "    </tr>\n",
       "    <tr>\n",
       "      <th>2</th>\n",
       "      <td>ARUNACHAL PRADESH</td>\n",
       "      <td>7</td>\n",
       "      <td>28.0</td>\n",
       "      <td>964</td>\n",
       "      <td>487.0</td>\n",
       "    </tr>\n",
       "    <tr>\n",
       "      <th>3</th>\n",
       "      <td>ASSAM</td>\n",
       "      <td>42</td>\n",
       "      <td>38.0</td>\n",
       "      <td>4408</td>\n",
       "      <td>3500.0</td>\n",
       "    </tr>\n",
       "    <tr>\n",
       "      <th>4</th>\n",
       "      <td>BIHAR</td>\n",
       "      <td>1370</td>\n",
       "      <td>NaN</td>\n",
       "      <td>114672</td>\n",
       "      <td>NaN</td>\n",
       "    </tr>\n",
       "    <tr>\n",
       "      <th>5</th>\n",
       "      <td>CHANDIGARH</td>\n",
       "      <td>2</td>\n",
       "      <td>29.0</td>\n",
       "      <td>1012</td>\n",
       "      <td>910.0</td>\n",
       "    </tr>\n",
       "    <tr>\n",
       "      <th>6</th>\n",
       "      <td>CHHATTISGARH</td>\n",
       "      <td>233</td>\n",
       "      <td>51.0</td>\n",
       "      <td>26892</td>\n",
       "      <td>21996.0</td>\n",
       "    </tr>\n",
       "    <tr>\n",
       "      <th>7</th>\n",
       "      <td>DADRA AND NAGAR HAVELI</td>\n",
       "      <td>0</td>\n",
       "      <td>0.0</td>\n",
       "      <td>0</td>\n",
       "      <td>0.0</td>\n",
       "    </tr>\n",
       "    <tr>\n",
       "      <th>8</th>\n",
       "      <td>DAMAN AND DIU</td>\n",
       "      <td>0</td>\n",
       "      <td>0.0</td>\n",
       "      <td>0</td>\n",
       "      <td>NaN</td>\n",
       "    </tr>\n",
       "    <tr>\n",
       "      <th>9</th>\n",
       "      <td>DELHI</td>\n",
       "      <td>53</td>\n",
       "      <td>63.0</td>\n",
       "      <td>11844</td>\n",
       "      <td>8774.0</td>\n",
       "    </tr>\n",
       "    <tr>\n",
       "      <th>10</th>\n",
       "      <td>ASSAM</td>\n",
       "      <td>42</td>\n",
       "      <td>38.0</td>\n",
       "      <td>4408</td>\n",
       "      <td>3500.0</td>\n",
       "    </tr>\n",
       "  </tbody>\n",
       "</table>\n",
       "</div>"
      ],
      "text/plain": [
       "                 State/District  ITI Count  Trade Count  Seat Count Current  \\\n",
       "0   ANDAMAN AND NICOBAR ISLANDS          4         15.0                 608   \n",
       "1                ANDHRA PRADESH        514         54.0               59716   \n",
       "2             ARUNACHAL PRADESH          7         28.0                 964   \n",
       "3                         ASSAM         42         38.0                4408   \n",
       "4                         BIHAR       1370          NaN              114672   \n",
       "5                    CHANDIGARH          2         29.0                1012   \n",
       "6                  CHHATTISGARH        233         51.0               26892   \n",
       "7        DADRA AND NAGAR HAVELI          0          0.0                   0   \n",
       "8                 DAMAN AND DIU          0          0.0                   0   \n",
       "9                         DELHI         53         63.0               11844   \n",
       "10                        ASSAM         42         38.0                4408   \n",
       "\n",
       "    Trainee Count  \n",
       "0           531.0  \n",
       "1             NaN  \n",
       "2           487.0  \n",
       "3          3500.0  \n",
       "4             NaN  \n",
       "5           910.0  \n",
       "6         21996.0  \n",
       "7             0.0  \n",
       "8             NaN  \n",
       "9          8774.0  \n",
       "10         3500.0  "
      ]
     },
     "execution_count": 107,
     "metadata": {},
     "output_type": "execute_result"
    }
   ],
   "source": [
    "a_3"
   ]
  },
  {
   "cell_type": "code",
   "execution_count": 108,
   "id": "82e63a42",
   "metadata": {},
   "outputs": [
    {
     "data": {
      "text/plain": [
       "0          15.0\n",
       "1          54.0\n",
       "2          28.0\n",
       "3          38.0\n",
       "4     1010101.0\n",
       "5          29.0\n",
       "6          51.0\n",
       "7           0.0\n",
       "8           0.0\n",
       "9          63.0\n",
       "10         38.0\n",
       "Name: Trade Count, dtype: float64"
      ]
     },
     "execution_count": 108,
     "metadata": {},
     "output_type": "execute_result"
    }
   ],
   "source": [
    "a_3['Trade Count'].fillna(1010101)"
   ]
  },
  {
   "cell_type": "code",
   "execution_count": 109,
   "id": "1d69838c",
   "metadata": {},
   "outputs": [
    {
     "data": {
      "text/html": [
       "<div>\n",
       "<style scoped>\n",
       "    .dataframe tbody tr th:only-of-type {\n",
       "        vertical-align: middle;\n",
       "    }\n",
       "\n",
       "    .dataframe tbody tr th {\n",
       "        vertical-align: top;\n",
       "    }\n",
       "\n",
       "    .dataframe thead th {\n",
       "        text-align: right;\n",
       "    }\n",
       "</style>\n",
       "<table border=\"1\" class=\"dataframe\">\n",
       "  <thead>\n",
       "    <tr style=\"text-align: right;\">\n",
       "      <th></th>\n",
       "      <th>State/District</th>\n",
       "      <th>ITI Count</th>\n",
       "      <th>Trade Count</th>\n",
       "      <th>Seat Count Current</th>\n",
       "      <th>Trainee Count</th>\n",
       "    </tr>\n",
       "  </thead>\n",
       "  <tbody>\n",
       "    <tr>\n",
       "      <th>0</th>\n",
       "      <td>ANDAMAN AND NICOBAR ISLANDS</td>\n",
       "      <td>4</td>\n",
       "      <td>15.0</td>\n",
       "      <td>608</td>\n",
       "      <td>531.0</td>\n",
       "    </tr>\n",
       "    <tr>\n",
       "      <th>1</th>\n",
       "      <td>ANDHRA PRADESH</td>\n",
       "      <td>514</td>\n",
       "      <td>54.0</td>\n",
       "      <td>59716</td>\n",
       "      <td>NaN</td>\n",
       "    </tr>\n",
       "    <tr>\n",
       "      <th>2</th>\n",
       "      <td>ARUNACHAL PRADESH</td>\n",
       "      <td>7</td>\n",
       "      <td>28.0</td>\n",
       "      <td>964</td>\n",
       "      <td>487.0</td>\n",
       "    </tr>\n",
       "    <tr>\n",
       "      <th>3</th>\n",
       "      <td>ASSAM</td>\n",
       "      <td>42</td>\n",
       "      <td>38.0</td>\n",
       "      <td>4408</td>\n",
       "      <td>3500.0</td>\n",
       "    </tr>\n",
       "    <tr>\n",
       "      <th>4</th>\n",
       "      <td>BIHAR</td>\n",
       "      <td>1370</td>\n",
       "      <td>NaN</td>\n",
       "      <td>114672</td>\n",
       "      <td>NaN</td>\n",
       "    </tr>\n",
       "    <tr>\n",
       "      <th>5</th>\n",
       "      <td>CHANDIGARH</td>\n",
       "      <td>2</td>\n",
       "      <td>29.0</td>\n",
       "      <td>1012</td>\n",
       "      <td>910.0</td>\n",
       "    </tr>\n",
       "    <tr>\n",
       "      <th>6</th>\n",
       "      <td>CHHATTISGARH</td>\n",
       "      <td>233</td>\n",
       "      <td>51.0</td>\n",
       "      <td>26892</td>\n",
       "      <td>21996.0</td>\n",
       "    </tr>\n",
       "    <tr>\n",
       "      <th>7</th>\n",
       "      <td>DADRA AND NAGAR HAVELI</td>\n",
       "      <td>0</td>\n",
       "      <td>0.0</td>\n",
       "      <td>0</td>\n",
       "      <td>0.0</td>\n",
       "    </tr>\n",
       "    <tr>\n",
       "      <th>8</th>\n",
       "      <td>DAMAN AND DIU</td>\n",
       "      <td>0</td>\n",
       "      <td>0.0</td>\n",
       "      <td>0</td>\n",
       "      <td>NaN</td>\n",
       "    </tr>\n",
       "    <tr>\n",
       "      <th>9</th>\n",
       "      <td>DELHI</td>\n",
       "      <td>53</td>\n",
       "      <td>63.0</td>\n",
       "      <td>11844</td>\n",
       "      <td>8774.0</td>\n",
       "    </tr>\n",
       "    <tr>\n",
       "      <th>10</th>\n",
       "      <td>ASSAM</td>\n",
       "      <td>42</td>\n",
       "      <td>38.0</td>\n",
       "      <td>4408</td>\n",
       "      <td>3500.0</td>\n",
       "    </tr>\n",
       "  </tbody>\n",
       "</table>\n",
       "</div>"
      ],
      "text/plain": [
       "                 State/District  ITI Count  Trade Count  Seat Count Current  \\\n",
       "0   ANDAMAN AND NICOBAR ISLANDS          4         15.0                 608   \n",
       "1                ANDHRA PRADESH        514         54.0               59716   \n",
       "2             ARUNACHAL PRADESH          7         28.0                 964   \n",
       "3                         ASSAM         42         38.0                4408   \n",
       "4                         BIHAR       1370          NaN              114672   \n",
       "5                    CHANDIGARH          2         29.0                1012   \n",
       "6                  CHHATTISGARH        233         51.0               26892   \n",
       "7        DADRA AND NAGAR HAVELI          0          0.0                   0   \n",
       "8                 DAMAN AND DIU          0          0.0                   0   \n",
       "9                         DELHI         53         63.0               11844   \n",
       "10                        ASSAM         42         38.0                4408   \n",
       "\n",
       "    Trainee Count  \n",
       "0           531.0  \n",
       "1             NaN  \n",
       "2           487.0  \n",
       "3          3500.0  \n",
       "4             NaN  \n",
       "5           910.0  \n",
       "6         21996.0  \n",
       "7             0.0  \n",
       "8             NaN  \n",
       "9          8774.0  \n",
       "10         3500.0  "
      ]
     },
     "execution_count": 109,
     "metadata": {},
     "output_type": "execute_result"
    }
   ],
   "source": [
    "a_3"
   ]
  },
  {
   "cell_type": "code",
   "execution_count": 115,
   "id": "71d9e80e",
   "metadata": {},
   "outputs": [
    {
     "data": {
      "text/plain": [
       "31.6"
      ]
     },
     "execution_count": 115,
     "metadata": {},
     "output_type": "execute_result"
    }
   ],
   "source": [
    "x =a_3['Trade Count'].mean()\n",
    "x"
   ]
  },
  {
   "cell_type": "code",
   "execution_count": 116,
   "id": "2a26e169",
   "metadata": {},
   "outputs": [
    {
     "data": {
      "text/plain": [
       "0     15.0\n",
       "1     54.0\n",
       "2     28.0\n",
       "3     38.0\n",
       "4     31.6\n",
       "5     29.0\n",
       "6     51.0\n",
       "7      0.0\n",
       "8      0.0\n",
       "9     63.0\n",
       "10    38.0\n",
       "Name: Trade Count, dtype: float64"
      ]
     },
     "execution_count": 116,
     "metadata": {},
     "output_type": "execute_result"
    }
   ],
   "source": [
    "a_3['Trade Count'].fillna(x)"
   ]
  },
  {
   "cell_type": "code",
   "execution_count": 117,
   "id": "f98dc91e",
   "metadata": {},
   "outputs": [
    {
     "data": {
      "text/html": [
       "<div>\n",
       "<style scoped>\n",
       "    .dataframe tbody tr th:only-of-type {\n",
       "        vertical-align: middle;\n",
       "    }\n",
       "\n",
       "    .dataframe tbody tr th {\n",
       "        vertical-align: top;\n",
       "    }\n",
       "\n",
       "    .dataframe thead th {\n",
       "        text-align: right;\n",
       "    }\n",
       "</style>\n",
       "<table border=\"1\" class=\"dataframe\">\n",
       "  <thead>\n",
       "    <tr style=\"text-align: right;\">\n",
       "      <th></th>\n",
       "      <th>State/District</th>\n",
       "      <th>ITI Count</th>\n",
       "      <th>Trade Count</th>\n",
       "      <th>Seat Count Current</th>\n",
       "      <th>Trainee Count</th>\n",
       "    </tr>\n",
       "  </thead>\n",
       "  <tbody>\n",
       "    <tr>\n",
       "      <th>0</th>\n",
       "      <td>ANDAMAN AND NICOBAR ISLANDS</td>\n",
       "      <td>4</td>\n",
       "      <td>15.0</td>\n",
       "      <td>608</td>\n",
       "      <td>531.0</td>\n",
       "    </tr>\n",
       "    <tr>\n",
       "      <th>1</th>\n",
       "      <td>ANDHRA PRADESH</td>\n",
       "      <td>514</td>\n",
       "      <td>54.0</td>\n",
       "      <td>59716</td>\n",
       "      <td>NaN</td>\n",
       "    </tr>\n",
       "    <tr>\n",
       "      <th>2</th>\n",
       "      <td>ARUNACHAL PRADESH</td>\n",
       "      <td>7</td>\n",
       "      <td>28.0</td>\n",
       "      <td>964</td>\n",
       "      <td>487.0</td>\n",
       "    </tr>\n",
       "    <tr>\n",
       "      <th>3</th>\n",
       "      <td>ASSAM</td>\n",
       "      <td>42</td>\n",
       "      <td>38.0</td>\n",
       "      <td>4408</td>\n",
       "      <td>3500.0</td>\n",
       "    </tr>\n",
       "    <tr>\n",
       "      <th>4</th>\n",
       "      <td>BIHAR</td>\n",
       "      <td>1370</td>\n",
       "      <td>NaN</td>\n",
       "      <td>114672</td>\n",
       "      <td>NaN</td>\n",
       "    </tr>\n",
       "    <tr>\n",
       "      <th>5</th>\n",
       "      <td>CHANDIGARH</td>\n",
       "      <td>2</td>\n",
       "      <td>29.0</td>\n",
       "      <td>1012</td>\n",
       "      <td>910.0</td>\n",
       "    </tr>\n",
       "    <tr>\n",
       "      <th>6</th>\n",
       "      <td>CHHATTISGARH</td>\n",
       "      <td>233</td>\n",
       "      <td>51.0</td>\n",
       "      <td>26892</td>\n",
       "      <td>21996.0</td>\n",
       "    </tr>\n",
       "    <tr>\n",
       "      <th>7</th>\n",
       "      <td>DADRA AND NAGAR HAVELI</td>\n",
       "      <td>0</td>\n",
       "      <td>0.0</td>\n",
       "      <td>0</td>\n",
       "      <td>0.0</td>\n",
       "    </tr>\n",
       "    <tr>\n",
       "      <th>8</th>\n",
       "      <td>DAMAN AND DIU</td>\n",
       "      <td>0</td>\n",
       "      <td>0.0</td>\n",
       "      <td>0</td>\n",
       "      <td>NaN</td>\n",
       "    </tr>\n",
       "    <tr>\n",
       "      <th>9</th>\n",
       "      <td>DELHI</td>\n",
       "      <td>53</td>\n",
       "      <td>63.0</td>\n",
       "      <td>11844</td>\n",
       "      <td>8774.0</td>\n",
       "    </tr>\n",
       "    <tr>\n",
       "      <th>10</th>\n",
       "      <td>ASSAM</td>\n",
       "      <td>42</td>\n",
       "      <td>38.0</td>\n",
       "      <td>4408</td>\n",
       "      <td>3500.0</td>\n",
       "    </tr>\n",
       "  </tbody>\n",
       "</table>\n",
       "</div>"
      ],
      "text/plain": [
       "                 State/District  ITI Count  Trade Count  Seat Count Current  \\\n",
       "0   ANDAMAN AND NICOBAR ISLANDS          4         15.0                 608   \n",
       "1                ANDHRA PRADESH        514         54.0               59716   \n",
       "2             ARUNACHAL PRADESH          7         28.0                 964   \n",
       "3                         ASSAM         42         38.0                4408   \n",
       "4                         BIHAR       1370          NaN              114672   \n",
       "5                    CHANDIGARH          2         29.0                1012   \n",
       "6                  CHHATTISGARH        233         51.0               26892   \n",
       "7        DADRA AND NAGAR HAVELI          0          0.0                   0   \n",
       "8                 DAMAN AND DIU          0          0.0                   0   \n",
       "9                         DELHI         53         63.0               11844   \n",
       "10                        ASSAM         42         38.0                4408   \n",
       "\n",
       "    Trainee Count  \n",
       "0           531.0  \n",
       "1             NaN  \n",
       "2           487.0  \n",
       "3          3500.0  \n",
       "4             NaN  \n",
       "5           910.0  \n",
       "6         21996.0  \n",
       "7             0.0  \n",
       "8             NaN  \n",
       "9          8774.0  \n",
       "10         3500.0  "
      ]
     },
     "execution_count": 117,
     "metadata": {},
     "output_type": "execute_result"
    }
   ],
   "source": [
    "a_3"
   ]
  },
  {
   "cell_type": "code",
   "execution_count": 119,
   "id": "e725a221",
   "metadata": {},
   "outputs": [
    {
     "data": {
      "text/plain": [
       "31.6"
      ]
     },
     "execution_count": 119,
     "metadata": {},
     "output_type": "execute_result"
    }
   ],
   "source": [
    "a_3['Trade Count'].mean()"
   ]
  },
  {
   "cell_type": "code",
   "execution_count": 120,
   "id": "cb04fc29",
   "metadata": {},
   "outputs": [
    {
     "data": {
      "text/plain": [
       "33.5"
      ]
     },
     "execution_count": 120,
     "metadata": {},
     "output_type": "execute_result"
    }
   ],
   "source": [
    "a_3['Trade Count'].median()"
   ]
  },
  {
   "cell_type": "code",
   "execution_count": 121,
   "id": "a88f14dc",
   "metadata": {},
   "outputs": [
    {
     "data": {
      "text/plain": [
       "0     0.0\n",
       "1    38.0\n",
       "Name: Trade Count, dtype: float64"
      ]
     },
     "execution_count": 121,
     "metadata": {},
     "output_type": "execute_result"
    }
   ],
   "source": [
    "a_3['Trade Count'].mode()"
   ]
  },
  {
   "cell_type": "code",
   "execution_count": 126,
   "id": "7f451c16",
   "metadata": {},
   "outputs": [],
   "source": [
    "a_4 = a_3.index"
   ]
  },
  {
   "cell_type": "code",
   "execution_count": null,
   "id": "124bb27f",
   "metadata": {},
   "outputs": [],
   "source": []
  }
 ],
 "metadata": {
  "kernelspec": {
   "display_name": "Python 3 (ipykernel)",
   "language": "python",
   "name": "python3"
  },
  "language_info": {
   "codemirror_mode": {
    "name": "ipython",
    "version": 3
   },
   "file_extension": ".py",
   "mimetype": "text/x-python",
   "name": "python",
   "nbconvert_exporter": "python",
   "pygments_lexer": "ipython3",
   "version": "3.11.1"
  }
 },
 "nbformat": 4,
 "nbformat_minor": 5
}
