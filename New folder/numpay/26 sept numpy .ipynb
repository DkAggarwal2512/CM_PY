{
 "cells": [
  {
   "cell_type": "code",
   "execution_count": 1,
   "id": "0b62b574",
   "metadata": {},
   "outputs": [],
   "source": [
    "import numpy as np\n"
   ]
  },
  {
   "cell_type": "code",
   "execution_count": 3,
   "id": "02a5118b",
   "metadata": {},
   "outputs": [
    {
     "name": "stdout",
     "output_type": "stream",
     "text": [
      "7\n",
      "0\n"
     ]
    }
   ],
   "source": [
    "a = np.array(7)\n",
    "print(a)\n",
    "print(a.ndim)"
   ]
  },
  {
   "cell_type": "code",
   "execution_count": 4,
   "id": "8aa84115",
   "metadata": {},
   "outputs": [
    {
     "name": "stdout",
     "output_type": "stream",
     "text": [
      "[5 3 6 7 8]\n",
      "1\n",
      "<class 'numpy.ndarray'>\n"
     ]
    }
   ],
   "source": [
    "b = np.array([5,3,6,7,8])\n",
    "print(b)\n",
    "print(b.ndim)\n",
    "print(type(b))"
   ]
  },
  {
   "cell_type": "code",
   "execution_count": 8,
   "id": "b914d3f5",
   "metadata": {},
   "outputs": [
    {
     "name": "stdout",
     "output_type": "stream",
     "text": [
      "<class 'list'>\n",
      "<class 'numpy.ndarray'>\n"
     ]
    }
   ],
   "source": [
    "list =[]\n",
    "print(type(list))\n",
    "c = np.array(list)\n",
    "print(type(c))"
   ]
  },
  {
   "cell_type": "code",
   "execution_count": 10,
   "id": "27c2dee4",
   "metadata": {},
   "outputs": [
    {
     "name": "stdout",
     "output_type": "stream",
     "text": [
      "element: 7\n",
      "element: 6\n",
      "element: 9\n",
      "element: 8\n",
      "[7 6 9 8]\n"
     ]
    }
   ],
   "source": [
    "# shap ----->\n",
    "for i in range(1,5):\n",
    "        x = int(input('element: '))\n",
    "        list.append(x)\n",
    "d = np.array(list)\n",
    "print(d)"
   ]
  },
  {
   "cell_type": "code",
   "execution_count": 11,
   "id": "505f1a80",
   "metadata": {},
   "outputs": [
    {
     "data": {
      "text/plain": [
       "numpy.ndarray"
      ]
     },
     "execution_count": 11,
     "metadata": {},
     "output_type": "execute_result"
    }
   ],
   "source": [
    "type(d)"
   ]
  },
  {
   "cell_type": "code",
   "execution_count": 12,
   "id": "fce69396",
   "metadata": {},
   "outputs": [
    {
     "data": {
      "text/plain": [
       "list"
      ]
     },
     "execution_count": 12,
     "metadata": {},
     "output_type": "execute_result"
    }
   ],
   "source": [
    "list\n",
    "type(list)"
   ]
  },
  {
   "cell_type": "code",
   "execution_count": 14,
   "id": "6a593a31",
   "metadata": {},
   "outputs": [
    {
     "name": "stdout",
     "output_type": "stream",
     "text": [
      "[0. 0. 0. 0.]\n"
     ]
    }
   ],
   "source": [
    " e = np.zeros(4)\n",
    "print(e)"
   ]
  },
  {
   "cell_type": "code",
   "execution_count": 17,
   "id": "b94ffff8",
   "metadata": {},
   "outputs": [
    {
     "name": "stdout",
     "output_type": "stream",
     "text": [
      "[1. 1. 1. 1. 1.]\n"
     ]
    }
   ],
   "source": [
    "f = np.ones(5)\n",
    "print(f)\n"
   ]
  },
  {
   "cell_type": "code",
   "execution_count": 21,
   "id": "a8d34ae7",
   "metadata": {},
   "outputs": [
    {
     "name": "stdout",
     "output_type": "stream",
     "text": [
      "[0 1 2 3 4 5]\n"
     ]
    }
   ],
   "source": [
    "h = np.arange(6)\n",
    "print(h)"
   ]
  },
  {
   "cell_type": "code",
   "execution_count": 22,
   "id": "40789569",
   "metadata": {},
   "outputs": [
    {
     "name": "stdout",
     "output_type": "stream",
     "text": [
      "[4 5 6 7 8 9]\n"
     ]
    }
   ],
   "source": [
    "#np.arange(start,stop,steps,datatype)\n",
    "g = np.arange(4,10)\n",
    "print(g)"
   ]
  },
  {
   "cell_type": "code",
   "execution_count": 24,
   "id": "ee563412",
   "metadata": {},
   "outputs": [
    {
     "data": {
      "text/plain": [
       "array([0, 3, 6, 9])"
      ]
     },
     "execution_count": 24,
     "metadata": {},
     "output_type": "execute_result"
    }
   ],
   "source": [
    "i =np.arange(0,10,3)\n",
    "i"
   ]
  },
  {
   "cell_type": "code",
   "execution_count": 30,
   "id": "02e6f380",
   "metadata": {},
   "outputs": [
    {
     "data": {
      "text/plain": [
       "array([ 0. ,  2.5,  5. ,  7.5, 10. ])"
      ]
     },
     "execution_count": 30,
     "metadata": {},
     "output_type": "execute_result"
    }
   ],
   "source": [
    "#Spacial methods\n",
    "#1)Linespace\n",
    "k= np.linspace(0,10, num= 5)\n",
    "k"
   ]
  },
  {
   "cell_type": "code",
   "execution_count": 37,
   "id": "a7faf70a",
   "metadata": {},
   "outputs": [
    {
     "data": {
      "text/plain": [
       "array([0.08239028, 0.79302789, 0.52123365, 0.16487631])"
      ]
     },
     "execution_count": 37,
     "metadata": {},
     "output_type": "execute_result"
    }
   ],
   "source": [
    "#Random methods \n",
    "k= np.random.rand(4)\n",
    "k  "
   ]
  },
  {
   "cell_type": "code",
   "execution_count": 40,
   "id": "5b2c465a",
   "metadata": {},
   "outputs": [
    {
     "data": {
      "text/plain": [
       "array([ 0.42703205,  0.53771237, -0.14819113,  0.07117984,  0.55283651])"
      ]
     },
     "execution_count": 40,
     "metadata": {},
     "output_type": "execute_result"
    }
   ],
   "source": [
    "#(-1 -> +1)\n",
    "l= np.random.randn(5)\n",
    "l  "
   ]
  },
  {
   "cell_type": "code",
   "execution_count": 55,
   "id": "7c870e0d",
   "metadata": {},
   "outputs": [
    {
     "name": "stdout",
     "output_type": "stream",
     "text": [
      "[0.39658218 0.61070348 0.93167318 0.33042514 0.35601909]\n"
     ]
    },
    {
     "data": {
      "text/plain": [
       "dtype('float64')"
      ]
     },
     "execution_count": 55,
     "metadata": {},
     "output_type": "execute_result"
    }
   ],
   "source": [
    "p= np.random.ranf(5)\n",
    "print(p)\n",
    "p.dtype"
   ]
  },
  {
   "cell_type": "code",
   "execution_count": 52,
   "id": "f62a3980",
   "metadata": {},
   "outputs": [
    {
     "name": "stdout",
     "output_type": "stream",
     "text": [
      "[17 18  6 14  5  8]\n"
     ]
    },
    {
     "data": {
      "text/plain": [
       "dtype('int32')"
      ]
     },
     "execution_count": 52,
     "metadata": {},
     "output_type": "execute_result"
    }
   ],
   "source": [
    "# (start,stop,count)\n",
    "s= np.random.randint(4,20,6)\n",
    "print(s)  \n",
    "s.dtype"
   ]
  },
  {
   "cell_type": "code",
   "execution_count": 53,
   "id": "cb83587d",
   "metadata": {},
   "outputs": [
    {
     "data": {
      "text/plain": [
       "array([ 100.,  325.,  550.,  775., 1000.])"
      ]
     },
     "execution_count": 53,
     "metadata": {},
     "output_type": "execute_result"
    }
   ],
   "source": [
    "#linespace\n",
    "#(min ,max, count)\n",
    "o = np.linspace(100,1000, num= 5)\n",
    "o"
   ]
  },
  {
   "cell_type": "code",
   "execution_count": 54,
   "id": "0464172d",
   "metadata": {},
   "outputs": [
    {
     "data": {
      "text/plain": [
       "dtype('float64')"
      ]
     },
     "execution_count": 54,
     "metadata": {},
     "output_type": "execute_result"
    }
   ],
   "source": [
    "o.dtype\n"
   ]
  },
  {
   "cell_type": "code",
   "execution_count": 61,
   "id": "aff4757a",
   "metadata": {},
   "outputs": [
    {
     "data": {
      "text/plain": [
       "dtype('<U10')"
      ]
     },
     "execution_count": 61,
     "metadata": {},
     "output_type": "execute_result"
    }
   ],
   "source": [
    " p = np.array(['Gulshan','Rohan', 'Rahulverma'])\n",
    "p.dtype"
   ]
  },
  {
   "cell_type": "code",
   "execution_count": 62,
   "id": "57502d85",
   "metadata": {},
   "outputs": [
    {
     "data": {
      "text/plain": [
       "dtype('<U2')"
      ]
     },
     "execution_count": 62,
     "metadata": {},
     "output_type": "execute_result"
    }
   ],
   "source": [
    "t= np.array(['A','Bo'])\n",
    "t.dtype"
   ]
  },
  {
   "cell_type": "code",
   "execution_count": 59,
   "id": "4211a782",
   "metadata": {},
   "outputs": [
    {
     "data": {
      "text/plain": [
       "dtype('<U1')"
      ]
     },
     "execution_count": 59,
     "metadata": {},
     "output_type": "execute_result"
    }
   ],
   "source": [
    "m= np.array(['A'])\n",
    "m.dtype"
   ]
  },
  {
   "cell_type": "code",
   "execution_count": 65,
   "id": "ab430098",
   "metadata": {},
   "outputs": [
    {
     "data": {
      "text/plain": [
       "dtype('int32')"
      ]
     },
     "execution_count": 65,
     "metadata": {},
     "output_type": "execute_result"
    }
   ],
   "source": [
    "# n = np.array([45e789])\n",
    "# n.dtype\n",
    "\n",
    "n = np.array([45789])\n",
    "n.dtype"
   ]
  },
  {
   "cell_type": "code",
   "execution_count": 66,
   "id": "c9ddadf0",
   "metadata": {},
   "outputs": [
    {
     "data": {
      "text/plain": [
       "dtype('complex128')"
      ]
     },
     "execution_count": 66,
     "metadata": {},
     "output_type": "execute_result"
    }
   ],
   "source": [
    "t = np.array([2+3j])\n",
    "t.dtype"
   ]
  },
  {
   "cell_type": "code",
   "execution_count": 67,
   "id": "d2194c27",
   "metadata": {},
   "outputs": [
    {
     "data": {
      "text/plain": [
       "dtype('<U11')"
      ]
     },
     "execution_count": 67,
     "metadata": {},
     "output_type": "execute_result"
    }
   ],
   "source": [
    "v = np.array(['a','s','w', 4,7,8])\n",
    "v.dtype"
   ]
  },
  {
   "cell_type": "code",
   "execution_count": 73,
   "id": "6899d5f0",
   "metadata": {},
   "outputs": [
    {
     "name": "stdout",
     "output_type": "stream",
     "text": [
      "[2. 5. 4. 7.]\n",
      "float64\n"
     ]
    }
   ],
   "source": [
    "w = np.array([2,5,4,7, ],   dtype = np.float_)#dtype= np.int_ \n",
    "print(w)\n",
    "print(w.dtype)"
   ]
  },
  {
   "cell_type": "code",
   "execution_count": 74,
   "id": "c13d80b3",
   "metadata": {},
   "outputs": [
    {
     "name": "stdout",
     "output_type": "stream",
     "text": [
      "[2 5 4 7 8 4]\n",
      "int32\n"
     ]
    }
   ],
   "source": [
    "y = np.array([2,5,4,7,8.4,4.1, ],   dtype = np.int_)#dtype= np.int_ \n",
    "print(y)\n",
    "print(y.dtype)"
   ]
  },
  {
   "cell_type": "code",
   "execution_count": 75,
   "id": "980a5bf3",
   "metadata": {},
   "outputs": [
    {
     "name": "stdout",
     "output_type": "stream",
     "text": [
      "[2. 5. 4. 7. 8. 4.]\n"
     ]
    }
   ],
   "source": [
    "z = np.float32(y)\n",
    "print (z)"
   ]
  },
  {
   "cell_type": "code",
   "execution_count": 85,
   "id": "dc3f1c4f",
   "metadata": {},
   "outputs": [
    {
     "name": "stdout",
     "output_type": "stream",
     "text": [
      "1.4 µs ± 31.7 ns per loop (mean ± std. dev. of 7 runs, 1,000,000 loops each)\n"
     ]
    }
   ],
   "source": [
    "%timeit [x**3 for x in range(1, 20)]"
   ]
  },
  {
   "cell_type": "code",
   "execution_count": 87,
   "id": "77f6fbc7",
   "metadata": {},
   "outputs": [
    {
     "name": "stdout",
     "output_type": "stream",
     "text": [
      "1.89 µs ± 37.4 ns per loop (mean ± std. dev. of 7 runs, 1,000,000 loops each)\n"
     ]
    }
   ],
   "source": [
    "%timeit np.arange(1, 20)**3"
   ]
  },
  {
   "cell_type": "code",
   "execution_count": 88,
   "id": "afbd3016",
   "metadata": {},
   "outputs": [
    {
     "data": {
      "text/plain": [
       "2"
      ]
     },
     "execution_count": 88,
     "metadata": {},
     "output_type": "execute_result"
    }
   ],
   "source": [
    "a = np.array([\n",
    "    [7,5,2],[5,4,1],[8,9,4]\n",
    "])\n",
    "a.ndim"
   ]
  },
  {
   "cell_type": "code",
   "execution_count": 90,
   "id": "48f0bbc1",
   "metadata": {},
   "outputs": [],
   "source": [
    "c = [\n",
    "    [5,8,9,'Gulshan']\n",
    "]"
   ]
  },
  {
   "cell_type": "code",
   "execution_count": 91,
   "id": "d7d39637",
   "metadata": {},
   "outputs": [
    {
     "data": {
      "text/plain": [
       "[5, 8, 9, 'Gulshan']"
      ]
     },
     "execution_count": 91,
     "metadata": {},
     "output_type": "execute_result"
    }
   ],
   "source": [
    "c [0]"
   ]
  },
  {
   "cell_type": "code",
   "execution_count": 92,
   "id": "da37eb72",
   "metadata": {},
   "outputs": [
    {
     "data": {
      "text/plain": [
       "8"
      ]
     },
     "execution_count": 92,
     "metadata": {},
     "output_type": "execute_result"
    }
   ],
   "source": [
    "# 2 dimision list \n",
    "c[0][1]"
   ]
  },
  {
   "cell_type": "code",
   "execution_count": 96,
   "id": "d4efece0",
   "metadata": {},
   "outputs": [],
   "source": [
    "#4 dim list\n",
    "d [[[[7,8,9]]]]"
   ]
  },
  {
   "cell_type": "code",
   "execution_count": 97,
   "id": "8c7a4166",
   "metadata": {},
   "outputs": [
    {
     "data": {
      "text/plain": [
       "7"
      ]
     },
     "execution_count": 97,
     "metadata": {},
     "output_type": "execute_result"
    }
   ],
   "source": [
    "d[0][0][0][0]"
   ]
  },
  {
   "cell_type": "code",
   "execution_count": 98,
   "id": "e982665b",
   "metadata": {},
   "outputs": [],
   "source": [
    "e = [[[[7,8,9,['a','b','c']]]]]"
   ]
  },
  {
   "cell_type": "code",
   "execution_count": 105,
   "id": "6b45be13",
   "metadata": {},
   "outputs": [
    {
     "data": {
      "text/plain": [
       "8"
      ]
     },
     "execution_count": 105,
     "metadata": {},
     "output_type": "execute_result"
    }
   ],
   "source": [
    "e[0][0][0][1]"
   ]
  },
  {
   "cell_type": "code",
   "execution_count": 111,
   "id": "3f14d197",
   "metadata": {},
   "outputs": [
    {
     "data": {
      "text/plain": [
       "array([[0., 0., 0., 0.],\n",
       "       [0., 0., 0., 0.],\n",
       "       [0., 0., 0., 0.],\n",
       "       [0., 0., 0., 0.],\n",
       "       [0., 0., 0., 0.],\n",
       "       [0., 0., 0., 0.]])"
      ]
     },
     "execution_count": 111,
     "metadata": {},
     "output_type": "execute_result"
    }
   ],
   "source": [
    "h= np.zeros((6,4))\n",
    "h"
   ]
  },
  {
   "cell_type": "code",
   "execution_count": 112,
   "id": "fd59ccba",
   "metadata": {},
   "outputs": [
    {
     "data": {
      "text/plain": [
       "array([[1., 1., 1.],\n",
       "       [1., 1., 1.],\n",
       "       [1., 1., 1.],\n",
       "       [1., 1., 1.]])"
      ]
     },
     "execution_count": 112,
     "metadata": {},
     "output_type": "execute_result"
    }
   ],
   "source": [
    "i = np.ones((4,3))\n",
    "i"
   ]
  },
  {
   "cell_type": "code",
   "execution_count": 110,
   "id": "b4ffef22",
   "metadata": {},
   "outputs": [
    {
     "data": {
      "text/plain": [
       "array([[1., 0., 0., 0., 0.],\n",
       "       [0., 1., 0., 0., 0.],\n",
       "       [0., 0., 1., 0., 0.],\n",
       "       [0., 0., 0., 1., 0.],\n",
       "       [0., 0., 0., 0., 1.]])"
      ]
     },
     "execution_count": 110,
     "metadata": {},
     "output_type": "execute_result"
    }
   ],
   "source": [
    "j= np.eye(4)\n",
    "j"
   ]
  },
  {
   "cell_type": "code",
   "execution_count": 116,
   "id": "02041e64",
   "metadata": {},
   "outputs": [
    {
     "name": "stdout",
     "output_type": "stream",
     "text": [
      "[[1. 0. 0. 0. 0.]\n",
      " [0. 1. 0. 0. 0.]\n",
      " [0. 0. 1. 0. 0.]\n",
      " [0. 0. 0. 1. 0.]]\n",
      "2\n"
     ]
    }
   ],
   "source": [
    "k =np.eye(4,5)\n",
    "print(k)\n",
    "print(k.ndim)"
   ]
  },
  {
   "cell_type": "code",
   "execution_count": 117,
   "id": "7ee9f227",
   "metadata": {},
   "outputs": [
    {
     "data": {
      "text/plain": [
       "array([[0.58724675, 0.1207352 , 0.57801231, 0.45163047],\n",
       "       [0.79623779, 0.33961334, 0.41933059, 0.49571658],\n",
       "       [0.41555965, 0.25959254, 0.28894411, 0.46709569]])"
      ]
     },
     "execution_count": 117,
     "metadata": {},
     "output_type": "execute_result"
    }
   ],
   "source": [
    "l = np.random.rand(3,4)\n",
    "l"
   ]
  },
  {
   "cell_type": "code",
   "execution_count": 119,
   "id": "21abd19a",
   "metadata": {},
   "outputs": [
    {
     "data": {
      "text/plain": [
       "array([7, 4])"
      ]
     },
     "execution_count": 119,
     "metadata": {},
     "output_type": "execute_result"
    }
   ],
   "source": [
    "m = np.random.randint(2,10,2)\n",
    "m"
   ]
  },
  {
   "cell_type": "code",
   "execution_count": 122,
   "id": "bba88957",
   "metadata": {
    "scrolled": false
   },
   "outputs": [
    {
     "name": "stdout",
     "output_type": "stream",
     "text": [
      "1\n",
      "[[3 5 7 1]\n",
      " [6 4 1 2]]\n",
      "2\n"
     ]
    }
   ],
   "source": [
    "a = np.array([3,5,7,1,6,4,1,2])\n",
    "print(a.ndim)\n",
    "b = a.reshape(2,4)\n",
    "print(b)\n",
    "print(b.ndim)"
   ]
  },
  {
   "cell_type": "code",
   "execution_count": 125,
   "id": "1f57bb17",
   "metadata": {},
   "outputs": [
    {
     "name": "stdout",
     "output_type": "stream",
     "text": [
      "1\n",
      "[[3 5 7]\n",
      " [1 6 4]\n",
      " [1 2 7]\n",
      " [8 9 7]]\n",
      "2\n"
     ]
    }
   ],
   "source": [
    "g = np.array([3,5,7,1,6,4,1,2,7,8,9,7])\n",
    "print(g.ndim)\n",
    "p = g.reshape(4,3)\n",
    "print(p)\n",
    "print(p.ndim)"
   ]
  },
  {
   "cell_type": "code",
   "execution_count": null,
   "id": "67b5bc67",
   "metadata": {},
   "outputs": [],
   "source": [
    "g = np.array([3,5,7,1,6,4,1,2,7,8,9,7])\n"
   ]
  },
  {
   "cell_type": "code",
   "execution_count": null,
   "id": "d1244163",
   "metadata": {},
   "outputs": [],
   "source": [
    "g= [[[100,200,300],['ad','bd'],[[[[5,8,2,4],[45,78,5],['a','b','e']]]]]]\n",
    "target  a"
   ]
  },
  {
   "cell_type": "markdown",
   "id": "38058458",
   "metadata": {},
   "source": [
    "# 27 sep "
   ]
  },
  {
   "cell_type": "code",
   "execution_count": 8,
   "id": "1ab13fee",
   "metadata": {},
   "outputs": [
    {
     "name": "stdout",
     "output_type": "stream",
     "text": [
      "[[1 2 3 4]\n",
      " [5 6 7 8]]\n",
      "(2, 4)\n",
      "[5 2 7 8 9 0 1]\n",
      "(7,)\n"
     ]
    }
   ],
   "source": [
    "import numpy as np\n",
    "a = np.array([[1, 2, 3, 4], [5, 6, 7, 8]])\n",
    "print(a)\n",
    "print(a.shape)\n",
    "b =np.array([5,2,7,8,9,0,1])\n",
    "print(b)\n",
    "print(b.shape)"
   ]
  },
  {
   "cell_type": "code",
   "execution_count": 11,
   "id": "ae17da9e",
   "metadata": {},
   "outputs": [
    {
     "name": "stdout",
     "output_type": "stream",
     "text": [
      "[[[5 5 7 8 9 4 5 4 8 5 4 1 2 3]]]\n",
      "(1, 1, 14)\n"
     ]
    }
   ],
   "source": [
    "c = np.array([[[5,5,7,8,9,4,5,4,8,5,4,1,2,3]]])\n",
    "print(c)\n",
    "print(c.shape)"
   ]
  },
  {
   "cell_type": "code",
   "execution_count": 16,
   "id": "72d4c33c",
   "metadata": {},
   "outputs": [
    {
     "data": {
      "text/plain": [
       "(3, 4)"
      ]
     },
     "execution_count": 16,
     "metadata": {},
     "output_type": "execute_result"
    }
   ],
   "source": [
    "d = np.array([\n",
    "    [3,7,7,5],\n",
    "    [7,9,7,4],\n",
    "    [2,5,7,1]\n",
    "])\n",
    "d.shape"
   ]
  },
  {
   "cell_type": "code",
   "execution_count": 22,
   "id": "f6f06865",
   "metadata": {},
   "outputs": [
    {
     "data": {
      "text/plain": [
       "(1, 3, 3)"
      ]
     },
     "execution_count": 22,
     "metadata": {},
     "output_type": "execute_result"
    }
   ],
   "source": [
    "e = np.array([\n",
    "    [\n",
    "        [2,4,1],\n",
    "        [4,7,8],\n",
    "        [7,5,9]\n",
    "    ]\n",
    "])\n",
    "e.shape"
   ]
  },
  {
   "cell_type": "code",
   "execution_count": 23,
   "id": "11dd6a79",
   "metadata": {},
   "outputs": [
    {
     "data": {
      "text/plain": [
       "3"
      ]
     },
     "execution_count": 23,
     "metadata": {},
     "output_type": "execute_result"
    }
   ],
   "source": [
    "e.ndim"
   ]
  },
  {
   "cell_type": "code",
   "execution_count": 26,
   "id": "dcb9ac47",
   "metadata": {},
   "outputs": [
    {
     "data": {
      "text/plain": [
       "2"
      ]
     },
     "execution_count": 26,
     "metadata": {},
     "output_type": "execute_result"
    }
   ],
   "source": [
    "#  Single  Dimensional Array\n",
    "l= np.array([3,7,9,2,4])\n",
    "#            0,1,2,3,4\n",
    "#            -5,-4,-3,-2,-1\n",
    "l [1]\n",
    "l[-2]"
   ]
  },
  {
   "cell_type": "code",
   "execution_count": 36,
   "id": "cb49c4f5",
   "metadata": {},
   "outputs": [
    {
     "data": {
      "text/plain": [
       "2"
      ]
     },
     "execution_count": 36,
     "metadata": {},
     "output_type": "execute_result"
    }
   ],
   "source": [
    "# Two Dimensional Array\n",
    "p= np.array([\n",
    "    [3,7,9,2,4],\n",
    "    [7,4,8,7,9]\n",
    "])\n",
    "p[0][1]\n",
    "#p[1,4]\n",
    "p[1][4]\n",
    "p[-0][-2]"
   ]
  },
  {
   "cell_type": "code",
   "execution_count": 38,
   "id": "9a27bc21",
   "metadata": {},
   "outputs": [
    {
     "data": {
      "text/plain": [
       "(1, 2, 3)"
      ]
     },
     "execution_count": 38,
     "metadata": {},
     "output_type": "execute_result"
    }
   ],
   "source": [
    "h= np.array([\n",
    "    [[8,3,5],\n",
    "     [7,2,3]\n",
    "    ]])\n",
    "h.shape"
   ]
  },
  {
   "cell_type": "code",
   "execution_count": 47,
   "id": "64315385",
   "metadata": {},
   "outputs": [
    {
     "data": {
      "text/plain": [
       "8"
      ]
     },
     "execution_count": 47,
     "metadata": {},
     "output_type": "execute_result"
    }
   ],
   "source": [
    "h[0,0,0]"
   ]
  },
  {
   "cell_type": "code",
   "execution_count": 48,
   "id": "9f059b19",
   "metadata": {},
   "outputs": [
    {
     "data": {
      "text/plain": [
       "array([12,  5, 10,  9])"
      ]
     },
     "execution_count": 48,
     "metadata": {},
     "output_type": "execute_result"
    }
   ],
   "source": [
    "a =np.array([4,2,6,3])\n",
    "b = np.array([8,3,4,6])\n",
    "a+b"
   ]
  },
  {
   "cell_type": "code",
   "execution_count": 51,
   "id": "166ce3dd",
   "metadata": {},
   "outputs": [],
   "source": [
    "v =np.array([4,2,6])\n",
    "b =np.array([8,3,4])\n"
   ]
  },
  {
   "cell_type": "code",
   "execution_count": 52,
   "id": "f4a23b0f",
   "metadata": {},
   "outputs": [
    {
     "data": {
      "text/plain": [
       "array([-4, -1,  2])"
      ]
     },
     "execution_count": 52,
     "metadata": {},
     "output_type": "execute_result"
    }
   ],
   "source": [
    "v-b"
   ]
  },
  {
   "cell_type": "code",
   "execution_count": 53,
   "id": "e712da40",
   "metadata": {},
   "outputs": [
    {
     "data": {
      "text/plain": [
       "array([32,  6, 24])"
      ]
     },
     "execution_count": 53,
     "metadata": {},
     "output_type": "execute_result"
    }
   ],
   "source": [
    "v*b"
   ]
  },
  {
   "cell_type": "code",
   "execution_count": 54,
   "id": "1f880135",
   "metadata": {},
   "outputs": [
    {
     "data": {
      "text/plain": [
       "array([0.5       , 0.66666667, 1.5       ])"
      ]
     },
     "execution_count": 54,
     "metadata": {},
     "output_type": "execute_result"
    }
   ],
   "source": [
    "v/b"
   ]
  },
  {
   "cell_type": "code",
   "execution_count": 56,
   "id": "aa931d02",
   "metadata": {},
   "outputs": [
    {
     "data": {
      "text/plain": [
       "array([16,  6,  8])"
      ]
     },
     "execution_count": 56,
     "metadata": {},
     "output_type": "execute_result"
    }
   ],
   "source": [
    "v+b"
   ]
  },
  {
   "cell_type": "code",
   "execution_count": 57,
   "id": "f0e67933",
   "metadata": {},
   "outputs": [
    {
     "data": {
      "text/plain": [
       "array([0, 0, 0])"
      ]
     },
     "execution_count": 57,
     "metadata": {},
     "output_type": "execute_result"
    }
   ],
   "source": [
    "v%b"
   ]
  },
  {
   "cell_type": "code",
   "execution_count": 58,
   "id": "eca864c2",
   "metadata": {},
   "outputs": [
    {
     "data": {
      "text/plain": [
       "array([1, 0, 0, 0])"
      ]
     },
     "execution_count": 58,
     "metadata": {},
     "output_type": "execute_result"
    }
   ],
   "source": [
    "d = np.array([1,2,3,4])\n",
    "# 1/1=1 , 1/2=0.5, 1/3=0 ,\n",
    "np.reciprocal(d)"
   ]
  },
  {
   "cell_type": "code",
   "execution_count": 61,
   "id": "a61922c4",
   "metadata": {},
   "outputs": [
    {
     "data": {
      "text/plain": [
       "array([1, 2, 3, 4])"
      ]
     },
     "execution_count": 61,
     "metadata": {},
     "output_type": "execute_result"
    }
   ],
   "source": [
    "d"
   ]
  },
  {
   "cell_type": "code",
   "execution_count": 62,
   "id": "9da73308",
   "metadata": {},
   "outputs": [
    {
     "data": {
      "text/plain": [
       "4"
      ]
     },
     "execution_count": 62,
     "metadata": {},
     "output_type": "execute_result"
    }
   ],
   "source": [
    "np.max(d)"
   ]
  },
  {
   "cell_type": "code",
   "execution_count": 63,
   "id": "78e10f07",
   "metadata": {},
   "outputs": [
    {
     "data": {
      "text/plain": [
       "array([1.        , 1.41421356, 1.73205081, 2.        ])"
      ]
     },
     "execution_count": 63,
     "metadata": {},
     "output_type": "execute_result"
    }
   ],
   "source": [
    "np.sqrt(d)"
   ]
  },
  {
   "cell_type": "code",
   "execution_count": 64,
   "id": "62f24b81",
   "metadata": {},
   "outputs": [
    {
     "data": {
      "text/plain": [
       "array([ 0.84147098,  0.90929743,  0.14112001, -0.7568025 ])"
      ]
     },
     "execution_count": 64,
     "metadata": {},
     "output_type": "execute_result"
    }
   ],
   "source": [
    "np.sin(d)"
   ]
  },
  {
   "cell_type": "code",
   "execution_count": 65,
   "id": "b6e0ff22",
   "metadata": {},
   "outputs": [
    {
     "data": {
      "text/plain": [
       "array([ 0.54030231, -0.41614684, -0.9899925 , -0.65364362])"
      ]
     },
     "execution_count": 65,
     "metadata": {},
     "output_type": "execute_result"
    }
   ],
   "source": [
    "np.cos(d)"
   ]
  },
  {
   "cell_type": "code",
   "execution_count": 67,
   "id": "1d23866e",
   "metadata": {},
   "outputs": [
    {
     "name": "stdout",
     "output_type": "stream",
     "text": [
      "[1 2 3 4]\n",
      "4\n",
      "3\n"
     ]
    }
   ],
   "source": [
    "print (d)\n",
    "print(np.max(d))\n",
    "print(np.argmax(d))"
   ]
  },
  {
   "cell_type": "code",
   "execution_count": 68,
   "id": "f45b1b38",
   "metadata": {},
   "outputs": [
    {
     "name": "stdout",
     "output_type": "stream",
     "text": [
      "1\n",
      "0\n"
     ]
    }
   ],
   "source": [
    "print(np.min(d))\n",
    "print(np.argmin(d))"
   ]
  },
  {
   "cell_type": "code",
   "execution_count": 69,
   "id": "6118fdff",
   "metadata": {},
   "outputs": [
    {
     "data": {
      "text/plain": [
       "1"
      ]
     },
     "execution_count": 69,
     "metadata": {},
     "output_type": "execute_result"
    }
   ],
   "source": [
    "b= np.array([9,1,4,7,5,5,5,6,3,9])\n",
    "np.argmin(b)   "
   ]
  },
  {
   "cell_type": "code",
   "execution_count": 73,
   "id": "4d1b4998",
   "metadata": {},
   "outputs": [
    {
     "name": "stdout",
     "output_type": "stream",
     "text": [
      "Original Array:\n",
      "[1 2 3 4 5]\n",
      "Processed Array:\n",
      "[ 1  3  6 10 15]\n"
     ]
    }
   ],
   "source": [
    "b = np.array([1, 2, 3, 4, 5])\n",
    "print(\"Original Array:\")\n",
    "print(b)\n",
    "sum = np.cumsum(b)\n",
    "print(\"Processed Array:\")\n",
    "print(sum)"
   ]
  },
  {
   "cell_type": "code",
   "execution_count": 75,
   "id": "d5ff4f5b",
   "metadata": {},
   "outputs": [
    {
     "data": {
      "text/plain": [
       "20"
      ]
     },
     "execution_count": 75,
     "metadata": {},
     "output_type": "execute_result"
    }
   ],
   "source": [
    "b = np.array([54,24,23,25,26])\n",
    "b.nbytes"
   ]
  },
  {
   "cell_type": "code",
   "execution_count": 81,
   "id": "e21af965",
   "metadata": {},
   "outputs": [
    {
     "name": "stdout",
     "output_type": "stream",
     "text": [
      "Memory size in bytes: 20\n"
     ]
    }
   ],
   "source": [
    "b = np.array([54, 24, 23, 25, 26])\n",
    "size = b.nbytes\n",
    "print(\"Memory size in bytes:\", size)"
   ]
  },
  {
   "cell_type": "code",
   "execution_count": 99,
   "id": "a2ef5b5f",
   "metadata": {},
   "outputs": [
    {
     "name": "stdout",
     "output_type": "stream",
     "text": [
      "[[54 24 23]\n",
      " [25 26 21]]\n"
     ]
    }
   ],
   "source": [
    "c = np.array([54, 24, 23, 25, 26,21])\n",
    "d = c.reshape(2, 3)\n",
    "print(d)"
   ]
  },
  {
   "cell_type": "code",
   "execution_count": 118,
   "id": "1df454f5",
   "metadata": {},
   "outputs": [
    {
     "data": {
      "text/plain": [
       "array([[14, 16, 18]])"
      ]
     },
     "execution_count": 118,
     "metadata": {},
     "output_type": "execute_result"
    }
   ],
   "source": [
    "#Broadcasting ...................................................\n",
    "a = np.array([4, 5, 5, 1, 2, 3, 4])\n",
    "b = np.array([7, 8, 9])\n",
    "b = b.reshape(1, 3)  \n",
    "b+ b"
   ]
  },
  {
   "cell_type": "code",
   "execution_count": 116,
   "id": "3d4b412a",
   "metadata": {},
   "outputs": [],
   "source": [
    "# Broadcast error ->dimension same+ similar shape/shape\n"
   ]
  },
  {
   "cell_type": "code",
   "execution_count": null,
   "id": "7afe372f",
   "metadata": {},
   "outputs": [],
   "source": []
  },
  {
   "cell_type": "code",
   "execution_count": null,
   "id": "a62702b7",
   "metadata": {},
   "outputs": [],
   "source": []
  },
  {
   "cell_type": "code",
   "execution_count": null,
   "id": "74084b93",
   "metadata": {},
   "outputs": [],
   "source": []
  }
 ],
 "metadata": {
  "kernelspec": {
   "display_name": "Python 3 (ipykernel)",
   "language": "python",
   "name": "python3"
  },
  "language_info": {
   "codemirror_mode": {
    "name": "ipython",
    "version": 3
   },
   "file_extension": ".py",
   "mimetype": "text/x-python",
   "name": "python",
   "nbconvert_exporter": "python",
   "pygments_lexer": "ipython3",
   "version": "3.11.1"
  }
 },
 "nbformat": 4,
 "nbformat_minor": 5
}
