{
 "cells": [
  {
   "cell_type": "code",
   "execution_count": 8,
   "id": "5cea4e0c",
   "metadata": {},
   "outputs": [],
   "source": [
    "import numpy as np"
   ]
  },
  {
   "cell_type": "code",
   "execution_count": 9,
   "id": "decf15fe",
   "metadata": {},
   "outputs": [
    {
     "name": "stdout",
     "output_type": "stream",
     "text": [
      "[3.75 3.75 5.25 5.25 3.5  4.5  5.5 ]\n"
     ]
    }
   ],
   "source": [
    "a = np.array([\n",
    "    [3, 5, 7, 9, 2, 4, 6],\n",
    "    [4, 2, 7, 5, 6, 8, 5],\n",
    "    [1, 4, 2, 3, 5, 4, 6],\n",
    "    [7, 4, 5, 4, 1, 2, 5]\n",
    "])\n",
    "mean = np.mean(a, axis=0)\n",
    "print(mean)\n"
   ]
  },
  {
   "cell_type": "code",
   "execution_count": 11,
   "id": "e35e8d36",
   "metadata": {},
   "outputs": [
    {
     "name": "stdout",
     "output_type": "stream",
     "text": [
      "Original array:\n",
      "[[ 9 23  2  1  5]\n",
      " [ 1  9  2  4  6]\n",
      " [ 3  0  5  2  1]]\n",
      "\n",
      "Unique elements in the array:\n",
      "[ 0  1  2  3  4  5  6  9 23]\n"
     ]
    }
   ],
   "source": [
    "d = np.array([[9, 23, 2, 1, 5], [1, 9, 2, 4, 6], [3, 0, 5, 2, 1]])\n",
    "print(\"Original array:\")\n",
    "print(d)\n",
    "print()\n",
    "unique_elements = np.unique(d)\n",
    "print(\"Unique elements in the array:\")\n",
    "print(unique_elements)\n"
   ]
  },
  {
   "cell_type": "code",
   "execution_count": 14,
   "id": "078f3516",
   "metadata": {},
   "outputs": [
    {
     "data": {
      "text/plain": [
       "(array([7, 2, 3, 2, 0, 0, 0, 0, 0, 1], dtype=int64),\n",
       " array([ 0. ,  2.3,  4.6,  6.9,  9.2, 11.5, 13.8, 16.1, 18.4, 20.7, 23. ]))"
      ]
     },
     "execution_count": 14,
     "metadata": {},
     "output_type": "execute_result"
    }
   ],
   "source": [
    "np.histogram(d)"
   ]
  },
  {
   "cell_type": "code",
   "execution_count": 20,
   "id": "cd0d2edb",
   "metadata": {},
   "outputs": [],
   "source": [
    "arr = np.array([[1, 2, 3], [4, 5, 6]])\n",
    "flattened_arr = arr.flatten()"
   ]
  },
  {
   "cell_type": "code",
   "execution_count": 19,
   "id": "c7a60d03",
   "metadata": {},
   "outputs": [
    {
     "data": {
      "text/plain": [
       "array([4, 3, 7, 5, 2, 7])"
      ]
     },
     "execution_count": 19,
     "metadata": {},
     "output_type": "execute_result"
    }
   ],
   "source": [
    "a = np.array([4,3,7,5,2,7])\n",
    "a "
   ]
  },
  {
   "cell_type": "code",
   "execution_count": 21,
   "id": "171e7175",
   "metadata": {},
   "outputs": [
    {
     "name": "stdout",
     "output_type": "stream",
     "text": [
      "4\n",
      "3\n",
      "7\n",
      "5\n",
      "2\n",
      "7\n"
     ]
    }
   ],
   "source": [
    "#size\n",
    "for i in a:\n",
    "    print(i)"
   ]
  },
  {
   "cell_type": "code",
   "execution_count": 22,
   "id": "497ae67b",
   "metadata": {},
   "outputs": [
    {
     "data": {
      "text/plain": [
       "array([[4, 6, 1, 4, 5, 2, 1],\n",
       "       [7, 4, 5, 1, 2, 4, 7]])"
      ]
     },
     "execution_count": 22,
     "metadata": {},
     "output_type": "execute_result"
    }
   ],
   "source": [
    "b = np.array([\n",
    "    [4,6,1,4,5,2,1],\n",
    "    [7,4,5,1,2,4,7]\n",
    "])\n",
    "b"
   ]
  },
  {
   "cell_type": "code",
   "execution_count": 26,
   "id": "94471a1a",
   "metadata": {},
   "outputs": [
    {
     "name": "stdout",
     "output_type": "stream",
     "text": [
      "array: [4 6 1 4 5 2 1]\n",
      "array: [7 4 5 1 2 4 7]\n"
     ]
    }
   ],
   "source": [
    "for h in b:\n",
    "    a1 = h\n",
    "    print('array:', a1)"
   ]
  },
  {
   "cell_type": "code",
   "execution_count": 27,
   "id": "eedd0528",
   "metadata": {},
   "outputs": [
    {
     "name": "stdout",
     "output_type": "stream",
     "text": [
      "4\n",
      "6\n",
      "1\n",
      "4\n",
      "5\n",
      "2\n",
      "1\n",
      "7\n",
      "4\n",
      "5\n",
      "1\n",
      "2\n",
      "4\n",
      "7\n"
     ]
    }
   ],
   "source": [
    "for k in b:\n",
    "    for i in k:\n",
    "         \n",
    "        print(i)"
   ]
  },
  {
   "cell_type": "code",
   "execution_count": 29,
   "id": "d427d54f",
   "metadata": {},
   "outputs": [
    {
     "data": {
      "text/plain": [
       "5"
      ]
     },
     "execution_count": 29,
     "metadata": {},
     "output_type": "execute_result"
    }
   ],
   "source": [
    "5"
   ]
  },
  {
   "cell_type": "code",
   "execution_count": 43,
   "id": "8c4edf57",
   "metadata": {},
   "outputs": [
    {
     "data": {
      "text/plain": [
       "3"
      ]
     },
     "execution_count": 43,
     "metadata": {},
     "output_type": "execute_result"
    }
   ],
   "source": [
    "c = np.array([[[5,3,8],[12,16,18],[22,25,24],[36,33,35]]])\n",
    "c.ndim"
   ]
  },
  {
   "cell_type": "code",
   "execution_count": 44,
   "id": "8788d0e4",
   "metadata": {},
   "outputs": [
    {
     "name": "stdout",
     "output_type": "stream",
     "text": [
      "array: [5 3 8]\n",
      "array: [12 16 18]\n",
      "array: [22 25 24]\n",
      "array: [36 33 35]\n"
     ]
    }
   ],
   "source": [
    "for i in c:\n",
    "    for j in i:\n",
    "        print('array:',j)"
   ]
  },
  {
   "cell_type": "code",
   "execution_count": 45,
   "id": "ce781dc5",
   "metadata": {},
   "outputs": [
    {
     "name": "stdout",
     "output_type": "stream",
     "text": [
      "elements: 5\n",
      "elements: 3\n",
      "elements: 8\n",
      "elements: 12\n",
      "elements: 16\n",
      "elements: 18\n",
      "elements: 22\n",
      "elements: 25\n",
      "elements: 24\n",
      "elements: 36\n",
      "elements: 33\n",
      "elements: 35\n"
     ]
    }
   ],
   "source": [
    "for i in c:\n",
    "    for j in i:\n",
    "        for k in j:\n",
    "            print('elements:',k)\n"
   ]
  },
  {
   "cell_type": "code",
   "execution_count": 46,
   "id": "91d0c1de",
   "metadata": {},
   "outputs": [
    {
     "name": "stdout",
     "output_type": "stream",
     "text": [
      "5\n",
      "3\n",
      "8\n",
      "12\n",
      "16\n",
      "18\n",
      "22\n",
      "25\n",
      "24\n",
      "36\n",
      "33\n",
      "35\n"
     ]
    }
   ],
   "source": [
    "d = np.array([[[5,3,8],[12,16,18],[22,25,24],[36,33,35]]])\n",
    "for i in np.nditer(d):\n",
    "    print(i)"
   ]
  },
  {
   "cell_type": "code",
   "execution_count": 57,
   "id": "22346e4b",
   "metadata": {},
   "outputs": [
    {
     "name": "stdout",
     "output_type": "stream",
     "text": [
      "(0, 0, 0) 5\n",
      "(0, 0, 1) 3\n",
      "(0, 0, 2) 8\n",
      "(0, 1, 0) 12\n",
      "(0, 1, 1) 16\n",
      "(0, 1, 2) 18\n",
      "(0, 2, 0) 22\n",
      "(0, 2, 1) 25\n",
      "(0, 2, 2) 24\n",
      "(0, 3, 0) 36\n",
      "(0, 3, 1) 33\n",
      "(0, 3, 2) 35\n"
     ]
    }
   ],
   "source": [
    "c = np.array([[[5, 3, 8], [12, 16, 18], [22, 25, 24], [36, 33, 35]]])\n",
    "for i, v in np.ndenumerate(c):\n",
    "    print(i, v)"
   ]
  },
  {
   "cell_type": "code",
   "execution_count": null,
   "id": "f8a7f24b",
   "metadata": {},
   "outputs": [],
   "source": [
    "#join"
   ]
  },
  {
   "cell_type": "code",
   "execution_count": null,
   "id": "df642e21",
   "metadata": {},
   "outputs": [],
   "source": [
    "#CONCATENATE"
   ]
  },
  {
   "cell_type": "code",
   "execution_count": 59,
   "id": "ffab6948",
   "metadata": {},
   "outputs": [
    {
     "data": {
      "text/plain": [
       "array([ 7,  4,  5,  4,  7, 88, 77, 99, 66])"
      ]
     },
     "execution_count": 59,
     "metadata": {},
     "output_type": "execute_result"
    }
   ],
   "source": [
    "a = np.array([7,4,5,4,7])\n",
    "b = np.array([88,77,99,66])\n",
    "np.concatenate((a,b))"
   ]
  },
  {
   "cell_type": "code",
   "execution_count": 60,
   "id": "e45dbbdc",
   "metadata": {},
   "outputs": [
    {
     "data": {
      "text/plain": [
       "array([[[4, 5, 6, 1, 2, 1],\n",
       "        [7, 4, 5, 8, 7, 8],\n",
       "        [1, 2, 3, 4, 5, 6]],\n",
       "\n",
       "       [[7, 4, 5, 4, 1, 4],\n",
       "        [1, 2, 3, 4, 5, 7],\n",
       "        [7, 8, 4, 5, 2, 1]]])"
      ]
     },
     "execution_count": 60,
     "metadata": {},
     "output_type": "execute_result"
    }
   ],
   "source": [
    "c = np.array([[[4,5,6,1,2,1],[7,4,5,8,7,8],[1,2,3,4,5,6]]])\n",
    "d = np.array([[[7,4,5,4,1,4],[1,2,3,4,5,7],[7,8,4,5,2,1]]])\n",
    "np. concatenate((c,d))"
   ]
  },
  {
   "cell_type": "code",
   "execution_count": 61,
   "id": "05accaa6",
   "metadata": {},
   "outputs": [
    {
     "data": {
      "text/plain": [
       "array([[[4, 5, 6, 1, 2, 1],\n",
       "        [7, 4, 5, 8, 7, 8],\n",
       "        [1, 2, 3, 4, 5, 6],\n",
       "        [7, 4, 5, 4, 1, 4],\n",
       "        [1, 2, 3, 4, 5, 7],\n",
       "        [7, 8, 4, 5, 2, 1]]])"
      ]
     },
     "execution_count": 61,
     "metadata": {},
     "output_type": "execute_result"
    }
   ],
   "source": [
    "np.concatenate((c,d),axis=1)"
   ]
  },
  {
   "cell_type": "code",
   "execution_count": 74,
   "id": "a36236e6",
   "metadata": {},
   "outputs": [
    {
     "name": "stdout",
     "output_type": "stream",
     "text": [
      "[4 5 6 1 7 4 5 4]\n"
     ]
    }
   ],
   "source": [
    "e = np.array([4, 5, 6, 1])\n",
    "f = np.array([7, 4, 5, 4])\n",
    "concatenated = np.concatenate((e, f))\n",
    "print(concatenated)"
   ]
  },
  {
   "cell_type": "code",
   "execution_count": 76,
   "id": "3eb812ec",
   "metadata": {},
   "outputs": [
    {
     "data": {
      "text/plain": [
       "array([4, 5, 6, 1, 7, 4, 5, 4])"
      ]
     },
     "execution_count": 76,
     "metadata": {},
     "output_type": "execute_result"
    }
   ],
   "source": [
    "np.concatenate((e,f),axis=0)"
   ]
  },
  {
   "cell_type": "code",
   "execution_count": null,
   "id": "d4163a67",
   "metadata": {},
   "outputs": [],
   "source": []
  },
  {
   "cell_type": "code",
   "execution_count": 77,
   "id": "c816add8",
   "metadata": {},
   "outputs": [
    {
     "data": {
      "text/plain": [
       "array([[4, 5, 6, 1],\n",
       "       [7, 4, 5, 4]])"
      ]
     },
     "execution_count": 77,
     "metadata": {},
     "output_type": "execute_result"
    }
   ],
   "source": [
    "np.stack((e,f), axis=0)"
   ]
  },
  {
   "cell_type": "code",
   "execution_count": 78,
   "id": "840c3809",
   "metadata": {},
   "outputs": [
    {
     "data": {
      "text/plain": [
       "array([4, 5, 6, 1, 7, 4, 5, 4])"
      ]
     },
     "execution_count": 78,
     "metadata": {},
     "output_type": "execute_result"
    }
   ],
   "source": [
    "np.hstack((e,f))"
   ]
  },
  {
   "cell_type": "code",
   "execution_count": 79,
   "id": "99f03384",
   "metadata": {},
   "outputs": [
    {
     "data": {
      "text/plain": [
       "array([[[4, 7],\n",
       "        [5, 4],\n",
       "        [6, 5],\n",
       "        [1, 4]]])"
      ]
     },
     "execution_count": 79,
     "metadata": {},
     "output_type": "execute_result"
    }
   ],
   "source": [
    "np.dstack((e,f))"
   ]
  },
  {
   "cell_type": "code",
   "execution_count": 81,
   "id": "5aa8d29c",
   "metadata": {},
   "outputs": [
    {
     "data": {
      "text/plain": [
       "array([[4, 5, 6, 1],\n",
       "       [7, 4, 5, 4]])"
      ]
     },
     "execution_count": 81,
     "metadata": {},
     "output_type": "execute_result"
    }
   ],
   "source": [
    "np.vstack((e,f))"
   ]
  },
  {
   "cell_type": "code",
   "execution_count": 84,
   "id": "dce693fc",
   "metadata": {},
   "outputs": [
    {
     "name": "stdout",
     "output_type": "stream",
     "text": [
      "[array([7, 4, 5, 8, 7, 4]), array([5, 7, 4, 1, 5, 5])]\n"
     ]
    }
   ],
   "source": [
    "a = np.array([7,4,5,8,7,4,5,7,4,1,5,5])\n",
    "b = np.array_split(a,2)\n",
    "print(b)\n",
    "    \n"
   ]
  },
  {
   "cell_type": "code",
   "execution_count": 86,
   "id": "a18402d2",
   "metadata": {},
   "outputs": [
    {
     "data": {
      "text/plain": [
       "[array([[7, 4, 5, 8, 7, 4]]),\n",
       " array([[5, 7, 4, 1, 5, 5]]),\n",
       " array([], shape=(0, 6), dtype=int32),\n",
       " array([], shape=(0, 6), dtype=int32)]"
      ]
     },
     "execution_count": 86,
     "metadata": {},
     "output_type": "execute_result"
    }
   ],
   "source": [
    "np. array_split(b,4, axis=0)"
   ]
  },
  {
   "cell_type": "code",
   "execution_count": 89,
   "id": "5f6b6492",
   "metadata": {},
   "outputs": [
    {
     "data": {
      "text/plain": [
       "[array([[7],\n",
       "        [5]]),\n",
       " array([[4],\n",
       "        [7]]),\n",
       " array([], shape=(2, 0), dtype=int32),\n",
       " array([], shape=(2, 0), dtype=int32)]"
      ]
     },
     "execution_count": 89,
     "metadata": {},
     "output_type": "execute_result"
    }
   ],
   "source": [
    "np. array_split(b,4, axis=1)"
   ]
  },
  {
   "cell_type": "code",
   "execution_count": null,
   "id": "f8c527be",
   "metadata": {},
   "outputs": [],
   "source": [
    "#SEARCH "
   ]
  },
  {
   "cell_type": "code",
   "execution_count": 90,
   "id": "3b57fbdf",
   "metadata": {},
   "outputs": [
    {
     "name": "stdout",
     "output_type": "stream",
     "text": [
      "(array([9], dtype=int64),)\n"
     ]
    }
   ],
   "source": [
    "a = np.array([17,16,19,16,14,19,21,17,18,10,11])\n",
    "#index        0   1  2  3 4  5   6  7  8  9  10\n",
    "x = np.where(a == 10)\n",
    "print(x)"
   ]
  },
  {
   "cell_type": "code",
   "execution_count": 91,
   "id": "f3d78022",
   "metadata": {},
   "outputs": [
    {
     "name": "stdout",
     "output_type": "stream",
     "text": [
      "(array([2, 5, 6, 8], dtype=int64),)\n"
     ]
    }
   ],
   "source": [
    "x = np.where(a>= 18)\n",
    "print(x)"
   ]
  },
  {
   "cell_type": "code",
   "execution_count": 92,
   "id": "18021e1f",
   "metadata": {},
   "outputs": [
    {
     "name": "stdout",
     "output_type": "stream",
     "text": [
      "(array([ 0,  1,  3,  4,  7,  8,  9, 10], dtype=int64),)\n"
     ]
    }
   ],
   "source": [
    "x = np.where(a<= 18)\n",
    "print(x)"
   ]
  },
  {
   "cell_type": "code",
   "execution_count": 93,
   "id": "09050896",
   "metadata": {},
   "outputs": [
    {
     "name": "stdout",
     "output_type": "stream",
     "text": [
      "(array([1, 3, 4, 8, 9], dtype=int64),)\n"
     ]
    }
   ],
   "source": [
    "x = np.where((a%2) == 0)\n",
    "print(x)\n",
    "# even -> % = 0\n"
   ]
  },
  {
   "cell_type": "code",
   "execution_count": 94,
   "id": "d40a6947",
   "metadata": {},
   "outputs": [
    {
     "data": {
      "text/plain": [
       "array([17, 16, 19, 16, 14, 19, 21, 17, 18, 10, 11])"
      ]
     },
     "execution_count": 94,
     "metadata": {},
     "output_type": "execute_result"
    }
   ],
   "source": [
    "a"
   ]
  },
  {
   "cell_type": "code",
   "execution_count": 95,
   "id": "05cb2feb",
   "metadata": {},
   "outputs": [
    {
     "data": {
      "text/plain": [
       "array([10, 11, 14, 16, 16, 17, 17, 18, 19, 19, 21])"
      ]
     },
     "execution_count": 95,
     "metadata": {},
     "output_type": "execute_result"
    }
   ],
   "source": [
    "np.sort(a)"
   ]
  },
  {
   "cell_type": "code",
   "execution_count": 97,
   "id": "b6d4ec83",
   "metadata": {},
   "outputs": [
    {
     "data": {
      "text/plain": [
       "array([[2, 6, 9],\n",
       "       [2, 3, 6]])"
      ]
     },
     "execution_count": 97,
     "metadata": {},
     "output_type": "execute_result"
    }
   ],
   "source": [
    "b= np.array([[6,2,9],[2,6,3]])\n",
    "np.sort(b)"
   ]
  },
  {
   "cell_type": "code",
   "execution_count": 98,
   "id": "9af47718",
   "metadata": {},
   "outputs": [
    {
     "data": {
      "text/plain": [
       "array([19, 14, 21, 18, 11])"
      ]
     },
     "execution_count": 98,
     "metadata": {},
     "output_type": "execute_result"
    }
   ],
   "source": [
    "#Filter\n",
    "a = np.array([17, 16, 19, 16, 14, 19, 21, 17, 18, 10, 11])\n",
    "b = [False,False,True,False,True,False,True,False,True,False,True]\n",
    "c = a[b]\n",
    "c"
   ]
  },
  {
   "cell_type": "code",
   "execution_count": 99,
   "id": "7d711244",
   "metadata": {},
   "outputs": [
    {
     "data": {
      "text/plain": [
       "array([10, 11, 14, 16, 16, 17, 17, 18, 19, 19, 21])"
      ]
     },
     "execution_count": 99,
     "metadata": {},
     "output_type": "execute_result"
    }
   ],
   "source": [
    "#Insert \n",
    "a = np.array([17, 16, 19, 16, 14, 19, 21, 17, 18, 10, 11])\n",
    "b = np.sort(a)\n",
    "b"
   ]
  },
  {
   "cell_type": "code",
   "execution_count": 102,
   "id": "47924b87",
   "metadata": {},
   "outputs": [
    {
     "data": {
      "text/plain": [
       "array([ 10, 992,  11,  14,  16,  16,  17,  17,  18,  19,  19,  21])"
      ]
     },
     "execution_count": 102,
     "metadata": {},
     "output_type": "execute_result"
    }
   ],
   "source": [
    "c = np.insert(b,1,992)\n",
    "c"
   ]
  },
  {
   "cell_type": "code",
   "execution_count": 103,
   "id": "94d8e811",
   "metadata": {},
   "outputs": [
    {
     "data": {
      "text/plain": [
       "array([ 10, 992,  11, 992,  14, 992,  16, 992,  16,  17,  17,  18,  19,\n",
       "        19,  21])"
      ]
     },
     "execution_count": 103,
     "metadata": {},
     "output_type": "execute_result"
    }
   ],
   "source": [
    "c = np.insert(b,(1,2,3,4),992)\n",
    "c"
   ]
  },
  {
   "cell_type": "code",
   "execution_count": 104,
   "id": "8886f323",
   "metadata": {},
   "outputs": [
    {
     "data": {
      "text/plain": [
       "array([  99,  999, 9999,    6,    2,    9,    2,    6,    3])"
      ]
     },
     "execution_count": 104,
     "metadata": {},
     "output_type": "execute_result"
    }
   ],
   "source": [
    "#Insert Array\n",
    "b = np.array([[6,2,9],[2,6,3]])\n",
    "c= np.insert(b ,0,[99,999,9999])\n",
    "c"
   ]
  },
  {
   "cell_type": "code",
   "execution_count": 105,
   "id": "832d7c99",
   "metadata": {},
   "outputs": [
    {
     "data": {
      "text/plain": [
       "array([[  99,  999, 9999],\n",
       "       [   6,    2,    9],\n",
       "       [   2,    6,    3]])"
      ]
     },
     "execution_count": 105,
     "metadata": {},
     "output_type": "execute_result"
    }
   ],
   "source": [
    "b = np.array([[6,2,9],[2,6,3]])\n",
    "c= np.insert(b ,0,[99,999,9999], axis=0)\n",
    "c"
   ]
  },
  {
   "cell_type": "code",
   "execution_count": 106,
   "id": "65f3bfe0",
   "metadata": {},
   "outputs": [
    {
     "data": {
      "text/plain": [
       "array([   6,    2,    9,    2,    6,    3, 5555])"
      ]
     },
     "execution_count": 106,
     "metadata": {},
     "output_type": "execute_result"
    }
   ],
   "source": [
    "#APPEND\n",
    "c= np.append(b,5555)\n",
    "c"
   ]
  },
  {
   "cell_type": "code",
   "execution_count": 107,
   "id": "181dbfdc",
   "metadata": {},
   "outputs": [
    {
     "data": {
      "text/plain": [
       "array([   2,    9,    2,    6,    3, 5555])"
      ]
     },
     "execution_count": 107,
     "metadata": {},
     "output_type": "execute_result"
    }
   ],
   "source": [
    "#Delete\n",
    "np.delete(c,0)"
   ]
  },
  {
   "cell_type": "code",
   "execution_count": 108,
   "id": "4b67dc10",
   "metadata": {},
   "outputs": [
    {
     "data": {
      "text/plain": [
       "array([2, 4, 5, 6, 7])"
      ]
     },
     "execution_count": 108,
     "metadata": {},
     "output_type": "execute_result"
    }
   ],
   "source": [
    "#Shape\n",
    "\n",
    "a= np.array([2,4,5,6,7])\n",
    "a"
   ]
  },
  {
   "cell_type": "code",
   "execution_count": 109,
   "id": "96fd2d2f",
   "metadata": {},
   "outputs": [
    {
     "data": {
      "text/plain": [
       "5"
      ]
     },
     "execution_count": 109,
     "metadata": {},
     "output_type": "execute_result"
    }
   ],
   "source": [
    "a.size"
   ]
  },
  {
   "cell_type": "code",
   "execution_count": 110,
   "id": "87888a1b",
   "metadata": {},
   "outputs": [
    {
     "data": {
      "text/plain": [
       "4"
      ]
     },
     "execution_count": 110,
     "metadata": {},
     "output_type": "execute_result"
    }
   ],
   "source": [
    "a.itemsize"
   ]
  },
  {
   "cell_type": "code",
   "execution_count": 111,
   "id": "4b459027",
   "metadata": {},
   "outputs": [
    {
     "data": {
      "text/plain": [
       "20"
      ]
     },
     "execution_count": 111,
     "metadata": {},
     "output_type": "execute_result"
    }
   ],
   "source": [
    "a.size*a.itemsize"
   ]
  },
  {
   "cell_type": "code",
   "execution_count": 112,
   "id": "6ab31ca3",
   "metadata": {},
   "outputs": [
    {
     "data": {
      "text/plain": [
       "20"
      ]
     },
     "execution_count": 112,
     "metadata": {},
     "output_type": "execute_result"
    }
   ],
   "source": [
    "a.nbytes"
   ]
  },
  {
   "cell_type": "code",
   "execution_count": 114,
   "id": "897a6489",
   "metadata": {},
   "outputs": [
    {
     "data": {
      "image/png": "[encoded data removed]",
      "text/plain": [
       "<Figure size 640x480 with 1 Axes>"
      ]
     },
     "metadata": {},
     "output_type": "display_data"
    }
   ],
   "source": [
    "import matplotlib.pyplot as plt\n",
    "x = np.array([2,3,4,5])\n",
    "y = np.array([65,55,45,35])\n",
    "plt.plot(x,y)\n",
    "plt.show()"
   ]
  },
  {
   "cell_type": "code",
   "execution_count": null,
   "id": "e2a4b0e0",
   "metadata": {},
   "outputs": [],
   "source": []
  }
 ],
 "metadata": {
  "kernelspec": {
   "display_name": "Python 3 (ipykernel)",
   "language": "python",
   "name": "python3"
  },
  "language_info": {
   "codemirror_mode": {
    "name": "ipython",
    "version": 3
   },
   "file_extension": ".py",
   "mimetype": "text/x-python",
   "name": "python",
   "nbconvert_exporter": "python",
   "pygments_lexer": "ipython3",
   "version": "3.11.1"
  }
 },
 "nbformat": 4,
 "nbformat_minor": 5
}
