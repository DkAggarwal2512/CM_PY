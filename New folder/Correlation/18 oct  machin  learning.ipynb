{
 "cells": [
  {
   "cell_type": "code",
   "execution_count": 16,
   "id": "85d65682",
   "metadata": {},
   "outputs": [],
   "source": [
    "#get the tools \n",
    "import pandas as pd\n",
    "import matplotlib.pyplot as plt\n",
    "from sklearn import linear_model \n",
    "import numpy as np \n"
   ]
  },
  {
   "cell_type": "code",
   "execution_count": 22,
   "id": "03c7d43c",
   "metadata": {},
   "outputs": [
    {
     "data": {
      "text/html": [
       "<div>\n",
       "<style scoped>\n",
       "    .dataframe tbody tr th:only-of-type {\n",
       "        vertical-align: middle;\n",
       "    }\n",
       "\n",
       "    .dataframe tbody tr th {\n",
       "        vertical-align: top;\n",
       "    }\n",
       "\n",
       "    .dataframe thead th {\n",
       "        text-align: right;\n",
       "    }\n",
       "</style>\n",
       "<table border=\"1\" class=\"dataframe\">\n",
       "  <thead>\n",
       "    <tr style=\"text-align: right;\">\n",
       "      <th></th>\n",
       "      <th>Name</th>\n",
       "      <th>English</th>\n",
       "      <th>Hindi</th>\n",
       "      <th>Maths</th>\n",
       "      <th>Science</th>\n",
       "      <th>Social Science</th>\n",
       "    </tr>\n",
       "  </thead>\n",
       "  <tbody>\n",
       "    <tr>\n",
       "      <th>0</th>\n",
       "      <td>Smriti Ranjan</td>\n",
       "      <td>85</td>\n",
       "      <td>83</td>\n",
       "      <td>93</td>\n",
       "      <td>91</td>\n",
       "      <td>94</td>\n",
       "    </tr>\n",
       "    <tr>\n",
       "      <th>1</th>\n",
       "      <td>Tannu kumari</td>\n",
       "      <td>90</td>\n",
       "      <td>75</td>\n",
       "      <td>78</td>\n",
       "      <td>73</td>\n",
       "      <td>75</td>\n",
       "    </tr>\n",
       "    <tr>\n",
       "      <th>2</th>\n",
       "      <td>Seema</td>\n",
       "      <td>93</td>\n",
       "      <td>75</td>\n",
       "      <td>78</td>\n",
       "      <td>89</td>\n",
       "      <td>94</td>\n",
       "    </tr>\n",
       "    <tr>\n",
       "      <th>3</th>\n",
       "      <td>Mukesh Nirmal</td>\n",
       "      <td>92</td>\n",
       "      <td>71</td>\n",
       "      <td>72</td>\n",
       "      <td>96</td>\n",
       "      <td>75</td>\n",
       "    </tr>\n",
       "    <tr>\n",
       "      <th>4</th>\n",
       "      <td>rohit</td>\n",
       "      <td>75</td>\n",
       "      <td>78</td>\n",
       "      <td>87</td>\n",
       "      <td>90</td>\n",
       "      <td>87</td>\n",
       "    </tr>\n",
       "    <tr>\n",
       "      <th>5</th>\n",
       "      <td>Ramakant</td>\n",
       "      <td>84</td>\n",
       "      <td>76</td>\n",
       "      <td>75</td>\n",
       "      <td>76</td>\n",
       "      <td>96</td>\n",
       "    </tr>\n",
       "    <tr>\n",
       "      <th>6</th>\n",
       "      <td>Vinod Kumar Sharma</td>\n",
       "      <td>75</td>\n",
       "      <td>94</td>\n",
       "      <td>74</td>\n",
       "      <td>81</td>\n",
       "      <td>71</td>\n",
       "    </tr>\n",
       "    <tr>\n",
       "      <th>7</th>\n",
       "      <td>Gulshan Kumar Ray</td>\n",
       "      <td>73</td>\n",
       "      <td>74</td>\n",
       "      <td>83</td>\n",
       "      <td>76</td>\n",
       "      <td>94</td>\n",
       "    </tr>\n",
       "    <tr>\n",
       "      <th>8</th>\n",
       "      <td>Ashutosh Kumar raj</td>\n",
       "      <td>89</td>\n",
       "      <td>70</td>\n",
       "      <td>89</td>\n",
       "      <td>97</td>\n",
       "      <td>81</td>\n",
       "    </tr>\n",
       "    <tr>\n",
       "      <th>9</th>\n",
       "      <td>Amit kumar</td>\n",
       "      <td>80</td>\n",
       "      <td>71</td>\n",
       "      <td>73</td>\n",
       "      <td>87</td>\n",
       "      <td>96</td>\n",
       "    </tr>\n",
       "    <tr>\n",
       "      <th>10</th>\n",
       "      <td>Astha sachan</td>\n",
       "      <td>77</td>\n",
       "      <td>71</td>\n",
       "      <td>77</td>\n",
       "      <td>93</td>\n",
       "      <td>72</td>\n",
       "    </tr>\n",
       "    <tr>\n",
       "      <th>11</th>\n",
       "      <td>Shail Kumari</td>\n",
       "      <td>95</td>\n",
       "      <td>97</td>\n",
       "      <td>80</td>\n",
       "      <td>92</td>\n",
       "      <td>92</td>\n",
       "    </tr>\n",
       "    <tr>\n",
       "      <th>12</th>\n",
       "      <td>Vaishnavi Kesherwani</td>\n",
       "      <td>82</td>\n",
       "      <td>90</td>\n",
       "      <td>88</td>\n",
       "      <td>91</td>\n",
       "      <td>71</td>\n",
       "    </tr>\n",
       "    <tr>\n",
       "      <th>13</th>\n",
       "      <td>Rahul Rai</td>\n",
       "      <td>75</td>\n",
       "      <td>77</td>\n",
       "      <td>76</td>\n",
       "      <td>80</td>\n",
       "      <td>78</td>\n",
       "    </tr>\n",
       "    <tr>\n",
       "      <th>14</th>\n",
       "      <td>Trapti</td>\n",
       "      <td>91</td>\n",
       "      <td>95</td>\n",
       "      <td>74</td>\n",
       "      <td>94</td>\n",
       "      <td>98</td>\n",
       "    </tr>\n",
       "    <tr>\n",
       "      <th>15</th>\n",
       "      <td>Annapurna Rawat</td>\n",
       "      <td>70</td>\n",
       "      <td>75</td>\n",
       "      <td>79</td>\n",
       "      <td>96</td>\n",
       "      <td>80</td>\n",
       "    </tr>\n",
       "  </tbody>\n",
       "</table>\n",
       "</div>"
      ],
      "text/plain": [
       "                    Name  English  Hindi  Maths  Science  Social Science\n",
       "0          Smriti Ranjan       85     83     93       91              94\n",
       "1          Tannu kumari        90     75     78       73              75\n",
       "2                  Seema       93     75     78       89              94\n",
       "3          Mukesh Nirmal       92     71     72       96              75\n",
       "4                  rohit       75     78     87       90              87\n",
       "5               Ramakant       84     76     75       76              96\n",
       "6    Vinod Kumar Sharma        75     94     74       81              71\n",
       "7     Gulshan Kumar Ray        73     74     83       76              94\n",
       "8    Ashutosh Kumar raj        89     70     89       97              81\n",
       "9             Amit kumar       80     71     73       87              96\n",
       "10          Astha sachan       77     71     77       93              72\n",
       "11          Shail Kumari       95     97     80       92              92\n",
       "12  Vaishnavi Kesherwani       82     90     88       91              71\n",
       "13             Rahul Rai       75     77     76       80              78\n",
       "14                Trapti       91     95     74       94              98\n",
       "15       Annapurna Rawat       70     75     79       96              80"
      ]
     },
     "execution_count": 22,
     "metadata": {},
     "output_type": "execute_result"
    }
   ],
   "source": [
    "df = pd.read_csv('marks.csv')\n",
    "df"
   ]
  },
  {
   "cell_type": "code",
   "execution_count": 23,
   "id": "7cfdd9e3",
   "metadata": {},
   "outputs": [
    {
     "data": {
      "text/html": [
       "<div>\n",
       "<style scoped>\n",
       "    .dataframe tbody tr th:only-of-type {\n",
       "        vertical-align: middle;\n",
       "    }\n",
       "\n",
       "    .dataframe tbody tr th {\n",
       "        vertical-align: top;\n",
       "    }\n",
       "\n",
       "    .dataframe thead th {\n",
       "        text-align: right;\n",
       "    }\n",
       "</style>\n",
       "<table border=\"1\" class=\"dataframe\">\n",
       "  <thead>\n",
       "    <tr style=\"text-align: right;\">\n",
       "      <th></th>\n",
       "      <th>Name</th>\n",
       "      <th>English</th>\n",
       "      <th>Hindi</th>\n",
       "      <th>Maths</th>\n",
       "      <th>Science</th>\n",
       "      <th>Social Science</th>\n",
       "    </tr>\n",
       "  </thead>\n",
       "  <tbody>\n",
       "    <tr>\n",
       "      <th>0</th>\n",
       "      <td>Smriti Ranjan</td>\n",
       "      <td>85</td>\n",
       "      <td>83</td>\n",
       "      <td>93</td>\n",
       "      <td>91</td>\n",
       "      <td>94</td>\n",
       "    </tr>\n",
       "    <tr>\n",
       "      <th>1</th>\n",
       "      <td>Tannu kumari</td>\n",
       "      <td>90</td>\n",
       "      <td>75</td>\n",
       "      <td>78</td>\n",
       "      <td>73</td>\n",
       "      <td>75</td>\n",
       "    </tr>\n",
       "    <tr>\n",
       "      <th>2</th>\n",
       "      <td>Seema</td>\n",
       "      <td>93</td>\n",
       "      <td>75</td>\n",
       "      <td>78</td>\n",
       "      <td>89</td>\n",
       "      <td>94</td>\n",
       "    </tr>\n",
       "    <tr>\n",
       "      <th>3</th>\n",
       "      <td>Mukesh Nirmal</td>\n",
       "      <td>92</td>\n",
       "      <td>71</td>\n",
       "      <td>72</td>\n",
       "      <td>96</td>\n",
       "      <td>75</td>\n",
       "    </tr>\n",
       "    <tr>\n",
       "      <th>4</th>\n",
       "      <td>rohit</td>\n",
       "      <td>75</td>\n",
       "      <td>78</td>\n",
       "      <td>87</td>\n",
       "      <td>90</td>\n",
       "      <td>87</td>\n",
       "    </tr>\n",
       "  </tbody>\n",
       "</table>\n",
       "</div>"
      ],
      "text/plain": [
       "            Name  English  Hindi  Maths  Science  Social Science\n",
       "0  Smriti Ranjan       85     83     93       91              94\n",
       "1  Tannu kumari        90     75     78       73              75\n",
       "2          Seema       93     75     78       89              94\n",
       "3  Mukesh Nirmal       92     71     72       96              75\n",
       "4          rohit       75     78     87       90              87"
      ]
     },
     "execution_count": 23,
     "metadata": {},
     "output_type": "execute_result"
    }
   ],
   "source": [
    "df.head(5)"
   ]
  },
  {
   "cell_type": "code",
   "execution_count": 24,
   "id": "256d99d9",
   "metadata": {},
   "outputs": [
    {
     "data": {
      "text/html": [
       "<div>\n",
       "<style scoped>\n",
       "    .dataframe tbody tr th:only-of-type {\n",
       "        vertical-align: middle;\n",
       "    }\n",
       "\n",
       "    .dataframe tbody tr th {\n",
       "        vertical-align: top;\n",
       "    }\n",
       "\n",
       "    .dataframe thead th {\n",
       "        text-align: right;\n",
       "    }\n",
       "</style>\n",
       "<table border=\"1\" class=\"dataframe\">\n",
       "  <thead>\n",
       "    <tr style=\"text-align: right;\">\n",
       "      <th></th>\n",
       "      <th>English</th>\n",
       "      <th>Hindi</th>\n",
       "      <th>Maths</th>\n",
       "      <th>Science</th>\n",
       "      <th>Social Science</th>\n",
       "    </tr>\n",
       "  </thead>\n",
       "  <tbody>\n",
       "    <tr>\n",
       "      <th>count</th>\n",
       "      <td>16.000000</td>\n",
       "      <td>16.000000</td>\n",
       "      <td>16.000000</td>\n",
       "      <td>16.000000</td>\n",
       "      <td>16.000000</td>\n",
       "    </tr>\n",
       "    <tr>\n",
       "      <th>mean</th>\n",
       "      <td>82.875000</td>\n",
       "      <td>79.500000</td>\n",
       "      <td>79.750000</td>\n",
       "      <td>87.625000</td>\n",
       "      <td>84.625000</td>\n",
       "    </tr>\n",
       "    <tr>\n",
       "      <th>std</th>\n",
       "      <td>8.106582</td>\n",
       "      <td>9.302329</td>\n",
       "      <td>6.403124</td>\n",
       "      <td>7.889867</td>\n",
       "      <td>10.184138</td>\n",
       "    </tr>\n",
       "    <tr>\n",
       "      <th>min</th>\n",
       "      <td>70.000000</td>\n",
       "      <td>70.000000</td>\n",
       "      <td>72.000000</td>\n",
       "      <td>73.000000</td>\n",
       "      <td>71.000000</td>\n",
       "    </tr>\n",
       "    <tr>\n",
       "      <th>25%</th>\n",
       "      <td>75.000000</td>\n",
       "      <td>73.250000</td>\n",
       "      <td>74.750000</td>\n",
       "      <td>80.750000</td>\n",
       "      <td>75.000000</td>\n",
       "    </tr>\n",
       "    <tr>\n",
       "      <th>50%</th>\n",
       "      <td>83.000000</td>\n",
       "      <td>75.500000</td>\n",
       "      <td>78.000000</td>\n",
       "      <td>90.500000</td>\n",
       "      <td>84.000000</td>\n",
       "    </tr>\n",
       "    <tr>\n",
       "      <th>75%</th>\n",
       "      <td>90.250000</td>\n",
       "      <td>84.750000</td>\n",
       "      <td>84.000000</td>\n",
       "      <td>93.250000</td>\n",
       "      <td>94.000000</td>\n",
       "    </tr>\n",
       "    <tr>\n",
       "      <th>max</th>\n",
       "      <td>95.000000</td>\n",
       "      <td>97.000000</td>\n",
       "      <td>93.000000</td>\n",
       "      <td>97.000000</td>\n",
       "      <td>98.000000</td>\n",
       "    </tr>\n",
       "  </tbody>\n",
       "</table>\n",
       "</div>"
      ],
      "text/plain": [
       "         English      Hindi      Maths    Science  Social Science\n",
       "count  16.000000  16.000000  16.000000  16.000000       16.000000\n",
       "mean   82.875000  79.500000  79.750000  87.625000       84.625000\n",
       "std     8.106582   9.302329   6.403124   7.889867       10.184138\n",
       "min    70.000000  70.000000  72.000000  73.000000       71.000000\n",
       "25%    75.000000  73.250000  74.750000  80.750000       75.000000\n",
       "50%    83.000000  75.500000  78.000000  90.500000       84.000000\n",
       "75%    90.250000  84.750000  84.000000  93.250000       94.000000\n",
       "max    95.000000  97.000000  93.000000  97.000000       98.000000"
      ]
     },
     "execution_count": 24,
     "metadata": {},
     "output_type": "execute_result"
    }
   ],
   "source": [
    "#Data  clea\n",
    "df.describe()"
   ]
  },
  {
   "cell_type": "code",
   "execution_count": 28,
   "id": "a64a03c1",
   "metadata": {},
   "outputs": [
    {
     "data": {
      "text/plain": [
       "<bound method DataFrame.info of                     Name  English  Hindi  Maths  Science  Social Science\n",
       "0          Smriti Ranjan       85     83     93       91              94\n",
       "1          Tannu kumari        90     75     78       73              75\n",
       "2                  Seema       93     75     78       89              94\n",
       "3          Mukesh Nirmal       92     71     72       96              75\n",
       "4                  rohit       75     78     87       90              87\n",
       "5               Ramakant       84     76     75       76              96\n",
       "6    Vinod Kumar Sharma        75     94     74       81              71\n",
       "7     Gulshan Kumar Ray        73     74     83       76              94\n",
       "8    Ashutosh Kumar raj        89     70     89       97              81\n",
       "9             Amit kumar       80     71     73       87              96\n",
       "10          Astha sachan       77     71     77       93              72\n",
       "11          Shail Kumari       95     97     80       92              92\n",
       "12  Vaishnavi Kesherwani       82     90     88       91              71\n",
       "13             Rahul Rai       75     77     76       80              78\n",
       "14                Trapti       91     95     74       94              98\n",
       "15       Annapurna Rawat       70     75     79       96              80>"
      ]
     },
     "execution_count": 28,
     "metadata": {},
     "output_type": "execute_result"
    }
   ],
   "source": [
    "df.info\n"
   ]
  },
  {
   "cell_type": "code",
   "execution_count": null,
   "id": "22cafa31",
   "metadata": {},
   "outputs": [],
   "source": []
  },
  {
   "cell_type": "code",
   "execution_count": null,
   "id": "8a52e123",
   "metadata": {},
   "outputs": [],
   "source": []
  },
  {
   "cell_type": "code",
   "execution_count": null,
   "id": "24102015",
   "metadata": {},
   "outputs": [],
   "source": []
  },
  {
   "cell_type": "code",
   "execution_count": null,
   "id": "a383b2e8",
   "metadata": {},
   "outputs": [],
   "source": []
  },
  {
   "cell_type": "code",
   "execution_count": null,
   "id": "94a7fa61",
   "metadata": {},
   "outputs": [],
   "source": []
  },
  {
   "cell_type": "code",
   "execution_count": null,
   "id": "6483a2ed",
   "metadata": {},
   "outputs": [],
   "source": []
  },
  {
   "cell_type": "code",
   "execution_count": null,
   "id": "f6d0d7e0",
   "metadata": {},
   "outputs": [],
   "source": []
  },
  {
   "cell_type": "code",
   "execution_count": 27,
   "id": "e2f48aa3",
   "metadata": {},
   "outputs": [
    {
     "data": {
      "text/plain": [
       "<matplotlib.collections.PathCollection at 0x1e695d49310>"
      ]
     },
     "execution_count": 27,
     "metadata": {},
     "output_type": "execute_result"
    },
    {
     "data": {
      "image/png": "[encoded data removed]",
      "text/plain": [
       "<Figure size 640x480 with 1 Axes>"
      ]
     },
     "metadata": {},
     "output_type": "display_data"
    }
   ],
   "source": [
    "#visulization\n",
    "x= [100,150,200,300,350,400]\n",
    "y=[52000,56000,61000,65000,75000,8500]\n",
    "plt.scatter(x,y)"
   ]
  },
  {
   "cell_type": "code",
   "execution_count": 1,
   "id": "aed935cc",
   "metadata": {},
   "outputs": [],
   "source": [
    "#Machine learning\n"
   ]
  },
  {
   "cell_type": "code",
   "execution_count": 2,
   "id": "cf914c8d",
   "metadata": {
    "scrolled": true
   },
   "outputs": [],
   "source": [
    "#Model buldining"
   ]
  },
  {
   "cell_type": "code",
   "execution_count": 3,
   "id": "4f8ad20f",
   "metadata": {},
   "outputs": [
    {
     "ename": "NameError",
     "evalue": "name 'a' is not defined",
     "output_type": "error",
     "traceback": [
      "\u001b[1;31m---------------------------------------------------------------------------\u001b[0m",
      "\u001b[1;31mNameError\u001b[0m                                 Traceback (most recent call last)",
      "Cell \u001b[1;32mIn[3], line 2\u001b[0m\n\u001b[0;32m      1\u001b[0m \u001b[38;5;66;03m#Model test\u001b[39;00m\n\u001b[1;32m----> 2\u001b[0m \u001b[43ma\u001b[49m\u001b[38;5;241m.\u001b[39mpredict([[\u001b[38;5;241m50\u001b[39m]])\n",
      "\u001b[1;31mNameError\u001b[0m: name 'a' is not defined"
     ]
    }
   ],
   "source": [
    "#Model test\n",
    "a.predict([[50]])"
   ]
  },
  {
   "cell_type": "code",
   "execution_count": 34,
   "id": "17f3cd72",
   "metadata": {},
   "outputs": [
    {
     "data": {
      "text/plain": [
       "array([0.06504065])"
      ]
     },
     "execution_count": 34,
     "metadata": {},
     "output_type": "execute_result"
    }
   ],
   "source": [
    "a.coef_"
   ]
  },
  {
   "cell_type": "code",
   "execution_count": 37,
   "id": "e1517327",
   "metadata": {},
   "outputs": [
    {
     "data": {
      "text/plain": [
       "74.3130081300813"
      ]
     },
     "execution_count": 37,
     "metadata": {},
     "output_type": "execute_result"
    }
   ],
   "source": [
    "a.intercept_"
   ]
  },
  {
   "cell_type": "code",
   "execution_count": null,
   "id": "fae85c05",
   "metadata": {},
   "outputs": [],
   "source": [
    "plt.scatter(df['Maths'],df['Hindi'])"
   ]
  }
 ],
 "metadata": {
  "kernelspec": {
   "display_name": "Python 3 (ipykernel)",
   "language": "python",
   "name": "python3"
  },
  "language_info": {
   "codemirror_mode": {
    "name": "ipython",
    "version": 3
   },
   "file_extension": ".py",
   "mimetype": "text/x-python",
   "name": "python",
   "nbconvert_exporter": "python",
   "pygments_lexer": "ipython3",
   "version": "3.11.1"
  }
 },
 "nbformat": 4,
 "nbformat_minor": 5
}
