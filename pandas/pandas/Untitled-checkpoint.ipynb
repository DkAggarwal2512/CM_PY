{
 "cells": [
  {
   "cell_type": "markdown",
   "id": "a62a711e",
   "metadata": {},
   "source": [
    "# 3-10-2023"
   ]
  },
  {
   "cell_type": "code",
   "execution_count": 1,
   "id": "b1f19e18",
   "metadata": {},
   "outputs": [],
   "source": [
    "#Series Data"
   ]
  },
  {
   "cell_type": "code",
   "execution_count": 2,
   "id": "a7f503a1",
   "metadata": {},
   "outputs": [],
   "source": [
    "import pandas as pd   #pd -alias for pandas"
   ]
  },
  {
   "cell_type": "code",
   "execution_count": 3,
   "id": "83a0b700",
   "metadata": {},
   "outputs": [
    {
     "data": {
      "text/plain": [
       "0     3\n",
       "1     4\n",
       "2     7\n",
       "3     8\n",
       "4    12\n",
       "5    45\n",
       "6    36\n",
       "dtype: int64"
      ]
     },
     "execution_count": 3,
     "metadata": {},
     "output_type": "execute_result"
    }
   ],
   "source": [
    "y = [3,4,7,8,12,45,36]\n",
    "a = pd.Series(y)\n",
    "a"
   ]
  },
  {
   "cell_type": "code",
   "execution_count": 5,
   "id": "656dc4a1",
   "metadata": {},
   "outputs": [
    {
     "name": "stdout",
     "output_type": "stream",
     "text": [
      "<class 'pandas.core.series.Series'>\n"
     ]
    }
   ],
   "source": [
    "print(type(a))"
   ]
  },
  {
   "cell_type": "code",
   "execution_count": 6,
   "id": "c9af8766",
   "metadata": {},
   "outputs": [
    {
     "data": {
      "text/plain": [
       "0       Mahi\n",
       "1      Seema\n",
       "2    Manisha\n",
       "3      Nikki\n",
       "dtype: object"
      ]
     },
     "execution_count": 6,
     "metadata": {},
     "output_type": "execute_result"
    }
   ],
   "source": [
    "a = ['Mahi','Seema','Manisha','Nikki']\n",
    "b = pd.Series(a)\n",
    "b"
   ]
  },
  {
   "cell_type": "code",
   "execution_count": 7,
   "id": "a4945f09",
   "metadata": {},
   "outputs": [
    {
     "name": "stdout",
     "output_type": "stream",
     "text": [
      "<class 'pandas.core.series.Series'>\n"
     ]
    }
   ],
   "source": [
    "print(type(b))"
   ]
  },
  {
   "cell_type": "code",
   "execution_count": 9,
   "id": "07763fc7",
   "metadata": {},
   "outputs": [
    {
     "data": {
      "text/plain": [
       "'Manisha'"
      ]
     },
     "execution_count": 9,
     "metadata": {},
     "output_type": "execute_result"
    }
   ],
   "source": [
    "b[2]"
   ]
  },
  {
   "cell_type": "code",
   "execution_count": 10,
   "id": "f10a0197",
   "metadata": {},
   "outputs": [
    {
     "data": {
      "text/plain": [
       "'Seema'"
      ]
     },
     "execution_count": 10,
     "metadata": {},
     "output_type": "execute_result"
    }
   ],
   "source": [
    "b[1]"
   ]
  },
  {
   "cell_type": "code",
   "execution_count": 16,
   "id": "1ba49a8a",
   "metadata": {},
   "outputs": [
    {
     "data": {
      "text/plain": [
       "101       Mahi\n",
       "102      Seema\n",
       "103    Manisha\n",
       "104      Nikki\n",
       "105      Saini\n",
       "dtype: object"
      ]
     },
     "execution_count": 16,
     "metadata": {},
     "output_type": "execute_result"
    }
   ],
   "source": [
    "c = ['Mahi','Seema','Manisha','Nikki','Saini']\n",
    "d = pd.Series(c, index = [101,102,103,104,105])\n",
    "d"
   ]
  },
  {
   "cell_type": "code",
   "execution_count": 15,
   "id": "22bdd8bd",
   "metadata": {},
   "outputs": [
    {
     "data": {
      "text/plain": [
       "a    3.0\n",
       "b    4.0\n",
       "c    5.0\n",
       "d    7.0\n",
       "e    2.0\n",
       "f    6.0\n",
       "g    8.0\n",
       "dtype: float64"
      ]
     },
     "execution_count": 15,
     "metadata": {},
     "output_type": "execute_result"
    }
   ],
   "source": [
    "y = [3,4,5,7,2,6,8]\n",
    "a = pd.Series(y, index = ['a','b','c','d','e','f','g'], dtype = 'float')\n",
    "a"
   ]
  },
  {
   "cell_type": "code",
   "execution_count": 20,
   "id": "e0eb25de",
   "metadata": {},
   "outputs": [
    {
     "data": {
      "text/plain": [
       "True    NaN\n",
       "dtype: object"
      ]
     },
     "execution_count": 20,
     "metadata": {},
     "output_type": "execute_result"
    }
   ],
   "source": [
    "y1 = {'name':['Mahi','Seema','Manisha',104]}\n",
    "a = pd.Series(y1, index=[True])\n",
    "a"
   ]
  },
  {
   "cell_type": "code",
   "execution_count": 27,
   "id": "57a5e36c",
   "metadata": {},
   "outputs": [
    {
     "name": "stdout",
     "output_type": "stream",
     "text": [
      "name    [Manisha, Saini, Seema]\n",
      "age                [21, 22, 23]\n",
      "dtype: object\n",
      "<class 'pandas.core.series.Series'>\n"
     ]
    }
   ],
   "source": [
    "y3 = {'name':['Manisha','Saini','Seema'],'age':[21,22,23]}\n",
    "a3 = pd.Series(y3)\n",
    "print(a3)\n",
    "print(type(a3))"
   ]
  },
  {
   "cell_type": "code",
   "execution_count": 43,
   "id": "a4484f29",
   "metadata": {},
   "outputs": [
    {
     "name": "stdout",
     "output_type": "stream",
     "text": [
      "101    10\n",
      "102    10\n",
      "103    10\n",
      "104    10\n",
      "105    10\n",
      "dtype: int64\n",
      "101    20\n",
      "102    20\n",
      "103    20\n",
      "dtype: int64\n"
     ]
    }
   ],
   "source": [
    "y4 = pd.Series(10, index=[101,102,103,104,105])\n",
    "y5 = pd.Series(20, index=[101,102,103])\n",
    "print(y4)\n",
    "print(y5)"
   ]
  },
  {
   "cell_type": "code",
   "execution_count": 44,
   "id": "a068528b",
   "metadata": {},
   "outputs": [
    {
     "name": "stdout",
     "output_type": "stream",
     "text": [
      "101    30.0\n",
      "102    30.0\n",
      "103    30.0\n",
      "104     NaN\n",
      "105     NaN\n",
      "dtype: float64\n"
     ]
    }
   ],
   "source": [
    "print(y4+y5)"
   ]
  },
  {
   "cell_type": "code",
   "execution_count": 51,
   "id": "884194e7",
   "metadata": {},
   "outputs": [
    {
     "data": {
      "text/plain": [
       "101    200.0\n",
       "102    200.0\n",
       "103    200.0\n",
       "104      NaN\n",
       "105      NaN\n",
       "dtype: float64"
      ]
     },
     "execution_count": 51,
     "metadata": {},
     "output_type": "execute_result"
    }
   ],
   "source": [
    "a = (y4*y5)\n",
    "b = pd.Series(a, dtype = 'float')\n",
    "b"
   ]
  },
  {
   "cell_type": "code",
   "execution_count": 50,
   "id": "5be75025",
   "metadata": {},
   "outputs": [
    {
     "name": "stdout",
     "output_type": "stream",
     "text": [
      "101    200.0\n",
      "102    200.0\n",
      "103    200.0\n",
      "104      NaN\n",
      "105      NaN\n",
      "dtype: float64\n"
     ]
    }
   ],
   "source": [
    "print(y4*y5)"
   ]
  },
  {
   "cell_type": "code",
   "execution_count": 47,
   "id": "4cfe0e13",
   "metadata": {},
   "outputs": [
    {
     "name": "stdout",
     "output_type": "stream",
     "text": [
      "101   -10.0\n",
      "102   -10.0\n",
      "103   -10.0\n",
      "104     NaN\n",
      "105     NaN\n",
      "dtype: float64\n"
     ]
    }
   ],
   "source": [
    "print(y4-y5)"
   ]
  },
  {
   "cell_type": "code",
   "execution_count": 48,
   "id": "4316e58a",
   "metadata": {},
   "outputs": [
    {
     "name": "stdout",
     "output_type": "stream",
     "text": [
      "101    0.5\n",
      "102    0.5\n",
      "103    0.5\n",
      "104    NaN\n",
      "105    NaN\n",
      "dtype: float64\n"
     ]
    }
   ],
   "source": [
    "print(y4/y5)"
   ]
  },
  {
   "cell_type": "code",
   "execution_count": 52,
   "id": "3377bb72",
   "metadata": {},
   "outputs": [],
   "source": [
    "#Data Frames"
   ]
  },
  {
   "cell_type": "code",
   "execution_count": 53,
   "id": "1557753d",
   "metadata": {},
   "outputs": [
    {
     "data": {
      "text/html": [
       "<div>\n",
       "<style scoped>\n",
       "    .dataframe tbody tr th:only-of-type {\n",
       "        vertical-align: middle;\n",
       "    }\n",
       "\n",
       "    .dataframe tbody tr th {\n",
       "        vertical-align: top;\n",
       "    }\n",
       "\n",
       "    .dataframe thead th {\n",
       "        text-align: right;\n",
       "    }\n",
       "</style>\n",
       "<table border=\"1\" class=\"dataframe\">\n",
       "  <thead>\n",
       "    <tr style=\"text-align: right;\">\n",
       "      <th></th>\n",
       "      <th>0</th>\n",
       "    </tr>\n",
       "  </thead>\n",
       "  <tbody>\n",
       "    <tr>\n",
       "      <th>0</th>\n",
       "      <td>3</td>\n",
       "    </tr>\n",
       "    <tr>\n",
       "      <th>1</th>\n",
       "      <td>4</td>\n",
       "    </tr>\n",
       "    <tr>\n",
       "      <th>2</th>\n",
       "      <td>6</td>\n",
       "    </tr>\n",
       "    <tr>\n",
       "      <th>3</th>\n",
       "      <td>2</td>\n",
       "    </tr>\n",
       "    <tr>\n",
       "      <th>4</th>\n",
       "      <td>7</td>\n",
       "    </tr>\n",
       "    <tr>\n",
       "      <th>5</th>\n",
       "      <td>8</td>\n",
       "    </tr>\n",
       "  </tbody>\n",
       "</table>\n",
       "</div>"
      ],
      "text/plain": [
       "   0\n",
       "0  3\n",
       "1  4\n",
       "2  6\n",
       "3  2\n",
       "4  7\n",
       "5  8"
      ]
     },
     "execution_count": 53,
     "metadata": {},
     "output_type": "execute_result"
    }
   ],
   "source": [
    "y = [3,4,6,2,7,8]\n",
    "a = pd.DataFrame(y)\n",
    "a"
   ]
  },
  {
   "cell_type": "code",
   "execution_count": 54,
   "id": "0471e591",
   "metadata": {},
   "outputs": [
    {
     "data": {
      "text/plain": [
       "pandas.core.frame.DataFrame"
      ]
     },
     "execution_count": 54,
     "metadata": {},
     "output_type": "execute_result"
    }
   ],
   "source": [
    "type(a)"
   ]
  },
  {
   "cell_type": "code",
   "execution_count": 60,
   "id": "1f2eed9c",
   "metadata": {},
   "outputs": [
    {
     "data": {
      "text/html": [
       "<div>\n",
       "<style scoped>\n",
       "    .dataframe tbody tr th:only-of-type {\n",
       "        vertical-align: middle;\n",
       "    }\n",
       "\n",
       "    .dataframe tbody tr th {\n",
       "        vertical-align: top;\n",
       "    }\n",
       "\n",
       "    .dataframe thead th {\n",
       "        text-align: right;\n",
       "    }\n",
       "</style>\n",
       "<table border=\"1\" class=\"dataframe\">\n",
       "  <thead>\n",
       "    <tr style=\"text-align: right;\">\n",
       "      <th></th>\n",
       "      <th>name</th>\n",
       "      <th>age</th>\n",
       "      <th>mail</th>\n",
       "    </tr>\n",
       "  </thead>\n",
       "  <tbody>\n",
       "    <tr>\n",
       "      <th>a</th>\n",
       "      <td>Manisha</td>\n",
       "      <td>21</td>\n",
       "      <td>ms@gmail.com</td>\n",
       "    </tr>\n",
       "    <tr>\n",
       "      <th>b</th>\n",
       "      <td>Saini</td>\n",
       "      <td>22</td>\n",
       "      <td>Saini@gmail.com</td>\n",
       "    </tr>\n",
       "    <tr>\n",
       "      <th>c</th>\n",
       "      <td>Seema</td>\n",
       "      <td>23</td>\n",
       "      <td>Seema@gmail.com</td>\n",
       "    </tr>\n",
       "  </tbody>\n",
       "</table>\n",
       "</div>"
      ],
      "text/plain": [
       "      name  age             mail\n",
       "a  Manisha   21     ms@gmail.com\n",
       "b    Saini   22  Saini@gmail.com\n",
       "c    Seema   23  Seema@gmail.com"
      ]
     },
     "execution_count": 60,
     "metadata": {},
     "output_type": "execute_result"
    }
   ],
   "source": [
    "y3 = {'name':['Manisha','Saini','Seema'],'age':[21,22,23],'mail':['ms@gmail.com','Saini@gmail.com','Seema@gmail.com']}\n",
    "a3 = pd.DataFrame(y3 , index = ['a','b','c'])\n",
    "a3"
   ]
  },
  {
   "cell_type": "code",
   "execution_count": 62,
   "id": "022a4902",
   "metadata": {},
   "outputs": [
    {
     "data": {
      "text/html": [
       "<div>\n",
       "<style scoped>\n",
       "    .dataframe tbody tr th:only-of-type {\n",
       "        vertical-align: middle;\n",
       "    }\n",
       "\n",
       "    .dataframe tbody tr th {\n",
       "        vertical-align: top;\n",
       "    }\n",
       "\n",
       "    .dataframe thead th {\n",
       "        text-align: right;\n",
       "    }\n",
       "</style>\n",
       "<table border=\"1\" class=\"dataframe\">\n",
       "  <thead>\n",
       "    <tr style=\"text-align: right;\">\n",
       "      <th></th>\n",
       "      <th>name</th>\n",
       "      <th>age</th>\n",
       "    </tr>\n",
       "  </thead>\n",
       "  <tbody>\n",
       "    <tr>\n",
       "      <th>0</th>\n",
       "      <td>Manisha</td>\n",
       "      <td>21</td>\n",
       "    </tr>\n",
       "    <tr>\n",
       "      <th>1</th>\n",
       "      <td>Saini</td>\n",
       "      <td>22</td>\n",
       "    </tr>\n",
       "    <tr>\n",
       "      <th>2</th>\n",
       "      <td>Seema</td>\n",
       "      <td>23</td>\n",
       "    </tr>\n",
       "  </tbody>\n",
       "</table>\n",
       "</div>"
      ],
      "text/plain": [
       "      name  age\n",
       "0  Manisha   21\n",
       "1    Saini   22\n",
       "2    Seema   23"
      ]
     },
     "execution_count": 62,
     "metadata": {},
     "output_type": "execute_result"
    }
   ],
   "source": [
    "a4 = pd.DataFrame(y3,columns=['name','age'])\n",
    "a4"
   ]
  },
  {
   "cell_type": "code",
   "execution_count": 56,
   "id": "1d4dc9ac",
   "metadata": {},
   "outputs": [
    {
     "data": {
      "text/plain": [
       "pandas.core.frame.DataFrame"
      ]
     },
     "execution_count": 56,
     "metadata": {},
     "output_type": "execute_result"
    }
   ],
   "source": [
    "type(a3)"
   ]
  },
  {
   "cell_type": "code",
   "execution_count": 74,
   "id": "0eff14fc",
   "metadata": {},
   "outputs": [
    {
     "data": {
      "text/plain": [
       "[[2, 3, 4, 5, 6], [3, 4, 5, 6, 7]]"
      ]
     },
     "execution_count": 74,
     "metadata": {},
     "output_type": "execute_result"
    }
   ],
   "source": [
    "b = [[2,3,4,5,6],[3,4,5,6,7]]\n",
    "b"
   ]
  },
  {
   "cell_type": "code",
   "execution_count": 76,
   "id": "023cfcdc",
   "metadata": {},
   "outputs": [
    {
     "data": {
      "text/html": [
       "<div>\n",
       "<style scoped>\n",
       "    .dataframe tbody tr th:only-of-type {\n",
       "        vertical-align: middle;\n",
       "    }\n",
       "\n",
       "    .dataframe tbody tr th {\n",
       "        vertical-align: top;\n",
       "    }\n",
       "\n",
       "    .dataframe thead th {\n",
       "        text-align: right;\n",
       "    }\n",
       "</style>\n",
       "<table border=\"1\" class=\"dataframe\">\n",
       "  <thead>\n",
       "    <tr style=\"text-align: right;\">\n",
       "      <th></th>\n",
       "      <th>0</th>\n",
       "      <th>1</th>\n",
       "      <th>2</th>\n",
       "      <th>3</th>\n",
       "      <th>4</th>\n",
       "    </tr>\n",
       "  </thead>\n",
       "  <tbody>\n",
       "    <tr>\n",
       "      <th>0</th>\n",
       "      <td>2</td>\n",
       "      <td>3</td>\n",
       "      <td>4</td>\n",
       "      <td>5</td>\n",
       "      <td>6</td>\n",
       "    </tr>\n",
       "    <tr>\n",
       "      <th>1</th>\n",
       "      <td>3</td>\n",
       "      <td>4</td>\n",
       "      <td>5</td>\n",
       "      <td>6</td>\n",
       "      <td>7</td>\n",
       "    </tr>\n",
       "  </tbody>\n",
       "</table>\n",
       "</div>"
      ],
      "text/plain": [
       "   0  1  2  3  4\n",
       "0  2  3  4  5  6\n",
       "1  3  4  5  6  7"
      ]
     },
     "execution_count": 76,
     "metadata": {},
     "output_type": "execute_result"
    }
   ],
   "source": [
    "b1 = pd.DataFrame(b)\n",
    "b1"
   ]
  },
  {
   "cell_type": "code",
   "execution_count": 84,
   "id": "1115eed2",
   "metadata": {},
   "outputs": [
    {
     "data": {
      "text/html": [
       "<div>\n",
       "<style scoped>\n",
       "    .dataframe tbody tr th:only-of-type {\n",
       "        vertical-align: middle;\n",
       "    }\n",
       "\n",
       "    .dataframe tbody tr th {\n",
       "        vertical-align: top;\n",
       "    }\n",
       "\n",
       "    .dataframe thead th {\n",
       "        text-align: right;\n",
       "    }\n",
       "</style>\n",
       "<table border=\"1\" class=\"dataframe\">\n",
       "  <thead>\n",
       "    <tr style=\"text-align: right;\">\n",
       "      <th></th>\n",
       "      <th>students</th>\n",
       "      <th>marks</th>\n",
       "    </tr>\n",
       "  </thead>\n",
       "  <tbody>\n",
       "    <tr>\n",
       "      <th>0</th>\n",
       "      <td>Manisha</td>\n",
       "      <td>78</td>\n",
       "    </tr>\n",
       "    <tr>\n",
       "      <th>1</th>\n",
       "      <td>Mukesh</td>\n",
       "      <td>34</td>\n",
       "    </tr>\n",
       "    <tr>\n",
       "      <th>2</th>\n",
       "      <td>Seema</td>\n",
       "      <td>56</td>\n",
       "    </tr>\n",
       "    <tr>\n",
       "      <th>3</th>\n",
       "      <td>Aarti</td>\n",
       "      <td>78</td>\n",
       "    </tr>\n",
       "  </tbody>\n",
       "</table>\n",
       "</div>"
      ],
      "text/plain": [
       "  students  marks\n",
       "0  Manisha     78\n",
       "1   Mukesh     34\n",
       "2    Seema     56\n",
       "3    Aarti     78"
      ]
     },
     "execution_count": 84,
     "metadata": {},
     "output_type": "execute_result"
    }
   ],
   "source": [
    "b2 = {'students':['Manisha','Mukesh','Seema','Aarti'],'marks':[78,34,56,78]}\n",
    "df = pd.DataFrame(b2)\n",
    "df"
   ]
  },
  {
   "cell_type": "code",
   "execution_count": 82,
   "id": "f12667f8",
   "metadata": {},
   "outputs": [
    {
     "data": {
      "text/plain": [
       "(4, 2)"
      ]
     },
     "execution_count": 82,
     "metadata": {},
     "output_type": "execute_result"
    }
   ],
   "source": [
    "df.shape"
   ]
  },
  {
   "cell_type": "code",
   "execution_count": 83,
   "id": "045a5672",
   "metadata": {},
   "outputs": [
    {
     "name": "stdout",
     "output_type": "stream",
     "text": [
      "<class 'pandas.core.frame.DataFrame'>\n",
      "RangeIndex: 4 entries, 0 to 3\n",
      "Data columns (total 2 columns):\n",
      " #   Column    Non-Null Count  Dtype \n",
      "---  ------    --------------  ----- \n",
      " 0   students  4 non-null      object\n",
      " 1   marks     4 non-null      int64 \n",
      "dtypes: int64(1), object(1)\n",
      "memory usage: 196.0+ bytes\n"
     ]
    }
   ],
   "source": [
    "df.info()"
   ]
  },
  {
   "cell_type": "code",
   "execution_count": 85,
   "id": "5b219334",
   "metadata": {},
   "outputs": [
    {
     "data": {
      "text/plain": [
       "[78, 34, 56, 78]"
      ]
     },
     "execution_count": 85,
     "metadata": {},
     "output_type": "execute_result"
    }
   ],
   "source": [
    "b2['marks']"
   ]
  },
  {
   "cell_type": "code",
   "execution_count": 86,
   "id": "ae03945a",
   "metadata": {},
   "outputs": [
    {
     "data": {
      "text/html": [
       "<div>\n",
       "<style scoped>\n",
       "    .dataframe tbody tr th:only-of-type {\n",
       "        vertical-align: middle;\n",
       "    }\n",
       "\n",
       "    .dataframe tbody tr th {\n",
       "        vertical-align: top;\n",
       "    }\n",
       "\n",
       "    .dataframe thead th {\n",
       "        text-align: right;\n",
       "    }\n",
       "</style>\n",
       "<table border=\"1\" class=\"dataframe\">\n",
       "  <thead>\n",
       "    <tr style=\"text-align: right;\">\n",
       "      <th></th>\n",
       "      <th>name</th>\n",
       "      <th>Salary</th>\n",
       "      <th>City</th>\n",
       "      <th>IsEmployee</th>\n",
       "    </tr>\n",
       "  </thead>\n",
       "  <tbody>\n",
       "    <tr>\n",
       "      <th>0</th>\n",
       "      <td>A</td>\n",
       "      <td>21000</td>\n",
       "      <td>Dehradun</td>\n",
       "      <td>True</td>\n",
       "    </tr>\n",
       "    <tr>\n",
       "      <th>1</th>\n",
       "      <td>B</td>\n",
       "      <td>22000</td>\n",
       "      <td>Noida</td>\n",
       "      <td>False</td>\n",
       "    </tr>\n",
       "    <tr>\n",
       "      <th>2</th>\n",
       "      <td>C</td>\n",
       "      <td>23000</td>\n",
       "      <td>Panipat</td>\n",
       "      <td>True</td>\n",
       "    </tr>\n",
       "    <tr>\n",
       "      <th>3</th>\n",
       "      <td>D</td>\n",
       "      <td>24000</td>\n",
       "      <td>Patna</td>\n",
       "      <td>False</td>\n",
       "    </tr>\n",
       "    <tr>\n",
       "      <th>4</th>\n",
       "      <td>E</td>\n",
       "      <td>25000</td>\n",
       "      <td>Kanpur</td>\n",
       "      <td>True</td>\n",
       "    </tr>\n",
       "  </tbody>\n",
       "</table>\n",
       "</div>"
      ],
      "text/plain": [
       "  name  Salary      City  IsEmployee\n",
       "0    A   21000  Dehradun        True\n",
       "1    B   22000     Noida       False\n",
       "2    C   23000   Panipat        True\n",
       "3    D   24000     Patna       False\n",
       "4    E   25000    Kanpur        True"
      ]
     },
     "execution_count": 86,
     "metadata": {},
     "output_type": "execute_result"
    }
   ],
   "source": [
    "a = {'name':['A','B','C','D','E'],\n",
    "     'Salary':[21000,22000,23000,24000,25000],\n",
    "     'City':['Dehradun','Noida','Panipat','Patna','Kanpur'],\n",
    "     'IsEmployee':[True, False, True, False,True]}\n",
    "b = pd.DataFrame(a)\n",
    "b"
   ]
  },
  {
   "cell_type": "code",
   "execution_count": 87,
   "id": "340d9dc0",
   "metadata": {},
   "outputs": [
    {
     "data": {
      "text/plain": [
       "[21000, 22000, 23000, 24000, 25000]"
      ]
     },
     "execution_count": 87,
     "metadata": {},
     "output_type": "execute_result"
    }
   ],
   "source": [
    "a['Salary']"
   ]
  },
  {
   "cell_type": "code",
   "execution_count": 89,
   "id": "1f5730b6",
   "metadata": {},
   "outputs": [
    {
     "data": {
      "text/plain": [
       "(5, 4)"
      ]
     },
     "execution_count": 89,
     "metadata": {},
     "output_type": "execute_result"
    }
   ],
   "source": [
    "b.shape"
   ]
  },
  {
   "cell_type": "code",
   "execution_count": 90,
   "id": "802d80e4",
   "metadata": {},
   "outputs": [
    {
     "name": "stdout",
     "output_type": "stream",
     "text": [
      "<class 'pandas.core.frame.DataFrame'>\n",
      "RangeIndex: 5 entries, 0 to 4\n",
      "Data columns (total 4 columns):\n",
      " #   Column      Non-Null Count  Dtype \n",
      "---  ------      --------------  ----- \n",
      " 0   name        5 non-null      object\n",
      " 1   Salary      5 non-null      int64 \n",
      " 2   City        5 non-null      object\n",
      " 3   IsEmployee  5 non-null      bool  \n",
      "dtypes: bool(1), int64(1), object(2)\n",
      "memory usage: 257.0+ bytes\n"
     ]
    }
   ],
   "source": [
    "b.info()"
   ]
  },
  {
   "cell_type": "code",
   "execution_count": null,
   "id": "cf31bd12",
   "metadata": {},
   "outputs": [],
   "source": []
  }
 ],
 "metadata": {
  "kernelspec": {
   "display_name": "Python 3 (ipykernel)",
   "language": "python",
   "name": "python3"
  },
  "language_info": {
   "codemirror_mode": {
    "name": "ipython",
    "version": 3
   },
   "file_extension": ".py",
   "mimetype": "text/x-python",
   "name": "python",
   "nbconvert_exporter": "python",
   "pygments_lexer": "ipython3",
   "version": "3.11.3"
  }
 },
 "nbformat": 4,
 "nbformat_minor": 5
}
