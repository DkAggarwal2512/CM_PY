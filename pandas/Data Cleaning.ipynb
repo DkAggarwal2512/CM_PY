{
 "cells": [
  {
   "cell_type": "code",
   "execution_count": 1,
   "id": "51aa341e",
   "metadata": {},
   "outputs": [],
   "source": [
    "#Data Cleaning"
   ]
  },
  {
   "cell_type": "code",
   "execution_count": 6,
   "id": "6112877c",
   "metadata": {},
   "outputs": [],
   "source": [
    "import pandas as pd"
   ]
  },
  {
   "cell_type": "code",
   "execution_count": 7,
   "id": "18440e4a",
   "metadata": {},
   "outputs": [
    {
     "data": {
      "text/html": [
       "<div>\n",
       "<style scoped>\n",
       "    .dataframe tbody tr th:only-of-type {\n",
       "        vertical-align: middle;\n",
       "    }\n",
       "\n",
       "    .dataframe tbody tr th {\n",
       "        vertical-align: top;\n",
       "    }\n",
       "\n",
       "    .dataframe thead th {\n",
       "        text-align: right;\n",
       "    }\n",
       "</style>\n",
       "<table border=\"1\" class=\"dataframe\">\n",
       "  <thead>\n",
       "    <tr style=\"text-align: right;\">\n",
       "      <th></th>\n",
       "      <th>Name</th>\n",
       "      <th>English</th>\n",
       "      <th>Hindi</th>\n",
       "      <th>Math</th>\n",
       "      <th>Science</th>\n",
       "      <th>Social Science</th>\n",
       "    </tr>\n",
       "  </thead>\n",
       "  <tbody>\n",
       "    <tr>\n",
       "      <th>0</th>\n",
       "      <td>Manisha</td>\n",
       "      <td>98.0</td>\n",
       "      <td>90</td>\n",
       "      <td>69</td>\n",
       "      <td>85</td>\n",
       "      <td>85</td>\n",
       "    </tr>\n",
       "    <tr>\n",
       "      <th>1</th>\n",
       "      <td>Seemaj</td>\n",
       "      <td>56.0</td>\n",
       "      <td>81</td>\n",
       "      <td>yh</td>\n",
       "      <td>56</td>\n",
       "      <td>56</td>\n",
       "    </tr>\n",
       "    <tr>\n",
       "      <th>2</th>\n",
       "      <td>Mukesh..</td>\n",
       "      <td>33.0</td>\n",
       "      <td>74</td>\n",
       "      <td>85</td>\n",
       "      <td>55</td>\n",
       "      <td>56</td>\n",
       "    </tr>\n",
       "    <tr>\n",
       "      <th>3</th>\n",
       "      <td>Raja</td>\n",
       "      <td>45.0</td>\n",
       "      <td>ef</td>\n",
       "      <td>84</td>\n",
       "      <td>jk</td>\n",
       "      <td>95</td>\n",
       "    </tr>\n",
       "    <tr>\n",
       "      <th>4</th>\n",
       "      <td>..Deep</td>\n",
       "      <td>45.0</td>\n",
       "      <td>95</td>\n",
       "      <td>80</td>\n",
       "      <td>75</td>\n",
       "      <td>75</td>\n",
       "    </tr>\n",
       "    <tr>\n",
       "      <th>5</th>\n",
       "      <td>Sakshi</td>\n",
       "      <td>NaN</td>\n",
       "      <td>NaN</td>\n",
       "      <td>NaN</td>\n",
       "      <td>NaN</td>\n",
       "      <td>52</td>\n",
       "    </tr>\n",
       "    <tr>\n",
       "      <th>6</th>\n",
       "      <td>Sakshi</td>\n",
       "      <td>NaN</td>\n",
       "      <td>NaN</td>\n",
       "      <td>NaN</td>\n",
       "      <td>NaN</td>\n",
       "      <td>52</td>\n",
       "    </tr>\n",
       "  </tbody>\n",
       "</table>\n",
       "</div>"
      ],
      "text/plain": [
       "       Name  English Hindi Math Science  Social Science\n",
       "0   Manisha     98.0    90   69      85              85\n",
       "1    Seemaj     56.0    81   yh      56              56\n",
       "2  Mukesh..     33.0    74   85      55              56\n",
       "3      Raja     45.0    ef   84      jk              95\n",
       "4    ..Deep     45.0    95   80      75              75\n",
       "5    Sakshi      NaN   NaN  NaN     NaN              52\n",
       "6    Sakshi      NaN   NaN  NaN     NaN              52"
      ]
     },
     "execution_count": 7,
     "metadata": {},
     "output_type": "execute_result"
    }
   ],
   "source": [
    "df = pd.read_csv('clean.csv')\n",
    "df"
   ]
  },
  {
   "cell_type": "code",
   "execution_count": 8,
   "id": "106a5fec",
   "metadata": {},
   "outputs": [
    {
     "name": "stdout",
     "output_type": "stream",
     "text": [
      "<class 'pandas.core.frame.DataFrame'>\n",
      "RangeIndex: 7 entries, 0 to 6\n",
      "Data columns (total 6 columns):\n",
      " #   Column          Non-Null Count  Dtype  \n",
      "---  ------          --------------  -----  \n",
      " 0   Name            7 non-null      object \n",
      " 1   English         5 non-null      float64\n",
      " 2   Hindi           5 non-null      object \n",
      " 3   Math            5 non-null      object \n",
      " 4   Science         5 non-null      object \n",
      " 5   Social Science  7 non-null      int64  \n",
      "dtypes: float64(1), int64(1), object(4)\n",
      "memory usage: 468.0+ bytes\n"
     ]
    }
   ],
   "source": [
    "df.info()"
   ]
  },
  {
   "cell_type": "code",
   "execution_count": 9,
   "id": "c624b02b",
   "metadata": {},
   "outputs": [
    {
     "data": {
      "text/plain": [
       "0    False\n",
       "1    False\n",
       "2    False\n",
       "3    False\n",
       "4    False\n",
       "5    False\n",
       "6     True\n",
       "dtype: bool"
      ]
     },
     "execution_count": 9,
     "metadata": {},
     "output_type": "execute_result"
    }
   ],
   "source": [
    "#find duplicate\n",
    "df.duplicated()"
   ]
  },
  {
   "cell_type": "code",
   "execution_count": 10,
   "id": "dc3cecf9",
   "metadata": {},
   "outputs": [],
   "source": [
    "#remove duplicate\n",
    "df.drop_duplicates( inplace= True)"
   ]
  },
  {
   "cell_type": "code",
   "execution_count": 11,
   "id": "e61f4f86",
   "metadata": {},
   "outputs": [
    {
     "data": {
      "text/html": [
       "<div>\n",
       "<style scoped>\n",
       "    .dataframe tbody tr th:only-of-type {\n",
       "        vertical-align: middle;\n",
       "    }\n",
       "\n",
       "    .dataframe tbody tr th {\n",
       "        vertical-align: top;\n",
       "    }\n",
       "\n",
       "    .dataframe thead th {\n",
       "        text-align: right;\n",
       "    }\n",
       "</style>\n",
       "<table border=\"1\" class=\"dataframe\">\n",
       "  <thead>\n",
       "    <tr style=\"text-align: right;\">\n",
       "      <th></th>\n",
       "      <th>Name</th>\n",
       "      <th>English</th>\n",
       "      <th>Hindi</th>\n",
       "      <th>Math</th>\n",
       "      <th>Science</th>\n",
       "      <th>Social Science</th>\n",
       "    </tr>\n",
       "  </thead>\n",
       "  <tbody>\n",
       "    <tr>\n",
       "      <th>0</th>\n",
       "      <td>Manisha</td>\n",
       "      <td>98.0</td>\n",
       "      <td>90</td>\n",
       "      <td>69</td>\n",
       "      <td>85</td>\n",
       "      <td>85</td>\n",
       "    </tr>\n",
       "    <tr>\n",
       "      <th>1</th>\n",
       "      <td>Seemaj</td>\n",
       "      <td>56.0</td>\n",
       "      <td>81</td>\n",
       "      <td>yh</td>\n",
       "      <td>56</td>\n",
       "      <td>56</td>\n",
       "    </tr>\n",
       "    <tr>\n",
       "      <th>2</th>\n",
       "      <td>Mukesh..</td>\n",
       "      <td>33.0</td>\n",
       "      <td>74</td>\n",
       "      <td>85</td>\n",
       "      <td>55</td>\n",
       "      <td>56</td>\n",
       "    </tr>\n",
       "    <tr>\n",
       "      <th>3</th>\n",
       "      <td>Raja</td>\n",
       "      <td>45.0</td>\n",
       "      <td>ef</td>\n",
       "      <td>84</td>\n",
       "      <td>jk</td>\n",
       "      <td>95</td>\n",
       "    </tr>\n",
       "    <tr>\n",
       "      <th>4</th>\n",
       "      <td>..Deep</td>\n",
       "      <td>45.0</td>\n",
       "      <td>95</td>\n",
       "      <td>80</td>\n",
       "      <td>75</td>\n",
       "      <td>75</td>\n",
       "    </tr>\n",
       "    <tr>\n",
       "      <th>5</th>\n",
       "      <td>Sakshi</td>\n",
       "      <td>NaN</td>\n",
       "      <td>NaN</td>\n",
       "      <td>NaN</td>\n",
       "      <td>NaN</td>\n",
       "      <td>52</td>\n",
       "    </tr>\n",
       "  </tbody>\n",
       "</table>\n",
       "</div>"
      ],
      "text/plain": [
       "       Name  English Hindi Math Science  Social Science\n",
       "0   Manisha     98.0    90   69      85              85\n",
       "1    Seemaj     56.0    81   yh      56              56\n",
       "2  Mukesh..     33.0    74   85      55              56\n",
       "3      Raja     45.0    ef   84      jk              95\n",
       "4    ..Deep     45.0    95   80      75              75\n",
       "5    Sakshi      NaN   NaN  NaN     NaN              52"
      ]
     },
     "execution_count": 11,
     "metadata": {},
     "output_type": "execute_result"
    }
   ],
   "source": [
    "df"
   ]
  },
  {
   "cell_type": "code",
   "execution_count": 12,
   "id": "d861fb11",
   "metadata": {},
   "outputs": [
    {
     "data": {
      "text/html": [
       "<div>\n",
       "<style scoped>\n",
       "    .dataframe tbody tr th:only-of-type {\n",
       "        vertical-align: middle;\n",
       "    }\n",
       "\n",
       "    .dataframe tbody tr th {\n",
       "        vertical-align: top;\n",
       "    }\n",
       "\n",
       "    .dataframe thead th {\n",
       "        text-align: right;\n",
       "    }\n",
       "</style>\n",
       "<table border=\"1\" class=\"dataframe\">\n",
       "  <thead>\n",
       "    <tr style=\"text-align: right;\">\n",
       "      <th></th>\n",
       "      <th>Name</th>\n",
       "      <th>English</th>\n",
       "      <th>Hindi</th>\n",
       "      <th>Science</th>\n",
       "      <th>Social Science</th>\n",
       "    </tr>\n",
       "  </thead>\n",
       "  <tbody>\n",
       "    <tr>\n",
       "      <th>0</th>\n",
       "      <td>Manisha</td>\n",
       "      <td>98.0</td>\n",
       "      <td>90</td>\n",
       "      <td>85</td>\n",
       "      <td>85</td>\n",
       "    </tr>\n",
       "    <tr>\n",
       "      <th>1</th>\n",
       "      <td>Seemaj</td>\n",
       "      <td>56.0</td>\n",
       "      <td>81</td>\n",
       "      <td>56</td>\n",
       "      <td>56</td>\n",
       "    </tr>\n",
       "    <tr>\n",
       "      <th>2</th>\n",
       "      <td>Mukesh..</td>\n",
       "      <td>33.0</td>\n",
       "      <td>74</td>\n",
       "      <td>55</td>\n",
       "      <td>56</td>\n",
       "    </tr>\n",
       "    <tr>\n",
       "      <th>3</th>\n",
       "      <td>Raja</td>\n",
       "      <td>45.0</td>\n",
       "      <td>ef</td>\n",
       "      <td>jk</td>\n",
       "      <td>95</td>\n",
       "    </tr>\n",
       "    <tr>\n",
       "      <th>4</th>\n",
       "      <td>..Deep</td>\n",
       "      <td>45.0</td>\n",
       "      <td>95</td>\n",
       "      <td>75</td>\n",
       "      <td>75</td>\n",
       "    </tr>\n",
       "    <tr>\n",
       "      <th>5</th>\n",
       "      <td>Sakshi</td>\n",
       "      <td>NaN</td>\n",
       "      <td>NaN</td>\n",
       "      <td>NaN</td>\n",
       "      <td>52</td>\n",
       "    </tr>\n",
       "  </tbody>\n",
       "</table>\n",
       "</div>"
      ],
      "text/plain": [
       "       Name  English Hindi Science  Social Science\n",
       "0   Manisha     98.0    90      85              85\n",
       "1    Seemaj     56.0    81      56              56\n",
       "2  Mukesh..     33.0    74      55              56\n",
       "3      Raja     45.0    ef      jk              95\n",
       "4    ..Deep     45.0    95      75              75\n",
       "5    Sakshi      NaN   NaN     NaN              52"
      ]
     },
     "execution_count": 12,
     "metadata": {},
     "output_type": "execute_result"
    }
   ],
   "source": [
    "#remove column\n",
    "df.drop(columns = 'Math', inplace=True)\n",
    "df"
   ]
  },
  {
   "cell_type": "code",
   "execution_count": 13,
   "id": "d561ff7a",
   "metadata": {},
   "outputs": [
    {
     "data": {
      "text/plain": [
       "0    Manisha\n",
       "1     Seemaj\n",
       "2     Mukesh\n",
       "3       Raja\n",
       "4     ..Deep\n",
       "5     Sakshi\n",
       "Name: Name, dtype: object"
      ]
     },
     "execution_count": 13,
     "metadata": {},
     "output_type": "execute_result"
    }
   ],
   "source": [
    "# remove right mistake\n",
    "df['Name'].str.rstrip('..')"
   ]
  },
  {
   "cell_type": "code",
   "execution_count": 14,
   "id": "18eabe34",
   "metadata": {},
   "outputs": [
    {
     "data": {
      "text/plain": [
       "0     Manisha\n",
       "1      Seemaj\n",
       "2    Mukesh..\n",
       "3        Raja\n",
       "4        Deep\n",
       "5      Sakshi\n",
       "Name: Name, dtype: object"
      ]
     },
     "execution_count": 14,
     "metadata": {},
     "output_type": "execute_result"
    }
   ],
   "source": [
    "#remove left mistake\n",
    "df['Name'].str.lstrip('..')"
   ]
  },
  {
   "cell_type": "code",
   "execution_count": 15,
   "id": "738a7ed5",
   "metadata": {},
   "outputs": [
    {
     "data": {
      "text/html": [
       "<div>\n",
       "<style scoped>\n",
       "    .dataframe tbody tr th:only-of-type {\n",
       "        vertical-align: middle;\n",
       "    }\n",
       "\n",
       "    .dataframe tbody tr th {\n",
       "        vertical-align: top;\n",
       "    }\n",
       "\n",
       "    .dataframe thead th {\n",
       "        text-align: right;\n",
       "    }\n",
       "</style>\n",
       "<table border=\"1\" class=\"dataframe\">\n",
       "  <thead>\n",
       "    <tr style=\"text-align: right;\">\n",
       "      <th></th>\n",
       "      <th>Name</th>\n",
       "      <th>English</th>\n",
       "      <th>Hindi</th>\n",
       "      <th>Science</th>\n",
       "      <th>Social Science</th>\n",
       "    </tr>\n",
       "  </thead>\n",
       "  <tbody>\n",
       "    <tr>\n",
       "      <th>0</th>\n",
       "      <td>Manisha</td>\n",
       "      <td>98.0</td>\n",
       "      <td>90</td>\n",
       "      <td>85</td>\n",
       "      <td>85</td>\n",
       "    </tr>\n",
       "    <tr>\n",
       "      <th>1</th>\n",
       "      <td>Seemaj</td>\n",
       "      <td>56.0</td>\n",
       "      <td>81</td>\n",
       "      <td>56</td>\n",
       "      <td>56</td>\n",
       "    </tr>\n",
       "    <tr>\n",
       "      <th>2</th>\n",
       "      <td>Mukesh..</td>\n",
       "      <td>33.0</td>\n",
       "      <td>74</td>\n",
       "      <td>55</td>\n",
       "      <td>56</td>\n",
       "    </tr>\n",
       "    <tr>\n",
       "      <th>3</th>\n",
       "      <td>Raja</td>\n",
       "      <td>45.0</td>\n",
       "      <td>ef</td>\n",
       "      <td>jk</td>\n",
       "      <td>95</td>\n",
       "    </tr>\n",
       "    <tr>\n",
       "      <th>4</th>\n",
       "      <td>..Deep</td>\n",
       "      <td>45.0</td>\n",
       "      <td>95</td>\n",
       "      <td>75</td>\n",
       "      <td>75</td>\n",
       "    </tr>\n",
       "    <tr>\n",
       "      <th>5</th>\n",
       "      <td>Sakshi</td>\n",
       "      <td>NaN</td>\n",
       "      <td>NaN</td>\n",
       "      <td>NaN</td>\n",
       "      <td>52</td>\n",
       "    </tr>\n",
       "  </tbody>\n",
       "</table>\n",
       "</div>"
      ],
      "text/plain": [
       "       Name  English Hindi Science  Social Science\n",
       "0   Manisha     98.0    90      85              85\n",
       "1    Seemaj     56.0    81      56              56\n",
       "2  Mukesh..     33.0    74      55              56\n",
       "3      Raja     45.0    ef      jk              95\n",
       "4    ..Deep     45.0    95      75              75\n",
       "5    Sakshi      NaN   NaN     NaN              52"
      ]
     },
     "execution_count": 15,
     "metadata": {},
     "output_type": "execute_result"
    }
   ],
   "source": [
    "df"
   ]
  },
  {
   "cell_type": "code",
   "execution_count": 16,
   "id": "9c7f0a61",
   "metadata": {},
   "outputs": [
    {
     "data": {
      "text/plain": [
       "0     Manisha\n",
       "1       Seema\n",
       "2    Mukesh..\n",
       "3        Raja\n",
       "4      ..Deep\n",
       "5      Sakshi\n",
       "Name: Name, dtype: object"
      ]
     },
     "execution_count": 16,
     "metadata": {},
     "output_type": "execute_result"
    }
   ],
   "source": [
    "df['Name'].str.rstrip('j')"
   ]
  },
  {
   "cell_type": "code",
   "execution_count": 17,
   "id": "4bd6d0ca",
   "metadata": {},
   "outputs": [
    {
     "data": {
      "text/plain": [
       "0    Manisha\n",
       "1     Seemaj\n",
       "2     Mukesh\n",
       "3       Raja\n",
       "4       Deep\n",
       "5     Sakshi\n",
       "Name: Name, dtype: object"
      ]
     },
     "execution_count": 17,
     "metadata": {},
     "output_type": "execute_result"
    }
   ],
   "source": [
    "df['Name'].str.strip('..')"
   ]
  },
  {
   "cell_type": "code",
   "execution_count": 18,
   "id": "1dc811dd",
   "metadata": {},
   "outputs": [],
   "source": [
    "#df['Name'].str.strip('[^a-zA-Z0-9]','Manisha', regex = True)"
   ]
  },
  {
   "cell_type": "code",
   "execution_count": 19,
   "id": "afd36608",
   "metadata": {},
   "outputs": [
    {
     "data": {
      "text/html": [
       "<div>\n",
       "<style scoped>\n",
       "    .dataframe tbody tr th:only-of-type {\n",
       "        vertical-align: middle;\n",
       "    }\n",
       "\n",
       "    .dataframe tbody tr th {\n",
       "        vertical-align: top;\n",
       "    }\n",
       "\n",
       "    .dataframe thead th {\n",
       "        text-align: right;\n",
       "    }\n",
       "</style>\n",
       "<table border=\"1\" class=\"dataframe\">\n",
       "  <thead>\n",
       "    <tr style=\"text-align: right;\">\n",
       "      <th></th>\n",
       "      <th>Name</th>\n",
       "      <th>English</th>\n",
       "      <th>Hindi</th>\n",
       "      <th>Science</th>\n",
       "      <th>Social Science</th>\n",
       "    </tr>\n",
       "  </thead>\n",
       "  <tbody>\n",
       "    <tr>\n",
       "      <th>0</th>\n",
       "      <td>False</td>\n",
       "      <td>False</td>\n",
       "      <td>False</td>\n",
       "      <td>False</td>\n",
       "      <td>False</td>\n",
       "    </tr>\n",
       "    <tr>\n",
       "      <th>1</th>\n",
       "      <td>False</td>\n",
       "      <td>False</td>\n",
       "      <td>False</td>\n",
       "      <td>False</td>\n",
       "      <td>False</td>\n",
       "    </tr>\n",
       "    <tr>\n",
       "      <th>2</th>\n",
       "      <td>False</td>\n",
       "      <td>False</td>\n",
       "      <td>False</td>\n",
       "      <td>False</td>\n",
       "      <td>False</td>\n",
       "    </tr>\n",
       "    <tr>\n",
       "      <th>3</th>\n",
       "      <td>False</td>\n",
       "      <td>False</td>\n",
       "      <td>False</td>\n",
       "      <td>False</td>\n",
       "      <td>False</td>\n",
       "    </tr>\n",
       "    <tr>\n",
       "      <th>4</th>\n",
       "      <td>False</td>\n",
       "      <td>False</td>\n",
       "      <td>False</td>\n",
       "      <td>False</td>\n",
       "      <td>False</td>\n",
       "    </tr>\n",
       "    <tr>\n",
       "      <th>5</th>\n",
       "      <td>False</td>\n",
       "      <td>True</td>\n",
       "      <td>True</td>\n",
       "      <td>True</td>\n",
       "      <td>False</td>\n",
       "    </tr>\n",
       "  </tbody>\n",
       "</table>\n",
       "</div>"
      ],
      "text/plain": [
       "    Name  English  Hindi  Science  Social Science\n",
       "0  False    False  False    False           False\n",
       "1  False    False  False    False           False\n",
       "2  False    False  False    False           False\n",
       "3  False    False  False    False           False\n",
       "4  False    False  False    False           False\n",
       "5  False     True   True     True           False"
      ]
     },
     "execution_count": 19,
     "metadata": {},
     "output_type": "execute_result"
    }
   ],
   "source": [
    "#find null value\n",
    "df.isnull()"
   ]
  },
  {
   "cell_type": "code",
   "execution_count": 20,
   "id": "5207afe4",
   "metadata": {},
   "outputs": [
    {
     "data": {
      "text/plain": [
       "Name              0\n",
       "English           1\n",
       "Hindi             1\n",
       "Science           1\n",
       "Social Science    0\n",
       "dtype: int64"
      ]
     },
     "execution_count": 20,
     "metadata": {},
     "output_type": "execute_result"
    }
   ],
   "source": [
    "df.isnull().sum() #using integer"
   ]
  },
  {
   "cell_type": "code",
   "execution_count": 21,
   "id": "16205b21",
   "metadata": {},
   "outputs": [],
   "source": [
    "# change columns names\n",
    "df.rename(columns = {'Name' : 'Students','Hindi':'hindi'}, inplace = True)"
   ]
  },
  {
   "cell_type": "code",
   "execution_count": 22,
   "id": "0ea09567",
   "metadata": {},
   "outputs": [
    {
     "data": {
      "text/html": [
       "<div>\n",
       "<style scoped>\n",
       "    .dataframe tbody tr th:only-of-type {\n",
       "        vertical-align: middle;\n",
       "    }\n",
       "\n",
       "    .dataframe tbody tr th {\n",
       "        vertical-align: top;\n",
       "    }\n",
       "\n",
       "    .dataframe thead th {\n",
       "        text-align: right;\n",
       "    }\n",
       "</style>\n",
       "<table border=\"1\" class=\"dataframe\">\n",
       "  <thead>\n",
       "    <tr style=\"text-align: right;\">\n",
       "      <th></th>\n",
       "      <th>Students</th>\n",
       "      <th>English</th>\n",
       "      <th>hindi</th>\n",
       "      <th>Science</th>\n",
       "      <th>Social Science</th>\n",
       "    </tr>\n",
       "  </thead>\n",
       "  <tbody>\n",
       "    <tr>\n",
       "      <th>0</th>\n",
       "      <td>Manisha</td>\n",
       "      <td>98.0</td>\n",
       "      <td>90</td>\n",
       "      <td>85</td>\n",
       "      <td>85</td>\n",
       "    </tr>\n",
       "    <tr>\n",
       "      <th>1</th>\n",
       "      <td>Seemaj</td>\n",
       "      <td>56.0</td>\n",
       "      <td>81</td>\n",
       "      <td>56</td>\n",
       "      <td>56</td>\n",
       "    </tr>\n",
       "    <tr>\n",
       "      <th>2</th>\n",
       "      <td>Mukesh..</td>\n",
       "      <td>33.0</td>\n",
       "      <td>74</td>\n",
       "      <td>55</td>\n",
       "      <td>56</td>\n",
       "    </tr>\n",
       "    <tr>\n",
       "      <th>3</th>\n",
       "      <td>Raja</td>\n",
       "      <td>45.0</td>\n",
       "      <td>ef</td>\n",
       "      <td>jk</td>\n",
       "      <td>95</td>\n",
       "    </tr>\n",
       "    <tr>\n",
       "      <th>4</th>\n",
       "      <td>..Deep</td>\n",
       "      <td>45.0</td>\n",
       "      <td>95</td>\n",
       "      <td>75</td>\n",
       "      <td>75</td>\n",
       "    </tr>\n",
       "    <tr>\n",
       "      <th>5</th>\n",
       "      <td>Sakshi</td>\n",
       "      <td>NaN</td>\n",
       "      <td>NaN</td>\n",
       "      <td>NaN</td>\n",
       "      <td>52</td>\n",
       "    </tr>\n",
       "  </tbody>\n",
       "</table>\n",
       "</div>"
      ],
      "text/plain": [
       "   Students  English hindi Science  Social Science\n",
       "0   Manisha     98.0    90      85              85\n",
       "1    Seemaj     56.0    81      56              56\n",
       "2  Mukesh..     33.0    74      55              56\n",
       "3      Raja     45.0    ef      jk              95\n",
       "4    ..Deep     45.0    95      75              75\n",
       "5    Sakshi      NaN   NaN     NaN              52"
      ]
     },
     "execution_count": 22,
     "metadata": {},
     "output_type": "execute_result"
    }
   ],
   "source": [
    "df"
   ]
  },
  {
   "cell_type": "code",
   "execution_count": 23,
   "id": "a81e6043",
   "metadata": {},
   "outputs": [
    {
     "data": {
      "text/html": [
       "<div>\n",
       "<style scoped>\n",
       "    .dataframe tbody tr th:only-of-type {\n",
       "        vertical-align: middle;\n",
       "    }\n",
       "\n",
       "    .dataframe tbody tr th {\n",
       "        vertical-align: top;\n",
       "    }\n",
       "\n",
       "    .dataframe thead th {\n",
       "        text-align: right;\n",
       "    }\n",
       "</style>\n",
       "<table border=\"1\" class=\"dataframe\">\n",
       "  <thead>\n",
       "    <tr style=\"text-align: right;\">\n",
       "      <th></th>\n",
       "      <th>Students</th>\n",
       "      <th>English</th>\n",
       "      <th>hindi</th>\n",
       "      <th>Science</th>\n",
       "      <th>Social Science</th>\n",
       "      <th>Total</th>\n",
       "    </tr>\n",
       "  </thead>\n",
       "  <tbody>\n",
       "    <tr>\n",
       "      <th>0</th>\n",
       "      <td>Manisha</td>\n",
       "      <td>98.0</td>\n",
       "      <td>90</td>\n",
       "      <td>85</td>\n",
       "      <td>85</td>\n",
       "      <td>0</td>\n",
       "    </tr>\n",
       "    <tr>\n",
       "      <th>1</th>\n",
       "      <td>Seemaj</td>\n",
       "      <td>56.0</td>\n",
       "      <td>81</td>\n",
       "      <td>56</td>\n",
       "      <td>56</td>\n",
       "      <td>0</td>\n",
       "    </tr>\n",
       "    <tr>\n",
       "      <th>2</th>\n",
       "      <td>Mukesh..</td>\n",
       "      <td>33.0</td>\n",
       "      <td>74</td>\n",
       "      <td>55</td>\n",
       "      <td>56</td>\n",
       "      <td>0</td>\n",
       "    </tr>\n",
       "    <tr>\n",
       "      <th>3</th>\n",
       "      <td>Raja</td>\n",
       "      <td>45.0</td>\n",
       "      <td>ef</td>\n",
       "      <td>jk</td>\n",
       "      <td>95</td>\n",
       "      <td>0</td>\n",
       "    </tr>\n",
       "    <tr>\n",
       "      <th>4</th>\n",
       "      <td>..Deep</td>\n",
       "      <td>45.0</td>\n",
       "      <td>95</td>\n",
       "      <td>75</td>\n",
       "      <td>75</td>\n",
       "      <td>0</td>\n",
       "    </tr>\n",
       "    <tr>\n",
       "      <th>5</th>\n",
       "      <td>Sakshi</td>\n",
       "      <td>NaN</td>\n",
       "      <td>NaN</td>\n",
       "      <td>NaN</td>\n",
       "      <td>52</td>\n",
       "      <td>0</td>\n",
       "    </tr>\n",
       "  </tbody>\n",
       "</table>\n",
       "</div>"
      ],
      "text/plain": [
       "   Students  English hindi Science  Social Science  Total\n",
       "0   Manisha     98.0    90      85              85      0\n",
       "1    Seemaj     56.0    81      56              56      0\n",
       "2  Mukesh..     33.0    74      55              56      0\n",
       "3      Raja     45.0    ef      jk              95      0\n",
       "4    ..Deep     45.0    95      75              75      0\n",
       "5    Sakshi      NaN   NaN     NaN              52      0"
      ]
     },
     "execution_count": 23,
     "metadata": {},
     "output_type": "execute_result"
    }
   ],
   "source": [
    "# total\n",
    "df['Total'] = 0\n",
    "df"
   ]
  },
  {
   "cell_type": "code",
   "execution_count": 24,
   "id": "41dc8ebf",
   "metadata": {},
   "outputs": [
    {
     "name": "stdout",
     "output_type": "stream",
     "text": [
      "<class 'pandas.core.frame.DataFrame'>\n",
      "Index: 6 entries, 0 to 5\n",
      "Data columns (total 6 columns):\n",
      " #   Column          Non-Null Count  Dtype  \n",
      "---  ------          --------------  -----  \n",
      " 0   Students        6 non-null      object \n",
      " 1   English         5 non-null      float64\n",
      " 2   hindi           5 non-null      object \n",
      " 3   Science         5 non-null      object \n",
      " 4   Social Science  6 non-null      int64  \n",
      " 5   Total           6 non-null      int64  \n",
      "dtypes: float64(1), int64(2), object(3)\n",
      "memory usage: 336.0+ bytes\n"
     ]
    }
   ],
   "source": [
    "df.info()"
   ]
  },
  {
   "cell_type": "code",
   "execution_count": 25,
   "id": "dd9cb742",
   "metadata": {},
   "outputs": [],
   "source": [
    "df['Total'] = df['Social Science']+df['English']"
   ]
  },
  {
   "cell_type": "code",
   "execution_count": 26,
   "id": "16ff94a7",
   "metadata": {},
   "outputs": [
    {
     "data": {
      "text/html": [
       "<div>\n",
       "<style scoped>\n",
       "    .dataframe tbody tr th:only-of-type {\n",
       "        vertical-align: middle;\n",
       "    }\n",
       "\n",
       "    .dataframe tbody tr th {\n",
       "        vertical-align: top;\n",
       "    }\n",
       "\n",
       "    .dataframe thead th {\n",
       "        text-align: right;\n",
       "    }\n",
       "</style>\n",
       "<table border=\"1\" class=\"dataframe\">\n",
       "  <thead>\n",
       "    <tr style=\"text-align: right;\">\n",
       "      <th></th>\n",
       "      <th>Students</th>\n",
       "      <th>English</th>\n",
       "      <th>hindi</th>\n",
       "      <th>Science</th>\n",
       "      <th>Social Science</th>\n",
       "      <th>Total</th>\n",
       "    </tr>\n",
       "  </thead>\n",
       "  <tbody>\n",
       "    <tr>\n",
       "      <th>0</th>\n",
       "      <td>Manisha</td>\n",
       "      <td>98.0</td>\n",
       "      <td>90</td>\n",
       "      <td>85</td>\n",
       "      <td>85</td>\n",
       "      <td>183.0</td>\n",
       "    </tr>\n",
       "    <tr>\n",
       "      <th>1</th>\n",
       "      <td>Seemaj</td>\n",
       "      <td>56.0</td>\n",
       "      <td>81</td>\n",
       "      <td>56</td>\n",
       "      <td>56</td>\n",
       "      <td>112.0</td>\n",
       "    </tr>\n",
       "    <tr>\n",
       "      <th>2</th>\n",
       "      <td>Mukesh..</td>\n",
       "      <td>33.0</td>\n",
       "      <td>74</td>\n",
       "      <td>55</td>\n",
       "      <td>56</td>\n",
       "      <td>89.0</td>\n",
       "    </tr>\n",
       "    <tr>\n",
       "      <th>3</th>\n",
       "      <td>Raja</td>\n",
       "      <td>45.0</td>\n",
       "      <td>ef</td>\n",
       "      <td>jk</td>\n",
       "      <td>95</td>\n",
       "      <td>140.0</td>\n",
       "    </tr>\n",
       "    <tr>\n",
       "      <th>4</th>\n",
       "      <td>..Deep</td>\n",
       "      <td>45.0</td>\n",
       "      <td>95</td>\n",
       "      <td>75</td>\n",
       "      <td>75</td>\n",
       "      <td>120.0</td>\n",
       "    </tr>\n",
       "    <tr>\n",
       "      <th>5</th>\n",
       "      <td>Sakshi</td>\n",
       "      <td>NaN</td>\n",
       "      <td>NaN</td>\n",
       "      <td>NaN</td>\n",
       "      <td>52</td>\n",
       "      <td>NaN</td>\n",
       "    </tr>\n",
       "  </tbody>\n",
       "</table>\n",
       "</div>"
      ],
      "text/plain": [
       "   Students  English hindi Science  Social Science  Total\n",
       "0   Manisha     98.0    90      85              85  183.0\n",
       "1    Seemaj     56.0    81      56              56  112.0\n",
       "2  Mukesh..     33.0    74      55              56   89.0\n",
       "3      Raja     45.0    ef      jk              95  140.0\n",
       "4    ..Deep     45.0    95      75              75  120.0\n",
       "5    Sakshi      NaN   NaN     NaN              52    NaN"
      ]
     },
     "execution_count": 26,
     "metadata": {},
     "output_type": "execute_result"
    }
   ],
   "source": [
    "df"
   ]
  },
  {
   "cell_type": "code",
   "execution_count": 27,
   "id": "3339a27b",
   "metadata": {},
   "outputs": [],
   "source": [
    "df['hindi'] = df['hindi'].str.replace(\"[A-Za-z]\",\"\",regex=True)"
   ]
  },
  {
   "cell_type": "code",
   "execution_count": 28,
   "id": "a5471d5b",
   "metadata": {},
   "outputs": [
    {
     "data": {
      "text/html": [
       "<div>\n",
       "<style scoped>\n",
       "    .dataframe tbody tr th:only-of-type {\n",
       "        vertical-align: middle;\n",
       "    }\n",
       "\n",
       "    .dataframe tbody tr th {\n",
       "        vertical-align: top;\n",
       "    }\n",
       "\n",
       "    .dataframe thead th {\n",
       "        text-align: right;\n",
       "    }\n",
       "</style>\n",
       "<table border=\"1\" class=\"dataframe\">\n",
       "  <thead>\n",
       "    <tr style=\"text-align: right;\">\n",
       "      <th></th>\n",
       "      <th>Students</th>\n",
       "      <th>English</th>\n",
       "      <th>hindi</th>\n",
       "      <th>Science</th>\n",
       "      <th>Social Science</th>\n",
       "      <th>Total</th>\n",
       "    </tr>\n",
       "  </thead>\n",
       "  <tbody>\n",
       "    <tr>\n",
       "      <th>0</th>\n",
       "      <td>Manisha</td>\n",
       "      <td>98.0</td>\n",
       "      <td>90</td>\n",
       "      <td>85</td>\n",
       "      <td>85</td>\n",
       "      <td>183.0</td>\n",
       "    </tr>\n",
       "    <tr>\n",
       "      <th>1</th>\n",
       "      <td>Seemaj</td>\n",
       "      <td>56.0</td>\n",
       "      <td>81</td>\n",
       "      <td>56</td>\n",
       "      <td>56</td>\n",
       "      <td>112.0</td>\n",
       "    </tr>\n",
       "    <tr>\n",
       "      <th>2</th>\n",
       "      <td>Mukesh..</td>\n",
       "      <td>33.0</td>\n",
       "      <td>74</td>\n",
       "      <td>55</td>\n",
       "      <td>56</td>\n",
       "      <td>89.0</td>\n",
       "    </tr>\n",
       "    <tr>\n",
       "      <th>3</th>\n",
       "      <td>Raja</td>\n",
       "      <td>45.0</td>\n",
       "      <td></td>\n",
       "      <td>jk</td>\n",
       "      <td>95</td>\n",
       "      <td>140.0</td>\n",
       "    </tr>\n",
       "    <tr>\n",
       "      <th>4</th>\n",
       "      <td>..Deep</td>\n",
       "      <td>45.0</td>\n",
       "      <td>95</td>\n",
       "      <td>75</td>\n",
       "      <td>75</td>\n",
       "      <td>120.0</td>\n",
       "    </tr>\n",
       "    <tr>\n",
       "      <th>5</th>\n",
       "      <td>Sakshi</td>\n",
       "      <td>NaN</td>\n",
       "      <td>NaN</td>\n",
       "      <td>NaN</td>\n",
       "      <td>52</td>\n",
       "      <td>NaN</td>\n",
       "    </tr>\n",
       "  </tbody>\n",
       "</table>\n",
       "</div>"
      ],
      "text/plain": [
       "   Students  English hindi Science  Social Science  Total\n",
       "0   Manisha     98.0    90      85              85  183.0\n",
       "1    Seemaj     56.0    81      56              56  112.0\n",
       "2  Mukesh..     33.0    74      55              56   89.0\n",
       "3      Raja     45.0            jk              95  140.0\n",
       "4    ..Deep     45.0    95      75              75  120.0\n",
       "5    Sakshi      NaN   NaN     NaN              52    NaN"
      ]
     },
     "execution_count": 28,
     "metadata": {},
     "output_type": "execute_result"
    }
   ],
   "source": [
    "df"
   ]
  },
  {
   "cell_type": "code",
   "execution_count": 29,
   "id": "f704a878",
   "metadata": {},
   "outputs": [
    {
     "data": {
      "text/html": [
       "<div>\n",
       "<style scoped>\n",
       "    .dataframe tbody tr th:only-of-type {\n",
       "        vertical-align: middle;\n",
       "    }\n",
       "\n",
       "    .dataframe tbody tr th {\n",
       "        vertical-align: top;\n",
       "    }\n",
       "\n",
       "    .dataframe thead th {\n",
       "        text-align: right;\n",
       "    }\n",
       "</style>\n",
       "<table border=\"1\" class=\"dataframe\">\n",
       "  <thead>\n",
       "    <tr style=\"text-align: right;\">\n",
       "      <th></th>\n",
       "      <th>English</th>\n",
       "      <th>Social Science</th>\n",
       "      <th>Total</th>\n",
       "    </tr>\n",
       "  </thead>\n",
       "  <tbody>\n",
       "    <tr>\n",
       "      <th>count</th>\n",
       "      <td>5.000000</td>\n",
       "      <td>6.000000</td>\n",
       "      <td>5.000000</td>\n",
       "    </tr>\n",
       "    <tr>\n",
       "      <th>mean</th>\n",
       "      <td>55.400000</td>\n",
       "      <td>69.833333</td>\n",
       "      <td>128.800000</td>\n",
       "    </tr>\n",
       "    <tr>\n",
       "      <th>std</th>\n",
       "      <td>25.165453</td>\n",
       "      <td>17.837227</td>\n",
       "      <td>35.379373</td>\n",
       "    </tr>\n",
       "    <tr>\n",
       "      <th>min</th>\n",
       "      <td>33.000000</td>\n",
       "      <td>52.000000</td>\n",
       "      <td>89.000000</td>\n",
       "    </tr>\n",
       "    <tr>\n",
       "      <th>25%</th>\n",
       "      <td>45.000000</td>\n",
       "      <td>56.000000</td>\n",
       "      <td>112.000000</td>\n",
       "    </tr>\n",
       "    <tr>\n",
       "      <th>50%</th>\n",
       "      <td>45.000000</td>\n",
       "      <td>65.500000</td>\n",
       "      <td>120.000000</td>\n",
       "    </tr>\n",
       "    <tr>\n",
       "      <th>75%</th>\n",
       "      <td>56.000000</td>\n",
       "      <td>82.500000</td>\n",
       "      <td>140.000000</td>\n",
       "    </tr>\n",
       "    <tr>\n",
       "      <th>max</th>\n",
       "      <td>98.000000</td>\n",
       "      <td>95.000000</td>\n",
       "      <td>183.000000</td>\n",
       "    </tr>\n",
       "  </tbody>\n",
       "</table>\n",
       "</div>"
      ],
      "text/plain": [
       "         English  Social Science       Total\n",
       "count   5.000000        6.000000    5.000000\n",
       "mean   55.400000       69.833333  128.800000\n",
       "std    25.165453       17.837227   35.379373\n",
       "min    33.000000       52.000000   89.000000\n",
       "25%    45.000000       56.000000  112.000000\n",
       "50%    45.000000       65.500000  120.000000\n",
       "75%    56.000000       82.500000  140.000000\n",
       "max    98.000000       95.000000  183.000000"
      ]
     },
     "execution_count": 29,
     "metadata": {},
     "output_type": "execute_result"
    }
   ],
   "source": [
    "df.describe()"
   ]
  },
  {
   "cell_type": "code",
   "execution_count": 31,
   "id": "ff2a33e7",
   "metadata": {},
   "outputs": [
    {
     "data": {
      "text/plain": [
       "55.4"
      ]
     },
     "execution_count": 31,
     "metadata": {},
     "output_type": "execute_result"
    }
   ],
   "source": [
    "mean = df['English'].mean()\n",
    "mean"
   ]
  },
  {
   "cell_type": "code",
   "execution_count": 32,
   "id": "686e1600",
   "metadata": {},
   "outputs": [
    {
     "data": {
      "text/plain": [
       "45.0"
      ]
     },
     "execution_count": 32,
     "metadata": {},
     "output_type": "execute_result"
    }
   ],
   "source": [
    "median = df['English'].median()\n",
    "median"
   ]
  },
  {
   "cell_type": "code",
   "execution_count": 33,
   "id": "65a47f92",
   "metadata": {},
   "outputs": [
    {
     "data": {
      "text/plain": [
       "0    45.0\n",
       "Name: English, dtype: float64"
      ]
     },
     "execution_count": 33,
     "metadata": {},
     "output_type": "execute_result"
    }
   ],
   "source": [
    "mode = df['English'].mode()\n",
    "mode"
   ]
  },
  {
   "cell_type": "code",
   "execution_count": 34,
   "id": "c72a5a43",
   "metadata": {},
   "outputs": [
    {
     "data": {
      "text/plain": [
       "True"
      ]
     },
     "execution_count": 34,
     "metadata": {},
     "output_type": "execute_result"
    }
   ],
   "source": [
    "#find null value = True, missing data\n",
    "df['English'].isnull().any()"
   ]
  },
  {
   "cell_type": "code",
   "execution_count": 35,
   "id": "27ccac29",
   "metadata": {},
   "outputs": [
    {
     "data": {
      "text/plain": [
       "False"
      ]
     },
     "execution_count": 35,
     "metadata": {},
     "output_type": "execute_result"
    }
   ],
   "source": [
    "#null value not find = False\n",
    "df['Social Science'].isnull().any()"
   ]
  },
  {
   "cell_type": "code",
   "execution_count": 41,
   "id": "838ce014",
   "metadata": {},
   "outputs": [
    {
     "data": {
      "text/html": [
       "<div>\n",
       "<style scoped>\n",
       "    .dataframe tbody tr th:only-of-type {\n",
       "        vertical-align: middle;\n",
       "    }\n",
       "\n",
       "    .dataframe tbody tr th {\n",
       "        vertical-align: top;\n",
       "    }\n",
       "\n",
       "    .dataframe thead th {\n",
       "        text-align: right;\n",
       "    }\n",
       "</style>\n",
       "<table border=\"1\" class=\"dataframe\">\n",
       "  <thead>\n",
       "    <tr style=\"text-align: right;\">\n",
       "      <th></th>\n",
       "      <th>Students</th>\n",
       "      <th>English</th>\n",
       "      <th>hindi</th>\n",
       "      <th>Science</th>\n",
       "      <th>Social Science</th>\n",
       "      <th>Total</th>\n",
       "    </tr>\n",
       "  </thead>\n",
       "  <tbody>\n",
       "    <tr>\n",
       "      <th>0</th>\n",
       "      <td>Manisha</td>\n",
       "      <td>98.0</td>\n",
       "      <td>90</td>\n",
       "      <td>85</td>\n",
       "      <td>85</td>\n",
       "      <td>183.0</td>\n",
       "    </tr>\n",
       "    <tr>\n",
       "      <th>1</th>\n",
       "      <td>Seemaj</td>\n",
       "      <td>56.0</td>\n",
       "      <td>81</td>\n",
       "      <td>56</td>\n",
       "      <td>56</td>\n",
       "      <td>112.0</td>\n",
       "    </tr>\n",
       "    <tr>\n",
       "      <th>2</th>\n",
       "      <td>Mukesh..</td>\n",
       "      <td>33.0</td>\n",
       "      <td>74</td>\n",
       "      <td>55</td>\n",
       "      <td>56</td>\n",
       "      <td>89.0</td>\n",
       "    </tr>\n",
       "    <tr>\n",
       "      <th>3</th>\n",
       "      <td>Raja</td>\n",
       "      <td>45.0</td>\n",
       "      <td></td>\n",
       "      <td>jk</td>\n",
       "      <td>95</td>\n",
       "      <td>140.0</td>\n",
       "    </tr>\n",
       "    <tr>\n",
       "      <th>4</th>\n",
       "      <td>..Deep</td>\n",
       "      <td>45.0</td>\n",
       "      <td>95</td>\n",
       "      <td>75</td>\n",
       "      <td>75</td>\n",
       "      <td>120.0</td>\n",
       "    </tr>\n",
       "    <tr>\n",
       "      <th>5</th>\n",
       "      <td>Sakshi</td>\n",
       "      <td>45.0</td>\n",
       "      <td>45.0</td>\n",
       "      <td>45.0</td>\n",
       "      <td>52</td>\n",
       "      <td>NaN</td>\n",
       "    </tr>\n",
       "  </tbody>\n",
       "</table>\n",
       "</div>"
      ],
      "text/plain": [
       "   Students  English hindi Science  Social Science  Total\n",
       "0   Manisha     98.0    90      85              85  183.0\n",
       "1    Seemaj     56.0    81      56              56  112.0\n",
       "2  Mukesh..     33.0    74      55              56   89.0\n",
       "3      Raja     45.0            jk              95  140.0\n",
       "4    ..Deep     45.0    95      75              75  120.0\n",
       "5    Sakshi     45.0  45.0    45.0              52    NaN"
      ]
     },
     "execution_count": 41,
     "metadata": {},
     "output_type": "execute_result"
    }
   ],
   "source": [
    "#fill\n",
    "df['Science'].fillna(median, inplace=True)\n",
    "df"
   ]
  },
  {
   "cell_type": "code",
   "execution_count": 49,
   "id": "763dd175",
   "metadata": {},
   "outputs": [
    {
     "data": {
      "text/plain": [
       "120.0"
      ]
     },
     "execution_count": 49,
     "metadata": {},
     "output_type": "execute_result"
    }
   ],
   "source": [
    "median = df['Total'].median()\n",
    "median"
   ]
  },
  {
   "cell_type": "code",
   "execution_count": 50,
   "id": "824606e0",
   "metadata": {},
   "outputs": [
    {
     "data": {
      "text/html": [
       "<div>\n",
       "<style scoped>\n",
       "    .dataframe tbody tr th:only-of-type {\n",
       "        vertical-align: middle;\n",
       "    }\n",
       "\n",
       "    .dataframe tbody tr th {\n",
       "        vertical-align: top;\n",
       "    }\n",
       "\n",
       "    .dataframe thead th {\n",
       "        text-align: right;\n",
       "    }\n",
       "</style>\n",
       "<table border=\"1\" class=\"dataframe\">\n",
       "  <thead>\n",
       "    <tr style=\"text-align: right;\">\n",
       "      <th></th>\n",
       "      <th>Students</th>\n",
       "      <th>English</th>\n",
       "      <th>hindi</th>\n",
       "      <th>Science</th>\n",
       "      <th>Social Science</th>\n",
       "      <th>Total</th>\n",
       "    </tr>\n",
       "  </thead>\n",
       "  <tbody>\n",
       "    <tr>\n",
       "      <th>0</th>\n",
       "      <td>Manisha</td>\n",
       "      <td>98.0</td>\n",
       "      <td>90</td>\n",
       "      <td>85</td>\n",
       "      <td>85</td>\n",
       "      <td>999.0</td>\n",
       "    </tr>\n",
       "    <tr>\n",
       "      <th>1</th>\n",
       "      <td>Seemaj</td>\n",
       "      <td>56.0</td>\n",
       "      <td>81</td>\n",
       "      <td>56</td>\n",
       "      <td>56</td>\n",
       "      <td>112.0</td>\n",
       "    </tr>\n",
       "    <tr>\n",
       "      <th>2</th>\n",
       "      <td>Mukesh..</td>\n",
       "      <td>33.0</td>\n",
       "      <td>74</td>\n",
       "      <td>55</td>\n",
       "      <td>56</td>\n",
       "      <td>89.0</td>\n",
       "    </tr>\n",
       "    <tr>\n",
       "      <th>3</th>\n",
       "      <td>Raja</td>\n",
       "      <td>45.0</td>\n",
       "      <td></td>\n",
       "      <td>jk</td>\n",
       "      <td>95</td>\n",
       "      <td>140.0</td>\n",
       "    </tr>\n",
       "    <tr>\n",
       "      <th>4</th>\n",
       "      <td>..Deep</td>\n",
       "      <td>45.0</td>\n",
       "      <td>95</td>\n",
       "      <td>75</td>\n",
       "      <td>75</td>\n",
       "      <td>120.0</td>\n",
       "    </tr>\n",
       "    <tr>\n",
       "      <th>5</th>\n",
       "      <td>Sakshi</td>\n",
       "      <td>45.0</td>\n",
       "      <td>45.0</td>\n",
       "      <td>45.0</td>\n",
       "      <td>52</td>\n",
       "      <td>NaN</td>\n",
       "    </tr>\n",
       "  </tbody>\n",
       "</table>\n",
       "</div>"
      ],
      "text/plain": [
       "   Students  English hindi Science  Social Science  Total\n",
       "0   Manisha     98.0    90      85              85  999.0\n",
       "1    Seemaj     56.0    81      56              56  112.0\n",
       "2  Mukesh..     33.0    74      55              56   89.0\n",
       "3      Raja     45.0            jk              95  140.0\n",
       "4    ..Deep     45.0    95      75              75  120.0\n",
       "5    Sakshi     45.0  45.0    45.0              52    NaN"
      ]
     },
     "execution_count": 50,
     "metadata": {},
     "output_type": "execute_result"
    }
   ],
   "source": [
    "df.replace(to_replace = 183, value = 999)"
   ]
  },
  {
   "cell_type": "code",
   "execution_count": 51,
   "id": "c13f4a2c",
   "metadata": {},
   "outputs": [
    {
     "data": {
      "text/plain": [
       "count      5.000000\n",
       "mean     292.000000\n",
       "std      395.646939\n",
       "min       89.000000\n",
       "25%      112.000000\n",
       "50%      120.000000\n",
       "75%      140.000000\n",
       "max      999.000000\n",
       "Name: Total, dtype: float64"
      ]
     },
     "execution_count": 51,
     "metadata": {},
     "output_type": "execute_result"
    }
   ],
   "source": [
    "df['Total'].describe()"
   ]
  },
  {
   "cell_type": "code",
   "execution_count": 60,
   "id": "734ec0df",
   "metadata": {},
   "outputs": [],
   "source": [
    "#replace value\n",
    "df['hindi'].replace(to_replace='',value=90, inplace = True)"
   ]
  },
  {
   "cell_type": "code",
   "execution_count": 61,
   "id": "aeb7fa05",
   "metadata": {},
   "outputs": [
    {
     "data": {
      "text/html": [
       "<div>\n",
       "<style scoped>\n",
       "    .dataframe tbody tr th:only-of-type {\n",
       "        vertical-align: middle;\n",
       "    }\n",
       "\n",
       "    .dataframe tbody tr th {\n",
       "        vertical-align: top;\n",
       "    }\n",
       "\n",
       "    .dataframe thead th {\n",
       "        text-align: right;\n",
       "    }\n",
       "</style>\n",
       "<table border=\"1\" class=\"dataframe\">\n",
       "  <thead>\n",
       "    <tr style=\"text-align: right;\">\n",
       "      <th></th>\n",
       "      <th>Students</th>\n",
       "      <th>English</th>\n",
       "      <th>hindi</th>\n",
       "      <th>Science</th>\n",
       "      <th>Social Science</th>\n",
       "      <th>Total</th>\n",
       "    </tr>\n",
       "  </thead>\n",
       "  <tbody>\n",
       "    <tr>\n",
       "      <th>0</th>\n",
       "      <td>Manisha</td>\n",
       "      <td>98.0</td>\n",
       "      <td>90</td>\n",
       "      <td>85</td>\n",
       "      <td>85</td>\n",
       "      <td>999.0</td>\n",
       "    </tr>\n",
       "    <tr>\n",
       "      <th>1</th>\n",
       "      <td>Seemaj</td>\n",
       "      <td>56.0</td>\n",
       "      <td>81</td>\n",
       "      <td>56</td>\n",
       "      <td>56</td>\n",
       "      <td>112.0</td>\n",
       "    </tr>\n",
       "    <tr>\n",
       "      <th>2</th>\n",
       "      <td>Mukesh..</td>\n",
       "      <td>33.0</td>\n",
       "      <td>74</td>\n",
       "      <td>55</td>\n",
       "      <td>56</td>\n",
       "      <td>89.0</td>\n",
       "    </tr>\n",
       "    <tr>\n",
       "      <th>3</th>\n",
       "      <td>Raja</td>\n",
       "      <td>45.0</td>\n",
       "      <td>90</td>\n",
       "      <td>jk</td>\n",
       "      <td>95</td>\n",
       "      <td>140.0</td>\n",
       "    </tr>\n",
       "    <tr>\n",
       "      <th>4</th>\n",
       "      <td>..Deep</td>\n",
       "      <td>45.0</td>\n",
       "      <td>95</td>\n",
       "      <td>75</td>\n",
       "      <td>75</td>\n",
       "      <td>120.0</td>\n",
       "    </tr>\n",
       "    <tr>\n",
       "      <th>5</th>\n",
       "      <td>Sakshi</td>\n",
       "      <td>45.0</td>\n",
       "      <td>45.0</td>\n",
       "      <td>45.0</td>\n",
       "      <td>52</td>\n",
       "      <td>NaN</td>\n",
       "    </tr>\n",
       "  </tbody>\n",
       "</table>\n",
       "</div>"
      ],
      "text/plain": [
       "   Students  English hindi Science  Social Science  Total\n",
       "0   Manisha     98.0    90      85              85  999.0\n",
       "1    Seemaj     56.0    81      56              56  112.0\n",
       "2  Mukesh..     33.0    74      55              56   89.0\n",
       "3      Raja     45.0    90      jk              95  140.0\n",
       "4    ..Deep     45.0    95      75              75  120.0\n",
       "5    Sakshi     45.0  45.0    45.0              52    NaN"
      ]
     },
     "execution_count": 61,
     "metadata": {},
     "output_type": "execute_result"
    }
   ],
   "source": [
    "df"
   ]
  },
  {
   "cell_type": "code",
   "execution_count": null,
   "id": "8caed168",
   "metadata": {},
   "outputs": [],
   "source": []
  }
 ],
 "metadata": {
  "kernelspec": {
   "display_name": "Python 3 (ipykernel)",
   "language": "python",
   "name": "python3"
  },
  "language_info": {
   "codemirror_mode": {
    "name": "ipython",
    "version": 3
   },
   "file_extension": ".py",
   "mimetype": "text/x-python",
   "name": "python",
   "nbconvert_exporter": "python",
   "pygments_lexer": "ipython3",
   "version": "3.11.3"
  }
 },
 "nbformat": 4,
 "nbformat_minor": 5
}
